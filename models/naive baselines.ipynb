{
 "cells": [
  {
   "cell_type": "markdown",
   "id": "13dbc656",
   "metadata": {},
   "source": [
    "Esse notebook irá fazer um baseline utilizando redes neurais para computar a probabilidade de um nó ser ocultado baseando-se apenas na expressão da descrição. Os dados de treinamento serão criados expandindo-se apenas um nível da árvore de provas, chamando os novos nós de 1 e os originais 0. Para verificar se os nós são os mesmos, vamos utilizar as expressões apenas, já que uma vez que um nó é expandido a sua proposição original se quebra em diversas proposições que constituem sua prova."
   ]
  },
  {
   "cell_type": "markdown",
   "id": "ea1fe14b",
   "metadata": {},
   "source": [
    "https://www.youtube.com/watch?v=8owQBFAHw7E"
   ]
  },
  {
   "cell_type": "markdown",
   "id": "af2b88e3",
   "metadata": {},
   "source": [
    "https://www.youtube.com/watch?v=uF53xsT7mjc"
   ]
  },
  {
   "cell_type": "code",
   "execution_count": 1,
   "id": "0a3ca262",
   "metadata": {},
   "outputs": [],
   "source": [
    "import sys\n",
    "sys.path.append(\"..\")\n",
    "\n",
    "import random\n",
    "\n",
    "from collections import Counter, defaultdict\n",
    "\n",
    "import json\n",
    "\n",
    "import glob\n",
    "\n",
    "import os\n",
    "\n",
    "import numpy as np\n",
    "\n",
    "#from tree_parser import file_contents, meta_math_database\n",
    "\n",
    "#from my_utils import print_proof_props_graph, get_proof_steps, print_ident_proof, print_proof_linear_steps\n",
    "#from my_utils import get_proof_steps_graph, print_proof_steps_graph\n",
    "#from expanding import construct_proof, expand_proof_step_ps, expand_all_nodes_with_depth\n",
    "#from expanding import PStep, construct_proof\n",
    "\n",
    "from tqdm import tqdm\n",
    "\n",
    "from sklearn.feature_extraction.text import CountVectorizer\n",
    "from sklearn.pipeline import make_pipeline, make_union\n",
    "from sklearn.ensemble import RandomForestClassifier\n",
    "from sklearn.metrics import roc_auc_score\n",
    "from sklearn.preprocessing import FunctionTransformer\n",
    "from sklearn.model_selection import train_test_split"
   ]
  },
  {
   "cell_type": "code",
   "execution_count": 2,
   "id": "33b3efa9",
   "metadata": {},
   "outputs": [
    {
     "name": "stdout",
     "output_type": "stream",
     "text": [
      "7476\n"
     ]
    }
   ],
   "source": [
    "all_props = json.load(open(\"prop_dataset_1659467564.761641.json\"))\n",
    "print(len(all_props))"
   ]
  },
  {
   "cell_type": "code",
   "execution_count": 3,
   "id": "7f46b886",
   "metadata": {},
   "outputs": [
    {
     "name": "stdout",
     "output_type": "stream",
     "text": [
      "5980 1496\n"
     ]
    }
   ],
   "source": [
    "train_props, valid_props = train_test_split(all_props, test_size=0.2, random_state=2)\n",
    "print(len(train_props), len(valid_props))"
   ]
  },
  {
   "cell_type": "code",
   "execution_count": 15,
   "id": "f401de09",
   "metadata": {},
   "outputs": [
    {
     "data": {
      "text/plain": [
       "1"
      ]
     },
     "execution_count": 15,
     "metadata": {},
     "output_type": "execute_result"
    }
   ],
   "source": [
    "train_props[0][\"steps\"][0][4]"
   ]
  },
  {
   "cell_type": "code",
   "execution_count": 16,
   "id": "068e7727",
   "metadata": {},
   "outputs": [],
   "source": [
    "class BaseClf:\n",
    "    def score_auc(self, p):\n",
    "        try:\n",
    "            predictions = self.predict(p[\"steps\"])\n",
    "            labels = [s[4] for s in p[\"steps\"]]\n",
    "            prop_auc = roc_auc_score(labels, predictions)\n",
    "        except Exception as e:\n",
    "            print(p)\n",
    "            raise e\n",
    "        return prop_auc"
   ]
  },
  {
   "cell_type": "code",
   "execution_count": 17,
   "id": "ae74dece",
   "metadata": {},
   "outputs": [
    {
     "name": "stderr",
     "output_type": "stream",
     "text": [
      "100%|█████████████████████████████████████████████████████████████████████████████| 1496/1496 [00:00<00:00, 1835.00it/s]"
     ]
    },
    {
     "name": "stdout",
     "output_type": "stream",
     "text": [
      "CPU times: user 719 ms, sys: 65.2 ms, total: 784 ms\n",
      "Wall time: 819 ms\n"
     ]
    },
    {
     "name": "stderr",
     "output_type": "stream",
     "text": [
      "\n"
     ]
    },
    {
     "data": {
      "text/plain": [
       "0.49916475980219005"
      ]
     },
     "execution_count": 17,
     "metadata": {},
     "output_type": "execute_result"
    }
   ],
   "source": [
    "%%time\n",
    "\n",
    "class RandomClassifier(BaseClf):\n",
    "    def predict(self, X):\n",
    "        return np.random.random(len(X))\n",
    "    \n",
    "rnd_clf = RandomClassifier()\n",
    "\n",
    "auc_values = []\n",
    "for p in tqdm(valid_props):\n",
    "    auc_values.append(rnd_clf.score_auc(p))\n",
    "\n",
    "np.mean(auc_values)"
   ]
  },
  {
   "cell_type": "code",
   "execution_count": 18,
   "id": "16c4a2e1",
   "metadata": {},
   "outputs": [
    {
     "name": "stderr",
     "output_type": "stream",
     "text": [
      "100%|█████████████████████████████████████████████████████████████████████████████| 1496/1496 [00:00<00:00, 1624.88it/s]\n"
     ]
    },
    {
     "data": {
      "text/plain": [
       "0.6277139343466421"
      ]
     },
     "execution_count": 18,
     "metadata": {},
     "output_type": "execute_result"
    }
   ],
   "source": [
    "class WeightClassifier(BaseClf):   \n",
    "    def predict(self, X):\n",
    "        predictions = list()\n",
    "        for s in X:\n",
    "            predictions.append(len(s[2].split(\" \")))\n",
    "        \n",
    "        predictions = np.array(predictions)\n",
    "        \n",
    "        #Get max value and normalize by it\n",
    "        max_pred = predictions.max()\n",
    "        predictions = predictions / max_pred\n",
    "        \n",
    "        # The way it is the largest statement will get the value of 1\n",
    "        # Here we will treat the negative class as the statement to be removed\n",
    "        # So we need to invert the prediction with 1-pred     \n",
    "        return 1 - predictions\n",
    "    \n",
    "weight_clf = WeightClassifier()\n",
    "\n",
    "auc_values = []\n",
    "for p in tqdm(valid_props):\n",
    "    auc_values.append(weight_clf.score_auc(p))\n",
    "\n",
    "np.mean(auc_values)"
   ]
  },
  {
   "cell_type": "code",
   "execution_count": 19,
   "id": "6d4dae79",
   "metadata": {},
   "outputs": [
    {
     "name": "stderr",
     "output_type": "stream",
     "text": [
      "100%|█████████████████████████████████████████████████████████████████████████████| 1496/1496 [00:01<00:00, 1391.22it/s]\n"
     ]
    },
    {
     "data": {
      "text/plain": [
       "0.5518099511704142"
      ]
     },
     "execution_count": 19,
     "metadata": {},
     "output_type": "execute_result"
    }
   ],
   "source": [
    "class WeightDistClassifier(BaseClf):   \n",
    "    def predict(self, X):\n",
    "        predictions = list()\n",
    "        for s in X:\n",
    "            predictions.append(len(set(s[2].split(\" \"))))\n",
    "        \n",
    "        predictions = np.array(predictions)\n",
    "        \n",
    "        #Get max value and normalize by it\n",
    "        max_pred = predictions.max()\n",
    "        predictions = predictions / max_pred\n",
    "        \n",
    "        # The way it is the largest statement will get the value of 1\n",
    "        # Here we will treat the negative class as the statement to be removed\n",
    "        # So we need to invert the prediction with 1-pred     \n",
    "        return 1 - predictions\n",
    "    \n",
    "weight_dist_clf = WeightDistClassifier()\n",
    "\n",
    "auc_values = []\n",
    "for p in tqdm(valid_props):\n",
    "    auc_values.append(weight_dist_clf.score_auc(p))\n",
    "\n",
    "np.mean(auc_values)"
   ]
  },
  {
   "cell_type": "code",
   "execution_count": null,
   "id": "73f44809",
   "metadata": {},
   "outputs": [],
   "source": []
  },
  {
   "cell_type": "code",
   "execution_count": null,
   "id": "25967275",
   "metadata": {},
   "outputs": [],
   "source": []
  },
  {
   "cell_type": "code",
   "execution_count": null,
   "id": "9cfec2a1",
   "metadata": {},
   "outputs": [],
   "source": []
  },
  {
   "cell_type": "code",
   "execution_count": null,
   "id": "e8918c1e",
   "metadata": {},
   "outputs": [],
   "source": []
  },
  {
   "cell_type": "code",
   "execution_count": null,
   "id": "7cfdd462",
   "metadata": {},
   "outputs": [],
   "source": []
  },
  {
   "cell_type": "code",
   "execution_count": 67,
   "id": "57c90b20",
   "metadata": {},
   "outputs": [],
   "source": [
    "def get_prop_parameters(target_prop):\n",
    "    steps_dict = {s[0]:{\"prop\": s[1], \"statement\":s[2], \"y\":s[3]} for s in target_prop[\"steps\"]}\n",
    "\n",
    "    #Add neighbors refs\n",
    "    for s in steps_dict.values():\n",
    "        s[\"inputs\"] = []\n",
    "        s[\"output\"] = None\n",
    "    for s, d in target_prop[\"links\"]:\n",
    "        steps_dict[d][\"inputs\"].append(s)\n",
    "        steps_dict[s][\"output\"] = d\n",
    "        \n",
    "    #Add number of neighbors\n",
    "    for s in steps_dict.values():   \n",
    "        s[\"n_neighbors\"] = len(s[\"inputs\"]) + (1 if s[\"output\"] != None else 0)\n",
    "        \n",
    "    #Add number of symbols in the statement\n",
    "    for s in steps_dict.values():\n",
    "        s[\"ns\"] = len(s[\"statement\"].split(\" \"))\n",
    "\n",
    "    #Add number of distinct symbols in the statement\n",
    "    for s in steps_dict.values():\n",
    "        s[\"nds\"] = len(set(s[\"statement\"].split(\" \")))\n",
    "        \n",
    "    #Add ratio between # of symbols and # of distinct symbols\n",
    "    for s in steps_dict.values():\n",
    "        s[\"ns_nds_ratio\"] = s[\"ns\"] / s[\"nds\"]\n",
    "        \n",
    "    #Add number of symbols in the statement normalize with the largest\n",
    "    largest_ns = max([s[\"ns\"] for s in steps_dict.values()])\n",
    "\n",
    "    for s in steps_dict.values():\n",
    "        s[\"ns_norm\"] = s[\"ns\"] / largest_ns\n",
    "\n",
    "    #Add number of distinct symbols in the statement normalize with the largest\n",
    "    largest_nds = max([s[\"nds\"] for s in steps_dict.values()])\n",
    "\n",
    "    for s in steps_dict.values():\n",
    "        s[\"nds_norm\"] = s[\"nds\"] / largest_nds\n",
    "        \n",
    "    #Add neighbors summarized parameters\n",
    "    neighbors_params = [\"ns\", \"nds\", \"ns_norm\", \"nds_norm\", \"ns_nds_ratio\"]\n",
    "\n",
    "    for s in steps_dict.values():\n",
    "        for p in neighbors_params:\n",
    "            neighbors_values = []\n",
    "            if s[\"output\"] != None:\n",
    "                neighbors_values.append(steps_dict[s[\"output\"]][p])\n",
    "            for inp in s[\"inputs\"]:\n",
    "                neighbors_values.append(steps_dict[inp][p])\n",
    "\n",
    "            s[f\"neighbor_{p}_max\"] = max(neighbors_values)\n",
    "            s[f\"neighbor_{p}_min\"] = min(neighbors_values)\n",
    "            s[f\"neighbor_{p}_avg\"] = np.mean(neighbors_values)\n",
    "            \n",
    "            s[f\"neighbor_{p}_max_ratio\"] = s[p] / s[f\"neighbor_{p}_max\"]\n",
    "            s[f\"neighbor_{p}_min_ratio\"] = s[p] / s[f\"neighbor_{p}_min\"]\n",
    "            s[f\"neighbor_{p}_avg_ratio\"] = s[p] / s[f\"neighbor_{p}_avg\"]\n",
    "            \n",
    "\n",
    "    return steps_dict"
   ]
  },
  {
   "cell_type": "code",
   "execution_count": 68,
   "id": "76f20157",
   "metadata": {},
   "outputs": [
    {
     "data": {
      "text/plain": [
       "{1: {'prop': 'syl',\n",
       "  'statement': '( ph -> U_ x e. A B = U_ x e. A C )',\n",
       "  'y': 1,\n",
       "  'inputs': [2, 6],\n",
       "  'output': None,\n",
       "  'n_neighbors': 2,\n",
       "  'ns': 15,\n",
       "  'nds': 11,\n",
       "  'ns_nds_ratio': 1.3636363636363635,\n",
       "  'ns_norm': 0.7142857142857143,\n",
       "  'nds_norm': 1.0,\n",
       "  'neighbor_ns_max': 21,\n",
       "  'neighbor_ns_min': 11,\n",
       "  'neighbor_ns_avg': 16.0,\n",
       "  'neighbor_ns_max_ratio': 0.7142857142857143,\n",
       "  'neighbor_ns_min_ratio': 1.3636363636363635,\n",
       "  'neighbor_ns_avg_ratio': 0.9375,\n",
       "  'neighbor_nds_max': 11,\n",
       "  'neighbor_nds_min': 11,\n",
       "  'neighbor_nds_avg': 11.0,\n",
       "  'neighbor_nds_max_ratio': 1.0,\n",
       "  'neighbor_nds_min_ratio': 1.0,\n",
       "  'neighbor_nds_avg_ratio': 1.0,\n",
       "  'neighbor_ns_norm_max': 1.0,\n",
       "  'neighbor_ns_norm_min': 0.5238095238095238,\n",
       "  'neighbor_ns_norm_avg': 0.7619047619047619,\n",
       "  'neighbor_ns_norm_max_ratio': 0.7142857142857143,\n",
       "  'neighbor_ns_norm_min_ratio': 1.3636363636363635,\n",
       "  'neighbor_ns_norm_avg_ratio': 0.9375000000000001,\n",
       "  'neighbor_nds_norm_max': 1.0,\n",
       "  'neighbor_nds_norm_min': 1.0,\n",
       "  'neighbor_nds_norm_avg': 1.0,\n",
       "  'neighbor_nds_norm_max_ratio': 1.0,\n",
       "  'neighbor_nds_norm_min_ratio': 1.0,\n",
       "  'neighbor_nds_norm_avg_ratio': 1.0,\n",
       "  'neighbor_ns_nds_ratio_max': 1.9090909090909092,\n",
       "  'neighbor_ns_nds_ratio_min': 1.0,\n",
       "  'neighbor_ns_nds_ratio_avg': 1.4545454545454546,\n",
       "  'neighbor_ns_nds_ratio_max_ratio': 0.7142857142857142,\n",
       "  'neighbor_ns_nds_ratio_min_ratio': 1.3636363636363635,\n",
       "  'neighbor_ns_nds_ratio_avg_ratio': 0.9374999999999999},\n",
       " 2: {'prop': 'ralrimiva',\n",
       "  'statement': '( ph -> A. x e. A B = C )',\n",
       "  'y': 0,\n",
       "  'inputs': [3],\n",
       "  'output': 1,\n",
       "  'n_neighbors': 2,\n",
       "  'ns': 11,\n",
       "  'nds': 11,\n",
       "  'ns_nds_ratio': 1.0,\n",
       "  'ns_norm': 0.5238095238095238,\n",
       "  'nds_norm': 1.0,\n",
       "  'neighbor_ns_max': 15,\n",
       "  'neighbor_ns_min': 13,\n",
       "  'neighbor_ns_avg': 14.0,\n",
       "  'neighbor_ns_max_ratio': 0.7333333333333333,\n",
       "  'neighbor_ns_min_ratio': 0.8461538461538461,\n",
       "  'neighbor_ns_avg_ratio': 0.7857142857142857,\n",
       "  'neighbor_nds_max': 11,\n",
       "  'neighbor_nds_min': 11,\n",
       "  'neighbor_nds_avg': 11.0,\n",
       "  'neighbor_nds_max_ratio': 1.0,\n",
       "  'neighbor_nds_min_ratio': 1.0,\n",
       "  'neighbor_nds_avg_ratio': 1.0,\n",
       "  'neighbor_ns_norm_max': 0.7142857142857143,\n",
       "  'neighbor_ns_norm_min': 0.6190476190476191,\n",
       "  'neighbor_ns_norm_avg': 0.6666666666666667,\n",
       "  'neighbor_ns_norm_max_ratio': 0.7333333333333334,\n",
       "  'neighbor_ns_norm_min_ratio': 0.8461538461538461,\n",
       "  'neighbor_ns_norm_avg_ratio': 0.7857142857142857,\n",
       "  'neighbor_nds_norm_max': 1.0,\n",
       "  'neighbor_nds_norm_min': 1.0,\n",
       "  'neighbor_nds_norm_avg': 1.0,\n",
       "  'neighbor_nds_norm_max_ratio': 1.0,\n",
       "  'neighbor_nds_norm_min_ratio': 1.0,\n",
       "  'neighbor_nds_norm_avg_ratio': 1.0,\n",
       "  'neighbor_ns_nds_ratio_max': 1.3636363636363635,\n",
       "  'neighbor_ns_nds_ratio_min': 1.1818181818181819,\n",
       "  'neighbor_ns_nds_ratio_avg': 1.2727272727272727,\n",
       "  'neighbor_ns_nds_ratio_max_ratio': 0.7333333333333334,\n",
       "  'neighbor_ns_nds_ratio_min_ratio': 0.8461538461538461,\n",
       "  'neighbor_ns_nds_ratio_avg_ratio': 0.7857142857142857},\n",
       " 3: {'prop': 'imp',\n",
       "  'statement': '( ( ph /\\\\ x e. A ) -> B = C )',\n",
       "  'y': 1,\n",
       "  'inputs': [4],\n",
       "  'output': 2,\n",
       "  'n_neighbors': 2,\n",
       "  'ns': 13,\n",
       "  'nds': 11,\n",
       "  'ns_nds_ratio': 1.1818181818181819,\n",
       "  'ns_norm': 0.6190476190476191,\n",
       "  'nds_norm': 1.0,\n",
       "  'neighbor_ns_max': 13,\n",
       "  'neighbor_ns_min': 11,\n",
       "  'neighbor_ns_avg': 12.0,\n",
       "  'neighbor_ns_max_ratio': 1.0,\n",
       "  'neighbor_ns_min_ratio': 1.1818181818181819,\n",
       "  'neighbor_ns_avg_ratio': 1.0833333333333333,\n",
       "  'neighbor_nds_max': 11,\n",
       "  'neighbor_nds_min': 10,\n",
       "  'neighbor_nds_avg': 10.5,\n",
       "  'neighbor_nds_max_ratio': 1.0,\n",
       "  'neighbor_nds_min_ratio': 1.1,\n",
       "  'neighbor_nds_avg_ratio': 1.0476190476190477,\n",
       "  'neighbor_ns_norm_max': 0.6190476190476191,\n",
       "  'neighbor_ns_norm_min': 0.5238095238095238,\n",
       "  'neighbor_ns_norm_avg': 0.5714285714285714,\n",
       "  'neighbor_ns_norm_max_ratio': 1.0,\n",
       "  'neighbor_ns_norm_min_ratio': 1.1818181818181819,\n",
       "  'neighbor_ns_norm_avg_ratio': 1.0833333333333335,\n",
       "  'neighbor_nds_norm_max': 1.0,\n",
       "  'neighbor_nds_norm_min': 0.9090909090909091,\n",
       "  'neighbor_nds_norm_avg': 0.9545454545454546,\n",
       "  'neighbor_nds_norm_max_ratio': 1.0,\n",
       "  'neighbor_nds_norm_min_ratio': 1.1,\n",
       "  'neighbor_nds_norm_avg_ratio': 1.0476190476190477,\n",
       "  'neighbor_ns_nds_ratio_max': 1.3,\n",
       "  'neighbor_ns_nds_ratio_min': 1.0,\n",
       "  'neighbor_ns_nds_ratio_avg': 1.15,\n",
       "  'neighbor_ns_nds_ratio_max_ratio': 0.9090909090909091,\n",
       "  'neighbor_ns_nds_ratio_min_ratio': 1.1818181818181819,\n",
       "  'neighbor_ns_nds_ratio_avg_ratio': 1.0276679841897234},\n",
       " 4: {'prop': 'a1d',\n",
       "  'statement': '( ph -> ( x e. A -> B = C ) )',\n",
       "  'y': 0,\n",
       "  'inputs': [5],\n",
       "  'output': 3,\n",
       "  'n_neighbors': 2,\n",
       "  'ns': 13,\n",
       "  'nds': 10,\n",
       "  'ns_nds_ratio': 1.3,\n",
       "  'ns_norm': 0.6190476190476191,\n",
       "  'nds_norm': 0.9090909090909091,\n",
       "  'neighbor_ns_max': 13,\n",
       "  'neighbor_ns_min': 7,\n",
       "  'neighbor_ns_avg': 10.0,\n",
       "  'neighbor_ns_max_ratio': 1.0,\n",
       "  'neighbor_ns_min_ratio': 1.8571428571428572,\n",
       "  'neighbor_ns_avg_ratio': 1.3,\n",
       "  'neighbor_nds_max': 11,\n",
       "  'neighbor_nds_min': 7,\n",
       "  'neighbor_nds_avg': 9.0,\n",
       "  'neighbor_nds_max_ratio': 0.9090909090909091,\n",
       "  'neighbor_nds_min_ratio': 1.4285714285714286,\n",
       "  'neighbor_nds_avg_ratio': 1.1111111111111112,\n",
       "  'neighbor_ns_norm_max': 0.6190476190476191,\n",
       "  'neighbor_ns_norm_min': 0.3333333333333333,\n",
       "  'neighbor_ns_norm_avg': 0.47619047619047616,\n",
       "  'neighbor_ns_norm_max_ratio': 1.0,\n",
       "  'neighbor_ns_norm_min_ratio': 1.8571428571428572,\n",
       "  'neighbor_ns_norm_avg_ratio': 1.3,\n",
       "  'neighbor_nds_norm_max': 1.0,\n",
       "  'neighbor_nds_norm_min': 0.6363636363636364,\n",
       "  'neighbor_nds_norm_avg': 0.8181818181818181,\n",
       "  'neighbor_nds_norm_max_ratio': 0.9090909090909091,\n",
       "  'neighbor_nds_norm_min_ratio': 1.4285714285714286,\n",
       "  'neighbor_nds_norm_avg_ratio': 1.1111111111111112,\n",
       "  'neighbor_ns_nds_ratio_max': 1.1818181818181819,\n",
       "  'neighbor_ns_nds_ratio_min': 1.0,\n",
       "  'neighbor_ns_nds_ratio_avg': 1.0909090909090908,\n",
       "  'neighbor_ns_nds_ratio_max_ratio': 1.1,\n",
       "  'neighbor_ns_nds_ratio_min_ratio': 1.3,\n",
       "  'neighbor_ns_nds_ratio_avg_ratio': 1.1916666666666669},\n",
       " 5: {'prop': 'iuneq2d.2',\n",
       "  'statement': '( ph -> B = C )',\n",
       "  'y': 1,\n",
       "  'inputs': [],\n",
       "  'output': 4,\n",
       "  'n_neighbors': 1,\n",
       "  'ns': 7,\n",
       "  'nds': 7,\n",
       "  'ns_nds_ratio': 1.0,\n",
       "  'ns_norm': 0.3333333333333333,\n",
       "  'nds_norm': 0.6363636363636364,\n",
       "  'neighbor_ns_max': 13,\n",
       "  'neighbor_ns_min': 13,\n",
       "  'neighbor_ns_avg': 13.0,\n",
       "  'neighbor_ns_max_ratio': 0.5384615384615384,\n",
       "  'neighbor_ns_min_ratio': 0.5384615384615384,\n",
       "  'neighbor_ns_avg_ratio': 0.5384615384615384,\n",
       "  'neighbor_nds_max': 10,\n",
       "  'neighbor_nds_min': 10,\n",
       "  'neighbor_nds_avg': 10.0,\n",
       "  'neighbor_nds_max_ratio': 0.7,\n",
       "  'neighbor_nds_min_ratio': 0.7,\n",
       "  'neighbor_nds_avg_ratio': 0.7,\n",
       "  'neighbor_ns_norm_max': 0.6190476190476191,\n",
       "  'neighbor_ns_norm_min': 0.6190476190476191,\n",
       "  'neighbor_ns_norm_avg': 0.6190476190476191,\n",
       "  'neighbor_ns_norm_max_ratio': 0.5384615384615384,\n",
       "  'neighbor_ns_norm_min_ratio': 0.5384615384615384,\n",
       "  'neighbor_ns_norm_avg_ratio': 0.5384615384615384,\n",
       "  'neighbor_nds_norm_max': 0.9090909090909091,\n",
       "  'neighbor_nds_norm_min': 0.9090909090909091,\n",
       "  'neighbor_nds_norm_avg': 0.9090909090909091,\n",
       "  'neighbor_nds_norm_max_ratio': 0.7000000000000001,\n",
       "  'neighbor_nds_norm_min_ratio': 0.7000000000000001,\n",
       "  'neighbor_nds_norm_avg_ratio': 0.7000000000000001,\n",
       "  'neighbor_ns_nds_ratio_max': 1.3,\n",
       "  'neighbor_ns_nds_ratio_min': 1.3,\n",
       "  'neighbor_ns_nds_ratio_avg': 1.3,\n",
       "  'neighbor_ns_nds_ratio_max_ratio': 0.7692307692307692,\n",
       "  'neighbor_ns_nds_ratio_min_ratio': 0.7692307692307692,\n",
       "  'neighbor_ns_nds_ratio_avg_ratio': 0.7692307692307692},\n",
       " 6: {'prop': 'iuneq2',\n",
       "  'statement': '( A. x e. A B = C -> U_ x e. A B = U_ x e. A C )',\n",
       "  'y': 0,\n",
       "  'inputs': [],\n",
       "  'output': 1,\n",
       "  'n_neighbors': 1,\n",
       "  'ns': 21,\n",
       "  'nds': 11,\n",
       "  'ns_nds_ratio': 1.9090909090909092,\n",
       "  'ns_norm': 1.0,\n",
       "  'nds_norm': 1.0,\n",
       "  'neighbor_ns_max': 15,\n",
       "  'neighbor_ns_min': 15,\n",
       "  'neighbor_ns_avg': 15.0,\n",
       "  'neighbor_ns_max_ratio': 1.4,\n",
       "  'neighbor_ns_min_ratio': 1.4,\n",
       "  'neighbor_ns_avg_ratio': 1.4,\n",
       "  'neighbor_nds_max': 11,\n",
       "  'neighbor_nds_min': 11,\n",
       "  'neighbor_nds_avg': 11.0,\n",
       "  'neighbor_nds_max_ratio': 1.0,\n",
       "  'neighbor_nds_min_ratio': 1.0,\n",
       "  'neighbor_nds_avg_ratio': 1.0,\n",
       "  'neighbor_ns_norm_max': 0.7142857142857143,\n",
       "  'neighbor_ns_norm_min': 0.7142857142857143,\n",
       "  'neighbor_ns_norm_avg': 0.7142857142857143,\n",
       "  'neighbor_ns_norm_max_ratio': 1.4,\n",
       "  'neighbor_ns_norm_min_ratio': 1.4,\n",
       "  'neighbor_ns_norm_avg_ratio': 1.4,\n",
       "  'neighbor_nds_norm_max': 1.0,\n",
       "  'neighbor_nds_norm_min': 1.0,\n",
       "  'neighbor_nds_norm_avg': 1.0,\n",
       "  'neighbor_nds_norm_max_ratio': 1.0,\n",
       "  'neighbor_nds_norm_min_ratio': 1.0,\n",
       "  'neighbor_nds_norm_avg_ratio': 1.0,\n",
       "  'neighbor_ns_nds_ratio_max': 1.3636363636363635,\n",
       "  'neighbor_ns_nds_ratio_min': 1.3636363636363635,\n",
       "  'neighbor_ns_nds_ratio_avg': 1.3636363636363635,\n",
       "  'neighbor_ns_nds_ratio_max_ratio': 1.4000000000000001,\n",
       "  'neighbor_ns_nds_ratio_min_ratio': 1.4000000000000001,\n",
       "  'neighbor_ns_nds_ratio_avg_ratio': 1.4000000000000001}}"
      ]
     },
     "execution_count": 68,
     "metadata": {},
     "output_type": "execute_result"
    }
   ],
   "source": [
    "train_features = []\n",
    "\n",
    "get_prop_parameters(target_prop)"
   ]
  },
  {
   "cell_type": "code",
   "execution_count": 55,
   "id": "7331da6d",
   "metadata": {},
   "outputs": [],
   "source": []
  },
  {
   "cell_type": "code",
   "execution_count": 58,
   "id": "745e19dc",
   "metadata": {},
   "outputs": [],
   "source": []
  },
  {
   "cell_type": "code",
   "execution_count": 62,
   "id": "49547fe1",
   "metadata": {},
   "outputs": [],
   "source": []
  },
  {
   "cell_type": "code",
   "execution_count": null,
   "id": "9033d08a",
   "metadata": {},
   "outputs": [],
   "source": []
  },
  {
   "cell_type": "code",
   "execution_count": null,
   "id": "ad0875cd",
   "metadata": {},
   "outputs": [],
   "source": []
  },
  {
   "cell_type": "code",
   "execution_count": 144,
   "id": "26a53aa1",
   "metadata": {},
   "outputs": [
    {
     "data": {
      "text/plain": [
       "[[47, 20, 0.5053763440860215, 0.9523809523809523],\n",
       " [91, 19, 0.978494623655914, 0.9047619047619048]]"
      ]
     },
     "execution_count": 144,
     "metadata": {},
     "output_type": "execute_result"
    }
   ],
   "source": [
    "make_pipeline(\n",
    "    FunctionTransformer(lambda a: list(map(lambda b:b[1:], a))),\n",
    "    #CountVectorizer(tokenizer=lambda a: a.split(\" \"))\n",
    ").transform(train_X[:2])"
   ]
  },
  {
   "cell_type": "code",
   "execution_count": null,
   "id": "55ff78e7",
   "metadata": {},
   "outputs": [],
   "source": []
  },
  {
   "cell_type": "code",
   "execution_count": 98,
   "id": "f2e58680",
   "metadata": {},
   "outputs": [
    {
     "data": {
      "text/plain": [
       "array([5, 2, 2])"
      ]
     },
     "execution_count": 98,
     "metadata": {},
     "output_type": "execute_result"
    }
   ],
   "source": [
    "FunctionTransformer(lambda a: np.vectorize(len)(a)).transform([\"Lucas\", \"oi\", \"ae\"])"
   ]
  },
  {
   "cell_type": "code",
   "execution_count": 104,
   "id": "b894d96f",
   "metadata": {},
   "outputs": [
    {
     "data": {
      "text/plain": [
       "(100, 1)"
      ]
     },
     "execution_count": 104,
     "metadata": {},
     "output_type": "execute_result"
    }
   ],
   "source": [
    "FunctionTransformer(lambda a: np.expand_dims(np.vectorize(len)(a), axis=1)).transform(train_X[:100]).shape"
   ]
  },
  {
   "cell_type": "code",
   "execution_count": 92,
   "id": "a841638e",
   "metadata": {},
   "outputs": [
    {
     "data": {
      "text/plain": [
       "<100x32 sparse matrix of type '<class 'numpy.int64'>'\n",
       "\twith 1499 stored elements in Compressed Sparse Row format>"
      ]
     },
     "execution_count": 92,
     "metadata": {},
     "output_type": "execute_result"
    }
   ],
   "source": [
    "CountVectorizer(tokenizer=lambda a: a.split(\" \")f).fit_transform(train_X[:100])"
   ]
  },
  {
   "cell_type": "code",
   "execution_count": 163,
   "id": "ee9fa21c",
   "metadata": {},
   "outputs": [],
   "source": [
    "class ExtractFirstElement(FunctionTransformer):\n",
    "    def __init__(self):\n",
    "        super(ExtractFirstElement, self).__init__(lambda a: list(map(lambda b:b[0], a)))\n",
    "        \n",
    "        \n",
    "class RemoveFirstElement(FunctionTransformer):\n",
    "    def __init__(self):\n",
    "        super(RemoveFirstElement, self).__init__(lambda a: list(map(lambda b:b[1:], a)))"
   ]
  },
  {
   "cell_type": "code",
   "execution_count": 171,
   "id": "3db088ca",
   "metadata": {},
   "outputs": [],
   "source": [
    "from sklearn.tree import DecisionTreeClassifier"
   ]
  },
  {
   "cell_type": "code",
   "execution_count": 186,
   "id": "6768e52b",
   "metadata": {},
   "outputs": [],
   "source": [
    "clf = make_pipeline(\n",
    "    make_union(\n",
    "#         make_pipeline(\n",
    "#             #FunctionTransformer(lambda a: list(map(lambda b:b[0], a))),\n",
    "#             ExtractFirstElement(),\n",
    "#             CountVectorizer(tokenizer=lambda a: a.split(\" \"))\n",
    "#         ),\n",
    "        #FunctionTransformer(lambda a: list(map(lambda b:b[1:], a)))\n",
    "        RemoveFirstElement()\n",
    "    ),\n",
    "    RandomForestClassifier(n_estimators=100, random_state=2)\n",
    "    #DecisionTreeClassifier()\n",
    ")  "
   ]
  },
  {
   "cell_type": "code",
   "execution_count": 187,
   "id": "7ee062fe",
   "metadata": {},
   "outputs": [
    {
     "name": "stdout",
     "output_type": "stream",
     "text": [
      "CPU times: user 804 ms, sys: 11.2 ms, total: 815 ms\n",
      "Wall time: 816 ms\n"
     ]
    },
    {
     "data": {
      "text/html": [
       "<style>#sk-container-id-17 {color: black;background-color: white;}#sk-container-id-17 pre{padding: 0;}#sk-container-id-17 div.sk-toggleable {background-color: white;}#sk-container-id-17 label.sk-toggleable__label {cursor: pointer;display: block;width: 100%;margin-bottom: 0;padding: 0.3em;box-sizing: border-box;text-align: center;}#sk-container-id-17 label.sk-toggleable__label-arrow:before {content: \"▸\";float: left;margin-right: 0.25em;color: #696969;}#sk-container-id-17 label.sk-toggleable__label-arrow:hover:before {color: black;}#sk-container-id-17 div.sk-estimator:hover label.sk-toggleable__label-arrow:before {color: black;}#sk-container-id-17 div.sk-toggleable__content {max-height: 0;max-width: 0;overflow: hidden;text-align: left;background-color: #f0f8ff;}#sk-container-id-17 div.sk-toggleable__content pre {margin: 0.2em;color: black;border-radius: 0.25em;background-color: #f0f8ff;}#sk-container-id-17 input.sk-toggleable__control:checked~div.sk-toggleable__content {max-height: 200px;max-width: 100%;overflow: auto;}#sk-container-id-17 input.sk-toggleable__control:checked~label.sk-toggleable__label-arrow:before {content: \"▾\";}#sk-container-id-17 div.sk-estimator input.sk-toggleable__control:checked~label.sk-toggleable__label {background-color: #d4ebff;}#sk-container-id-17 div.sk-label input.sk-toggleable__control:checked~label.sk-toggleable__label {background-color: #d4ebff;}#sk-container-id-17 input.sk-hidden--visually {border: 0;clip: rect(1px 1px 1px 1px);clip: rect(1px, 1px, 1px, 1px);height: 1px;margin: -1px;overflow: hidden;padding: 0;position: absolute;width: 1px;}#sk-container-id-17 div.sk-estimator {font-family: monospace;background-color: #f0f8ff;border: 1px dotted black;border-radius: 0.25em;box-sizing: border-box;margin-bottom: 0.5em;}#sk-container-id-17 div.sk-estimator:hover {background-color: #d4ebff;}#sk-container-id-17 div.sk-parallel-item::after {content: \"\";width: 100%;border-bottom: 1px solid gray;flex-grow: 1;}#sk-container-id-17 div.sk-label:hover label.sk-toggleable__label {background-color: #d4ebff;}#sk-container-id-17 div.sk-serial::before {content: \"\";position: absolute;border-left: 1px solid gray;box-sizing: border-box;top: 0;bottom: 0;left: 50%;z-index: 0;}#sk-container-id-17 div.sk-serial {display: flex;flex-direction: column;align-items: center;background-color: white;padding-right: 0.2em;padding-left: 0.2em;position: relative;}#sk-container-id-17 div.sk-item {position: relative;z-index: 1;}#sk-container-id-17 div.sk-parallel {display: flex;align-items: stretch;justify-content: center;background-color: white;position: relative;}#sk-container-id-17 div.sk-item::before, #sk-container-id-17 div.sk-parallel-item::before {content: \"\";position: absolute;border-left: 1px solid gray;box-sizing: border-box;top: 0;bottom: 0;left: 50%;z-index: -1;}#sk-container-id-17 div.sk-parallel-item {display: flex;flex-direction: column;z-index: 1;position: relative;background-color: white;}#sk-container-id-17 div.sk-parallel-item:first-child::after {align-self: flex-end;width: 50%;}#sk-container-id-17 div.sk-parallel-item:last-child::after {align-self: flex-start;width: 50%;}#sk-container-id-17 div.sk-parallel-item:only-child::after {width: 0;}#sk-container-id-17 div.sk-dashed-wrapped {border: 1px dashed gray;margin: 0 0.4em 0.5em 0.4em;box-sizing: border-box;padding-bottom: 0.4em;background-color: white;}#sk-container-id-17 div.sk-label label {font-family: monospace;font-weight: bold;display: inline-block;line-height: 1.2em;}#sk-container-id-17 div.sk-label-container {text-align: center;}#sk-container-id-17 div.sk-container {/* jupyter's `normalize.less` sets `[hidden] { display: none; }` but bootstrap.min.css set `[hidden] { display: none !important; }` so we also need the `!important` here to be able to override the default hidden behavior on the sphinx rendered scikit-learn.org. See: https://github.com/scikit-learn/scikit-learn/issues/21755 */display: inline-block !important;position: relative;}#sk-container-id-17 div.sk-text-repr-fallback {display: none;}</style><div id=\"sk-container-id-17\" class=\"sk-top-container\"><div class=\"sk-text-repr-fallback\"><pre>Pipeline(steps=[(&#x27;featureunion&#x27;,\n",
       "                 FeatureUnion(transformer_list=[(&#x27;removefirstelement&#x27;,\n",
       "                                                 RemoveFirstElement())])),\n",
       "                (&#x27;randomforestclassifier&#x27;,\n",
       "                 RandomForestClassifier(random_state=2))])</pre><b>In a Jupyter environment, please rerun this cell to show the HTML representation or trust the notebook. <br />On GitHub, the HTML representation is unable to render, please try loading this page with nbviewer.org.</b></div><div class=\"sk-container\" hidden><div class=\"sk-item sk-dashed-wrapped\"><div class=\"sk-label-container\"><div class=\"sk-label sk-toggleable\"><input class=\"sk-toggleable__control sk-hidden--visually\" id=\"sk-estimator-id-73\" type=\"checkbox\" ><label for=\"sk-estimator-id-73\" class=\"sk-toggleable__label sk-toggleable__label-arrow\">Pipeline</label><div class=\"sk-toggleable__content\"><pre>Pipeline(steps=[(&#x27;featureunion&#x27;,\n",
       "                 FeatureUnion(transformer_list=[(&#x27;removefirstelement&#x27;,\n",
       "                                                 RemoveFirstElement())])),\n",
       "                (&#x27;randomforestclassifier&#x27;,\n",
       "                 RandomForestClassifier(random_state=2))])</pre></div></div></div><div class=\"sk-serial\"><div class=\"sk-item sk-dashed-wrapped\"><div class=\"sk-label-container\"><div class=\"sk-label sk-toggleable\"><input class=\"sk-toggleable__control sk-hidden--visually\" id=\"sk-estimator-id-74\" type=\"checkbox\" ><label for=\"sk-estimator-id-74\" class=\"sk-toggleable__label sk-toggleable__label-arrow\">featureunion: FeatureUnion</label><div class=\"sk-toggleable__content\"><pre>FeatureUnion(transformer_list=[(&#x27;removefirstelement&#x27;, RemoveFirstElement())])</pre></div></div></div><div class=\"sk-parallel\"><div class=\"sk-parallel-item\"><div class=\"sk-item\"><div class=\"sk-label-container\"><div class=\"sk-label sk-toggleable\"><label>removefirstelement</label></div></div><div class=\"sk-serial\"><div class=\"sk-item\"><div class=\"sk-estimator sk-toggleable\"><input class=\"sk-toggleable__control sk-hidden--visually\" id=\"sk-estimator-id-75\" type=\"checkbox\" ><label for=\"sk-estimator-id-75\" class=\"sk-toggleable__label sk-toggleable__label-arrow\">RemoveFirstElement</label><div class=\"sk-toggleable__content\"><pre>RemoveFirstElement()</pre></div></div></div></div></div></div></div></div><div class=\"sk-item\"><div class=\"sk-estimator sk-toggleable\"><input class=\"sk-toggleable__control sk-hidden--visually\" id=\"sk-estimator-id-76\" type=\"checkbox\" ><label for=\"sk-estimator-id-76\" class=\"sk-toggleable__label sk-toggleable__label-arrow\">RandomForestClassifier</label><div class=\"sk-toggleable__content\"><pre>RandomForestClassifier(random_state=2)</pre></div></div></div></div></div></div></div>"
      ],
      "text/plain": [
       "Pipeline(steps=[('featureunion',\n",
       "                 FeatureUnion(transformer_list=[('removefirstelement',\n",
       "                                                 RemoveFirstElement())])),\n",
       "                ('randomforestclassifier',\n",
       "                 RandomForestClassifier(random_state=2))])"
      ]
     },
     "execution_count": 187,
     "metadata": {},
     "output_type": "execute_result"
    }
   ],
   "source": [
    "%%time\n",
    "clf.fit(train_X[:10000], train_y[:10000])"
   ]
  },
  {
   "cell_type": "code",
   "execution_count": 188,
   "id": "6f2f0e97",
   "metadata": {},
   "outputs": [
    {
     "data": {
      "text/plain": [
       "0.7020472335585737"
      ]
     },
     "execution_count": 188,
     "metadata": {},
     "output_type": "execute_result"
    }
   ],
   "source": [
    "clf.score(valid_X, valid_y)"
   ]
  },
  {
   "cell_type": "code",
   "execution_count": 189,
   "id": "96c6b1e2",
   "metadata": {},
   "outputs": [],
   "source": [
    "def get_prop_auc(prop_label):\n",
    "    prop_X, prop_y = get_prop_dataset(prop_label)\n",
    "    prop_pred = clf.predict(prop_X)\n",
    "    return roc_auc_score(prop_y, prop_pred)"
   ]
  },
  {
   "cell_type": "code",
   "execution_count": 190,
   "id": "10c5180b",
   "metadata": {},
   "outputs": [
    {
     "data": {
      "text/plain": [
       "0.53125"
      ]
     },
     "execution_count": 190,
     "metadata": {},
     "output_type": "execute_result"
    }
   ],
   "source": [
    "get_prop_auc(\"dfss2\")"
   ]
  },
  {
   "cell_type": "code",
   "execution_count": 191,
   "id": "66c19995",
   "metadata": {},
   "outputs": [
    {
     "name": "stdout",
     "output_type": "stream",
     "text": [
      "opoe not in database.\n",
      "omoe not in database.\n",
      "dvdsadd2b not in database.\n"
     ]
    }
   ],
   "source": [
    "theorem_list = [\n",
    "    \"dfss3\",\n",
    "    \"dfss2\",\n",
    "    \"dfss\",\n",
    "    \"t1lucas\",\n",
    "    \"t2lucas\",\n",
    "    \"ssun1\",\n",
    "    \"t4lucas\",\n",
    "    \"t5lucas\",\n",
    "    \"opoe\",\n",
    "    \"omoe\",\n",
    "    \"pwin\",\n",
    "    \"inidm\",\n",
    "    \"in0\",\n",
    "    \"sstr\",\n",
    "    \"ssequn1\",\n",
    "    \"pwunss\",\n",
    "    #\"epee\",\n",
    "    #\"emee\",\n",
    "    #\"oddp1eveni\",\n",
    "    \"dvdsadd2b\",\n",
    "    #\"opoeALTV\",\n",
    "    #\"omoeALTV\"\n",
    "]\n",
    "\n",
    "#Ensure everything exists\n",
    "for t in theorem_list:\n",
    "    if t not in database.propositions.keys():\n",
    "        print(f\"{t} not in database.\")"
   ]
  },
  {
   "cell_type": "code",
   "execution_count": 202,
   "id": "b792050e",
   "metadata": {},
   "outputs": [
    {
     "data": {
      "text/plain": [
       "array(['0.2698412698412698', '0.36507936507936506', '0.20634920634920634',\n",
       "       '0.20634920634920634', '0.2698412698412698', '0.42857142857142855',\n",
       "       '0.3968253968253968', '0.30158730158730157', '0.746031746031746',\n",
       "       '0.5555555555555556', '0.6507936507936508', '0.1746031746031746',\n",
       "       '0.5555555555555556', '0.6825396825396826', '0.6190476190476191',\n",
       "       '0.42857142857142855', '0.49206349206349204',\n",
       "       '0.49206349206349204', '1.0', '0.42857142857142855',\n",
       "       '0.8095238095238095', '0.23809523809523808', '0.42857142857142855',\n",
       "       '0.8095238095238095'], dtype='<U125')"
      ]
     },
     "execution_count": 202,
     "metadata": {},
     "output_type": "execute_result"
    }
   ],
   "source": [
    "np.array(prop_X)[:, 3]"
   ]
  },
  {
   "cell_type": "code",
   "execution_count": 212,
   "id": "1157c882",
   "metadata": {},
   "outputs": [],
   "source": [
    "def get_prop_auc_weight(prop_label):\n",
    "    prop_X, prop_y = get_prop_dataset(prop_label)\n",
    "    prop_pred = 1 - np.array(prop_X)[:, 4].astype(float)#clf.predict(prop_X)\n",
    "    return roc_auc_score(prop_y, prop_pred)"
   ]
  },
  {
   "cell_type": "code",
   "execution_count": 213,
   "id": "3123f4e1",
   "metadata": {},
   "outputs": [
    {
     "data": {
      "text/plain": [
       "0.43359375"
      ]
     },
     "execution_count": 213,
     "metadata": {},
     "output_type": "execute_result"
    }
   ],
   "source": [
    "get_prop_auc_weight(\"dfss2\")"
   ]
  },
  {
   "cell_type": "code",
   "execution_count": 226,
   "id": "24bace5a",
   "metadata": {},
   "outputs": [
    {
     "ename": "IndexError",
     "evalue": "too many indices for array: array is 1-dimensional, but 2 were indexed",
     "output_type": "error",
     "traceback": [
      "\u001b[0;31m---------------------------------------------------------------------------\u001b[0m",
      "\u001b[0;31mIndexError\u001b[0m                                Traceback (most recent call last)",
      "\u001b[0;32m/var/folders/l2/7llyhwlx5nd60gwdz55p43cr0000gn/T/ipykernel_36234/122592135.py\u001b[0m in \u001b[0;36m<module>\u001b[0;34m\u001b[0m\n\u001b[0;32m----> 1\u001b[0;31m \u001b[0mget_prop_auc_weight\u001b[0m\u001b[0;34m(\u001b[0m\u001b[0mvalid_props\u001b[0m\u001b[0;34m[\u001b[0m\u001b[0;36m8\u001b[0m\u001b[0;34m]\u001b[0m\u001b[0;34m)\u001b[0m\u001b[0;34m\u001b[0m\u001b[0;34m\u001b[0m\u001b[0m\n\u001b[0m",
      "\u001b[0;32m/var/folders/l2/7llyhwlx5nd60gwdz55p43cr0000gn/T/ipykernel_36234/2397476979.py\u001b[0m in \u001b[0;36mget_prop_auc_weight\u001b[0;34m(prop_label)\u001b[0m\n\u001b[1;32m      1\u001b[0m \u001b[0;32mdef\u001b[0m \u001b[0mget_prop_auc_weight\u001b[0m\u001b[0;34m(\u001b[0m\u001b[0mprop_label\u001b[0m\u001b[0;34m)\u001b[0m\u001b[0;34m:\u001b[0m\u001b[0;34m\u001b[0m\u001b[0;34m\u001b[0m\u001b[0m\n\u001b[1;32m      2\u001b[0m     \u001b[0mprop_X\u001b[0m\u001b[0;34m,\u001b[0m \u001b[0mprop_y\u001b[0m \u001b[0;34m=\u001b[0m \u001b[0mget_prop_dataset\u001b[0m\u001b[0;34m(\u001b[0m\u001b[0mprop_label\u001b[0m\u001b[0;34m)\u001b[0m\u001b[0;34m\u001b[0m\u001b[0;34m\u001b[0m\u001b[0m\n\u001b[0;32m----> 3\u001b[0;31m     \u001b[0mprop_pred\u001b[0m \u001b[0;34m=\u001b[0m \u001b[0;36m1\u001b[0m \u001b[0;34m-\u001b[0m \u001b[0mnp\u001b[0m\u001b[0;34m.\u001b[0m\u001b[0marray\u001b[0m\u001b[0;34m(\u001b[0m\u001b[0mprop_X\u001b[0m\u001b[0;34m)\u001b[0m\u001b[0;34m[\u001b[0m\u001b[0;34m:\u001b[0m\u001b[0;34m,\u001b[0m \u001b[0;36m4\u001b[0m\u001b[0;34m]\u001b[0m\u001b[0;34m.\u001b[0m\u001b[0mastype\u001b[0m\u001b[0;34m(\u001b[0m\u001b[0mfloat\u001b[0m\u001b[0;34m)\u001b[0m\u001b[0;31m#clf.predict(prop_X)\u001b[0m\u001b[0;34m\u001b[0m\u001b[0;34m\u001b[0m\u001b[0m\n\u001b[0m\u001b[1;32m      4\u001b[0m     \u001b[0;32mreturn\u001b[0m \u001b[0mroc_auc_score\u001b[0m\u001b[0;34m(\u001b[0m\u001b[0mprop_y\u001b[0m\u001b[0;34m,\u001b[0m \u001b[0mprop_pred\u001b[0m\u001b[0;34m)\u001b[0m\u001b[0;34m\u001b[0m\u001b[0;34m\u001b[0m\u001b[0m\n",
      "\u001b[0;31mIndexError\u001b[0m: too many indices for array: array is 1-dimensional, but 2 were indexed"
     ]
    }
   ],
   "source": [
    "get_prop_auc_weight(valid_props[8])"
   ]
  },
  {
   "cell_type": "code",
   "execution_count": 227,
   "id": "5d7ce6c6",
   "metadata": {},
   "outputs": [
    {
     "data": {
      "text/plain": [
       "'df-lim'"
      ]
     },
     "execution_count": 227,
     "metadata": {},
     "output_type": "execute_result"
    }
   ],
   "source": [
    "valid_props[8]"
   ]
  },
  {
   "cell_type": "code",
   "execution_count": 229,
   "id": "c722d3e6",
   "metadata": {},
   "outputs": [
    {
     "data": {
      "text/plain": [
       "([], [])"
      ]
     },
     "execution_count": 229,
     "metadata": {},
     "output_type": "execute_result"
    }
   ],
   "source": [
    "get_prop_dataset(valid_props[8])"
   ]
  },
  {
   "cell_type": "code",
   "execution_count": 228,
   "id": "aaefff31",
   "metadata": {},
   "outputs": [
    {
     "ename": "IndexError",
     "evalue": "too many indices for array: array is 1-dimensional, but 2 were indexed",
     "output_type": "error",
     "traceback": [
      "\u001b[0;31m---------------------------------------------------------------------------\u001b[0m",
      "\u001b[0;31mIndexError\u001b[0m                                Traceback (most recent call last)",
      "\u001b[0;32m/var/folders/l2/7llyhwlx5nd60gwdz55p43cr0000gn/T/ipykernel_36234/122592135.py\u001b[0m in \u001b[0;36m<module>\u001b[0;34m\u001b[0m\n\u001b[0;32m----> 1\u001b[0;31m \u001b[0mget_prop_auc_weight\u001b[0m\u001b[0;34m(\u001b[0m\u001b[0mvalid_props\u001b[0m\u001b[0;34m[\u001b[0m\u001b[0;36m8\u001b[0m\u001b[0;34m]\u001b[0m\u001b[0;34m)\u001b[0m\u001b[0;34m\u001b[0m\u001b[0;34m\u001b[0m\u001b[0m\n\u001b[0m",
      "\u001b[0;32m/var/folders/l2/7llyhwlx5nd60gwdz55p43cr0000gn/T/ipykernel_36234/2397476979.py\u001b[0m in \u001b[0;36mget_prop_auc_weight\u001b[0;34m(prop_label)\u001b[0m\n\u001b[1;32m      1\u001b[0m \u001b[0;32mdef\u001b[0m \u001b[0mget_prop_auc_weight\u001b[0m\u001b[0;34m(\u001b[0m\u001b[0mprop_label\u001b[0m\u001b[0;34m)\u001b[0m\u001b[0;34m:\u001b[0m\u001b[0;34m\u001b[0m\u001b[0;34m\u001b[0m\u001b[0m\n\u001b[1;32m      2\u001b[0m     \u001b[0mprop_X\u001b[0m\u001b[0;34m,\u001b[0m \u001b[0mprop_y\u001b[0m \u001b[0;34m=\u001b[0m \u001b[0mget_prop_dataset\u001b[0m\u001b[0;34m(\u001b[0m\u001b[0mprop_label\u001b[0m\u001b[0;34m)\u001b[0m\u001b[0;34m\u001b[0m\u001b[0;34m\u001b[0m\u001b[0m\n\u001b[0;32m----> 3\u001b[0;31m     \u001b[0mprop_pred\u001b[0m \u001b[0;34m=\u001b[0m \u001b[0;36m1\u001b[0m \u001b[0;34m-\u001b[0m \u001b[0mnp\u001b[0m\u001b[0;34m.\u001b[0m\u001b[0marray\u001b[0m\u001b[0;34m(\u001b[0m\u001b[0mprop_X\u001b[0m\u001b[0;34m)\u001b[0m\u001b[0;34m[\u001b[0m\u001b[0;34m:\u001b[0m\u001b[0;34m,\u001b[0m \u001b[0;36m4\u001b[0m\u001b[0;34m]\u001b[0m\u001b[0;34m.\u001b[0m\u001b[0mastype\u001b[0m\u001b[0;34m(\u001b[0m\u001b[0mfloat\u001b[0m\u001b[0;34m)\u001b[0m\u001b[0;31m#clf.predict(prop_X)\u001b[0m\u001b[0;34m\u001b[0m\u001b[0;34m\u001b[0m\u001b[0m\n\u001b[0m\u001b[1;32m      4\u001b[0m     \u001b[0;32mreturn\u001b[0m \u001b[0mroc_auc_score\u001b[0m\u001b[0;34m(\u001b[0m\u001b[0mprop_y\u001b[0m\u001b[0;34m,\u001b[0m \u001b[0mprop_pred\u001b[0m\u001b[0;34m)\u001b[0m\u001b[0;34m\u001b[0m\u001b[0;34m\u001b[0m\u001b[0m\n",
      "\u001b[0;31mIndexError\u001b[0m: too many indices for array: array is 1-dimensional, but 2 were indexed"
     ]
    }
   ],
   "source": [
    "get_prop_auc_weight(valid_props[8])"
   ]
  },
  {
   "cell_type": "code",
   "execution_count": 235,
   "id": "90cccc17",
   "metadata": {},
   "outputs": [
    {
     "name": "stderr",
     "output_type": "stream",
     "text": [
      "100%|██████████████████████████████████████████████████████████████████████████████| 1000/1000 [00:07<00:00, 142.25it/s]"
     ]
    },
    {
     "name": "stdout",
     "output_type": "stream",
     "text": [
      "0.5537687336330955\n",
      "Failed theorems: 43\n"
     ]
    },
    {
     "name": "stderr",
     "output_type": "stream",
     "text": [
      "\n"
     ]
    }
   ],
   "source": [
    "auc_vals = []\n",
    "failed_theorems = 0\n",
    "for t in tqdm(valid_props[:1000]):\n",
    "    try:\n",
    "        #auc_val = get_prop_auc(t)\n",
    "        auc_val = get_prop_auc_weight(t)\n",
    "        auc_vals.append(auc_val)\n",
    "    except:\n",
    "        failed_theorems += 1\n",
    "        \n",
    "    \n",
    "print(np.mean(auc_vals))\n",
    "print(f\"Failed theorems: {failed_theorems}\")"
   ]
  },
  {
   "cell_type": "code",
   "execution_count": 214,
   "id": "2dd41365",
   "metadata": {},
   "outputs": [
    {
     "name": "stderr",
     "output_type": "stream",
     "text": [
      "100%|██████████████████████████████████████████████████████████████████████████████████| 17/17 [00:00<00:00, 146.58it/s]"
     ]
    },
    {
     "name": "stdout",
     "output_type": "stream",
     "text": [
      "0.6806973829417059\n"
     ]
    },
    {
     "name": "stderr",
     "output_type": "stream",
     "text": [
      "\n"
     ]
    }
   ],
   "source": [
    "auc_vals = []\n",
    "for t in tqdm(theorem_list):\n",
    "    if t in database.propositions.keys():\n",
    "        #auc_val = get_prop_auc(t)\n",
    "        auc_val = get_prop_auc_weight(t)\n",
    "        auc_vals.append(auc_val)\n",
    "    \n",
    "print(np.mean(auc_vals))"
   ]
  },
  {
   "cell_type": "code",
   "execution_count": null,
   "id": "037be90e",
   "metadata": {},
   "outputs": [],
   "source": [
    "keep working on the machine learning baseline"
   ]
  }
 ],
 "metadata": {
  "kernelspec": {
   "display_name": "Python 3 (ipykernel)",
   "language": "python",
   "name": "python3"
  },
  "language_info": {
   "codemirror_mode": {
    "name": "ipython",
    "version": 3
   },
   "file_extension": ".py",
   "mimetype": "text/x-python",
   "name": "python",
   "nbconvert_exporter": "python",
   "pygments_lexer": "ipython3",
   "version": "3.9.7"
  }
 },
 "nbformat": 4,
 "nbformat_minor": 5
}

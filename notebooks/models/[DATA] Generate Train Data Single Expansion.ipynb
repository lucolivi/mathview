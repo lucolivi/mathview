{
 "cells": [
  {
   "cell_type": "markdown",
   "id": "552e1e38",
   "metadata": {},
   "source": [
    "## Preprocess and save training data"
   ]
  },
  {
   "cell_type": "code",
   "execution_count": 1,
   "id": "27cc7158",
   "metadata": {},
   "outputs": [],
   "source": [
    "import sys\n",
    "sys.path.append(\"../../src\")\n",
    "\n",
    "from tree_parser import file_contents, meta_math_database\n",
    "\n",
    "import json\n",
    "\n",
    "from expanding import construct_proof\n",
    "\n",
    "from tqdm import tqdm\n",
    "\n",
    "import time\n",
    "\n",
    "from sklearn.model_selection import train_test_split\n",
    "\n",
    "import os\n",
    "\n",
    "from theorem_database import TheoremDatabase"
   ]
  },
  {
   "cell_type": "code",
   "execution_count": 2,
   "id": "ef35239a",
   "metadata": {},
   "outputs": [],
   "source": [
    "tdb = TheoremDatabase(\"../../data/tdb\")"
   ]
  },
  {
   "cell_type": "code",
   "execution_count": 13,
   "id": "c10fb757",
   "metadata": {},
   "outputs": [],
   "source": [
    "def get_theorem_complexity(theorem_name):\n",
    "    theorem = tdb[theorem_name]\n",
    "    \n",
    "    if theorem == None:\n",
    "        return 0\n",
    "    \n",
    "    if \"complexity\" not in theorem:\n",
    "        #print(theorem[\"theorem\"])\n",
    "        \n",
    "        if len(theorem[\"steps\"]) == 0:\n",
    "            theorem[\"complexity\"] = 1\n",
    "        else:\n",
    "            theorem[\"complexity\"] = sum([get_theorem_complexity(tt[\"theorem\"]) for tt in theorem[\"steps\"]])\n",
    "            \n",
    "    return theorem[\"complexity\"]\n",
    "\n",
    "def get_theorem_complexity_and_save(theorem_name):\n",
    "    #_save = False\n",
    "    #theorem = tdb[theorem_name]\n",
    "    #if theorem == None:\n",
    "    #    _save = True\n",
    "    \n",
    "    t_complexity = get_theorem_complexity(theorem_name)\n",
    "    \n",
    "    #if _save:\n",
    "        #tdb.save()\n",
    "    \n",
    "    return t_complexity "
   ]
  },
  {
   "cell_type": "code",
   "execution_count": 5,
   "id": "e2a455c2",
   "metadata": {},
   "outputs": [
    {
     "name": "stdout",
     "output_type": "stream",
     "text": [
      "included 3651825 tokens from ../../data/set_mod.mm\n",
      "proposition: 6000\n",
      "CPU times: user 41 s, sys: 2.41 s, total: 43.4 s\n",
      "Wall time: 45.3 s\n"
     ]
    }
   ],
   "source": [
    "%%time\n",
    "\n",
    "text = file_contents(\"../../data/set_mod.mm\")\n",
    "database = meta_math_database(text,n=6000)\n",
    "\n",
    "print()"
   ]
  },
  {
   "cell_type": "code",
   "execution_count": 2,
   "id": "33d00a6e",
   "metadata": {},
   "outputs": [
    {
     "ename": "NameError",
     "evalue": "name 'database' is not defined",
     "output_type": "error",
     "traceback": [
      "\u001b[0;31m---------------------------------------------------------------------------\u001b[0m",
      "\u001b[0;31mNameError\u001b[0m                                 Traceback (most recent call last)",
      "\u001b[0;32m/var/folders/l2/7llyhwlx5nd60gwdz55p43cr0000gn/T/ipykernel_15962/2935546766.py\u001b[0m in \u001b[0;36m<module>\u001b[0;34m\u001b[0m\n\u001b[1;32m     26\u001b[0m \u001b[0;31m#Check if something is absent\u001b[0m\u001b[0;34m\u001b[0m\u001b[0;34m\u001b[0m\u001b[0m\n\u001b[1;32m     27\u001b[0m \u001b[0;32mfor\u001b[0m \u001b[0mt\u001b[0m \u001b[0;32min\u001b[0m \u001b[0mtest_props\u001b[0m\u001b[0;34m:\u001b[0m\u001b[0;34m\u001b[0m\u001b[0;34m\u001b[0m\u001b[0m\n\u001b[0;32m---> 28\u001b[0;31m     \u001b[0;32mif\u001b[0m \u001b[0mt\u001b[0m \u001b[0;32mnot\u001b[0m \u001b[0;32min\u001b[0m \u001b[0mdatabase\u001b[0m\u001b[0;34m.\u001b[0m\u001b[0mpropositions\u001b[0m\u001b[0;34m.\u001b[0m\u001b[0mkeys\u001b[0m\u001b[0;34m(\u001b[0m\u001b[0;34m)\u001b[0m\u001b[0;34m:\u001b[0m\u001b[0;34m\u001b[0m\u001b[0;34m\u001b[0m\u001b[0m\n\u001b[0m\u001b[1;32m     29\u001b[0m         \u001b[0mprint\u001b[0m\u001b[0;34m(\u001b[0m\u001b[0;34mf\"{t} not in database.\"\u001b[0m\u001b[0;34m)\u001b[0m\u001b[0;34m\u001b[0m\u001b[0;34m\u001b[0m\u001b[0m\n",
      "\u001b[0;31mNameError\u001b[0m: name 'database' is not defined"
     ]
    }
   ],
   "source": [
    "test_props = [\n",
    "    \"dfss3\",\n",
    "    \"dfss2\",\n",
    "    \"dfss\",\n",
    "    \"t1lucas\",\n",
    "    \"t2lucas\",\n",
    "    \"ssun1\",\n",
    "    \"t4lucas\",\n",
    "    \"t5lucas\",\n",
    "    \"opoe\",\n",
    "    \"omoe\",\n",
    "    \"pwin\",\n",
    "    \"inidm\",\n",
    "    \"in0\",\n",
    "    \"sstr\",\n",
    "    \"ssequn1\",\n",
    "    \"pwunss\",\n",
    "    \"epee\",\n",
    "    \"emee\",\n",
    "    \"oddp1eveni\",\n",
    "    \"dvdsadd2b\",\n",
    "    \"opoeALTV\",\n",
    "    \"omoeALTV\"\n",
    "]\n",
    "\n",
    "#Check if something is absent\n",
    "for t in test_props:\n",
    "    if t not in database.propositions.keys():\n",
    "        print(f\"{t} not in database.\")"
   ]
  },
  {
   "cell_type": "code",
   "execution_count": 15,
   "id": "eae3c829",
   "metadata": {},
   "outputs": [
    {
     "name": "stdout",
     "output_type": "stream",
     "text": [
      "5986\n"
     ]
    }
   ],
   "source": [
    "train_props = [p for p in database.propositions.keys() if p not in test_props]\n",
    "print(len(train_props))"
   ]
  },
  {
   "cell_type": "code",
   "execution_count": 16,
   "id": "22397a3f",
   "metadata": {},
   "outputs": [
    {
     "name": "stdout",
     "output_type": "stream",
     "text": [
      "4788 1198\n"
     ]
    }
   ],
   "source": [
    "train_props, valid_props = train_test_split(train_props, test_size=0.2, random_state=2)\n",
    "print(len(train_props), len(valid_props))"
   ]
  },
  {
   "cell_type": "code",
   "execution_count": 17,
   "id": "365ab939",
   "metadata": {},
   "outputs": [],
   "source": [
    "def _expand_all_nodes_with_depth_and_filter(root, target_depth, filter_list):\n",
    "    if root.depth == target_depth and root.label in filter_list:\n",
    "        root = root.expand()\n",
    "    \n",
    "    for i in root.inputs:\n",
    "        expand_all_nodes_with_depth_and_filter(i, target_depth, filter_list)\n",
    "        \n",
    "    return root"
   ]
  },
  {
   "cell_type": "code",
   "execution_count": 18,
   "id": "3e1d8700",
   "metadata": {},
   "outputs": [],
   "source": [
    "def get_prop_dataset_batch(prop_label, filter_list):\n",
    "\n",
    "    prop = database.propositions[prop_label]\n",
    "\n",
    "    prop_proof = construct_proof(prop)\n",
    "\n",
    "    steps2expand = [(s.label, s.statement) for s in prop_proof.get_steps_df() if s.label in filter_list]\n",
    "\n",
    "    prop_batch = []\n",
    "\n",
    "    for s_label, s_statement in steps2expand:\n",
    "        prop_proof = construct_proof(prop)\n",
    "        for s in prop_proof.get_steps_df():\n",
    "            if s_label == s.label and s_statement == s.statement:\n",
    "                s.expand()\n",
    "                break\n",
    "\n",
    "        prop_dataset = {\n",
    "            'id':prop.number,\n",
    "            'prop': prop_label,\n",
    "            'steps':[],\n",
    "            'links':[]\n",
    "        }\n",
    "\n",
    "        #Populate step numbers\n",
    "        next_step_n = 0\n",
    "\n",
    "        for s in prop_proof.get_steps_df(): \n",
    "            next_step_n += 1\n",
    "            s._step_num = next_step_n\n",
    "\n",
    "        #Populate data\n",
    "\n",
    "        _no_zero_labels = True \n",
    "        #This flag is necessary to remove from the dataset propositions which every label is true\n",
    "        #All labels true doesnt contribute much to the train/validation\n",
    "\n",
    "        for s in prop_proof.get_steps_df():\n",
    "            #Since negative class is some depth bigger than 0, in case we have some, set this to false\n",
    "            if s.statement_depth > 0: _no_zero_labels = False\n",
    "\n",
    "            prop_dataset[\"steps\"].append((\n",
    "                s._step_num,\n",
    "                s.label,\n",
    "                s.raw_statement,\n",
    "                s.raw_prop_statement,\n",
    "                get_theorem_complexity(s.label), #Lemma complexity\n",
    "                int(s.statement_depth == 0)\n",
    "            ))\n",
    "\n",
    "            for child_s in s.inputs:\n",
    "                prop_dataset[\"links\"].append((child_s._step_num, s._step_num))\n",
    "\n",
    "        #Append only batch which have one example of a zero label\n",
    "        if not _no_zero_labels:\n",
    "            prop_batch.append(prop_dataset)\n",
    "            \n",
    "    return prop_batch"
   ]
  },
  {
   "cell_type": "code",
   "execution_count": 19,
   "id": "0d5df8ea",
   "metadata": {},
   "outputs": [
    {
     "name": "stdout",
     "output_type": "stream",
     "text": [
      "CPU times: user 16.4 ms, sys: 15.1 ms, total: 31.5 ms\n",
      "Wall time: 42.7 ms\n"
     ]
    }
   ],
   "source": [
    "%%time\n",
    "prop_batch = get_prop_dataset_batch(\"dfss2\", train_props)"
   ]
  },
  {
   "cell_type": "code",
   "execution_count": 20,
   "id": "718dcdaa",
   "metadata": {},
   "outputs": [],
   "source": [
    "def _get_prop_dataset_with_filter(prop_label, filter_list):\n",
    "    prop = database.propositions[prop_label]\n",
    "    \n",
    "    prop_dataset = {\n",
    "        'id':prop.number,\n",
    "        'prop': prop_label,\n",
    "        'steps':[],\n",
    "        'links':[]\n",
    "    }\n",
    "    \n",
    "    prop_proof = construct_proof(prop)\n",
    "    prop_proof = expand_all_nodes_with_depth_and_filter(prop_proof, 0, filter_list)\n",
    "\n",
    "    #Populate step numbers\n",
    "    next_step_n = 0\n",
    "    \n",
    "    for s in prop_proof.get_steps_df(): \n",
    "        next_step_n += 1\n",
    "        s._step_num = next_step_n\n",
    "    \n",
    "    #Populate data\n",
    "    \n",
    "    _no_zero_labels = True \n",
    "    #This flag is necessary to remove from the dataset propositions which every label is true\n",
    "    #All labels true doesnt contribute much to the train/validation\n",
    "    \n",
    "    for s in prop_proof.get_steps_df():\n",
    "        #Since negative class is some depth bigger than 0, in case we have some, set this to false\n",
    "        if s.statement_depth > 0: _no_zero_labels = False\n",
    "        \n",
    "        prop_dataset[\"steps\"].append((\n",
    "            s._step_num,\n",
    "            s.label,\n",
    "            s.raw_statement,\n",
    "            s.raw_prop_statement,\n",
    "            int(s.statement_depth == 0)\n",
    "        ))\n",
    "        \n",
    "        for child_s in s.inputs:\n",
    "            prop_dataset[\"links\"].append((child_s._step_num, s._step_num))\n",
    "        \n",
    "    if _no_zero_labels:\n",
    "        raise Exception(f\"Only positive classes in {prop_label}.\")\n",
    "        \n",
    "    return prop_dataset"
   ]
  },
  {
   "cell_type": "code",
   "execution_count": 21,
   "id": "f35c48d9",
   "metadata": {
    "scrolled": true
   },
   "outputs": [
    {
     "name": "stdout",
     "output_type": "stream",
     "text": [
      "4788/4788\n",
      "24769\n",
      "104\n",
      "CPU times: user 4min 43s, sys: 36.8 s, total: 5min 20s\n",
      "Wall time: 1h 34min 21s\n"
     ]
    }
   ],
   "source": [
    "%%time\n",
    "\n",
    "## Process training data\n",
    "\n",
    "train_props_data = []\n",
    "train_failed_props = []\n",
    "\n",
    "for i, p in enumerate(train_props):\n",
    "    print(f\"\\r{i+1}/{len(train_props)}\", end=\"\")\n",
    "    \n",
    "    if len(database.propositions[p].entails_proof_steps) == 0:\n",
    "        continue\n",
    "        \n",
    "    try:\n",
    "        #train_props_data.append(get_prop_dataset_with_filter(p, train_props))\n",
    "        train_props_data.extend(get_prop_dataset_batch(p, train_props))\n",
    "    except:\n",
    "        train_failed_props.append(p)\n",
    "      \n",
    "print()\n",
    "print(len(train_props_data))\n",
    "print(len(train_failed_props))"
   ]
  },
  {
   "cell_type": "code",
   "execution_count": 23,
   "id": "5aeecb29",
   "metadata": {},
   "outputs": [
    {
     "name": "stdout",
     "output_type": "stream",
     "text": [
      "1198/1198\n",
      "1802\n",
      "7\n",
      "CPU times: user 23.3 s, sys: 3.4 s, total: 26.7 s\n",
      "Wall time: 5min 29s\n"
     ]
    }
   ],
   "source": [
    "%%time\n",
    "\n",
    "## Process validation data\n",
    "\n",
    "valid_props_data = []\n",
    "valid_failed_props = []\n",
    "\n",
    "for i, p in enumerate(valid_props):\n",
    "    print(f\"\\r{i+1}/{len(valid_props)}\", end=\"\")\n",
    "    \n",
    "    if len(database.propositions[p].entails_proof_steps) == 0:\n",
    "        continue\n",
    "        \n",
    "    try:\n",
    "        #valid_props_data.append(get_prop_dataset_with_filter(p, valid_props))\n",
    "        valid_props_data.extend(get_prop_dataset_batch(p, valid_props))\n",
    "    except Exception as e:\n",
    "        #raise e\n",
    "        valid_failed_props.append(p)\n",
    "      \n",
    "print()\n",
    "print(len(valid_props_data))\n",
    "print(len(valid_failed_props))"
   ]
  },
  {
   "cell_type": "code",
   "execution_count": 24,
   "id": "05a7e9df",
   "metadata": {},
   "outputs": [
    {
     "name": "stdout",
     "output_type": "stream",
     "text": [
      "1660253531.516595\n"
     ]
    },
    {
     "data": {
      "text/plain": [
       "148"
      ]
     },
     "execution_count": 24,
     "metadata": {},
     "output_type": "execute_result"
    }
   ],
   "source": [
    "ts = time.time()\n",
    "print(ts)\n",
    "os.mkdir(f\"../../data/datasets/{ts}\")\n",
    "\n",
    "json.dump(train_props_data, open(f\"../../data/datasets/{ts}/train.json\", \"w\"))\n",
    "json.dump(valid_props_data, open(f\"../../data/datasets/{ts}/valid.json\", \"w\"))\n",
    "open(f\"../../data/datasets/{ts}/test.txt\", \"w\").write(\"\\n\".join(test_props))"
   ]
  },
  {
   "cell_type": "code",
   "execution_count": 39,
   "id": "72321431",
   "metadata": {},
   "outputs": [
    {
     "ename": "FileNotFoundError",
     "evalue": "[Errno 2] No such file or directory: '../../data/tdb.pkl'",
     "output_type": "error",
     "traceback": [
      "\u001b[0;31m---------------------------------------------------------------------------\u001b[0m",
      "\u001b[0;31mFileNotFoundError\u001b[0m                         Traceback (most recent call last)",
      "\u001b[0;32m/var/folders/l2/7llyhwlx5nd60gwdz55p43cr0000gn/T/ipykernel_5555/3154441857.py\u001b[0m in \u001b[0;36m<module>\u001b[0;34m\u001b[0m\n\u001b[0;32m----> 1\u001b[0;31m \u001b[0mtdb\u001b[0m\u001b[0;34m.\u001b[0m\u001b[0msave\u001b[0m\u001b[0;34m(\u001b[0m\u001b[0;34m)\u001b[0m\u001b[0;34m\u001b[0m\u001b[0;34m\u001b[0m\u001b[0m\n\u001b[0m",
      "\u001b[0;32m/Volumes/GoogleDrive/My Drive/UFABC/Pesquisa/Community Detection for Granularity/mathview/notebooks/models/../../src/theorem_database.py\u001b[0m in \u001b[0;36msave\u001b[0;34m(self)\u001b[0m\n\u001b[1;32m     69\u001b[0m \u001b[0;34m\u001b[0m\u001b[0m\n\u001b[1;32m     70\u001b[0m     \u001b[0;32mdef\u001b[0m \u001b[0msave\u001b[0m\u001b[0;34m(\u001b[0m\u001b[0mself\u001b[0m\u001b[0;34m)\u001b[0m\u001b[0;34m:\u001b[0m\u001b[0;34m\u001b[0m\u001b[0;34m\u001b[0m\u001b[0m\n\u001b[0;32m---> 71\u001b[0;31m         \u001b[0mpickle\u001b[0m\u001b[0;34m.\u001b[0m\u001b[0mdump\u001b[0m\u001b[0;34m(\u001b[0m\u001b[0mself\u001b[0m\u001b[0;34m.\u001b[0m\u001b[0mdatabase\u001b[0m\u001b[0;34m,\u001b[0m \u001b[0mopen\u001b[0m\u001b[0;34m(\u001b[0m\u001b[0;34mf\"{self.database_file}.pkl\"\u001b[0m\u001b[0;34m,\u001b[0m \u001b[0;34m\"wb\"\u001b[0m\u001b[0;34m)\u001b[0m\u001b[0;34m)\u001b[0m\u001b[0;34m\u001b[0m\u001b[0;34m\u001b[0m\u001b[0m\n\u001b[0m",
      "\u001b[0;31mFileNotFoundError\u001b[0m: [Errno 2] No such file or directory: '../../data/tdb.pkl'"
     ]
    }
   ],
   "source": [
    "tdb.save()"
   ]
  },
  {
   "cell_type": "code",
   "execution_count": null,
   "id": "7f420ac5",
   "metadata": {},
   "outputs": [],
   "source": []
  }
 ],
 "metadata": {
  "kernelspec": {
   "display_name": "Python 3 (ipykernel)",
   "language": "python",
   "name": "python3"
  },
  "language_info": {
   "codemirror_mode": {
    "name": "ipython",
    "version": 3
   },
   "file_extension": ".py",
   "mimetype": "text/x-python",
   "name": "python",
   "nbconvert_exporter": "python",
   "pygments_lexer": "ipython3",
   "version": "3.9.7"
  }
 },
 "nbformat": 4,
 "nbformat_minor": 5
}

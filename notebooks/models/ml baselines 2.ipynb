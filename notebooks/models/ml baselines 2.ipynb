{
 "cells": [
  {
   "cell_type": "markdown",
   "id": "176b84dc",
   "metadata": {},
   "source": [
    "Esse notebook irá fazer um baseline utilizando redes neurais para computar a probabilidade de um nó ser ocultado baseando-se apenas na expressão da descrição. Os dados de treinamento serão criados expandindo-se apenas um nível da árvore de provas, chamando os novos nós de 1 e os originais 0. Para verificar se os nós são os mesmos, vamos utilizar as expressões apenas, já que uma vez que um nó é expandido a sua proposição original se quebra em diversas proposições que constituem sua prova."
   ]
  },
  {
   "cell_type": "markdown",
   "id": "63a0fca1",
   "metadata": {},
   "source": [
    "https://www.youtube.com/watch?v=8owQBFAHw7E"
   ]
  },
  {
   "cell_type": "markdown",
   "id": "d4b6ea39",
   "metadata": {},
   "source": [
    "https://www.youtube.com/watch?v=uF53xsT7mjc"
   ]
  },
  {
   "cell_type": "code",
   "execution_count": 1,
   "id": "975193f6",
   "metadata": {},
   "outputs": [],
   "source": [
    "import sys\n",
    "sys.path.append(\"../../src\")\n",
    "\n",
    "import random\n",
    "\n",
    "from collections import Counter, defaultdict\n",
    "\n",
    "import json\n",
    "\n",
    "import glob\n",
    "\n",
    "import os\n",
    "\n",
    "import numpy as np\n",
    "\n",
    "from tqdm import tqdm\n",
    "\n",
    "import matplotlib.pyplot as plt\n",
    "\n",
    "\n",
    "from sklearn.model_selection import train_test_split\n",
    "\n",
    "from sklearn.pipeline import make_pipeline, make_union\n",
    "from sklearn.feature_extraction.text import CountVectorizer\n",
    "from sklearn.preprocessing import FunctionTransformer\n",
    "\n",
    "from sklearn.tree import DecisionTreeClassifier\n",
    "from sklearn.ensemble import RandomForestClassifier\n",
    "\n",
    "from sklearn.metrics import accuracy_score, average_precision_score, balanced_accuracy_score\n",
    "from sklearn.metrics import f1_score, precision_score, recall_score, roc_auc_score\n",
    "\n",
    "import pickle\n",
    "import time"
   ]
  },
  {
   "cell_type": "code",
   "execution_count": 2,
   "id": "2be894e2",
   "metadata": {},
   "outputs": [
    {
     "name": "stdout",
     "output_type": "stream",
     "text": [
      "total 224\r\n",
      "drwx------@ 1 lucasvoliveira  staff    16K Aug 11 14:20 \u001b[34m1660238382.459042\u001b[m\u001b[m\r\n",
      "drwx------@ 1 lucasvoliveira  staff    16K Aug 11 14:45 \u001b[34m1660239915.82247\u001b[m\u001b[m\r\n",
      "drwx------@ 1 lucasvoliveira  staff    16K Aug 11 16:01 \u001b[34m1660244354.1733959\u001b[m\u001b[m\r\n",
      "drwx------@ 1 lucasvoliveira  staff    16K Aug 11 16:21 \u001b[34m1660245663.179106\u001b[m\u001b[m\r\n",
      "drwx------@ 1 lucasvoliveira  staff    16K Aug 11 16:21 \u001b[34m1660245700.0048451\u001b[m\u001b[m\r\n",
      "drwx------@ 1 lucasvoliveira  staff    16K Aug 11 16:23 \u001b[34m1660245781.935104\u001b[m\u001b[m\r\n",
      "drwx------@ 1 lucasvoliveira  staff    16K Aug 11 18:32 \u001b[34m1660253531.516595\u001b[m\u001b[m\r\n"
     ]
    }
   ],
   "source": [
    "!ls -lhS ../../data/datasets "
   ]
  },
  {
   "cell_type": "code",
   "execution_count": 3,
   "id": "52296b63",
   "metadata": {},
   "outputs": [
    {
     "name": "stdout",
     "output_type": "stream",
     "text": [
      "24769\n",
      "1802\n",
      "22\n"
     ]
    }
   ],
   "source": [
    "dataset_name = \"1660253531.516595\"\n",
    "\n",
    "train_props = json.load(open(f\"../../data/datasets/{dataset_name}/train.json\"))\n",
    "valid_props = json.load(open(f\"../../data/datasets/{dataset_name}/valid.json\"))\n",
    "test_props = open(f\"../../data/datasets/{dataset_name}/test.txt\").read().split(\"\\n\")\n",
    "\n",
    "print(len(train_props))\n",
    "print(len(valid_props))\n",
    "print(len(test_props))"
   ]
  },
  {
   "cell_type": "code",
   "execution_count": 54,
   "id": "d9114f0c",
   "metadata": {},
   "outputs": [
    {
     "ename": "SyntaxError",
     "evalue": "invalid syntax (2979950303.py, line 1)",
     "output_type": "error",
     "traceback": [
      "\u001b[0;36m  File \u001b[0;32m\"/var/folders/l2/7llyhwlx5nd60gwdz55p43cr0000gn/T/ipykernel_17419/2979950303.py\"\u001b[0;36m, line \u001b[0;32m1\u001b[0m\n\u001b[0;31m    tem que rever porque os teoremas expandidos nos teoremas de teste podem ter sido usados no treinamento. Talvez seja interessante tirar isso tbm dos dados de teste\u001b[0m\n\u001b[0m        ^\u001b[0m\n\u001b[0;31mSyntaxError\u001b[0m\u001b[0;31m:\u001b[0m invalid syntax\n"
     ]
    }
   ],
   "source": [
    "tem que rever porque os teoremas expandidos nos teoremas de teste podem ter sido usados no treinamento. Talvez seja interessante tirar isso tbm dos dados de teste"
   ]
  },
  {
   "cell_type": "code",
   "execution_count": null,
   "id": "6e851c6b",
   "metadata": {},
   "outputs": [],
   "source": [
    "checar porque o mp2 nao esta em lugar nenhum"
   ]
  },
  {
   "cell_type": "code",
   "execution_count": 65,
   "id": "4466ce9f",
   "metadata": {},
   "outputs": [],
   "source": [
    "train_props_labels = set([p['prop'] for p in train_props])\n",
    "valid_props_labels = set([p['prop'] for p in valid_props])"
   ]
  },
  {
   "cell_type": "code",
   "execution_count": 68,
   "id": "fd0ba181",
   "metadata": {},
   "outputs": [
    {
     "data": {
      "text/plain": [
       "False"
      ]
     },
     "execution_count": 68,
     "metadata": {},
     "output_type": "execute_result"
    }
   ],
   "source": [
    "'mp2' in valid_props_labels"
   ]
  },
  {
   "cell_type": "code",
   "execution_count": 69,
   "id": "15f523b7",
   "metadata": {},
   "outputs": [
    {
     "name": "stdout",
     "output_type": "stream",
     "text": [
      "eliunxp ( C e. U_ x e. A ( { x } X. B ) <-> E. x E. y ( C = <. x , y >. /\\ ( x e. A /\\ y e. B ) ) )\n",
      "eliunxp ( C e. U_ x e. A ( { x } X. B ) <-> E. x E. y ( C = <. x , y >. /\\ ( x e. A /\\ y e. B ) ) )\n",
      "eliunxp ( C e. U_ x e. A ( { x } X. B ) <-> E. x E. y ( C = <. x , y >. /\\ ( x e. A /\\ y e. B ) ) )\n",
      "rexrnmpt ( A. x e. A B e. V -> ( E. y e. ran F ps <-> E. x e. A ch ) )\n",
      "raaan ( A. x e. A A. y e. A ( ph /\\ ps ) <-> ( A. x e. A ph /\\ A. y e. A ps ) )\n",
      "tpeq123d ( ph -> { A , C , E } = { B , D , F } )\n",
      "hbabd ( ph -> ( z e. { y | ps } -> A. x z e. { y | ps } ) )\n",
      "reiota1 ( ( x e. A /\\ E! x e. A ph ) -> ( ph <-> ( iota x ( x e. A /\\ ph ) ) = x ) )\n",
      "reiota1 ( ( x e. A /\\ E! x e. A ph ) -> ( ph <-> ( iota x ( x e. A /\\ ph ) ) = x ) )\n",
      "reiota1 ( ( x e. A /\\ E! x e. A ph ) -> ( ph <-> ( iota x ( x e. A /\\ ph ) ) = x ) )\n",
      "ssiun2 ( x e. A -> B C_ U_ x e. A B )\n",
      "sbi1 ( [. y / x ]. ( ph -> ps ) -> ( [. y / x ]. ph -> [. y / x ]. ps ) )\n",
      "sbi1 ( [. y / x ]. ( ph -> ps ) -> ( [. y / x ]. ph -> [. y / x ]. ps ) )\n",
      "oibabs ( ( ( ph \\/ ps ) -> ( ph <-> ps ) ) <-> ( ph <-> ps ) )\n",
      "oibabs ( ( ( ph \\/ ps ) -> ( ph <-> ps ) ) <-> ( ph <-> ps ) )\n",
      "oibabs ( ( ( ph \\/ ps ) -> ( ph <-> ps ) ) <-> ( ph <-> ps ) )\n",
      "oibabs ( ( ( ph \\/ ps ) -> ( ph <-> ps ) ) <-> ( ph <-> ps ) )\n",
      "pm2.61da2ne ( ph -> ps )\n",
      "pm2.61da2ne ( ph -> ps )\n",
      "fmptap ( ( x e. R |-> C ) u. { <. A , B >. } ) = ( x e. S |-> C )\n",
      "sbcom2 ( [. w / z ]. [. y / x ]. ph <-> [. y / x ]. [. w / z ]. ph )\n",
      "sbcom2 ( [. w / z ]. [. y / x ]. ph <-> [. y / x ]. [. w / z ]. ph )\n",
      "sbcom2 ( [. w / z ]. [. y / x ]. ph <-> [. y / x ]. [. w / z ]. ph )\n",
      "sbcom2 ( [. w / z ]. [. y / x ]. ph <-> [. y / x ]. [. w / z ]. ph )\n",
      "sbcom2 ( [. w / z ]. [. y / x ]. ph <-> [. y / x ]. [. w / z ]. ph )\n",
      "sbcom2 ( [. w / z ]. [. y / x ]. ph <-> [. y / x ]. [. w / z ]. ph )\n",
      "sbcom2 ( [. w / z ]. [. y / x ]. ph <-> [. y / x ]. [. w / z ]. ph )\n",
      "sbcom2 ( [. w / z ]. [. y / x ]. ph <-> [. y / x ]. [. w / z ]. ph )\n",
      "sbcom2 ( [. w / z ]. [. y / x ]. ph <-> [. y / x ]. [. w / z ]. ph )\n",
      "iotaeq ( A. x x = y -> ( iota x ph ) = ( iota y ph ) )\n",
      "iotaeq ( A. x x = y -> ( iota x ph ) = ( iota y ph ) )\n",
      "fndmin ( ( F Fn A /\\ G Fn A ) -> dom ( F i^i G ) = { x e. A | ( F ` x ) = ( G ` x ) } )\n",
      "eupickbi ( E! x ph -> ( E. x ( ph /\\ ps ) <-> A. x ( ph -> ps ) ) )\n",
      "eupickbi ( E! x ph -> ( E. x ( ph /\\ ps ) <-> A. x ( ph -> ps ) ) )\n",
      "eupickbi ( E! x ph -> ( E. x ( ph /\\ ps ) <-> A. x ( ph -> ps ) ) )\n",
      "3adant3r2 ( ( ph /\\ ( ps /\\ ta /\\ ch ) ) -> th )\n",
      "cbv3 ( A. x ph -> A. y ps )\n",
      "dmrnssfld ( dom A u. ran A ) C_ U. U. A\n",
      "dmrnssfld ( dom A u. ran A ) C_ U. U. A\n",
      "dmrnssfld ( dom A u. ran A ) C_ U. U. A\n",
      "dmrnssfld ( dom A u. ran A ) C_ U. U. A\n",
      "dmrnssfld ( dom A u. ran A ) C_ U. U. A\n",
      "dmrnssfld ( dom A u. ran A ) C_ U. U. A\n",
      "dmrnssfld ( dom A u. ran A ) C_ U. U. A\n",
      "dmrnssfld ( dom A u. ran A ) C_ U. U. A\n",
      "unss1 ( A C_ B -> ( A u. C ) C_ ( B u. C ) )\n",
      "unss1 ( A C_ B -> ( A u. C ) C_ ( B u. C ) )\n",
      "ssiinf ( C C_ |^|_ x e. A B <-> A. x e. A C C_ B )\n",
      "ssiinf ( C C_ |^|_ x e. A B <-> A. x e. A C C_ B )\n",
      "pwpr ~P { A , B } = ( { (/) , { A } } u. { { B } , { A , B } } )\n",
      "xpexgALT ( ( A e. V /\\ B e. W ) -> ( A X. B ) e. _V )\n",
      "xpexgALT ( ( A e. V /\\ B e. W ) -> ( A X. B ) e. _V )\n",
      "curry2 ( ( F Fn ( A X. B ) /\\ C e. B ) -> G = ( x e. A |-> ( x F C ) ) )\n",
      "curry2 ( ( F Fn ( A X. B ) /\\ C e. B ) -> G = ( x e. A |-> ( x F C ) ) )\n",
      "curry2 ( ( F Fn ( A X. B ) /\\ C e. B ) -> G = ( x e. A |-> ( x F C ) ) )\n",
      "curry2 ( ( F Fn ( A X. B ) /\\ C e. B ) -> G = ( x e. A |-> ( x F C ) ) )\n",
      "curry2 ( ( F Fn ( A X. B ) /\\ C e. B ) -> G = ( x e. A |-> ( x F C ) ) )\n",
      "curry2 ( ( F Fn ( A X. B ) /\\ C e. B ) -> G = ( x e. A |-> ( x F C ) ) )\n",
      "curry2 ( ( F Fn ( A X. B ) /\\ C e. B ) -> G = ( x e. A |-> ( x F C ) ) )\n",
      "curry2 ( ( F Fn ( A X. B ) /\\ C e. B ) -> G = ( x e. A |-> ( x F C ) ) )\n",
      "curry2 ( ( F Fn ( A X. B ) /\\ C e. B ) -> G = ( x e. A |-> ( x F C ) ) )\n",
      "curry2 ( ( F Fn ( A X. B ) /\\ C e. B ) -> G = ( x e. A |-> ( x F C ) ) )\n",
      "curry2 ( ( F Fn ( A X. B ) /\\ C e. B ) -> G = ( x e. A |-> ( x F C ) ) )\n",
      "curry2 ( ( F Fn ( A X. B ) /\\ C e. B ) -> G = ( x e. A |-> ( x F C ) ) )\n",
      "curry2 ( ( F Fn ( A X. B ) /\\ C e. B ) -> G = ( x e. A |-> ( x F C ) ) )\n",
      "ssrin ( A C_ B -> ( A i^i C ) C_ ( B i^i C ) )\n",
      "anabss7 ( ( ph /\\ ps ) -> ch )\n",
      "eqfnfvd ( ph -> F = G )\n",
      "cbvab { x | ph } = { y | ps }\n",
      "cbvab { x | ph } = { y | ps }\n",
      "relmptopab Rel ( F ` B )\n",
      "relmptopab Rel ( F ` B )\n",
      "relmptopab Rel ( F ` B )\n",
      "relmptopab Rel ( F ` B )\n",
      "fnrnfv ( F Fn A -> ran F = { y | E. x e. A y = ( F ` x ) } )\n",
      "elex22 ( ( A e. B /\\ A e. C ) -> E. x ( x e. B /\\ x e. C ) )\n",
      "elex22 ( ( A e. B /\\ A e. C ) -> E. x ( x e. B /\\ x e. C ) )\n",
      "elex22 ( ( A e. B /\\ A e. C ) -> E. x ( x e. B /\\ x e. C ) )\n",
      "f1ocnvfv3 ( ( F : A -1-1-onto-> B /\\ C e. B ) -> ( `' F ` C ) = U. { x e. A | ( F ` x ) = C } )\n",
      "keepel if ( ph , A , B ) e. C\n",
      "keepel if ( ph , A , B ) e. C\n",
      "iunrab U_ x e. A { y e. B | ph } = { y e. B | E. x e. A ph }\n",
      "iunrab U_ x e. A { y e. B | ph } = { y e. B | E. x e. A ph }\n",
      "iunrab U_ x e. A { y e. B | ph } = { y e. B | E. x e. A ph }\n",
      "sbcco3g ( ( A e. V /\\ A. x B e. W ) -> ( [. A / x ]. [. B / y ]. ph <-> [. C / y ]. ph ) )\n",
      "elpwun ( A e. ~P ( B u. C ) <-> ( A \\ C ) e. ~P B )\n",
      "elpwun ( A e. ~P ( B u. C ) <-> ( A \\ C ) e. ~P B )\n",
      "ax10lem16 ( x = y -> ( z = x <-> z = y ) )\n",
      "omon ( _om e. On \\/ _om = On )\n",
      "sbsslem ( [. y / x ]. x C_ A <-> A. w ( ( w e. y /\\ w e. A ) <-> w e. y ) )\n",
      "sbsslem ( [. y / x ]. x C_ A <-> A. w ( ( w e. y /\\ w e. A ) <-> w e. y ) )\n",
      "sbsslem ( [. y / x ]. x C_ A <-> A. w ( ( w e. y /\\ w e. A ) <-> w e. y ) )\n",
      "sbsslem ( [. y / x ]. x C_ A <-> A. w ( ( w e. y /\\ w e. A ) <-> w e. y ) )\n",
      "sbsslem ( [. y / x ]. x C_ A <-> A. w ( ( w e. y /\\ w e. A ) <-> w e. y ) )\n",
      "sbsslem ( [. y / x ]. x C_ A <-> A. w ( ( w e. y /\\ w e. A ) <-> w e. y ) )\n",
      "sbsslem ( [. y / x ]. x C_ A <-> A. w ( ( w e. y /\\ w e. A ) <-> w e. y ) )\n",
      "sbsslem ( [. y / x ]. x C_ A <-> A. w ( ( w e. y /\\ w e. A ) <-> w e. y ) )\n",
      "sbsslem ( [. y / x ]. x C_ A <-> A. w ( ( w e. y /\\ w e. A ) <-> w e. y ) )\n",
      "hbnel ( A e/ B -> A. x A e/ B )\n",
      "tz7.48lem ( ( A C_ On /\\ A. x e. A A. y e. x -. ( F ` x ) = ( F ` y ) ) -> Fun `' ( F |` A ) )\n"
     ]
    }
   ],
   "source": [
    "for p in valid_props[400:500]:\n",
    "    print(p['prop'], p[\"steps\"][0][2])"
   ]
  },
  {
   "cell_type": "code",
   "execution_count": 51,
   "id": "4c71bf7b",
   "metadata": {},
   "outputs": [],
   "source": [
    "for p in valid_props:\n",
    "    p\n",
    "    if p['prop'] == 'mp2':\n",
    "        print(\"mp2\")\n",
    "        break"
   ]
  },
  {
   "cell_type": "code",
   "execution_count": 4,
   "id": "85fcf219",
   "metadata": {},
   "outputs": [],
   "source": [
    "def get_prop_parameters(target_prop):\n",
    "    steps_dict = {s[0]:{\n",
    "        \"prop\": s[1], \n",
    "        \"statement\":s[2], \n",
    "        \"prop_statement\":s[3], \n",
    "        \"lemma_complexity\":max(s[4], 1), #Ensure there is no 0 complexity value\n",
    "        \"y\":s[5]\n",
    "    } for s in target_prop[\"steps\"]}\n",
    "\n",
    "    #Add neighbors refs\n",
    "    for s in steps_dict.values():\n",
    "        s[\"inputs\"] = []\n",
    "        s[\"output\"] = None\n",
    "    for s, d in target_prop[\"links\"]:\n",
    "        steps_dict[d][\"inputs\"].append(s)\n",
    "        steps_dict[s][\"output\"] = d\n",
    "        \n",
    "    #Add number of neighbors\n",
    "    for s in steps_dict.values():   \n",
    "        s[\"n_neighbors\"] = len(s[\"inputs\"]) + (1 if s[\"output\"] != None else 0)\n",
    "    \n",
    "    #Add number of symbols in the statement\n",
    "    for s in steps_dict.values():\n",
    "        s[\"ns\"] = len(s[\"statement\"].split(\" \"))\n",
    "\n",
    "    #Add number of distinct symbols in the statement\n",
    "    for s in steps_dict.values():\n",
    "        s[\"nds\"] = len(set(s[\"statement\"].split(\" \")))\n",
    "        \n",
    "    #Add ratio between # of symbols and # of distinct symbols\n",
    "    for s in steps_dict.values():\n",
    "        s[\"ns_nds_ratio\"] = s[\"ns\"] / s[\"nds\"]\n",
    "        \n",
    "    #Add number of symbols in the statement normalize with the largest\n",
    "    largest_ns = max([s[\"ns\"] for s in steps_dict.values()])\n",
    "\n",
    "    for s in steps_dict.values():\n",
    "        s[\"ns_norm\"] = s[\"ns\"] / largest_ns\n",
    "\n",
    "    #Add number of distinct symbols in the statement normalize with the largest\n",
    "    largest_nds = max([s[\"nds\"] for s in steps_dict.values()])\n",
    "\n",
    "    for s in steps_dict.values():\n",
    "        s[\"nds_norm\"] = s[\"nds\"] / largest_nds\n",
    "        \n",
    "    #Normalize lemma complexities with the largest\n",
    "    largest_lc = max([s[\"lemma_complexity\"] for s in steps_dict.values()])\n",
    "    for s in steps_dict.values():\n",
    "        s[\"lemma_complexity_norm\"] = s[\"lemma_complexity\"] / largest_lc\n",
    "    \n",
    "        \n",
    "    #Add neighbors summarized parameters\n",
    "    neighbors_params = [\"ns\", \"nds\", \"ns_norm\", \"nds_norm\", \"ns_nds_ratio\", \"lemma_complexity\", \"lemma_complexity_norm\"]\n",
    "\n",
    "    for s in steps_dict.values():\n",
    "        for p in neighbors_params:\n",
    "            neighbors_values = []\n",
    "            if s[\"output\"] != None:\n",
    "                neighbors_values.append(steps_dict[s[\"output\"]][p])\n",
    "            for inp in s[\"inputs\"]:\n",
    "                neighbors_values.append(steps_dict[inp][p])\n",
    "\n",
    "            s[f\"neighbor_{p}_max\"] = max(neighbors_values)\n",
    "            s[f\"neighbor_{p}_min\"] = min(neighbors_values)\n",
    "            s[f\"neighbor_{p}_avg\"] = np.mean(neighbors_values)\n",
    "            \n",
    "            s[f\"neighbor_{p}_max_ratio\"] = s[p] / s[f\"neighbor_{p}_max\"]\n",
    "            s[f\"neighbor_{p}_min_ratio\"] = s[p] / s[f\"neighbor_{p}_min\"]\n",
    "            s[f\"neighbor_{p}_avg_ratio\"] = s[p] / s[f\"neighbor_{p}_avg\"]\n",
    "            \n",
    "            \n",
    "    #Add jaccard similarity between node statement symbols and its neighbors statement symbols\n",
    "    for s in steps_dict.values():\n",
    "        jacc_simm_values = []\n",
    "        ratio_over_unions = []\n",
    "        ratio_over_intersections = []\n",
    "        \n",
    "        neighbors_refs = []\n",
    "        \n",
    "        if s[\"output\"] != None:\n",
    "            neighbors_refs.append(steps_dict[s[\"output\"]])\n",
    "        \n",
    "        for inp in s[\"inputs\"]:\n",
    "            neighbors_refs.append(steps_dict[inp])\n",
    "            \n",
    "        s_symbols = set(s[\"statement\"].split(\" \"))\n",
    "            \n",
    "        for n in neighbors_refs:\n",
    "            n_symbols = set(n[\"statement\"].split(\" \"))\n",
    "            \n",
    "            jacc_val = len(s_symbols.intersection(n_symbols)) / len(s_symbols.union(n_symbols))\n",
    "            jacc_simm_values.append(jacc_val)\n",
    "            \n",
    "            ratio_over_unions.append(len(s_symbols)/len(s_symbols.union(n_symbols)))\n",
    "            ratio_over_intersections.append(len(s_symbols.intersection(n_symbols))/len(s_symbols))\n",
    "            \n",
    "        s[\"neighbors_jacc_sim_min\"] = min(jacc_simm_values)\n",
    "        s[\"neighbors_jacc_sim_max\"] = max(jacc_simm_values)\n",
    "        s[\"neighbors_jacc_sim_avg\"] = np.mean(jacc_simm_values)\n",
    "        \n",
    "        s[\"neighbors_ratio_union_min\"] = min(ratio_over_unions)\n",
    "        s[\"neighbors_ratio_union_max\"] = max(ratio_over_unions)\n",
    "        s[\"neighbors_ratio_union_avg\"] = np.mean(ratio_over_unions)\n",
    "        \n",
    "        s[\"neighbors_ratio_intersection_min\"] = min(ratio_over_intersections)\n",
    "        s[\"neighbors_ratio_intersection_max\"] = max(ratio_over_intersections)\n",
    "        s[\"neighbors_ratio_intersection_avg\"] = np.mean(ratio_over_intersections)\n",
    "        \n",
    "    #Include whether some of its neighbors has been hidden or not\n",
    "    #This may be helpful while working with the iterative algorithm to determine whether or not some node should be hidden\n",
    "            \n",
    "    return steps_dict"
   ]
  },
  {
   "cell_type": "code",
   "execution_count": 6,
   "id": "e2c923f9",
   "metadata": {},
   "outputs": [],
   "source": [
    "all_features = list(list(get_prop_parameters(train_props[0]).values())[0].keys())\n",
    "features2remove = [\"prop\", \"statement\", 'prop_statement', \"y\", \"inputs\", \"output\"]\n",
    "features2use = sorted([f for f in all_features if f not in features2remove])\n",
    "#features2use"
   ]
  },
  {
   "cell_type": "code",
   "execution_count": 22,
   "id": "c1c10382",
   "metadata": {},
   "outputs": [],
   "source": [
    "def get_props_features_xy(p):\n",
    "    prop_features_x = []\n",
    "    prop_features_y = []\n",
    "    features2remove = [\"prop\", \"statement\", 'prop_statement', \"y\", \"inputs\", \"output\"]\n",
    "    \n",
    "    for s in get_prop_parameters(p).values():\n",
    "        \n",
    "        feature_names = sorted(s.keys())#Sort keys is important to ensure feature order\n",
    "\n",
    "        s_features = []\n",
    "        for f in feature_names:\n",
    "            if f not in features2remove:\n",
    "                s_features.append(s[f])\n",
    "            \n",
    "        prop_features_x.append(s_features)\n",
    "        prop_features_y.append(s[\"y\"])\n",
    "\n",
    "    return prop_features_x, prop_features_y"
   ]
  },
  {
   "cell_type": "code",
   "execution_count": 23,
   "id": "4f185839",
   "metadata": {},
   "outputs": [
    {
     "data": {
      "text/plain": [
       "126"
      ]
     },
     "execution_count": 23,
     "metadata": {},
     "output_type": "execute_result"
    }
   ],
   "source": [
    "len(get_props_features_xy(train_props[0])[1])"
   ]
  },
  {
   "cell_type": "code",
   "execution_count": 24,
   "id": "fe82d778",
   "metadata": {},
   "outputs": [
    {
     "name": "stdout",
     "output_type": "stream",
     "text": [
      "24769/24769\n",
      "\n",
      "CPU times: user 1min 39s, sys: 3.1 s, total: 1min 42s\n",
      "Wall time: 1min 47s\n"
     ]
    }
   ],
   "source": [
    "%%time\n",
    "\n",
    "train_features_x = []\n",
    "train_features_y = []\n",
    "\n",
    "for i, p in enumerate(train_props):\n",
    "    print(f\"\\r{i+1}/{len(train_props)}\", end=\"\")\n",
    "    \n",
    "    features_x, features_y = get_props_features_xy(p)\n",
    "    train_features_x.extend(features_x)\n",
    "    train_features_y.extend(features_y)\n",
    "    \n",
    "print(\"\\n\")"
   ]
  },
  {
   "cell_type": "code",
   "execution_count": 42,
   "id": "0af4adda",
   "metadata": {},
   "outputs": [],
   "source": [
    "##Make checkpoint\n",
    "#np.save(open(\"train_x_preproc_1659467564.761641.npy\", \"wb\"), train_features_x, False)\n",
    "#np.save(open(\"train_y_preproc_1659467564.761641.npy\", \"wb\"), train_features_y, False)\n",
    "\n",
    "#train_features_x = np.load(open(\"train_x_preproc_1659467564.761641.npy\", \"rb\"))\n",
    "#train_features_y = np.load(open(\"train_y_preproc_1659467564.761641.npy\", \"rb\"))"
   ]
  },
  {
   "cell_type": "code",
   "execution_count": 43,
   "id": "fdfe6b2d",
   "metadata": {},
   "outputs": [],
   "source": [
    "#train_features_x = train_features_x[:,1:] #Remove number of neighbors"
   ]
  },
  {
   "cell_type": "code",
   "execution_count": 25,
   "id": "3be16e21",
   "metadata": {},
   "outputs": [
    {
     "name": "stdout",
     "output_type": "stream",
     "text": [
      "923629\n",
      "923629\n"
     ]
    }
   ],
   "source": [
    "print(len(train_features_x))\n",
    "print(len(train_features_y))"
   ]
  },
  {
   "cell_type": "code",
   "execution_count": 27,
   "id": "49b36c42",
   "metadata": {},
   "outputs": [
    {
     "data": {
      "text/plain": [
       "0.9047019961478039"
      ]
     },
     "execution_count": 27,
     "metadata": {},
     "output_type": "execute_result"
    }
   ],
   "source": [
    "sum(train_features_y)/len(train_features_y)"
   ]
  },
  {
   "cell_type": "code",
   "execution_count": 28,
   "id": "aaf50fb9",
   "metadata": {},
   "outputs": [],
   "source": [
    "#train_features_x = np.round(train_features_x, 2)"
   ]
  },
  {
   "cell_type": "code",
   "execution_count": 29,
   "id": "5efb7749",
   "metadata": {},
   "outputs": [
    {
     "name": "stdout",
     "output_type": "stream",
     "text": [
      "245469\n",
      "245469\n",
      "0.7140046197279494\n",
      "CPU times: user 3.11 s, sys: 3.28 s, total: 6.39 s\n",
      "Wall time: 17.5 s\n"
     ]
    }
   ],
   "source": [
    "%%time\n",
    "\n",
    "train_features_xy = []\n",
    "for tx, ty in zip(train_features_x, train_features_y):\n",
    "    train_features_xy.append(tuple(tx + [ty]))\n",
    "    \n",
    "single_tx, single_ty = [],[]\n",
    "for txy in set(train_features_xy):\n",
    "    single_tx.append(txy[:-1])\n",
    "    single_ty.append(txy[-1])\n",
    "    \n",
    "print(len(single_tx))\n",
    "print(len(single_ty))\n",
    "\n",
    "print(np.mean(single_ty))"
   ]
  },
  {
   "cell_type": "code",
   "execution_count": 30,
   "id": "14383c49",
   "metadata": {},
   "outputs": [],
   "source": [
    "#single_tx, single_ty = train_features_x, train_features_y"
   ]
  },
  {
   "cell_type": "code",
   "execution_count": 31,
   "id": "4d2cad99",
   "metadata": {},
   "outputs": [
    {
     "name": "stdout",
     "output_type": "stream",
     "text": [
      "CPU times: user 3min 14s, sys: 2.09 s, total: 3min 16s\n",
      "Wall time: 1min 41s\n"
     ]
    },
    {
     "data": {
      "text/html": [
       "<style>#sk-container-id-1 {color: black;background-color: white;}#sk-container-id-1 pre{padding: 0;}#sk-container-id-1 div.sk-toggleable {background-color: white;}#sk-container-id-1 label.sk-toggleable__label {cursor: pointer;display: block;width: 100%;margin-bottom: 0;padding: 0.3em;box-sizing: border-box;text-align: center;}#sk-container-id-1 label.sk-toggleable__label-arrow:before {content: \"▸\";float: left;margin-right: 0.25em;color: #696969;}#sk-container-id-1 label.sk-toggleable__label-arrow:hover:before {color: black;}#sk-container-id-1 div.sk-estimator:hover label.sk-toggleable__label-arrow:before {color: black;}#sk-container-id-1 div.sk-toggleable__content {max-height: 0;max-width: 0;overflow: hidden;text-align: left;background-color: #f0f8ff;}#sk-container-id-1 div.sk-toggleable__content pre {margin: 0.2em;color: black;border-radius: 0.25em;background-color: #f0f8ff;}#sk-container-id-1 input.sk-toggleable__control:checked~div.sk-toggleable__content {max-height: 200px;max-width: 100%;overflow: auto;}#sk-container-id-1 input.sk-toggleable__control:checked~label.sk-toggleable__label-arrow:before {content: \"▾\";}#sk-container-id-1 div.sk-estimator input.sk-toggleable__control:checked~label.sk-toggleable__label {background-color: #d4ebff;}#sk-container-id-1 div.sk-label input.sk-toggleable__control:checked~label.sk-toggleable__label {background-color: #d4ebff;}#sk-container-id-1 input.sk-hidden--visually {border: 0;clip: rect(1px 1px 1px 1px);clip: rect(1px, 1px, 1px, 1px);height: 1px;margin: -1px;overflow: hidden;padding: 0;position: absolute;width: 1px;}#sk-container-id-1 div.sk-estimator {font-family: monospace;background-color: #f0f8ff;border: 1px dotted black;border-radius: 0.25em;box-sizing: border-box;margin-bottom: 0.5em;}#sk-container-id-1 div.sk-estimator:hover {background-color: #d4ebff;}#sk-container-id-1 div.sk-parallel-item::after {content: \"\";width: 100%;border-bottom: 1px solid gray;flex-grow: 1;}#sk-container-id-1 div.sk-label:hover label.sk-toggleable__label {background-color: #d4ebff;}#sk-container-id-1 div.sk-serial::before {content: \"\";position: absolute;border-left: 1px solid gray;box-sizing: border-box;top: 0;bottom: 0;left: 50%;z-index: 0;}#sk-container-id-1 div.sk-serial {display: flex;flex-direction: column;align-items: center;background-color: white;padding-right: 0.2em;padding-left: 0.2em;position: relative;}#sk-container-id-1 div.sk-item {position: relative;z-index: 1;}#sk-container-id-1 div.sk-parallel {display: flex;align-items: stretch;justify-content: center;background-color: white;position: relative;}#sk-container-id-1 div.sk-item::before, #sk-container-id-1 div.sk-parallel-item::before {content: \"\";position: absolute;border-left: 1px solid gray;box-sizing: border-box;top: 0;bottom: 0;left: 50%;z-index: -1;}#sk-container-id-1 div.sk-parallel-item {display: flex;flex-direction: column;z-index: 1;position: relative;background-color: white;}#sk-container-id-1 div.sk-parallel-item:first-child::after {align-self: flex-end;width: 50%;}#sk-container-id-1 div.sk-parallel-item:last-child::after {align-self: flex-start;width: 50%;}#sk-container-id-1 div.sk-parallel-item:only-child::after {width: 0;}#sk-container-id-1 div.sk-dashed-wrapped {border: 1px dashed gray;margin: 0 0.4em 0.5em 0.4em;box-sizing: border-box;padding-bottom: 0.4em;background-color: white;}#sk-container-id-1 div.sk-label label {font-family: monospace;font-weight: bold;display: inline-block;line-height: 1.2em;}#sk-container-id-1 div.sk-label-container {text-align: center;}#sk-container-id-1 div.sk-container {/* jupyter's `normalize.less` sets `[hidden] { display: none; }` but bootstrap.min.css set `[hidden] { display: none !important; }` so we also need the `!important` here to be able to override the default hidden behavior on the sphinx rendered scikit-learn.org. See: https://github.com/scikit-learn/scikit-learn/issues/21755 */display: inline-block !important;position: relative;}#sk-container-id-1 div.sk-text-repr-fallback {display: none;}</style><div id=\"sk-container-id-1\" class=\"sk-top-container\"><div class=\"sk-text-repr-fallback\"><pre>RandomForestClassifier(n_estimators=200, n_jobs=2, random_state=2)</pre><b>In a Jupyter environment, please rerun this cell to show the HTML representation or trust the notebook. <br />On GitHub, the HTML representation is unable to render, please try loading this page with nbviewer.org.</b></div><div class=\"sk-container\" hidden><div class=\"sk-item\"><div class=\"sk-estimator sk-toggleable\"><input class=\"sk-toggleable__control sk-hidden--visually\" id=\"sk-estimator-id-1\" type=\"checkbox\" checked><label for=\"sk-estimator-id-1\" class=\"sk-toggleable__label sk-toggleable__label-arrow\">RandomForestClassifier</label><div class=\"sk-toggleable__content\"><pre>RandomForestClassifier(n_estimators=200, n_jobs=2, random_state=2)</pre></div></div></div></div></div>"
      ],
      "text/plain": [
       "RandomForestClassifier(n_estimators=200, n_jobs=2, random_state=2)"
      ]
     },
     "execution_count": 31,
     "metadata": {},
     "output_type": "execute_result"
    }
   ],
   "source": [
    "%%time\n",
    "\n",
    "rf_clf = RandomForestClassifier(\n",
    "    n_estimators=200,\n",
    "    max_depth=None,\n",
    "    n_jobs=2,\n",
    "    random_state=2\n",
    ")\n",
    "\n",
    "rf_clf.fit(single_tx, single_ty)"
   ]
  },
  {
   "cell_type": "code",
   "execution_count": 32,
   "id": "d8c5ec9d",
   "metadata": {},
   "outputs": [
    {
     "data": {
      "text/plain": [
       "0.97883643148422"
      ]
     },
     "execution_count": 32,
     "metadata": {},
     "output_type": "execute_result"
    }
   ],
   "source": [
    "rf_clf.score(single_tx, single_ty)"
   ]
  },
  {
   "cell_type": "code",
   "execution_count": 34,
   "id": "c06e1a21",
   "metadata": {},
   "outputs": [
    {
     "name": "stdout",
     "output_type": "stream",
     "text": [
      "1802/1802"
     ]
    }
   ],
   "source": [
    "valid_features_x = []\n",
    "valid_features_y = []\n",
    "\n",
    "for i, p in enumerate(valid_props):\n",
    "    print(f\"\\r{i+1}/{len(valid_props)}\", end=\"\")\n",
    "    \n",
    "    p_features, p_ys = get_props_features_xy(p)\n",
    "    \n",
    "    valid_features_x.append(p_features)\n",
    "    valid_features_y.append(p_ys)"
   ]
  },
  {
   "cell_type": "code",
   "execution_count": 33,
   "id": "5a847157",
   "metadata": {},
   "outputs": [
    {
     "name": "stdout",
     "output_type": "stream",
     "text": [
      "1802/1802"
     ]
    }
   ],
   "source": [
    "# valid_features_x = []\n",
    "# valid_features_y = []\n",
    "\n",
    "# for i, p in enumerate(valid_props):\n",
    "#     print(f\"\\r{i+1}/{len(valid_props)}\", end=\"\")\n",
    "    \n",
    "#     p_features = []\n",
    "#     p_ys = []\n",
    "#     for s in get_prop_parameters(p).values():\n",
    "        \n",
    "#         s_features = []\n",
    "#         for f in features2use:\n",
    "#             s_features.append(s[f])\n",
    "         \n",
    "#         p_features.append(s_features)\n",
    "#         p_ys.append(s[\"y\"])\n",
    "    \n",
    "    \n",
    "#     valid_features_x.append(p_features)\n",
    "#     valid_features_y.append(p_ys)"
   ]
  },
  {
   "cell_type": "code",
   "execution_count": 35,
   "id": "f2c24592",
   "metadata": {},
   "outputs": [],
   "source": [
    "#Metrics to check \n",
    "metrics2check = {\n",
    "    \"accuracy_score\": accuracy_score, \n",
    "    \"average_precision_score\": average_precision_score, \n",
    "    \"balanced_accuracy_score\": balanced_accuracy_score,\n",
    "    \"f1_score\": f1_score, \n",
    "    \"precision_score\": precision_score, \n",
    "    \"recall_score\": recall_score, \n",
    "    \"roc_auc_score\": roc_auc_score\n",
    "}"
   ]
  },
  {
   "cell_type": "code",
   "execution_count": 36,
   "id": "fca95605",
   "metadata": {},
   "outputs": [
    {
     "name": "stdout",
     "output_type": "stream",
     "text": [
      "78181\n",
      "78181\n",
      "\n",
      "accuracy_score 0.8031874752177639\n",
      "average_precision_score 0.9481896020835957\n",
      "balanced_accuracy_score 0.6331131605422855\n",
      "f1_score 0.88627914711208\n",
      "precision_score 0.9406513758589313\n",
      "recall_score 0.837849167866076\n",
      "roc_auc_score 0.6719666310879926\n"
     ]
    }
   ],
   "source": [
    "#Score flatten accuracy\n",
    "\n",
    "metric_arr = defaultdict(list)\n",
    "\n",
    "valid_features_x_flatten = []\n",
    "for d in valid_features_x:\n",
    "    valid_features_x_flatten.extend(d)\n",
    "    \n",
    "valid_features_y_flatten = []\n",
    "for d in valid_features_y:\n",
    "    valid_features_y_flatten.extend(d)\n",
    "    \n",
    "valid_features_x_flatten = np.round(valid_features_x_flatten,2)\n",
    "    \n",
    "print(len(valid_features_x_flatten))\n",
    "print(len(valid_features_y_flatten))\n",
    "print()\n",
    "      \n",
    "pprob = rf_clf.predict_proba(valid_features_x_flatten)[:,1]\n",
    "ppred = pprob > 0.5\n",
    "\n",
    "for m, m_func in metrics2check.items():\n",
    "    if m == \"precision_score\":\n",
    "        m_val = m_func(valid_features_y_flatten, ppred, zero_division=0)\n",
    "    elif m in [\"accuracy_score\", \"balanced_accuracy_score\", \"f1_score\", \"recall_score\"]:\n",
    "        m_val = m_func(valid_features_y_flatten, ppred)\n",
    "    else:\n",
    "        m_val = m_func(valid_features_y_flatten, pprob)\n",
    "    metric_arr[m].append(m_val)\n",
    "        \n",
    "for m, m_vals in metric_arr.items():\n",
    "    print(m, np.mean(m_vals))"
   ]
  },
  {
   "cell_type": "code",
   "execution_count": 37,
   "id": "b9731715",
   "metadata": {},
   "outputs": [
    {
     "name": "stdout",
     "output_type": "stream",
     "text": [
      "1802/1802\n",
      "\n",
      "accuracy_score 0.8200042934284597\n",
      "average_precision_score 0.9432229821723455\n",
      "balanced_accuracy_score 0.6999731398217022\n",
      "f1_score 0.8832551759444873\n",
      "precision_score 0.8986645308026147\n",
      "recall_score 0.8958247260560865\n",
      "roc_auc_score 0.7848257608563465\n"
     ]
    }
   ],
   "source": [
    "metric_arr = defaultdict(list)\n",
    "\n",
    "for i, (px, py) in enumerate(zip(valid_features_x, valid_features_y)):\n",
    "    print(f\"\\r{i+1}/{len(valid_features_x)}\", end=\"\")\n",
    "    \n",
    "    #px = np.round(px,2)\n",
    "    \n",
    "    pprob = rf_clf.predict_proba(px)[:,1]\n",
    "    #pprob = np.array([1-_x[4] for _x in px]) #ONly number of symbols normalized\n",
    "    ppred = pprob > 0.5\n",
    "    \n",
    "    for m, m_func in metrics2check.items():\n",
    "        if m == \"precision_score\":\n",
    "            m_val = m_func(py, ppred, zero_division=0)\n",
    "        elif m in [\"accuracy_score\", \"balanced_accuracy_score\", \"f1_score\", \"recall_score\"]:\n",
    "            m_val = m_func(py, ppred)\n",
    "        else:\n",
    "            m_val = m_func(py, pprob)\n",
    "    \n",
    "        metric_arr[m].append(m_val)\n",
    "        \n",
    "print(\"\\n\")\n",
    "        \n",
    "for m, m_vals in metric_arr.items():\n",
    "    print(m, np.mean(m_vals))"
   ]
  },
  {
   "cell_type": "code",
   "execution_count": 38,
   "id": "fa1923e1",
   "metadata": {},
   "outputs": [
    {
     "data": {
      "text/plain": [
       "<BarContainer object of 59 artists>"
      ]
     },
     "execution_count": 38,
     "metadata": {},
     "output_type": "execute_result"
    },
    {
     "data": {
      "image/png": "[encoded data removed]",
      "text/plain": [
       "<Figure size 640x800 with 1 Axes>"
      ]
     },
     "metadata": {
      "needs_background": "light"
     },
     "output_type": "display_data"
    }
   ],
   "source": [
    "plt.figure(figsize=(8, 10), dpi=80)\n",
    "\n",
    "plt.barh(np.array(features2use)[rf_clf.feature_importances_.argsort()], \n",
    "    rf_clf.feature_importances_[rf_clf.feature_importances_.argsort()])"
   ]
  },
  {
   "cell_type": "markdown",
   "id": "b04ffcee",
   "metadata": {},
   "source": [
    "- keep working on the machine learning baseline\n",
    "\n",
    "- maybe include other metrics like complexity of the nodes, etc\n",
    "\n",
    "- verify if order matters of the features - No as expected, it doesnt\n",
    "\n",
    "- test this with more complex expansions (like random expansions)"
   ]
  },
  {
   "cell_type": "code",
   "execution_count": 44,
   "id": "fd562a4a",
   "metadata": {},
   "outputs": [],
   "source": [
    "ts = time.time()\n",
    "\n",
    "#workdir = \"/Users/lucasvoliveira/Desktop\"\n",
    "workdir = \"../../data\""
   ]
  },
  {
   "cell_type": "code",
   "execution_count": 45,
   "id": "488c6107",
   "metadata": {},
   "outputs": [],
   "source": [
    "os.mkdir(os.path.join(workdir, \"trained_models\", str(ts)))"
   ]
  },
  {
   "cell_type": "code",
   "execution_count": 46,
   "id": "617039b4",
   "metadata": {},
   "outputs": [],
   "source": [
    "pickle.dump(rf_clf, open(os.path.join(workdir, \"trained_models\", str(ts), \"model.pkl\"), \"wb\"))"
   ]
  },
  {
   "cell_type": "code",
   "execution_count": 34,
   "id": "6be44536",
   "metadata": {},
   "outputs": [
    {
     "name": "stdout",
     "output_type": "stream",
     "text": [
      "t5lucas\n"
     ]
    },
    {
     "ename": "NameError",
     "evalue": "name 'props_dict' is not defined",
     "output_type": "error",
     "traceback": [
      "\u001b[0;31m---------------------------------------------------------------------------\u001b[0m",
      "\u001b[0;31mNameError\u001b[0m                                 Traceback (most recent call last)",
      "\u001b[0;32m/var/folders/l2/7llyhwlx5nd60gwdz55p43cr0000gn/T/ipykernel_6681/265486208.py\u001b[0m in \u001b[0;36m<module>\u001b[0;34m\u001b[0m\n\u001b[1;32m      4\u001b[0m \u001b[0mprint\u001b[0m\u001b[0;34m(\u001b[0m\u001b[0mtest_label_123\u001b[0m\u001b[0;34m)\u001b[0m\u001b[0;34m\u001b[0m\u001b[0;34m\u001b[0m\u001b[0m\n\u001b[1;32m      5\u001b[0m \u001b[0;34m\u001b[0m\u001b[0m\n\u001b[0;32m----> 6\u001b[0;31m \u001b[0mtgt_feat_x\u001b[0m\u001b[0;34m,\u001b[0m \u001b[0mtgt_feat_y\u001b[0m \u001b[0;34m=\u001b[0m \u001b[0mget_props_features_xy\u001b[0m\u001b[0;34m(\u001b[0m\u001b[0mprops_dict\u001b[0m\u001b[0;34m[\u001b[0m\u001b[0mtest_label_123\u001b[0m\u001b[0;34m]\u001b[0m\u001b[0;34m)\u001b[0m\u001b[0;34m\u001b[0m\u001b[0;34m\u001b[0m\u001b[0m\n\u001b[0m\u001b[1;32m      7\u001b[0m \u001b[0;34m\u001b[0m\u001b[0m\n\u001b[1;32m      8\u001b[0m \u001b[0mtgt_feat_x\u001b[0m \u001b[0;34m=\u001b[0m \u001b[0mnp\u001b[0m\u001b[0;34m.\u001b[0m\u001b[0mround\u001b[0m\u001b[0;34m(\u001b[0m\u001b[0mtgt_feat_x\u001b[0m\u001b[0;34m,\u001b[0m\u001b[0;36m2\u001b[0m\u001b[0;34m)\u001b[0m\u001b[0;34m\u001b[0m\u001b[0;34m\u001b[0m\u001b[0m\n",
      "\u001b[0;31mNameError\u001b[0m: name 'props_dict' is not defined"
     ]
    }
   ],
   "source": [
    "metric_arr = defaultdict(list)\n",
    "\n",
    "test_label_123 = test_props[7]\n",
    "print(test_label_123)\n",
    "\n",
    "tgt_feat_x, tgt_feat_y = get_props_features_xy(props_dict[test_label_123])\n",
    "\n",
    "tgt_feat_x = np.round(tgt_feat_x,2)\n",
    "\n",
    "tgt_prob = rf_clf.predict_proba(tgt_feat_x)[:,1]\n",
    "tgt_pred = tgt_prob > 0.5\n",
    "\n",
    "for m, m_func in metrics2check.items():\n",
    "    try:\n",
    "        if m == \"precision_score\":\n",
    "            m_val = m_func(tgt_feat_y, tgt_pred, zero_division=0)\n",
    "        elif m in [\"accuracy_score\", \"balanced_accuracy_score\", \"f1_score\", \"recall_score\"]:\n",
    "            m_val = m_func(tgt_feat_y, tgt_pred)\n",
    "        else:\n",
    "            m_val = m_func(tgt_feat_y, tgt_prob)\n",
    "    except Exception as e:\n",
    "        print(m, m_func)\n",
    "        raise e\n",
    "\n",
    "    metric_arr[m].append(m_val)\n",
    "    \n",
    "metric_arr"
   ]
  },
  {
   "cell_type": "code",
   "execution_count": 26,
   "id": "1aa48e0a",
   "metadata": {},
   "outputs": [
    {
     "name": "stdout",
     "output_type": "stream",
     "text": [
      "t5lucas\n",
      "\n",
      "1 mp2 \t\t 1 \t True 0.9\n",
      "2 sylanbrc \t\t 1 \t True 0.6\n",
      "3 ax-mp \t\t 1 \t True 0.8\n",
      "4 ax-mp \t\t 1 \t True 1.0\n",
      "5 ax-gen \t\t 1 \t False 0.0\n",
      "6 syl \t\t 1 \t True 0.7\n",
      "7 ax-mp \t\t 1 \t True 0.7\n",
      "8 pm5.21nii \t\t 1 \t True 1.0\n",
      "9 elex \t\t 0 \t False 0.0\n",
      "10 adantl \t\t 0 \t False 0.0\n",
      "11 elex \t\t 0 \t False 0.0\n",
      "12 elab2g \t\t 0 \t False 0.0\n",
      "13 anbi12d \t\t 0 \t False 0.0\n",
      "14 eleq1 \t\t 0 \t False 0.0\n",
      "15 eleq1 \t\t 0 \t False 0.0\n",
      "16 df-in \t\t 0 \t False 0.0\n",
      "17 bi1 \t\t 0 \t False 0.0\n",
      "18 simpl \t\t 0 \t False 0.0\n",
      "19 biimpi \t\t 1 \t False 0.1\n",
      "20 bicomi \t\t 0 \t True 0.8\n",
      "21 bitr4i \t\t 1 \t True 0.9\n",
      "22 3bitri \t\t 0 \t False 0.1\n",
      "23 dfss \t\t 0 \t False 0.1\n",
      "24 eqeq2i \t\t 0 \t False 0.0\n",
      "25 df-in \t\t 0 \t False 0.0\n",
      "26 abeq2 \t\t 0 \t False 0.0\n",
      "27 albii \t\t 0 \t False 0.0\n",
      "28 pm4.71 \t\t 0 \t False 0.0\n",
      "29 ax-1 \t\t 0 \t False 0.0\n",
      "30 syl \t\t 1 \t True 0.9\n",
      "31 alrimi \t\t 1 \t False 0.1\n",
      "32 ax-17 \t\t 0 \t True 0.7\n",
      "33 syl6 \t\t 1 \t True 0.9\n",
      "34 mpd \t\t 1 \t True 0.6\n",
      "35 syl5com \t\t 1 \t True 0.9\n",
      "36 id \t\t 0 \t False 0.0\n",
      "37 syl5com \t\t 1 \t False 0.3\n",
      "38 id \t\t 0 \t False 0.0\n",
      "39 3imtr4g \t\t 1 \t True 1.0\n",
      "40 eximdv \t\t 0 \t False 0.0\n",
      "41 anim2d \t\t 0 \t False 0.0\n",
      "42 19.21bi \t\t 0 \t False 0.0\n",
      "43 biimpi \t\t 0 \t False 0.0\n",
      "44 dfss2 \t\t 0 \t False 0.0\n",
      "45 df-clel \t\t 0 \t False 0.0\n",
      "46 df-clel \t\t 0 \t False 0.0\n",
      "47 a1i \t\t 0 \t False 0.0\n",
      "48 a2i \t\t 1 \t False 0.2\n",
      "49 pm3.2 \t\t 0 \t False 0.0\n",
      "50 biimpri \t\t 0 \t True 0.7\n",
      "51 pm5.21nii \t\t 1 \t True 1.0\n",
      "52 elex \t\t 0 \t False 0.0\n",
      "53 adantl \t\t 0 \t False 0.0\n",
      "54 elex \t\t 0 \t False 0.0\n",
      "55 elab2g \t\t 0 \t False 0.0\n",
      "56 anbi12d \t\t 0 \t False 0.0\n",
      "57 eleq1 \t\t 0 \t False 0.0\n",
      "58 eleq1 \t\t 0 \t False 0.0\n",
      "59 df-in \t\t 0 \t False 0.0\n",
      "60 biimpri \t\t 0 \t False 0.0\n",
      "61 bitr4i \t\t 1 \t True 0.9\n",
      "62 3bitri \t\t 0 \t False 0.2\n",
      "63 dfss \t\t 0 \t False 0.1\n",
      "64 eqeq2i \t\t 0 \t False 0.0\n",
      "65 df-in \t\t 0 \t False 0.0\n",
      "66 abeq2 \t\t 0 \t False 0.0\n",
      "67 albii \t\t 0 \t False 0.1\n",
      "68 pm4.71 \t\t 0 \t False 0.0\n",
      "69 eqss \t\t 0 \t False 0.0\n",
      "70 syl \t\t 1 \t True 0.6\n",
      "71 mpd \t\t 1 \t True 0.7\n",
      "72 syl \t\t 1 \t True 0.7\n",
      "73 biimpi \t\t 0 \t True 0.9\n",
      "74 df-cleq \t\t 1 \t False 0.2\n",
      "75 ax-ext \t\t 0 \t False 0.0\n",
      "76 mpg \t\t 1 \t True 1.0\n",
      "77 ax-5 \t\t 0 \t False 0.0\n",
      "78 syl \t\t 1 \t True 0.8\n",
      "79 impbid \t\t 1 \t False 0.2\n",
      "80 bi2 \t\t 0 \t False 0.2\n",
      "81 bi1 \t\t 0 \t False 0.2\n",
      "82 bi1 \t\t 0 \t False 0.2\n",
      "83 a1i \t\t 0 \t False 0.0\n",
      "84 mpg \t\t 1 \t True 0.9\n",
      "85 ax-5 \t\t 0 \t False 0.0\n",
      "86 mpdan \t\t 1 \t False 0.4\n",
      "87 a1i \t\t 0 \t False 0.0\n",
      "88 simprd \t\t 1 \t True 0.7\n",
      "89 biimpi \t\t 0 \t False 0.1\n",
      "90 pm5.21nii \t\t 1 \t True 1.0\n",
      "91 elex \t\t 0 \t False 0.0\n",
      "92 adantl \t\t 0 \t False 0.0\n",
      "93 elex \t\t 0 \t False 0.0\n",
      "94 elab2g \t\t 0 \t False 0.0\n",
      "95 anbi12d \t\t 0 \t False 0.0\n",
      "96 eleq1 \t\t 0 \t False 0.0\n",
      "97 eleq1 \t\t 0 \t False 0.0\n",
      "98 df-in \t\t 0 \t False 0.0\n",
      "99 imp \t\t 1 \t False 0.5\n",
      "100 imim1 \t\t 0 \t False 0.0\n",
      "101 biimpri \t\t 0 \t False 0.3\n",
      "102 bitr4i \t\t 1 \t True 0.9\n",
      "103 3bitri \t\t 0 \t False 0.0\n",
      "104 dfss \t\t 0 \t False 0.0\n",
      "105 eqeq2i \t\t 0 \t False 0.0\n",
      "106 df-in \t\t 0 \t False 0.0\n",
      "107 abeq2 \t\t 0 \t False 0.0\n",
      "108 albii \t\t 0 \t False 0.0\n",
      "109 pm4.71 \t\t 0 \t False 0.0\n",
      "110 bi3 \t\t 0 \t False 0.0\n"
     ]
    }
   ],
   "source": [
    "print(test_label_123)\n",
    "print()\n",
    "\n",
    "for s, _pred, _prob in zip(props_dict[test_label_123][\"steps\"], tgt_pred, tgt_prob):\n",
    "    print(s[0], s[1], \"\\t\\t\", s[4], \"\\t\", _pred, _prob)"
   ]
  },
  {
   "cell_type": "code",
   "execution_count": 27,
   "id": "3c67a937",
   "metadata": {},
   "outputs": [
    {
     "ename": "NameError",
     "evalue": "name 'tgt_prop' is not defined",
     "output_type": "error",
     "traceback": [
      "\u001b[0;31m---------------------------------------------------------------------------\u001b[0m",
      "\u001b[0;31mNameError\u001b[0m                                 Traceback (most recent call last)",
      "\u001b[0;32m/var/folders/l2/7llyhwlx5nd60gwdz55p43cr0000gn/T/ipykernel_77136/2069452482.py\u001b[0m in \u001b[0;36m<module>\u001b[0;34m\u001b[0m\n\u001b[1;32m      1\u001b[0m \u001b[0mstatement_probs\u001b[0m \u001b[0;34m=\u001b[0m \u001b[0;34m[\u001b[0m\u001b[0;34m]\u001b[0m\u001b[0;34m\u001b[0m\u001b[0;34m\u001b[0m\u001b[0m\n\u001b[1;32m      2\u001b[0m \u001b[0;34m\u001b[0m\u001b[0m\n\u001b[0;32m----> 3\u001b[0;31m \u001b[0;32mfor\u001b[0m \u001b[0ms\u001b[0m\u001b[0;34m,\u001b[0m \u001b[0mpr\u001b[0m\u001b[0;34m,\u001b[0m \u001b[0mgt\u001b[0m \u001b[0;32min\u001b[0m \u001b[0mzip\u001b[0m\u001b[0;34m(\u001b[0m\u001b[0mtgt_prop\u001b[0m\u001b[0;34m[\u001b[0m\u001b[0;34m\"steps\"\u001b[0m\u001b[0;34m]\u001b[0m\u001b[0;34m,\u001b[0m \u001b[0mtgt_pred\u001b[0m\u001b[0;34m,\u001b[0m \u001b[0mtgt_feat_y\u001b[0m\u001b[0;34m)\u001b[0m\u001b[0;34m:\u001b[0m\u001b[0;34m\u001b[0m\u001b[0;34m\u001b[0m\u001b[0m\n\u001b[0m\u001b[1;32m      4\u001b[0m     \u001b[0;32mif\u001b[0m \u001b[0mgt\u001b[0m \u001b[0;34m==\u001b[0m \u001b[0;36m1\u001b[0m\u001b[0;34m:\u001b[0m\u001b[0;34m\u001b[0m\u001b[0;34m\u001b[0m\u001b[0m\n\u001b[1;32m      5\u001b[0m         \u001b[0mstatement_probs\u001b[0m\u001b[0;34m.\u001b[0m\u001b[0mappend\u001b[0m\u001b[0;34m(\u001b[0m\u001b[0;34m(\u001b[0m\u001b[0ms\u001b[0m\u001b[0;34m[\u001b[0m\u001b[0;36m2\u001b[0m\u001b[0;34m]\u001b[0m\u001b[0;34m,\u001b[0m \u001b[0mpr\u001b[0m\u001b[0;34m[\u001b[0m\u001b[0;36m1\u001b[0m\u001b[0;34m]\u001b[0m\u001b[0;34m)\u001b[0m\u001b[0;34m)\u001b[0m\u001b[0;34m\u001b[0m\u001b[0;34m\u001b[0m\u001b[0m\n",
      "\u001b[0;31mNameError\u001b[0m: name 'tgt_prop' is not defined"
     ]
    }
   ],
   "source": [
    "statement_probs = []\n",
    "\n",
    "for s, pr, gt in zip(tgt_prop[\"steps\"], tgt_pred, tgt_feat_y):\n",
    "    if gt == 1:\n",
    "        statement_probs.append((s[2], pr[1]))\n",
    "\n",
    "statement_probs"
   ]
  },
  {
   "cell_type": "code",
   "execution_count": null,
   "id": "dfd83f98",
   "metadata": {},
   "outputs": [],
   "source": [
    "sorted(statement_probs, key=lambda a: a[1])"
   ]
  },
  {
   "cell_type": "markdown",
   "id": "74b8ae50",
   "metadata": {},
   "source": [
    "talvez seja interessante comentar que partir de algo sumarizado para algo mais detalhado eh mais facil apra o estudante do que o contrario do ponto de vista de compreensao ja que para sumarizar para entender melhor o estudante em tese teria ja que ter um dominio do assunto."
   ]
  },
  {
   "cell_type": "markdown",
   "id": "80e4d9d5",
   "metadata": {},
   "source": [
    "preciso verificar porque provavelmente os labels estao vazando por meio da feature number of neighbors because the way we are expnading nodes. Expanding only the first depth will is likely to create a bipartite graph. The proper way to do this is to expand randomly.\n",
    "\n",
    "Another thing is that the way we are working we cannot detect when we are supposed to have one step in between. This is not a big problem because our proposal here is to summarize (reduce size of presentation) of a proof. But nevertheless, it may also be a good idea to work by hidding steps to help our model generalize better and possible \"learn\" how to classify such things."
   ]
  },
  {
   "cell_type": "code",
   "execution_count": null,
   "id": "db33a1e7",
   "metadata": {},
   "outputs": [],
   "source": []
  }
 ],
 "metadata": {
  "kernelspec": {
   "display_name": "Python 3 (ipykernel)",
   "language": "python",
   "name": "python3"
  },
  "language_info": {
   "codemirror_mode": {
    "name": "ipython",
    "version": 3
   },
   "file_extension": ".py",
   "mimetype": "text/x-python",
   "name": "python",
   "nbconvert_exporter": "python",
   "pygments_lexer": "ipython3",
   "version": "3.9.7"
  }
 },
 "nbformat": 4,
 "nbformat_minor": 5
}

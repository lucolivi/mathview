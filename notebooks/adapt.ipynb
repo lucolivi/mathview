{
 "cells": [
  {
   "cell_type": "code",
   "execution_count": 1,
   "metadata": {},
   "outputs": [],
   "source": [
    "from adapt_utils import replace_symbols\n",
    "\n",
    "from tree_parser import *\n",
    "\n",
    "import networkx as nx\n",
    "\n",
    "import matplotlib\n",
    "import matplotlib.pyplot as plt"
   ]
  },
  {
   "cell_type": "code",
   "execution_count": 2,
   "metadata": {},
   "outputs": [
    {
     "name": "stdout",
     "output_type": "stream",
     "text": [
      "('included', 3651590, 'tokens from', 'set.mm')\n",
      "proposition: 3000"
     ]
    }
   ],
   "source": [
    "text = file_contents()\n",
    "database = meta_math_database(text,n=3000)"
   ]
  },
  {
   "cell_type": "code",
   "execution_count": 3,
   "metadata": {},
   "outputs": [],
   "source": [
    "def verify2(prop, db, verbose=False):\n",
    "    tree_graph = list()\n",
    "    # attempt to verify a proof\n",
    "    statement = prop.statement\n",
    "    proof = prop.proof\n",
    "    #print\n",
    "    #print 'proof:',proof\n",
    "\n",
    "    # print some extra stuff for the theorem\n",
    "    #for hyp in prop.hyps:\n",
    "    #    print 'hypothesis', hyp.label, concatonate_to_string(hyp.statement), hyp.tree.stringify()\n",
    "    #print prop.label\n",
    "\n",
    "    proof_steps_stack = [] # this is equivalent to the statement stack, more or less,\n",
    "    statement_stack = []\n",
    "    entails_proof_steps = []\n",
    "\n",
    "    index = 0 # the index into the proof steps.\n",
    "\n",
    "    while index<len(proof):\n",
    "        \n",
    "        for s in statement_stack:\n",
    "            print(replace_symbols(\" \".join(tree_to_string(s,db,prop))))\n",
    "        print(\"\")\n",
    "        #if verbose:\n",
    "         #print(\"oi\")\n",
    "        #print 'statement stack:', [t.stringify() for t in statement_stack]\n",
    "        label = proof[index]\n",
    "\n",
    "        #was this a hypothesis: arity 0\n",
    "        if label in prop.e:\n",
    "            index+=1\n",
    "            statement_stack.append(prop.e[label].tree)\n",
    "            proof_steps_stack.append(proof_step(prop.e[label].tree, prop, prop.e[label], []))\n",
    "            entails_proof_steps.append(proof_steps_stack[-1]) # all e-type statements are entails, I think\n",
    "        elif label in prop.f:\n",
    "            index+=1\n",
    "            statement_stack.append(prop.f[label].tree)\n",
    "            proof_steps_stack.append(proof_step(prop.f[label].tree, prop, prop.f[label], []))\n",
    "\n",
    "        # this is a axiom or proposition\n",
    "        else:\n",
    "            axiom = db.propositions[label] # or proposition\n",
    "            arity = axiom.arity()\n",
    "            if arity>0:\n",
    "                new_statement = axiom.unify(statement_stack[-arity:],prop)\n",
    "                tree_graph.append((label, new_statement, statement_stack[-arity:]))\n",
    "                #print(new_statement)\n",
    "                #if verbose:\n",
    "                    #print(new_statement)\n",
    "                statement_stack = statement_stack[0:-arity]\n",
    "\n",
    "                new_proof_step = proof_step(new_statement, prop, axiom, proof_steps_stack[-arity:])\n",
    "                proof_steps_stack = proof_steps_stack[0:-arity]\n",
    "\n",
    "            else: # deal correctly with the arity 0 propositions\n",
    "                new_statement = axiom.tree\n",
    "                #if verbose:\n",
    "                    #print(new_statement)\n",
    "                new_proof_step = proof_step(axiom.tree, prop, axiom, [])\n",
    "\n",
    "            statement_stack.append(new_statement)\n",
    "            proof_steps_stack.append(new_proof_step)\n",
    "            if axiom.vclass == '|-':\n",
    "                entails_proof_steps.append(new_proof_step)\n",
    "\n",
    "            index+=1\n",
    "            #print 'current stack:',statement_stack\n",
    "\n",
    "    \n",
    "    for s in statement_stack:\n",
    "        print(replace_symbols(\" \".join(tree_to_string(s,db,prop))))\n",
    "    #print([print(tree_to_string_join(s,db,prop)) for s in statement_stack])\n",
    "            \n",
    "    assert len(statement_stack)==1\n",
    "    #print 'statement:', prop.statement\n",
    "    #print 'final proof result:', concatonate_to_string(statement_stack[0])\n",
    "    prop.tree = statement_stack[0]\n",
    "\n",
    "    # This is questionable.  I'm not really sure why it was in here in the first place, or how the\n",
    "    # other systems deal with it.\n",
    "    #prop.entails_proof_steps = entails_proof_steps\n",
    "    prop.entails_proof_steps = [t for t in entails_proof_steps if t.prop.type != 'e']\n",
    "    prop.num_entails_proof_steps = len(prop.entails_proof_steps)\n",
    "\n",
    "    assert statement==[prop.statement[0]]+tree_to_string(prop.tree,db,prop) # The proof returns the desired statement\n",
    "    return tree_graph"
   ]
  },
  {
   "cell_type": "code",
   "execution_count": 4,
   "metadata": {},
   "outputs": [],
   "source": [
    "p = database.propositions[\"dfss2\"]\n",
    "q = database.propositions[\"bitr4i\"]"
   ]
  },
  {
   "cell_type": "code",
   "execution_count": 5,
   "metadata": {},
   "outputs": [
    {
     "data": {
      "text/plain": [
       "'( A C_ B <-> A. x ( x e. A -> x e. B ) )'"
      ]
     },
     "execution_count": 5,
     "metadata": {},
     "output_type": "execute_result"
    }
   ],
   "source": [
    "p.tree.eval(database, p)"
   ]
  },
  {
   "cell_type": "code",
   "execution_count": 6,
   "metadata": {},
   "outputs": [],
   "source": [
    "prop = p\n",
    "db = database\n",
    "\n",
    "tree_graph = list()\n",
    "# attempt to verify a proof\n",
    "statement = prop.statement\n",
    "proof = prop.proof\n",
    "#print\n",
    "#print 'proof:',proof\n",
    "\n",
    "# print some extra stuff for the theorem\n",
    "#for hyp in prop.hyps:\n",
    "#    print 'hypothesis', hyp.label, concatonate_to_string(hyp.statement), hyp.tree.stringify()\n",
    "#print prop.label\n",
    "\n",
    "proof_steps_stack = [] # this is equivalent to the statement stack, more or less,\n",
    "statement_stack = []\n",
    "entails_proof_steps = []\n",
    "\n",
    "index = 0 # the index into the proof steps."
   ]
  },
  {
   "cell_type": "code",
   "execution_count": 7,
   "metadata": {},
   "outputs": [],
   "source": [
    "for _ in range(137):\n",
    "    #print 'statement stack:', [t.stringify() for t in statement_stack]\n",
    "    label = proof[index]\n",
    "\n",
    "    #was this a hypothesis: arity 0\n",
    "    if label in prop.e:\n",
    "        index+=1\n",
    "        statement_stack.append(prop.e[label].tree)\n",
    "        proof_steps_stack.append(proof_step(prop.e[label].tree, prop, prop.e[label], []))\n",
    "        entails_proof_steps.append(proof_steps_stack[-1]) # all e-type statements are entails, I think\n",
    "    elif label in prop.f:\n",
    "        index+=1\n",
    "        statement_stack.append(prop.f[label].tree)\n",
    "        proof_steps_stack.append(proof_step(prop.f[label].tree, prop, prop.f[label], []))\n",
    "\n",
    "    # this is a axiom or proposition\n",
    "    else:\n",
    "        axiom = db.propositions[label] # or proposition\n",
    "        arity = axiom.arity()\n",
    "        if arity>0:\n",
    "            new_statement = axiom.unify(statement_stack[-arity:],prop)\n",
    "            tree_graph.append((label, new_statement, statement_stack[-arity:]))\n",
    "            #print(new_statement)\n",
    "            #if verbose:\n",
    "                #print(new_statement)\n",
    "            statement_stack = statement_stack[0:-arity]\n",
    "\n",
    "            new_proof_step = proof_step(new_statement, prop, axiom, proof_steps_stack[-arity:])\n",
    "            proof_steps_stack = proof_steps_stack[0:-arity]\n",
    "\n",
    "        else: # deal correctly with the arity 0 propositions\n",
    "            new_statement = axiom.tree\n",
    "            #if verbose:\n",
    "                #print(new_statement)\n",
    "            new_proof_step = proof_step(axiom.tree, prop, axiom, [])\n",
    "\n",
    "        statement_stack.append(new_statement)\n",
    "        proof_steps_stack.append(new_proof_step)\n",
    "        if axiom.vclass == '|-':\n",
    "            entails_proof_steps.append(new_proof_step)\n",
    "\n",
    "        index+=1\n",
    "        #print 'current stack:',statement_stack"
   ]
  },
  {
   "cell_type": "code",
   "execution_count": 8,
   "metadata": {},
   "outputs": [
    {
     "name": "stdout",
     "output_type": "stream",
     "text": [
      "A ⊆ B\n",
      "∀ x ( x ∈ A ↔ ( x ∈ A ∧ x ∈ B ) )\n",
      "∀ x ( x ∈ A → x ∈ B )\n",
      "( A ⊆ B ↔ ∀ x ( x ∈ A ↔ ( x ∈ A ∧ x ∈ B ) ) )\n",
      "( ∀ x ( x ∈ A → x ∈ B ) ↔ ∀ x ( x ∈ A ↔ ( x ∈ A ∧ x ∈ B ) ) )\n"
     ]
    }
   ],
   "source": [
    "for ps in proof_steps_stack:\n",
    "    #print(replace_symbols(\" \".join(ps.prop.statement)))\n",
    "    print(replace_symbols(\" \".join(tree_to_string(ps.tree,db, prop))))"
   ]
  },
  {
   "cell_type": "code",
   "execution_count": 13,
   "metadata": {},
   "outputs": [
    {
     "name": "stdout",
     "output_type": "stream",
     "text": [
      "<Tree: wss(cA(),cB())>\n",
      "<Tree: wal(wb(wcel(cv(vx()),cA()),wa(wcel(cv(vx()),cA()),wcel(cv(vx()),cB()))),vx())>\n",
      "<Tree: wal(wi(wcel(cv(vx()),cA()),wcel(cv(vx()),cB())),vx())>\n",
      "<Tree: wb(wss(cA(),cB()),wal(wb(wcel(cv(vx()),cA()),wa(wcel(cv(vx()),cA()),wcel(cv(vx()),cB()))),vx()))>\n",
      "<Tree: wb(wal(wi(wcel(cv(vx()),cA()),wcel(cv(vx()),cB())),vx()),wal(wb(wcel(cv(vx()),cA()),wa(wcel(cv(vx()),cA()),wcel(cv(vx()),cB()))),vx()))>\n"
     ]
    }
   ],
   "source": [
    "for ps in proof_steps_stack:\n",
    "    #print(replace_symbols(\" \".join(ps.prop.statement)))\n",
    "    print ps.tree"
   ]
  },
  {
   "cell_type": "code",
   "execution_count": 43,
   "metadata": {},
   "outputs": [
    {
     "data": {
      "text/plain": [
       "'( A = ( A i^i B ) <-> A = { x | ( x e. A /\\\\ x e. B ) } )'"
      ]
     },
     "execution_count": 43,
     "metadata": {},
     "output_type": "execute_result"
    }
   ],
   "source": [
    "p.entails_proof_steps[2].tree.eval(database,p)"
   ]
  },
  {
   "cell_type": "code",
   "execution_count": 48,
   "metadata": {},
   "outputs": [
    {
     "data": {
      "text/plain": [
       "<Tree: wb(wss(cA(),cB()),wal(wi(wcel(cv(vx()),cA()),wcel(cv(vx()),cB())),vx()))>"
      ]
     },
     "execution_count": 48,
     "metadata": {},
     "output_type": "execute_result"
    }
   ],
   "source": [
    "p.entails_proof_steps[-1].tree"
   ]
  },
  {
   "cell_type": "code",
   "execution_count": 49,
   "metadata": {},
   "outputs": [
    {
     "data": {
      "text/plain": [
       "<Tree: wb(wph(),wch())>"
      ]
     },
     "execution_count": 49,
     "metadata": {},
     "output_type": "execute_result"
    }
   ],
   "source": [
    "p.entails_proof_steps[-1].prop.tree"
   ]
  },
  {
   "cell_type": "code",
   "execution_count": 52,
   "metadata": {},
   "outputs": [
    {
     "data": {
      "text/plain": [
       "<Tree: wb(wps(),wch())>"
      ]
     },
     "execution_count": 52,
     "metadata": {},
     "output_type": "execute_result"
    }
   ],
   "source": [
    "p.entails_proof_steps[-1].prop.entails_proof_steps[0].tree"
   ]
  },
  {
   "cell_type": "code",
   "execution_count": 39,
   "metadata": {},
   "outputs": [
    {
     "data": {
      "text/plain": [
       "'albii'"
      ]
     },
     "execution_count": 39,
     "metadata": {},
     "output_type": "execute_result"
    }
   ],
   "source": [
    "label"
   ]
  },
  {
   "cell_type": "code",
   "execution_count": 40,
   "metadata": {},
   "outputs": [
    {
     "data": {
      "text/plain": [
       "[<Tree: wss(cA(),cB())>,\n",
       " <Tree: wal(wb(wcel(cv(vx()),cA()),wa(wcel(cv(vx()),cA()),wcel(cv(vx()),cB()))),vx())>,\n",
       " <Tree: wal(wi(wcel(cv(vx()),cA()),wcel(cv(vx()),cB())),vx())>,\n",
       " <Tree: wb(wss(cA(),cB()),wal(wb(wcel(cv(vx()),cA()),wa(wcel(cv(vx()),cA()),wcel(cv(vx()),cB()))),vx()))>,\n",
       " <Tree: wb(wal(wi(wcel(cv(vx()),cA()),wcel(cv(vx()),cB())),vx()),wal(wb(wcel(cv(vx()),cA()),wa(wcel(cv(vx()),cA()),wcel(cv(vx()),cB()))),vx()))>]"
      ]
     },
     "execution_count": 40,
     "metadata": {},
     "output_type": "execute_result"
    }
   ],
   "source": [
    "s_stack = list(statement_stack)\n",
    "s_stack"
   ]
  },
  {
   "cell_type": "code",
   "execution_count": 44,
   "metadata": {},
   "outputs": [
    {
     "data": {
      "text/plain": [
       "'( A. x ( x e. A -> x e. B ) <-> A. x ( x e. A <-> ( x e. A /\\\\ x e. B ) ) )'"
      ]
     },
     "execution_count": 44,
     "metadata": {},
     "output_type": "execute_result"
    }
   ],
   "source": [
    "s_stack[-1].eval(database,p)"
   ]
  },
  {
   "cell_type": "code",
   "execution_count": 68,
   "metadata": {},
   "outputs": [
    {
     "data": {
      "text/plain": [
       "'( A. x ( x e. A -> x e. B ) <-> A. x ( x e. A <-> ( x e. A /\\\\ x e. B ) ) )'"
      ]
     },
     "execution_count": 68,
     "metadata": {},
     "output_type": "execute_result"
    }
   ],
   "source": [
    "p.entails_proof_steps[-2].tree.eval(database,p)"
   ]
  },
  {
   "cell_type": "code",
   "execution_count": 104,
   "metadata": {},
   "outputs": [
    {
     "data": {
      "text/plain": [
       "{'wch': <Tree: wal(wi(wcel(cv(vx()),cA()),wcel(cv(vx()),cB())),vx())>,\n",
       " 'wph': <Tree: wss(cA(),cB())>,\n",
       " 'wps': <Tree: wal(wb(wcel(cv(vx()),cA()),wa(wcel(cv(vx()),cA()),wcel(cv(vx()),cB()))),vx())>}"
      ]
     },
     "execution_count": 104,
     "metadata": {},
     "output_type": "execute_result"
    }
   ],
   "source": [
    "rep_dict = {q.hyps[i].label:s_stack[i] for i in range(len(s_stack)) if q.hyps[i].type == \"f\"}\n",
    "rep_dict"
   ]
  },
  {
   "cell_type": "code",
   "execution_count": 113,
   "metadata": {},
   "outputs": [
    {
     "name": "stdout",
     "output_type": "stream",
     "text": [
      "( ∀ x ( x ∈ A ↔ ( x ∈ A ∧ x ∈ B ) ) ↔ ∀ x ( x ∈ A → x ∈ B ) )\n"
     ]
    }
   ],
   "source": [
    "print replace_symbols(q.entails_proof_steps[0].tree.copy().replace(rep_dict).eval(database,p))"
   ]
  },
  {
   "cell_type": "code",
   "execution_count": 110,
   "metadata": {},
   "outputs": [
    {
     "name": "stdout",
     "output_type": "stream",
     "text": [
      "( A ⊆ B ↔ ∀ x ( x ∈ A → x ∈ B ) )\n"
     ]
    }
   ],
   "source": [
    "print replace_symbols(q.entails_proof_steps[1].tree.copy().replace(rep_dict).eval(database,p))"
   ]
  },
  {
   "cell_type": "code",
   "execution_count": 116,
   "metadata": {},
   "outputs": [
    {
     "name": "stdout",
     "output_type": "stream",
     "text": [
      "( ( A ⊆ B ↔ ∀ x ( x ∈ A ↔ ( x ∈ A ∧ x ∈ B ) ) ) → ( ∀ x ( x ∈ A ↔ ( x ∈ A ∧ x ∈ B ) ) ↔ A ⊆ B ) )\n"
     ]
    }
   ],
   "source": [
    "print replace_symbols(q.entails_proof_steps[0].prop.entails_proof_steps[0].tree.copy().replace(rep_dict).eval(database,p))"
   ]
  },
  {
   "cell_type": "code",
   "execution_count": 120,
   "metadata": {},
   "outputs": [
    {
     "data": {
      "text/plain": [
       "<Tree: wb(wss(cA(),cB()),wal(wi(wcel(cv(vx()),cA()),wcel(cv(vx()),cB())),vx()))>"
      ]
     },
     "execution_count": 120,
     "metadata": {},
     "output_type": "execute_result"
    }
   ],
   "source": [
    "p.entails_proof_steps[-1].tree"
   ]
  },
  {
   "cell_type": "code",
   "execution_count": 133,
   "metadata": {},
   "outputs": [
    {
     "data": {
      "text/plain": [
       "'( A. x ( x e. A -> x e. B ) <-> A. x ( x e. A <-> ( x e. A /\\\\ x e. B ) ) )'"
      ]
     },
     "execution_count": 133,
     "metadata": {},
     "output_type": "execute_result"
    }
   ],
   "source": [
    "p.entails_proof_steps[-2].tree.eval(database,p)"
   ]
  },
  {
   "cell_type": "code",
   "execution_count": 129,
   "metadata": {},
   "outputs": [
    {
     "data": {
      "text/plain": [
       "<Tree: wb(wph(),wch())>"
      ]
     },
     "execution_count": 129,
     "metadata": {},
     "output_type": "execute_result"
    }
   ],
   "source": [
    "p.entails_proof_steps[-1].prop.tree"
   ]
  },
  {
   "cell_type": "code",
   "execution_count": 128,
   "metadata": {},
   "outputs": [
    {
     "data": {
      "text/plain": [
       "'A. x ( x e. A <-> ( x e. A /\\\\ x e. B ) )'"
      ]
     },
     "execution_count": 128,
     "metadata": {},
     "output_type": "execute_result"
    }
   ],
   "source": [
    "#p.entails_proof_steps[-1].unconstrained[0].eval(database,p)"
   ]
  },
  {
   "cell_type": "code",
   "execution_count": 153,
   "metadata": {},
   "outputs": [
    {
     "name": "stdout",
     "output_type": "stream",
     "text": [
      "rgen2a\n",
      "rgen2w\n",
      "3mix1i\n",
      "3pm3.2i\n",
      "3mix2i\n",
      "3mix3i\n",
      "wral\n"
     ]
    }
   ],
   "source": [
    "for ppp in database.propositions.values()[:1000]:\n",
    "    if len(ppp.tree.leaves) > 2:\n",
    "        print ppp.label"
   ]
  },
  {
   "cell_type": "code",
   "execution_count": 161,
   "metadata": {},
   "outputs": [
    {
     "data": {
      "text/plain": [
       "[<Tree: wral(wph(),vy(),cA())>, <Tree: vx()>, <Tree: cA()>]"
      ]
     },
     "execution_count": 161,
     "metadata": {},
     "output_type": "execute_result"
    }
   ],
   "source": [
    "database.propositions[\"rgen2a\"].tree.leaves"
   ]
  },
  {
   "cell_type": "code",
   "execution_count": 162,
   "metadata": {},
   "outputs": [
    {
     "data": {
      "text/plain": [
       "[<f_hypothesis wph: wff ph>,\n",
       " <f_hypothesis vx: set x>,\n",
       " <f_hypothesis vy: set y>,\n",
       " <f_hypothesis cA: class A>,\n",
       " <e_hypothesis rgen2a.1: |- |-((xe.A/\\ye.A)->ph)>]"
      ]
     },
     "execution_count": 162,
     "metadata": {},
     "output_type": "execute_result"
    }
   ],
   "source": [
    "database.propositions[\"rgen2a\"].hyps"
   ]
  },
  {
   "cell_type": "code",
   "execution_count": 151,
   "metadata": {},
   "outputs": [
    {
     "data": {
      "text/plain": [
       "[<f_hypothesis wph: wff ph>,\n",
       " <f_hypothesis vx: set x>,\n",
       " <e_hypothesis nex.1: |- |--.ph>]"
      ]
     },
     "execution_count": 151,
     "metadata": {},
     "output_type": "execute_result"
    }
   ],
   "source": [
    "database.propositions[\"nex\"].hyps"
   ]
  },
  {
   "cell_type": "code",
   "execution_count": 149,
   "metadata": {},
   "outputs": [
    {
     "data": {
      "text/plain": [
       "[<Tree: wss(cA(),cB())>,\n",
       " <Tree: wal(wi(wcel(cv(vx()),cA()),wcel(cv(vx()),cB())),vx())>]"
      ]
     },
     "execution_count": 149,
     "metadata": {},
     "output_type": "execute_result"
    }
   ],
   "source": [
    "p.tree.leaves"
   ]
  },
  {
   "cell_type": "code",
   "execution_count": 115,
   "metadata": {},
   "outputs": [
    {
     "data": {
      "text/plain": [
       "<Tree: wi(wb(wph(),wps()),wb(wps(),wph()))>"
      ]
     },
     "execution_count": 115,
     "metadata": {},
     "output_type": "execute_result"
    }
   ],
   "source": [
    "q.entails_proof_steps[0].prop.entails_proof_steps[0].tree"
   ]
  },
  {
   "cell_type": "code",
   "execution_count": 112,
   "metadata": {},
   "outputs": [
    {
     "ename": "KeyError",
     "evalue": "'wph'",
     "output_type": "error",
     "traceback": [
      "\u001b[1;31m---------------------------------------------------------------------------\u001b[0m",
      "\u001b[1;31mKeyError\u001b[0m                                  Traceback (most recent call last)",
      "\u001b[1;32m<ipython-input-112-d1f8ce0808f3>\u001b[0m in \u001b[0;36m<module>\u001b[1;34m()\u001b[0m\n\u001b[1;32m----> 1\u001b[1;33m \u001b[0mq\u001b[0m\u001b[1;33m.\u001b[0m\u001b[0mtree\u001b[0m\u001b[1;33m.\u001b[0m\u001b[0meval\u001b[0m\u001b[1;33m(\u001b[0m\u001b[0mdatabase\u001b[0m\u001b[1;33m,\u001b[0m\u001b[0mp\u001b[0m\u001b[1;33m)\u001b[0m\u001b[1;33m\u001b[0m\u001b[0m\n\u001b[0m",
      "\u001b[1;32mC:\\Users\\Lucas\\Google Drive\\UFABC\\Pesquisa\\AutoProof\\Matutor\\Prototype\\proto\\tree.py\u001b[0m in \u001b[0;36meval\u001b[1;34m(self, database, context)\u001b[0m\n\u001b[0;32m    232\u001b[0m \u001b[1;33m\u001b[0m\u001b[0m\n\u001b[0;32m    233\u001b[0m     \u001b[1;32mdef\u001b[0m \u001b[0meval\u001b[0m\u001b[1;33m(\u001b[0m\u001b[0mself\u001b[0m\u001b[1;33m,\u001b[0m \u001b[0mdatabase\u001b[0m\u001b[1;33m,\u001b[0m \u001b[0mcontext\u001b[0m\u001b[1;33m)\u001b[0m\u001b[1;33m:\u001b[0m\u001b[1;33m\u001b[0m\u001b[0m\n\u001b[1;32m--> 234\u001b[1;33m         \u001b[1;32mreturn\u001b[0m \u001b[1;34m\" \"\u001b[0m\u001b[1;33m.\u001b[0m\u001b[0mjoin\u001b[0m\u001b[1;33m(\u001b[0m\u001b[0mtree_parser\u001b[0m\u001b[1;33m.\u001b[0m\u001b[0mtree_to_string\u001b[0m\u001b[1;33m(\u001b[0m\u001b[0mself\u001b[0m\u001b[1;33m,\u001b[0m \u001b[0mdatabase\u001b[0m\u001b[1;33m,\u001b[0m \u001b[0mcontext\u001b[0m\u001b[1;33m)\u001b[0m\u001b[1;33m)\u001b[0m\u001b[1;33m\u001b[0m\u001b[0m\n\u001b[0m",
      "\u001b[1;32mC:\\Users\\Lucas\\Google Drive\\UFABC\\Pesquisa\\AutoProof\\Matutor\\Prototype\\proto\\tree_parser.pyc\u001b[0m in \u001b[0;36mtree_to_string\u001b[1;34m(tree, database, context)\u001b[0m\n\u001b[0;32m    118\u001b[0m     \u001b[0mprop\u001b[0m \u001b[1;33m=\u001b[0m \u001b[0mdatabase\u001b[0m\u001b[1;33m.\u001b[0m\u001b[0mpropositions\u001b[0m\u001b[1;33m[\u001b[0m\u001b[0mtree\u001b[0m\u001b[1;33m.\u001b[0m\u001b[0mvalue\u001b[0m\u001b[1;33m]\u001b[0m\u001b[1;33m\u001b[0m\u001b[0m\n\u001b[0;32m    119\u001b[0m     \u001b[1;32massert\u001b[0m \u001b[0mlen\u001b[0m\u001b[1;33m(\u001b[0m\u001b[0mtree\u001b[0m\u001b[1;33m.\u001b[0m\u001b[0mleaves\u001b[0m\u001b[1;33m)\u001b[0m\u001b[1;33m==\u001b[0m\u001b[0mlen\u001b[0m\u001b[1;33m(\u001b[0m\u001b[0mprop\u001b[0m\u001b[1;33m.\u001b[0m\u001b[0mhyps\u001b[0m\u001b[1;33m)\u001b[0m\u001b[1;33m\u001b[0m\u001b[0m\n\u001b[1;32m--> 120\u001b[1;33m     \u001b[0mreplacement_dict\u001b[0m \u001b[1;33m=\u001b[0m \u001b[1;33m{\u001b[0m\u001b[0mprop\u001b[0m\u001b[1;33m.\u001b[0m\u001b[0mhyps\u001b[0m\u001b[1;33m[\u001b[0m\u001b[0mi\u001b[0m\u001b[1;33m]\u001b[0m\u001b[1;33m.\u001b[0m\u001b[0mvariable\u001b[0m\u001b[1;33m:\u001b[0m\u001b[0mtree_to_string\u001b[0m\u001b[1;33m(\u001b[0m\u001b[0mtree\u001b[0m\u001b[1;33m.\u001b[0m\u001b[0mleaves\u001b[0m\u001b[1;33m[\u001b[0m\u001b[0mi\u001b[0m\u001b[1;33m]\u001b[0m\u001b[1;33m,\u001b[0m \u001b[0mdatabase\u001b[0m\u001b[1;33m,\u001b[0m \u001b[0mcontext\u001b[0m\u001b[1;33m)\u001b[0m \u001b[1;32mfor\u001b[0m \u001b[0mi\u001b[0m \u001b[1;32min\u001b[0m \u001b[0mrange\u001b[0m\u001b[1;33m(\u001b[0m\u001b[0mlen\u001b[0m\u001b[1;33m(\u001b[0m\u001b[0mprop\u001b[0m\u001b[1;33m.\u001b[0m\u001b[0mhyps\u001b[0m\u001b[1;33m)\u001b[0m\u001b[1;33m)\u001b[0m \u001b[1;32mif\u001b[0m \u001b[0mprop\u001b[0m\u001b[1;33m.\u001b[0m\u001b[0mhyps\u001b[0m\u001b[1;33m[\u001b[0m\u001b[0mi\u001b[0m\u001b[1;33m]\u001b[0m\u001b[1;33m.\u001b[0m\u001b[0mtype\u001b[0m \u001b[1;33m==\u001b[0m \u001b[1;34m\"f\"\u001b[0m\u001b[1;33m}\u001b[0m \u001b[1;31m#find the replacement rules for the variables\u001b[0m\u001b[1;33m\u001b[0m\u001b[0m\n\u001b[0m\u001b[0;32m    121\u001b[0m     \u001b[1;31m#print 'replacement_dict', replacement_dict, 'applied to', prop.statement\u001b[0m\u001b[1;33m\u001b[0m\u001b[1;33m\u001b[0m\u001b[0m\n\u001b[0;32m    122\u001b[0m     \u001b[1;32mreturn\u001b[0m \u001b[0mstring_replace\u001b[0m\u001b[1;33m(\u001b[0m\u001b[0mprop\u001b[0m\u001b[1;33m.\u001b[0m\u001b[0mstatement\u001b[0m\u001b[1;33m[\u001b[0m\u001b[1;36m1\u001b[0m\u001b[1;33m:\u001b[0m\u001b[1;33m]\u001b[0m\u001b[1;33m,\u001b[0m\u001b[0mreplacement_dict\u001b[0m\u001b[1;33m)\u001b[0m\u001b[1;33m\u001b[0m\u001b[0m\n",
      "\u001b[1;32mC:\\Users\\Lucas\\Google Drive\\UFABC\\Pesquisa\\AutoProof\\Matutor\\Prototype\\proto\\tree_parser.pyc\u001b[0m in \u001b[0;36m<dictcomp>\u001b[1;34m((i,))\u001b[0m\n\u001b[0;32m    118\u001b[0m     \u001b[0mprop\u001b[0m \u001b[1;33m=\u001b[0m \u001b[0mdatabase\u001b[0m\u001b[1;33m.\u001b[0m\u001b[0mpropositions\u001b[0m\u001b[1;33m[\u001b[0m\u001b[0mtree\u001b[0m\u001b[1;33m.\u001b[0m\u001b[0mvalue\u001b[0m\u001b[1;33m]\u001b[0m\u001b[1;33m\u001b[0m\u001b[0m\n\u001b[0;32m    119\u001b[0m     \u001b[1;32massert\u001b[0m \u001b[0mlen\u001b[0m\u001b[1;33m(\u001b[0m\u001b[0mtree\u001b[0m\u001b[1;33m.\u001b[0m\u001b[0mleaves\u001b[0m\u001b[1;33m)\u001b[0m\u001b[1;33m==\u001b[0m\u001b[0mlen\u001b[0m\u001b[1;33m(\u001b[0m\u001b[0mprop\u001b[0m\u001b[1;33m.\u001b[0m\u001b[0mhyps\u001b[0m\u001b[1;33m)\u001b[0m\u001b[1;33m\u001b[0m\u001b[0m\n\u001b[1;32m--> 120\u001b[1;33m     \u001b[0mreplacement_dict\u001b[0m \u001b[1;33m=\u001b[0m \u001b[1;33m{\u001b[0m\u001b[0mprop\u001b[0m\u001b[1;33m.\u001b[0m\u001b[0mhyps\u001b[0m\u001b[1;33m[\u001b[0m\u001b[0mi\u001b[0m\u001b[1;33m]\u001b[0m\u001b[1;33m.\u001b[0m\u001b[0mvariable\u001b[0m\u001b[1;33m:\u001b[0m\u001b[0mtree_to_string\u001b[0m\u001b[1;33m(\u001b[0m\u001b[0mtree\u001b[0m\u001b[1;33m.\u001b[0m\u001b[0mleaves\u001b[0m\u001b[1;33m[\u001b[0m\u001b[0mi\u001b[0m\u001b[1;33m]\u001b[0m\u001b[1;33m,\u001b[0m \u001b[0mdatabase\u001b[0m\u001b[1;33m,\u001b[0m \u001b[0mcontext\u001b[0m\u001b[1;33m)\u001b[0m \u001b[1;32mfor\u001b[0m \u001b[0mi\u001b[0m \u001b[1;32min\u001b[0m \u001b[0mrange\u001b[0m\u001b[1;33m(\u001b[0m\u001b[0mlen\u001b[0m\u001b[1;33m(\u001b[0m\u001b[0mprop\u001b[0m\u001b[1;33m.\u001b[0m\u001b[0mhyps\u001b[0m\u001b[1;33m)\u001b[0m\u001b[1;33m)\u001b[0m \u001b[1;32mif\u001b[0m \u001b[0mprop\u001b[0m\u001b[1;33m.\u001b[0m\u001b[0mhyps\u001b[0m\u001b[1;33m[\u001b[0m\u001b[0mi\u001b[0m\u001b[1;33m]\u001b[0m\u001b[1;33m.\u001b[0m\u001b[0mtype\u001b[0m \u001b[1;33m==\u001b[0m \u001b[1;34m\"f\"\u001b[0m\u001b[1;33m}\u001b[0m \u001b[1;31m#find the replacement rules for the variables\u001b[0m\u001b[1;33m\u001b[0m\u001b[0m\n\u001b[0m\u001b[0;32m    121\u001b[0m     \u001b[1;31m#print 'replacement_dict', replacement_dict, 'applied to', prop.statement\u001b[0m\u001b[1;33m\u001b[0m\u001b[1;33m\u001b[0m\u001b[0m\n\u001b[0;32m    122\u001b[0m     \u001b[1;32mreturn\u001b[0m \u001b[0mstring_replace\u001b[0m\u001b[1;33m(\u001b[0m\u001b[0mprop\u001b[0m\u001b[1;33m.\u001b[0m\u001b[0mstatement\u001b[0m\u001b[1;33m[\u001b[0m\u001b[1;36m1\u001b[0m\u001b[1;33m:\u001b[0m\u001b[1;33m]\u001b[0m\u001b[1;33m,\u001b[0m\u001b[0mreplacement_dict\u001b[0m\u001b[1;33m)\u001b[0m\u001b[1;33m\u001b[0m\u001b[0m\n",
      "\u001b[1;32mC:\\Users\\Lucas\\Google Drive\\UFABC\\Pesquisa\\AutoProof\\Matutor\\Prototype\\proto\\tree_parser.pyc\u001b[0m in \u001b[0;36mtree_to_string\u001b[1;34m(tree, database, context)\u001b[0m\n\u001b[0;32m    116\u001b[0m \u001b[1;32mdef\u001b[0m \u001b[0mtree_to_string\u001b[0m\u001b[1;33m(\u001b[0m\u001b[0mtree\u001b[0m\u001b[1;33m,\u001b[0m \u001b[0mdatabase\u001b[0m\u001b[1;33m,\u001b[0m \u001b[0mcontext\u001b[0m\u001b[1;33m)\u001b[0m\u001b[1;33m:\u001b[0m\u001b[1;33m\u001b[0m\u001b[0m\n\u001b[0;32m    117\u001b[0m     \u001b[1;32mif\u001b[0m \u001b[0mtree\u001b[0m\u001b[1;33m.\u001b[0m\u001b[0mvalue\u001b[0m \u001b[1;32min\u001b[0m \u001b[0mcontext\u001b[0m\u001b[1;33m.\u001b[0m\u001b[0mf\u001b[0m\u001b[1;33m:\u001b[0m \u001b[1;32mreturn\u001b[0m \u001b[0mcontext\u001b[0m\u001b[1;33m.\u001b[0m\u001b[0mf\u001b[0m\u001b[1;33m[\u001b[0m\u001b[0mtree\u001b[0m\u001b[1;33m.\u001b[0m\u001b[0mvalue\u001b[0m\u001b[1;33m]\u001b[0m\u001b[1;33m.\u001b[0m\u001b[0mstatement\u001b[0m\u001b[1;33m\u001b[0m\u001b[0m\n\u001b[1;32m--> 118\u001b[1;33m     \u001b[0mprop\u001b[0m \u001b[1;33m=\u001b[0m \u001b[0mdatabase\u001b[0m\u001b[1;33m.\u001b[0m\u001b[0mpropositions\u001b[0m\u001b[1;33m[\u001b[0m\u001b[0mtree\u001b[0m\u001b[1;33m.\u001b[0m\u001b[0mvalue\u001b[0m\u001b[1;33m]\u001b[0m\u001b[1;33m\u001b[0m\u001b[0m\n\u001b[0m\u001b[0;32m    119\u001b[0m     \u001b[1;32massert\u001b[0m \u001b[0mlen\u001b[0m\u001b[1;33m(\u001b[0m\u001b[0mtree\u001b[0m\u001b[1;33m.\u001b[0m\u001b[0mleaves\u001b[0m\u001b[1;33m)\u001b[0m\u001b[1;33m==\u001b[0m\u001b[0mlen\u001b[0m\u001b[1;33m(\u001b[0m\u001b[0mprop\u001b[0m\u001b[1;33m.\u001b[0m\u001b[0mhyps\u001b[0m\u001b[1;33m)\u001b[0m\u001b[1;33m\u001b[0m\u001b[0m\n\u001b[0;32m    120\u001b[0m     \u001b[0mreplacement_dict\u001b[0m \u001b[1;33m=\u001b[0m \u001b[1;33m{\u001b[0m\u001b[0mprop\u001b[0m\u001b[1;33m.\u001b[0m\u001b[0mhyps\u001b[0m\u001b[1;33m[\u001b[0m\u001b[0mi\u001b[0m\u001b[1;33m]\u001b[0m\u001b[1;33m.\u001b[0m\u001b[0mvariable\u001b[0m\u001b[1;33m:\u001b[0m\u001b[0mtree_to_string\u001b[0m\u001b[1;33m(\u001b[0m\u001b[0mtree\u001b[0m\u001b[1;33m.\u001b[0m\u001b[0mleaves\u001b[0m\u001b[1;33m[\u001b[0m\u001b[0mi\u001b[0m\u001b[1;33m]\u001b[0m\u001b[1;33m,\u001b[0m \u001b[0mdatabase\u001b[0m\u001b[1;33m,\u001b[0m \u001b[0mcontext\u001b[0m\u001b[1;33m)\u001b[0m \u001b[1;32mfor\u001b[0m \u001b[0mi\u001b[0m \u001b[1;32min\u001b[0m \u001b[0mrange\u001b[0m\u001b[1;33m(\u001b[0m\u001b[0mlen\u001b[0m\u001b[1;33m(\u001b[0m\u001b[0mprop\u001b[0m\u001b[1;33m.\u001b[0m\u001b[0mhyps\u001b[0m\u001b[1;33m)\u001b[0m\u001b[1;33m)\u001b[0m \u001b[1;32mif\u001b[0m \u001b[0mprop\u001b[0m\u001b[1;33m.\u001b[0m\u001b[0mhyps\u001b[0m\u001b[1;33m[\u001b[0m\u001b[0mi\u001b[0m\u001b[1;33m]\u001b[0m\u001b[1;33m.\u001b[0m\u001b[0mtype\u001b[0m \u001b[1;33m==\u001b[0m \u001b[1;34m\"f\"\u001b[0m\u001b[1;33m}\u001b[0m \u001b[1;31m#find the replacement rules for the variables\u001b[0m\u001b[1;33m\u001b[0m\u001b[0m\n",
      "\u001b[1;31mKeyError\u001b[0m: 'wph'"
     ]
    }
   ],
   "source": [
    "p..tree.eval(database,p)"
   ]
  },
  {
   "cell_type": "code",
   "execution_count": 99,
   "metadata": {},
   "outputs": [
    {
     "data": {
      "text/plain": [
       "<Tree: wb(wps(),wph())>"
      ]
     },
     "execution_count": 99,
     "metadata": {},
     "output_type": "execute_result"
    }
   ],
   "source": [
    "q.entails_proof_steps[0].prop.tree"
   ]
  },
  {
   "cell_type": "code",
   "execution_count": 100,
   "metadata": {},
   "outputs": [
    {
     "data": {
      "text/plain": [
       "[<Tree: wss(cA(),cB())>,\n",
       " <Tree: wal(wb(wcel(cv(vx()),cA()),wa(wcel(cv(vx()),cA()),wcel(cv(vx()),cB()))),vx())>,\n",
       " <Tree: wal(wi(wcel(cv(vx()),cA()),wcel(cv(vx()),cB())),vx())>,\n",
       " <Tree: wb(wss(cA(),cB()),wal(wb(wcel(cv(vx()),cA()),wa(wcel(cv(vx()),cA()),wcel(cv(vx()),cB()))),vx()))>,\n",
       " <Tree: wb(wal(wi(wcel(cv(vx()),cA()),wcel(cv(vx()),cB())),vx()),wal(wb(wcel(cv(vx()),cA()),wa(wcel(cv(vx()),cA()),wcel(cv(vx()),cB()))),vx()))>]"
      ]
     },
     "execution_count": 100,
     "metadata": {},
     "output_type": "execute_result"
    }
   ],
   "source": [
    "s_stack"
   ]
  },
  {
   "cell_type": "code",
   "execution_count": null,
   "metadata": {},
   "outputs": [],
   "source": [
    "copy().replace"
   ]
  },
  {
   "cell_type": "code",
   "execution_count": 91,
   "metadata": {},
   "outputs": [
    {
     "data": {
      "text/plain": [
       "[<f_hypothesis wph: wff ph>,\n",
       " <f_hypothesis wps: wff ps>,\n",
       " <f_hypothesis wch: wff ch>,\n",
       " <e_hypothesis bitr4i.1: |- |-(ph<->ps)>,\n",
       " <e_hypothesis bitr4i.2: |- |-(ch<->ps)>]"
      ]
     },
     "execution_count": 91,
     "metadata": {},
     "output_type": "execute_result"
    }
   ],
   "source": [
    "q.hyps"
   ]
  },
  {
   "cell_type": "code",
   "execution_count": 93,
   "metadata": {},
   "outputs": [
    {
     "data": {
      "text/plain": [
       "[<f_hypothesis wph: wff ph>,\n",
       " <f_hypothesis wps: wff ps>,\n",
       " <e_hypothesis bicomi.1: |- |-(ph<->ps)>]"
      ]
     },
     "execution_count": 93,
     "metadata": {},
     "output_type": "execute_result"
    }
   ],
   "source": [
    "q.entails_proof_steps[0].prop.hyps"
   ]
  },
  {
   "cell_type": "code",
   "execution_count": 69,
   "metadata": {},
   "outputs": [
    {
     "data": {
      "text/plain": [
       "[<f_hypothesis wph: wff ph>,\n",
       " <f_hypothesis wps: wff ps>,\n",
       " <f_hypothesis vx: set x>,\n",
       " <e_hypothesis albii.1: |- |-(ph<->ps)>]"
      ]
     },
     "execution_count": 69,
     "metadata": {},
     "output_type": "execute_result"
    }
   ],
   "source": [
    "p.entails_proof_steps[-2].prop.hyps"
   ]
  },
  {
   "cell_type": "code",
   "execution_count": 71,
   "metadata": {},
   "outputs": [
    {
     "data": {
      "text/plain": [
       "<Tree: wb(wal(wi(wcel(cv(vx()),cA()),wcel(cv(vx()),cB())),vx()),wal(wb(wcel(cv(vx()),cA()),wa(wcel(cv(vx()),cA()),wcel(cv(vx()),cB()))),vx()))>"
      ]
     },
     "execution_count": 71,
     "metadata": {},
     "output_type": "execute_result"
    }
   ],
   "source": [
    "p.entails_proof_steps[-2].tree"
   ]
  },
  {
   "cell_type": "code",
   "execution_count": 64,
   "metadata": {},
   "outputs": [
    {
     "data": {
      "text/plain": [
       "[<f_hypothesis wph: wff ph>,\n",
       " <f_hypothesis wps: wff ps>,\n",
       " <e_hypothesis bicomi.1: |- |-(ph<->ps)>]"
      ]
     },
     "execution_count": 64,
     "metadata": {},
     "output_type": "execute_result"
    }
   ],
   "source": [
    "q.entails_proof_steps[0].prop.hyps"
   ]
  },
  {
   "cell_type": "code",
   "execution_count": 72,
   "metadata": {},
   "outputs": [
    {
     "data": {
      "text/plain": [
       "<Tree: wb(wps(),wch())>"
      ]
     },
     "execution_count": 72,
     "metadata": {},
     "output_type": "execute_result"
    }
   ],
   "source": [
    "q.entails_proof_steps[0].tree"
   ]
  },
  {
   "cell_type": "code",
   "execution_count": 67,
   "metadata": {},
   "outputs": [
    {
     "data": {
      "text/plain": [
       "{'cA': <f_hypothesis cA: class A>,\n",
       " 'cB': <f_hypothesis cB: class B>,\n",
       " 'vx': <f_hypothesis vx: set x>}"
      ]
     },
     "execution_count": 67,
     "metadata": {},
     "output_type": "execute_result"
    }
   ],
   "source": [
    "p.f"
   ]
  },
  {
   "cell_type": "code",
   "execution_count": 52,
   "metadata": {},
   "outputs": [],
   "source": [
    "#p.proof"
   ]
  },
  {
   "cell_type": "code",
   "execution_count": 39,
   "metadata": {},
   "outputs": [
    {
     "name": "stdout",
     "output_type": "stream",
     "text": [
      "A ⊆ B\n",
      "∀ x ( x ∈ A ↔ ( x ∈ A ∧ x ∈ B ) )\n",
      "∀ x ( x ∈ A → x ∈ B )\n",
      "( A ⊆ B ↔ ∀ x ( x ∈ A ↔ ( x ∈ A ∧ x ∈ B ) ) )\n",
      "( ∀ x ( x ∈ A → x ∈ B ) ↔ ∀ x ( x ∈ A ↔ ( x ∈ A ∧ x ∈ B ) ) )\n"
     ]
    }
   ],
   "source": [
    "for t in s_stack:\n",
    "    print(replace_symbols(\" \".join(tree_to_string(t, database, p))))"
   ]
  },
  {
   "cell_type": "code",
   "execution_count": 13,
   "metadata": {},
   "outputs": [
    {
     "data": {
      "text/plain": [
       "<Tree: wb(wss(cA(),cB()),wal(wi(wcel(cv(vx()),cA()),wcel(cv(vx()),cB())),vx()))>"
      ]
     },
     "execution_count": 13,
     "metadata": {},
     "output_type": "execute_result"
    }
   ],
   "source": [
    "q.unify(s_stack,p)"
   ]
  },
  {
   "cell_type": "code",
   "execution_count": 43,
   "metadata": {},
   "outputs": [
    {
     "name": "stdout",
     "output_type": "stream",
     "text": [
      "( A ⊆ B ↔ ∀ x ( x ∈ A → x ∈ B ) )\n"
     ]
    }
   ],
   "source": [
    "print(replace_symbols(\" \".join(tree_to_string(q.unify(s_stack,p), database, p))))"
   ]
  },
  {
   "cell_type": "code",
   "execution_count": 45,
   "metadata": {
    "scrolled": true
   },
   "outputs": [
    {
     "data": {
      "text/plain": [
       "<Tree: wps()>"
      ]
     },
     "execution_count": 45,
     "metadata": {},
     "output_type": "execute_result"
    }
   ],
   "source": [
    "database.propositions[\"ax-mp\"].tree"
   ]
  },
  {
   "cell_type": "code",
   "execution_count": 46,
   "metadata": {},
   "outputs": [
    {
     "data": {
      "text/plain": [
       "[<f_hypothesis wph: wff ph>,\n",
       " <f_hypothesis wps: wff ps>,\n",
       " <e_hypothesis min: |- |-ph>,\n",
       " <e_hypothesis maj: |- |-(ph->ps)>]"
      ]
     },
     "execution_count": 46,
     "metadata": {},
     "output_type": "execute_result"
    }
   ],
   "source": [
    "database.propositions[\"ax-mp\"].hyps"
   ]
  },
  {
   "cell_type": "code",
   "execution_count": 15,
   "metadata": {},
   "outputs": [
    {
     "data": {
      "text/plain": [
       "[<f_hypothesis wph: wff ph>,\n",
       " <f_hypothesis wps: wff ps>,\n",
       " <f_hypothesis wch: wff ch>,\n",
       " <e_hypothesis bitr4i.1: |- |-(ph<->ps)>,\n",
       " <e_hypothesis bitr4i.2: |- |-(ch<->ps)>]"
      ]
     },
     "execution_count": 15,
     "metadata": {},
     "output_type": "execute_result"
    }
   ],
   "source": [
    "q.hyps"
   ]
  },
  {
   "cell_type": "code",
   "execution_count": 35,
   "metadata": {},
   "outputs": [
    {
     "data": {
      "text/plain": [
       "['|-', '(', 'ph', '<->', 'ch', ')']"
      ]
     },
     "execution_count": 35,
     "metadata": {},
     "output_type": "execute_result"
    }
   ],
   "source": [
    "q.statement"
   ]
  },
  {
   "cell_type": "markdown",
   "metadata": {},
   "source": [
    "- Proposition tree leaves shows the variables that need to be set for the proposition\n",
    "- Proposition hyps shows the variables that compose the proposition\n",
    "- So to generate the next proposition we just take the variables that are in the leaves of the proposition itself"
   ]
  },
  {
   "cell_type": "code",
   "execution_count": 34,
   "metadata": {},
   "outputs": [
    {
     "name": "stdout",
     "output_type": "stream",
     "text": [
      "∀ x ( x ∈ A → x ∈ B )\n"
     ]
    }
   ],
   "source": [
    "print replace_symbols(\" \".join(tree_to_string(s_stack[2], database, p)))"
   ]
  },
  {
   "cell_type": "code",
   "execution_count": 37,
   "metadata": {},
   "outputs": [
    {
     "data": {
      "text/plain": [
       "<Tree: wb(wss(cA(),cB()),wal(wi(wcel(cv(vx()),cA()),wcel(cv(vx()),cB())),vx()))>"
      ]
     },
     "execution_count": 37,
     "metadata": {},
     "output_type": "execute_result"
    }
   ],
   "source": [
    "p.tree"
   ]
  },
  {
   "cell_type": "code",
   "execution_count": 16,
   "metadata": {},
   "outputs": [],
   "source": [
    "rep_dict = {q.hyps[i].label:s_stack[i] for i in range(len(s_stack)) if q.hyps[i].type == \"f\"}"
   ]
  },
  {
   "cell_type": "code",
   "execution_count": 17,
   "metadata": {},
   "outputs": [
    {
     "data": {
      "text/plain": [
       "{'wch': <Tree: wal(wi(wcel(cv(vx()),cA()),wcel(cv(vx()),cB())),vx())>,\n",
       " 'wph': <Tree: wss(cA(),cB())>,\n",
       " 'wps': <Tree: wal(wb(wcel(cv(vx()),cA()),wa(wcel(cv(vx()),cA()),wcel(cv(vx()),cB()))),vx())>}"
      ]
     },
     "execution_count": 17,
     "metadata": {},
     "output_type": "execute_result"
    }
   ],
   "source": [
    "rep_dict"
   ]
  },
  {
   "cell_type": "code",
   "execution_count": 26,
   "metadata": {},
   "outputs": [
    {
     "data": {
      "text/plain": [
       "[<Tree: wph()>, <Tree: wch()>]"
      ]
     },
     "execution_count": 26,
     "metadata": {},
     "output_type": "execute_result"
    }
   ],
   "source": [
    "q.tree.leaves"
   ]
  },
  {
   "cell_type": "code",
   "execution_count": 12,
   "metadata": {},
   "outputs": [
    {
     "data": {
      "text/plain": [
       "['wph', 'wps', 'wch', 'bitr4i.1', 'wch', 'wps', 'bitr4i.2', 'bicomi', 'bitri']"
      ]
     },
     "execution_count": 12,
     "metadata": {},
     "output_type": "execute_result"
    }
   ],
   "source": [
    "q.proof"
   ]
  },
  {
   "cell_type": "code",
   "execution_count": 23,
   "metadata": {},
   "outputs": [],
   "source": [
    "saffsa = q.e.values()[0]"
   ]
  },
  {
   "cell_type": "code",
   "execution_count": 24,
   "metadata": {},
   "outputs": [
    {
     "data": {
      "text/plain": [
       "<Tree: wb(wch(),wps())>"
      ]
     },
     "execution_count": 24,
     "metadata": {},
     "output_type": "execute_result"
    }
   ],
   "source": [
    "saffsa.tree"
   ]
  },
  {
   "cell_type": "code",
   "execution_count": 30,
   "metadata": {},
   "outputs": [
    {
     "data": {
      "text/plain": [
       "<e_hypothesis maj: |- |-(ph->ps)>"
      ]
     },
     "execution_count": 30,
     "metadata": {},
     "output_type": "execute_result"
    }
   ],
   "source": [
    "database.propositions[\"ax-mp\"].hyps[-1]"
   ]
  },
  {
   "cell_type": "code",
   "execution_count": 14,
   "metadata": {},
   "outputs": [
    {
     "data": {
      "text/plain": [
       "{'wch': <f_hypothesis wch: wff ch>,\n",
       " 'wph': <f_hypothesis wph: wff ph>,\n",
       " 'wps': <f_hypothesis wps: wff ps>}"
      ]
     },
     "execution_count": 14,
     "metadata": {},
     "output_type": "execute_result"
    }
   ],
   "source": [
    "q.f"
   ]
  },
  {
   "cell_type": "code",
   "execution_count": 18,
   "metadata": {},
   "outputs": [
    {
     "data": {
      "text/plain": [
       "[<f_hypothesis wph: wff ph>,\n",
       " <f_hypothesis wps: wff ps>,\n",
       " <e_hypothesis bicomi.1: |- |-(ph<->ps)>]"
      ]
     },
     "execution_count": 18,
     "metadata": {},
     "output_type": "execute_result"
    }
   ],
   "source": [
    "database.propositions[\"bicomi\"].hyps"
   ]
  },
  {
   "cell_type": "code",
   "execution_count": 33,
   "metadata": {},
   "outputs": [
    {
     "data": {
      "text/plain": [
       "[<f_hypothesis wph: wff ph>, <f_hypothesis wps: wff ps>]"
      ]
     },
     "execution_count": 33,
     "metadata": {},
     "output_type": "execute_result"
    }
   ],
   "source": [
    "database.propositions[\"ax-3\"].hyps"
   ]
  },
  {
   "cell_type": "code",
   "execution_count": 32,
   "metadata": {},
   "outputs": [
    {
     "data": {
      "text/plain": [
       "[<f_hypothesis wph: wff ph>,\n",
       " <f_hypothesis wps: wff ps>,\n",
       " <e_hypothesis min: |- |-ph>,\n",
       " <e_hypothesis maj: |- |-(ph->ps)>]"
      ]
     },
     "execution_count": 32,
     "metadata": {},
     "output_type": "execute_result"
    }
   ],
   "source": [
    "database.propositions[\"ax-mp\"].hyps"
   ]
  },
  {
   "cell_type": "code",
   "execution_count": 34,
   "metadata": {},
   "outputs": [
    {
     "data": {
      "text/plain": [
       "[<f_hypothesis wph: wff ph>, <f_hypothesis wps: wff ps>]"
      ]
     },
     "execution_count": 34,
     "metadata": {},
     "output_type": "execute_result"
    }
   ],
   "source": [
    "database.propositions[\"wi\"].hyps"
   ]
  },
  {
   "cell_type": "markdown",
   "metadata": {},
   "source": [
    "## Objetivo:\n",
    "⊢ (∀𝑥(𝑥 ∈ 𝐴 ↔ (𝑥 ∈ 𝐴 ∧ 𝑥 ∈ 𝐵)) ↔∀𝑥(𝑥 ∈ 𝐴 → 𝑥 ∈ 𝐵))"
   ]
  },
  {
   "cell_type": "code",
   "execution_count": null,
   "metadata": {},
   "outputs": [],
   "source": [
    "( ∀ x ( x ∈ A ↔ ( x ∈ A ∧ x ∈ B ) ) ↔ ∀ x ( x ∈ A → x ∈ B ) )"
   ]
  },
  {
   "cell_type": "code",
   "execution_count": 7,
   "metadata": {},
   "outputs": [
    {
     "name": "stdout",
     "output_type": "stream",
     "text": [
      "|- ( A ⊆ B ↔ ∀ x ( x ∈ A → x ∈ B ) )\n"
     ]
    }
   ],
   "source": [
    "print replace_symbols(\" \".join(p.statement))"
   ]
  },
  {
   "cell_type": "code",
   "execution_count": 9,
   "metadata": {},
   "outputs": [
    {
     "name": "stdout",
     "output_type": "stream",
     "text": [
      "<Tree: wb(wss(cA(),cB()),wal(wi(wcel(cv(vx()),cA()),wcel(cv(vx()),cB())),vx()))>\n",
      "( A C_ B <-> A. x ( x e. A -> x e. B ) )\n"
     ]
    }
   ],
   "source": [
    "print p.tree\n",
    "print p.tree.eval(database, p)"
   ]
  },
  {
   "cell_type": "code",
   "execution_count": 10,
   "metadata": {},
   "outputs": [
    {
     "name": "stdout",
     "output_type": "stream",
     "text": [
      "<Tree: wss(cA(),cB())>\n",
      "A C_ B\n"
     ]
    }
   ],
   "source": [
    "print p.tree.leaves[0]\n",
    "print p.tree.leaves[0].eval(database, p)"
   ]
  },
  {
   "cell_type": "code",
   "execution_count": 11,
   "metadata": {},
   "outputs": [
    {
     "name": "stdout",
     "output_type": "stream",
     "text": [
      "<Tree: wal(wi(wcel(cv(vx()),cA()),wcel(cv(vx()),cB())),vx())>\n",
      "A. x ( x e. A -> x e. B )\n"
     ]
    }
   ],
   "source": [
    "print p.tree.leaves[1]\n",
    "print p.tree.leaves[1].eval(database, p)"
   ]
  },
  {
   "cell_type": "code",
   "execution_count": 84,
   "metadata": {},
   "outputs": [
    {
     "data": {
      "text/plain": [
       "<tree_parser.proof_step instance at 0x00000000210A4108>"
      ]
     },
     "execution_count": 84,
     "metadata": {},
     "output_type": "execute_result"
    }
   ],
   "source": [
    "p.entails_proof_steps[-1]"
   ]
  },
  {
   "cell_type": "code",
   "execution_count": 19,
   "metadata": {},
   "outputs": [],
   "source": [
    "test_tree = q.hyps[-2].tree.copy().replace(rep_dict)"
   ]
  },
  {
   "cell_type": "code",
   "execution_count": 21,
   "metadata": {},
   "outputs": [
    {
     "data": {
      "text/plain": [
       "<Tree: wb(wph(),wps())>"
      ]
     },
     "execution_count": 21,
     "metadata": {},
     "output_type": "execute_result"
    }
   ],
   "source": [
    "q.hyps[-2].tree"
   ]
  },
  {
   "cell_type": "code",
   "execution_count": 20,
   "metadata": {},
   "outputs": [
    {
     "data": {
      "text/plain": [
       "<Tree: wb(wss(cA(),cB()),wal(wb(wcel(cv(vx()),cA()),wa(wcel(cv(vx()),cA()),wcel(cv(vx()),cB()))),vx()))>"
      ]
     },
     "execution_count": 20,
     "metadata": {},
     "output_type": "execute_result"
    }
   ],
   "source": [
    "test_tree"
   ]
  },
  {
   "cell_type": "code",
   "execution_count": 74,
   "metadata": {},
   "outputs": [
    {
     "data": {
      "text/plain": [
       "'wb'"
      ]
     },
     "execution_count": 74,
     "metadata": {},
     "output_type": "execute_result"
    }
   ],
   "source": [
    "q.hyps[-1].tree.value"
   ]
  },
  {
   "cell_type": "code",
   "execution_count": 77,
   "metadata": {},
   "outputs": [
    {
     "data": {
      "text/plain": [
       "<Tree: wb(wal(wi(wcel(cv(vx()),cA()),wcel(cv(vx()),cB())),vx()),wal(wb(wcel(cv(vx()),cA()),wa(wcel(cv(vx()),cA()),wcel(cv(vx()),cB()))),vx()))>"
      ]
     },
     "execution_count": 77,
     "metadata": {},
     "output_type": "execute_result"
    }
   ],
   "source": [
    "s_stack[-1]"
   ]
  },
  {
   "cell_type": "code",
   "execution_count": 81,
   "metadata": {},
   "outputs": [
    {
     "data": {
      "text/plain": [
       "'bicomi'"
      ]
     },
     "execution_count": 81,
     "metadata": {},
     "output_type": "execute_result"
    }
   ],
   "source": [
    "q.entails_proof_steps[0].prop.label"
   ]
  },
  {
   "cell_type": "code",
   "execution_count": 8,
   "metadata": {},
   "outputs": [
    {
     "name": "stdout",
     "output_type": "stream",
     "text": [
      "137/138 - cA, cB, wss, vx, cv, cA, wcel, vx, cv, cA, wcel, vx, cv, cB, wcel, wa, wb, vx, wal, vx, cv, cA, wcel, vx, cv, cB, wcel, wi, vx, wal, cA, cB, wss, cA, cA, cB, cin, wceq, cA, vx, cv, cA, wcel, vx, cv, cB, wcel, wa, vx, cab, wceq, vx, cv, cA, wcel, vx, cv, cA, wcel, vx, cv, cB, wcel, wa, wb, vx, wal, cA, cB, dfss, cA, cB, cin, vx, cv, cA, wcel, vx, cv, cB, wcel, wa, vx, cab, cA, vx, cA, cB, df-in, eqeq2i, vx, cv, cA, wcel, vx, cv, cB, wcel, wa, vx, cA, abeq2, 3bitri, vx, cv, cA, wcel, vx, cv, cB, wcel, wi, vx, cv, cA, wcel, vx, cv, cA, wcel, vx, cv, cB, wcel, wa, wb, vx, vx, cv, cA, wcel, vx, cv, cB, wcel, pm4.71, albii\n"
     ]
    }
   ],
   "source": [
    "print str(index) + \"/\" + str(len(proof)) + \" - \" + \", \".join(proof[:index])"
   ]
  },
  {
   "cell_type": "code",
   "execution_count": 53,
   "metadata": {},
   "outputs": [
    {
     "name": "stdout",
     "output_type": "stream",
     "text": [
      "A ⊆ B\n",
      "∀ x ( x ∈ A ↔ ( x ∈ A ∧ x ∈ B ) )\n",
      "∀ x ( x ∈ A → x ∈ B )\n",
      "( A ⊆ B ↔ ∀ x ( x ∈ A ↔ ( x ∈ A ∧ x ∈ B ) ) )\n",
      "( x ∈ A → x ∈ B )\n",
      "( x ∈ A ↔ ( x ∈ A ∧ x ∈ B ) )\n",
      "x\n",
      "x\n",
      "A\n"
     ]
    }
   ],
   "source": []
  },
  {
   "cell_type": "code",
   "execution_count": 9,
   "metadata": {},
   "outputs": [
    {
     "data": {
      "text/plain": [
       "[<Tree: wss(cA(),cB())>,\n",
       " <Tree: wal(wb(wcel(cv(vx()),cA()),wa(wcel(cv(vx()),cA()),wcel(cv(vx()),cB()))),vx())>,\n",
       " <Tree: wal(wi(wcel(cv(vx()),cA()),wcel(cv(vx()),cB())),vx())>,\n",
       " <Tree: wb(wss(cA(),cB()),wal(wb(wcel(cv(vx()),cA()),wa(wcel(cv(vx()),cA()),wcel(cv(vx()),cB()))),vx()))>,\n",
       " <Tree: wb(wal(wi(wcel(cv(vx()),cA()),wcel(cv(vx()),cB())),vx()),wal(wb(wcel(cv(vx()),cA()),wa(wcel(cv(vx()),cA()),wcel(cv(vx()),cB()))),vx()))>]"
      ]
     },
     "execution_count": 9,
     "metadata": {},
     "output_type": "execute_result"
    }
   ],
   "source": [
    "statement_stack"
   ]
  },
  {
   "cell_type": "code",
   "execution_count": 662,
   "metadata": {},
   "outputs": [
    {
     "data": {
      "text/plain": [
       "['wph',\n",
       " 'wps',\n",
       " 'wb',\n",
       " 'wps',\n",
       " 'wph',\n",
       " 'wb',\n",
       " 'bicomi.1',\n",
       " 'wph',\n",
       " 'wps',\n",
       " 'bicom1',\n",
       " 'ax-mp']"
      ]
     },
     "execution_count": 662,
     "metadata": {},
     "output_type": "execute_result"
    }
   ],
   "source": [
    "database.propositions[\"bicomi\"].proof"
   ]
  },
  {
   "cell_type": "code",
   "execution_count": 673,
   "metadata": {},
   "outputs": [
    {
     "data": {
      "text/plain": [
       "'( A C_ B <-> A. x ( x e. A -> x e. B ) )'"
      ]
     },
     "execution_count": 673,
     "metadata": {},
     "output_type": "execute_result"
    }
   ],
   "source": [
    "\" \".join(tree_to_string(p.entails_proof_steps[-1].tree, database, p))"
   ]
  },
  {
   "cell_type": "code",
   "execution_count": 690,
   "metadata": {},
   "outputs": [
    {
     "data": {
      "text/plain": [
       "'( A C_ B <-> A. x ( x e. A -> x e. B ) )'"
      ]
     },
     "execution_count": 690,
     "metadata": {},
     "output_type": "execute_result"
    }
   ],
   "source": [
    "\" \".join(tree_to_string(p.tree, database, p))"
   ]
  },
  {
   "cell_type": "code",
   "execution_count": 691,
   "metadata": {},
   "outputs": [
    {
     "data": {
      "text/plain": [
       "'( A. x ( x e. A -> x e. B ) <-> A. x ( x e. A <-> ( x e. A /\\\\ x e. B ) ) )'"
      ]
     },
     "execution_count": 691,
     "metadata": {},
     "output_type": "execute_result"
    }
   ],
   "source": [
    "\" \".join(tree_to_string(p.entails_proof_steps[-2].tree, database, p))"
   ]
  },
  {
   "cell_type": "code",
   "execution_count": 683,
   "metadata": {},
   "outputs": [
    {
     "data": {
      "text/plain": [
       "[<Tree: wph()>, <Tree: wch()>]"
      ]
     },
     "execution_count": 683,
     "metadata": {},
     "output_type": "execute_result"
    }
   ],
   "source": [
    "p.entails_proof_steps[-1].prop.tree.leaves"
   ]
  },
  {
   "cell_type": "code",
   "execution_count": 681,
   "metadata": {},
   "outputs": [
    {
     "data": {
      "text/plain": [
       "[<Tree: wss(cA(),cB())>,\n",
       " <Tree: wal(wi(wcel(cv(vx()),cA()),wcel(cv(vx()),cB())),vx())>]"
      ]
     },
     "execution_count": 681,
     "metadata": {},
     "output_type": "execute_result"
    }
   ],
   "source": [
    "p.entails_proof_steps[-1].tree.leaves"
   ]
  },
  {
   "cell_type": "code",
   "execution_count": null,
   "metadata": {},
   "outputs": [],
   "source": [
    "se o negocio so olha as hipoteses do tipo F para criar o replace dict, como ele substitui as outras hipoteses?\n",
    "preciso entender melhor unify e o replace para extender os metodos e manter as arvores originais apra gerar os intermediarios"
   ]
  },
  {
   "cell_type": "code",
   "execution_count": 706,
   "metadata": {},
   "outputs": [
    {
     "data": {
      "text/plain": [
       "[<f_hypothesis wph: wff ph>,\n",
       " <f_hypothesis wps: wff ps>,\n",
       " <f_hypothesis wch: wff ch>,\n",
       " <e_hypothesis bitr4i.1: |- |-(ph<->ps)>,\n",
       " <e_hypothesis bitr4i.2: |- |-(ch<->ps)>]"
      ]
     },
     "execution_count": 706,
     "metadata": {},
     "output_type": "execute_result"
    }
   ],
   "source": [
    "q.hyps"
   ]
  },
  {
   "cell_type": "code",
   "execution_count": 705,
   "metadata": {},
   "outputs": [
    {
     "data": {
      "text/plain": [
       "[<Tree: wph()>, <Tree: wch()>]"
      ]
     },
     "execution_count": 705,
     "metadata": {},
     "output_type": "execute_result"
    }
   ],
   "source": [
    "q.tree.leaves"
   ]
  },
  {
   "cell_type": "code",
   "execution_count": 700,
   "metadata": {},
   "outputs": [
    {
     "data": {
      "text/plain": [
       "<Tree: wb(wss(cA(),cB()),wal(wi(wcel(cv(vx()),cA()),wcel(cv(vx()),cB())),vx()))>"
      ]
     },
     "execution_count": 700,
     "metadata": {},
     "output_type": "execute_result"
    }
   ],
   "source": [
    "p.tree"
   ]
  },
  {
   "cell_type": "code",
   "execution_count": 696,
   "metadata": {},
   "outputs": [
    {
     "data": {
      "text/plain": [
       "[<Tree: wal(wi(wcel(cv(vx()),cA()),wcel(cv(vx()),cB())),vx())>,\n",
       " <Tree: wal(wb(wcel(cv(vx()),cA()),wa(wcel(cv(vx()),cA()),wcel(cv(vx()),cB()))),vx())>]"
      ]
     },
     "execution_count": 696,
     "metadata": {},
     "output_type": "execute_result"
    }
   ],
   "source": [
    "p.entails_proof_steps[-2].tree.leaves"
   ]
  },
  {
   "cell_type": "code",
   "execution_count": 697,
   "metadata": {},
   "outputs": [
    {
     "data": {
      "text/plain": [
       "[<Tree: wi(wcel(cv(vx()),cA()),wcel(cv(vx()),cB()))>,\n",
       " <Tree: wb(wcel(cv(vx()),cA()),wa(wcel(cv(vx()),cA()),wcel(cv(vx()),cB())))>]"
      ]
     },
     "execution_count": 697,
     "metadata": {},
     "output_type": "execute_result"
    }
   ],
   "source": [
    "p.entails_proof_steps[-3].tree.leaves"
   ]
  },
  {
   "cell_type": "code",
   "execution_count": 698,
   "metadata": {},
   "outputs": [
    {
     "data": {
      "text/plain": [
       "[<Tree: wss(cA(),cB())>,\n",
       " <Tree: wal(wb(wcel(cv(vx()),cA()),wa(wcel(cv(vx()),cA()),wcel(cv(vx()),cB()))),vx())>]"
      ]
     },
     "execution_count": 698,
     "metadata": {},
     "output_type": "execute_result"
    }
   ],
   "source": [
    "p.entails_proof_steps[-4].tree.leaves"
   ]
  },
  {
   "cell_type": "code",
   "execution_count": 682,
   "metadata": {},
   "outputs": [],
   "source": [
    "#tree_to_string(database.propositions[\"bitr4i\"].hyps[-1].tree, database, prop)"
   ]
  },
  {
   "cell_type": "code",
   "execution_count": 641,
   "metadata": {},
   "outputs": [
    {
     "data": {
      "text/plain": [
       "[<Tree: wss(cA(),cB())>,\n",
       " <Tree: wal(wb(wcel(cv(vx()),cA()),wa(wcel(cv(vx()),cA()),wcel(cv(vx()),cB()))),vx())>,\n",
       " <Tree: wb(wal(wi(wcel(cv(vx()),cA()),wcel(cv(vx()),cB())),vx()),wal(wb(wcel(cv(vx()),cA()),wa(wcel(cv(vx()),cA()),wcel(cv(vx()),cB()))),vx()))>]"
      ]
     },
     "execution_count": 641,
     "metadata": {},
     "output_type": "execute_result"
    }
   ],
   "source": [
    "statement_stack[0:2] + statement_stack[-1:]"
   ]
  },
  {
   "cell_type": "code",
   "execution_count": 642,
   "metadata": {},
   "outputs": [
    {
     "ename": "AssertionError",
     "evalue": "",
     "output_type": "error",
     "traceback": [
      "\u001b[1;31m---------------------------------------------------------------------------\u001b[0m",
      "\u001b[1;31mAssertionError\u001b[0m                            Traceback (most recent call last)",
      "\u001b[1;32m<ipython-input-642-cf1c5429df0b>\u001b[0m in \u001b[0;36m<module>\u001b[1;34m()\u001b[0m\n\u001b[1;32m----> 1\u001b[1;33m \u001b[0mdatabase\u001b[0m\u001b[1;33m.\u001b[0m\u001b[0mpropositions\u001b[0m\u001b[1;33m[\u001b[0m\u001b[1;34m\"bicomi\"\u001b[0m\u001b[1;33m]\u001b[0m\u001b[1;33m.\u001b[0m\u001b[0munify\u001b[0m\u001b[1;33m(\u001b[0m\u001b[0mstatement_stack\u001b[0m\u001b[1;33m[\u001b[0m\u001b[1;36m0\u001b[0m\u001b[1;33m:\u001b[0m\u001b[1;36m2\u001b[0m\u001b[1;33m]\u001b[0m \u001b[1;33m+\u001b[0m \u001b[0mstatement_stack\u001b[0m\u001b[1;33m[\u001b[0m\u001b[1;33m-\u001b[0m\u001b[1;36m1\u001b[0m\u001b[1;33m:\u001b[0m\u001b[1;33m]\u001b[0m\u001b[1;33m,\u001b[0m \u001b[0mprop\u001b[0m\u001b[1;33m)\u001b[0m\u001b[1;33m\u001b[0m\u001b[0m\n\u001b[0m",
      "\u001b[1;32mC:\\Users\\Lucas\\Google Drive\\UFABC\\Pesquisa\\AutoProof\\Matutor\\Prototype\\proto\\tree_parser.pyc\u001b[0m in \u001b[0;36munify\u001b[1;34m(self, trees, context)\u001b[0m\n\u001b[0;32m    257\u001b[0m                 \u001b[1;31m#print '  replacements:',{label:replacement_dict[label].stringify() for label in replacement_dict}\u001b[0m\u001b[1;33m\u001b[0m\u001b[1;33m\u001b[0m\u001b[0m\n\u001b[0;32m    258\u001b[0m                 \u001b[1;31m#print '  e-hyps', test_tree.stringify(), 'should be', trees[i].stringify()\u001b[0m\u001b[1;33m\u001b[0m\u001b[1;33m\u001b[0m\u001b[0m\n\u001b[1;32m--> 259\u001b[1;33m                 \u001b[1;32massert\u001b[0m \u001b[0mtest_tree\u001b[0m \u001b[1;33m==\u001b[0m \u001b[0mtrees\u001b[0m\u001b[1;33m[\u001b[0m\u001b[0mi\u001b[0m\u001b[1;33m]\u001b[0m\u001b[1;33m\u001b[0m\u001b[0m\n\u001b[0m\u001b[0;32m    260\u001b[0m \u001b[1;33m\u001b[0m\u001b[0m\n\u001b[0;32m    261\u001b[0m         \u001b[1;31m# verify that all the d statements are satisfied\u001b[0m\u001b[1;33m\u001b[0m\u001b[1;33m\u001b[0m\u001b[0m\n",
      "\u001b[1;31mAssertionError\u001b[0m: "
     ]
    }
   ],
   "source": [
    "database.propositions[\"bicomi\"].unify(statement_stack[0:2] + statement_stack[-1:], prop)"
   ]
  },
  {
   "cell_type": "code",
   "execution_count": 628,
   "metadata": {},
   "outputs": [
    {
     "name": "stdout",
     "output_type": "stream",
     "text": [
      "wss\n",
      "wal\n",
      "wal\n",
      "wb\n",
      "wb\n"
     ]
    }
   ],
   "source": [
    "for s in statement_stack:\n",
    "    print(s.value)"
   ]
  },
  {
   "cell_type": "code",
   "execution_count": 629,
   "metadata": {},
   "outputs": [
    {
     "name": "stdout",
     "output_type": "stream",
     "text": [
      "|- ( A ⊆ B ↔ A = ( A ∩ B ) )\n",
      "|- ( A ∩ B ) = { x | ( x ∈ A ∧ x ∈ B ) }\n",
      "|- ( C = A ↔ C = B )\n",
      "|- ( A = { x | ph } ↔ ∀ x ( x ∈ A ↔ ph ) )\n",
      "|- ( ph ↔ th )\n",
      "|- ( ( ph → ps ) ↔ ( ph ↔ ( ph ∧ ps ) ) )\n",
      "|- ( ∀ x ph ↔ ∀ x ps )\n"
     ]
    }
   ],
   "source": [
    "for ps in entails_proof_steps:\n",
    "    print(replace_symbols(\" \".join(ps.prop.statement)))"
   ]
  },
  {
   "cell_type": "code",
   "execution_count": 525,
   "metadata": {},
   "outputs": [
    {
     "data": {
      "text/plain": [
       "'cA, cB, wss, vx, cv, cA, wcel, vx, cv, cA, wcel, vx, cv, cB, wcel, wa, wb, vx, wal, vx, cv, cA, wcel, vx, cv, cB, wcel, wi, vx, wal, cA, cB, wss, cA, cA, cB, cin, wceq, cA, vx, cv, cA, wcel, vx, cv, cB, wcel, wa, vx, cab, wceq, vx, cv, cA, wcel, vx, cv, cA, wcel, vx, cv, cB, wcel, wa, wb, vx, wal, cA, cB, dfss, cA, cB, cin, vx, cv, cA, wcel, vx, cv, cB, wcel, wa, vx, cab, cA, vx, cA, cB, df-in, eqeq2i, vx, cv, cA, wcel, vx, cv, cB, wcel, wa, vx, cA, abeq2, 3bitri, vx, cv, cA, wcel, vx, cv, cB, wcel, wi, vx, cv, cA, wcel, vx, cv, cA, wcel, vx, cv, cB, wcel, wa, wb, vx, vx, cv, cA, wcel, vx, cv, cB, wcel, pm4.71, albii, bitr4i'"
      ]
     },
     "execution_count": 525,
     "metadata": {},
     "output_type": "execute_result"
    }
   ],
   "source": [
    "\", \".join(proof)"
   ]
  },
  {
   "cell_type": "code",
   "execution_count": 527,
   "metadata": {},
   "outputs": [
    {
     "data": {
      "text/plain": [
       "'wph, wps, wch, bitr4i.1, wch, wps, bitr4i.2, bicomi, bitri'"
      ]
     },
     "execution_count": 527,
     "metadata": {},
     "output_type": "execute_result"
    }
   ],
   "source": [
    "\", \".join(database.propositions[\"bitr4i\"].proof)"
   ]
  },
  {
   "cell_type": "code",
   "execution_count": null,
   "metadata": {},
   "outputs": [],
   "source": [
    "need to find how to insert or expand the proof steps of a given theorem"
   ]
  },
  {
   "cell_type": "code",
   "execution_count": 523,
   "metadata": {},
   "outputs": [
    {
     "data": {
      "text/plain": [
       "[<f_hypothesis wph: wff ph>,\n",
       " <f_hypothesis wps: wff ps>,\n",
       " <f_hypothesis wch: wff ch>,\n",
       " <e_hypothesis bitr4i.1: |- |-(ph<->ps)>,\n",
       " <e_hypothesis bitr4i.2: |- |-(ch<->ps)>]"
      ]
     },
     "execution_count": 523,
     "metadata": {},
     "output_type": "execute_result"
    }
   ],
   "source": [
    "database.propositions[\"bitr4i\"].hyps"
   ]
  },
  {
   "cell_type": "code",
   "execution_count": 521,
   "metadata": {},
   "outputs": [
    {
     "data": {
      "text/plain": [
       "[<f_hypothesis wph: wff ph>,\n",
       " <f_hypothesis wps: wff ps>,\n",
       " <e_hypothesis bicomi.1: |- |-(ph<->ps)>]"
      ]
     },
     "execution_count": 521,
     "metadata": {},
     "output_type": "execute_result"
    }
   ],
   "source": [
    "database.propositions[\"bicomi\"].hyps"
   ]
  },
  {
   "cell_type": "code",
   "execution_count": 586,
   "metadata": {},
   "outputs": [
    {
     "data": {
      "text/plain": [
       "[<f_hypothesis wph: wff ph>,\n",
       " <f_hypothesis wps: wff ps>,\n",
       " <f_hypothesis wch: wff ch>,\n",
       " <e_hypothesis bitri.1: |- |-(ph<->ps)>,\n",
       " <e_hypothesis bitri.2: |- |-(ps<->ch)>]"
      ]
     },
     "execution_count": 586,
     "metadata": {},
     "output_type": "execute_result"
    }
   ],
   "source": [
    "database.propositions[\"bitri\"].hyps"
   ]
  },
  {
   "cell_type": "code",
   "execution_count": 585,
   "metadata": {},
   "outputs": [
    {
     "data": {
      "text/plain": [
       "'bitri'"
      ]
     },
     "execution_count": 585,
     "metadata": {},
     "output_type": "execute_result"
    }
   ],
   "source": [
    "database.propositions[\"bitr4i\"].entails_proof_steps[1].prop.label"
   ]
  },
  {
   "cell_type": "code",
   "execution_count": 61,
   "metadata": {},
   "outputs": [],
   "source": [
    "#p.proof = original_proof\n",
    "#original_proof = list(p.proof)\n",
    "#p.proof.append('bitri')\n",
    "#p.proof[-2] = 'bicomi'"
   ]
  },
  {
   "cell_type": "code",
   "execution_count": 114,
   "metadata": {},
   "outputs": [
    {
     "data": {
      "text/plain": [
       "<Tree: wb(wss(cA(),cB()),wal(wi(wcel(cv(vx()),cA()),wcel(cv(vx()),cB())),vx()))>"
      ]
     },
     "execution_count": 114,
     "metadata": {},
     "output_type": "execute_result"
    }
   ],
   "source": [
    "p.tree"
   ]
  },
  {
   "cell_type": "code",
   "execution_count": 118,
   "metadata": {},
   "outputs": [
    {
     "name": "stdout",
     "output_type": "stream",
     "text": [
      "|- ( A ⊆ B ↔ A = ( A ∩ B ) )\n",
      "( A ⊆ B ↔ A = ( A ∩ B ) )\n",
      "\n",
      "|- ( A ∩ B ) = { x | ( x ∈ A ∧ x ∈ B ) }\n",
      "( A ∩ B ) = { x | ( x ∈ A ∧ x ∈ B ) }\n",
      "\n",
      "|- ( C = A ↔ C = B )\n",
      "( A = ( A ∩ B ) ↔ A = { x | ( x ∈ A ∧ x ∈ B ) } )\n",
      "\n",
      "|- ( A = { x | ph } ↔ ∀ x ( x ∈ A ↔ ph ) )\n",
      "( A = { x | ( x ∈ A ∧ x ∈ B ) } ↔ ∀ x ( x ∈ A ↔ ( x ∈ A ∧ x ∈ B ) ) )\n",
      "\n",
      "|- ( ph ↔ th )\n",
      "( A ⊆ B ↔ ∀ x ( x ∈ A ↔ ( x ∈ A ∧ x ∈ B ) ) )\n",
      "\n",
      "|- ( ( ph → ps ) ↔ ( ph ↔ ( ph ∧ ps ) ) )\n",
      "( ( x ∈ A → x ∈ B ) ↔ ( x ∈ A ↔ ( x ∈ A ∧ x ∈ B ) ) )\n",
      "\n",
      "|- ( ∀ x ph ↔ ∀ x ps )\n",
      "( ∀ x ( x ∈ A → x ∈ B ) ↔ ∀ x ( x ∈ A ↔ ( x ∈ A ∧ x ∈ B ) ) )\n",
      "\n",
      "|- ( ph ↔ ch )\n",
      "( A ⊆ B ↔ ∀ x ( x ∈ A → x ∈ B ) )\n",
      "\n"
     ]
    }
   ],
   "source": [
    "for s in p.entails_proof_steps:\n",
    "    print(replace_symbols(\" \".join(s.prop.statement)))\n",
    "    print(replace_symbols(\" \".join(tree_to_string(s.tree, database, p))))\n",
    "    print(\"\")\n",
    "\n",
    "#p.entails_proof_steps[0].context.statement"
   ]
  },
  {
   "cell_type": "code",
   "execution_count": 132,
   "metadata": {},
   "outputs": [
    {
     "name": "stdout",
     "output_type": "stream",
     "text": [
      "∀ x ( x ∈ A ↔ ( x ∈ A ∧ x ∈ B ) )\n"
     ]
    }
   ],
   "source": [
    "print(replace_symbols(\" \".join(tree_to_string(p.entails_proof_steps[-1].unconstrained[0], database, p))))"
   ]
  },
  {
   "cell_type": "code",
   "execution_count": 120,
   "metadata": {},
   "outputs": [
    {
     "name": "stdout",
     "output_type": "stream",
     "text": [
      "dfss\n",
      "df-in\n",
      "eqeq2i\n",
      "abeq2\n",
      "3bitri\n",
      "pm4.71\n",
      "albii\n",
      "bitr4i\n"
     ]
    }
   ],
   "source": [
    "for s in p.entails_proof_steps:\n",
    "    print(s.prop.label)"
   ]
  },
  {
   "cell_type": "code",
   "execution_count": 135,
   "metadata": {},
   "outputs": [
    {
     "data": {
      "text/plain": [
       "[<Tree: wss(cA(),cB())>,\n",
       " <Tree: wal(wi(wcel(cv(vx()),cA()),wcel(cv(vx()),cB())),vx())>]"
      ]
     },
     "execution_count": 135,
     "metadata": {},
     "output_type": "execute_result"
    }
   ],
   "source": [
    "p.entails_proof_steps[-1].tree.leaves"
   ]
  },
  {
   "cell_type": "code",
   "execution_count": 68,
   "metadata": {},
   "outputs": [],
   "source": [
    "def tree_to_string3(tree, database, context):\n",
    "    if tree.value in context.f: return context.f[tree.value].statement\n",
    "    prop = database.propositions[tree.value]\n",
    "    assert len(tree.leaves)==len(prop.hyps)\n",
    "    replacement_dict = {prop.hyps[i].variable:tree_to_string(tree.leaves[i], database, context) for i in range(len(prop.hyps)) if prop.hyps[i].type == \"f\"} #find the replacement rules for the variables\n",
    "    #print 'replacement_dict', replacement_dict, 'applied to', prop.statement\n",
    "    #print(replacement_dict)\n",
    "    #print(prop.statement[1:])\n",
    "    str_r = string_replace(prop.statement[1:],replacement_dict)\n",
    "    #print_statement(str_r)\n",
    "    return str_r"
   ]
  },
  {
   "cell_type": "code",
   "execution_count": 71,
   "metadata": {},
   "outputs": [
    {
     "name": "stdout",
     "output_type": "stream",
     "text": [
      "( A ⊆ B ↔ ∀ x ( x ∈ A → x ∈ B ) )\n"
     ]
    }
   ],
   "source": [
    "print(replace_symbols(\" \".join(tree_to_string3(p.tree,database,p))))"
   ]
  },
  {
   "cell_type": "code",
   "execution_count": 92,
   "metadata": {},
   "outputs": [
    {
     "data": {
      "text/plain": [
       "['wff', 'A', 'e.', 'B']"
      ]
     },
     "execution_count": 92,
     "metadata": {},
     "output_type": "execute_result"
    }
   ],
   "source": [
    "database.propositions['wcel'].statement"
   ]
  },
  {
   "cell_type": "code",
   "execution_count": 91,
   "metadata": {},
   "outputs": [],
   "source": [
    "#It is not storing the theorems in the tree, just the the scheme to generate the proof statements. \n",
    "#It is like a assembly language\n",
    "#The tree is just a parse tree to structure the expression in order for it to be used for other theorems"
   ]
  },
  {
   "cell_type": "code",
   "execution_count": 83,
   "metadata": {},
   "outputs": [
    {
     "data": {
      "text/plain": [
       "[<Tree: wss(cA(),cB())>,\n",
       " <Tree: wal(wi(wcel(cv(vx()),cA()),wcel(cv(vx()),cB())),vx())>]"
      ]
     },
     "execution_count": 83,
     "metadata": {},
     "output_type": "execute_result"
    }
   ],
   "source": [
    "p.tree.leaves"
   ]
  },
  {
   "cell_type": "code",
   "execution_count": 116,
   "metadata": {},
   "outputs": [
    {
     "name": "stdout",
     "output_type": "stream",
     "text": [
      "\n",
      "A\n",
      "\n",
      "A\n",
      "B\n",
      "\n",
      "A ⊆ B\n",
      "\n",
      "A ⊆ B\n",
      "x\n",
      "\n",
      "A ⊆ B\n",
      "x\n",
      "\n",
      "A ⊆ B\n",
      "x\n",
      "A\n",
      "\n",
      "A ⊆ B\n",
      "x ∈ A\n",
      "\n",
      "A ⊆ B\n",
      "x ∈ A\n",
      "x\n",
      "\n",
      "A ⊆ B\n",
      "x ∈ A\n",
      "x\n",
      "\n",
      "A ⊆ B\n",
      "x ∈ A\n",
      "x\n",
      "A\n",
      "\n",
      "A ⊆ B\n",
      "x ∈ A\n",
      "x ∈ A\n",
      "\n",
      "A ⊆ B\n",
      "x ∈ A\n",
      "x ∈ A\n",
      "x\n",
      "\n",
      "A ⊆ B\n",
      "x ∈ A\n",
      "x ∈ A\n",
      "x\n",
      "\n",
      "A ⊆ B\n",
      "x ∈ A\n",
      "x ∈ A\n",
      "x\n",
      "B\n",
      "\n",
      "A ⊆ B\n",
      "x ∈ A\n",
      "x ∈ A\n",
      "x ∈ B\n",
      "\n",
      "A ⊆ B\n",
      "x ∈ A\n",
      "( x ∈ A ∧ x ∈ B )\n",
      "\n",
      "A ⊆ B\n",
      "( x ∈ A ↔ ( x ∈ A ∧ x ∈ B ) )\n",
      "\n",
      "A ⊆ B\n",
      "( x ∈ A ↔ ( x ∈ A ∧ x ∈ B ) )\n",
      "x\n",
      "\n",
      "A ⊆ B\n",
      "∀ x ( x ∈ A ↔ ( x ∈ A ∧ x ∈ B ) )\n",
      "\n",
      "A ⊆ B\n",
      "∀ x ( x ∈ A ↔ ( x ∈ A ∧ x ∈ B ) )\n",
      "x\n",
      "\n",
      "A ⊆ B\n",
      "∀ x ( x ∈ A ↔ ( x ∈ A ∧ x ∈ B ) )\n",
      "x\n",
      "\n",
      "A ⊆ B\n",
      "∀ x ( x ∈ A ↔ ( x ∈ A ∧ x ∈ B ) )\n",
      "x\n",
      "A\n",
      "\n",
      "A ⊆ B\n",
      "∀ x ( x ∈ A ↔ ( x ∈ A ∧ x ∈ B ) )\n",
      "x ∈ A\n",
      "\n",
      "A ⊆ B\n",
      "∀ x ( x ∈ A ↔ ( x ∈ A ∧ x ∈ B ) )\n",
      "x ∈ A\n",
      "x\n",
      "\n",
      "A ⊆ B\n",
      "∀ x ( x ∈ A ↔ ( x ∈ A ∧ x ∈ B ) )\n",
      "x ∈ A\n",
      "x\n",
      "\n",
      "A ⊆ B\n",
      "∀ x ( x ∈ A ↔ ( x ∈ A ∧ x ∈ B ) )\n",
      "x ∈ A\n",
      "x\n",
      "B\n",
      "\n",
      "A ⊆ B\n",
      "∀ x ( x ∈ A ↔ ( x ∈ A ∧ x ∈ B ) )\n",
      "x ∈ A\n",
      "x ∈ B\n",
      "\n",
      "A ⊆ B\n",
      "∀ x ( x ∈ A ↔ ( x ∈ A ∧ x ∈ B ) )\n",
      "( x ∈ A → x ∈ B )\n",
      "\n",
      "A ⊆ B\n",
      "∀ x ( x ∈ A ↔ ( x ∈ A ∧ x ∈ B ) )\n",
      "( x ∈ A → x ∈ B )\n",
      "x\n",
      "\n",
      "A ⊆ B\n",
      "∀ x ( x ∈ A ↔ ( x ∈ A ∧ x ∈ B ) )\n",
      "∀ x ( x ∈ A → x ∈ B )\n",
      "\n",
      "A ⊆ B\n",
      "∀ x ( x ∈ A ↔ ( x ∈ A ∧ x ∈ B ) )\n",
      "∀ x ( x ∈ A → x ∈ B )\n",
      "A\n",
      "\n",
      "A ⊆ B\n",
      "∀ x ( x ∈ A ↔ ( x ∈ A ∧ x ∈ B ) )\n",
      "∀ x ( x ∈ A → x ∈ B )\n",
      "A\n",
      "B\n",
      "\n",
      "A ⊆ B\n",
      "∀ x ( x ∈ A ↔ ( x ∈ A ∧ x ∈ B ) )\n",
      "∀ x ( x ∈ A → x ∈ B )\n",
      "A ⊆ B\n",
      "\n",
      "A ⊆ B\n",
      "∀ x ( x ∈ A ↔ ( x ∈ A ∧ x ∈ B ) )\n",
      "∀ x ( x ∈ A → x ∈ B )\n",
      "A ⊆ B\n",
      "A\n",
      "\n",
      "A ⊆ B\n",
      "∀ x ( x ∈ A ↔ ( x ∈ A ∧ x ∈ B ) )\n",
      "∀ x ( x ∈ A → x ∈ B )\n",
      "A ⊆ B\n",
      "A\n",
      "A\n",
      "\n",
      "A ⊆ B\n",
      "∀ x ( x ∈ A ↔ ( x ∈ A ∧ x ∈ B ) )\n",
      "∀ x ( x ∈ A → x ∈ B )\n",
      "A ⊆ B\n",
      "A\n",
      "A\n",
      "B\n",
      "\n",
      "A ⊆ B\n",
      "∀ x ( x ∈ A ↔ ( x ∈ A ∧ x ∈ B ) )\n",
      "∀ x ( x ∈ A → x ∈ B )\n",
      "A ⊆ B\n",
      "A\n",
      "( A ∩ B )\n",
      "\n",
      "A ⊆ B\n",
      "∀ x ( x ∈ A ↔ ( x ∈ A ∧ x ∈ B ) )\n",
      "∀ x ( x ∈ A → x ∈ B )\n",
      "A ⊆ B\n",
      "A = ( A ∩ B )\n",
      "\n",
      "A ⊆ B\n",
      "∀ x ( x ∈ A ↔ ( x ∈ A ∧ x ∈ B ) )\n",
      "∀ x ( x ∈ A → x ∈ B )\n",
      "A ⊆ B\n",
      "A = ( A ∩ B )\n",
      "A\n",
      "\n",
      "A ⊆ B\n",
      "∀ x ( x ∈ A ↔ ( x ∈ A ∧ x ∈ B ) )\n",
      "∀ x ( x ∈ A → x ∈ B )\n",
      "A ⊆ B\n",
      "A = ( A ∩ B )\n",
      "A\n",
      "x\n",
      "\n",
      "A ⊆ B\n",
      "∀ x ( x ∈ A ↔ ( x ∈ A ∧ x ∈ B ) )\n",
      "∀ x ( x ∈ A → x ∈ B )\n",
      "A ⊆ B\n",
      "A = ( A ∩ B )\n",
      "A\n",
      "x\n",
      "\n",
      "A ⊆ B\n",
      "∀ x ( x ∈ A ↔ ( x ∈ A ∧ x ∈ B ) )\n",
      "∀ x ( x ∈ A → x ∈ B )\n",
      "A ⊆ B\n",
      "A = ( A ∩ B )\n",
      "A\n",
      "x\n",
      "A\n",
      "\n",
      "A ⊆ B\n",
      "∀ x ( x ∈ A ↔ ( x ∈ A ∧ x ∈ B ) )\n",
      "∀ x ( x ∈ A → x ∈ B )\n",
      "A ⊆ B\n",
      "A = ( A ∩ B )\n",
      "A\n",
      "x ∈ A\n",
      "\n",
      "A ⊆ B\n",
      "∀ x ( x ∈ A ↔ ( x ∈ A ∧ x ∈ B ) )\n",
      "∀ x ( x ∈ A → x ∈ B )\n",
      "A ⊆ B\n",
      "A = ( A ∩ B )\n",
      "A\n",
      "x ∈ A\n",
      "x\n",
      "\n",
      "A ⊆ B\n",
      "∀ x ( x ∈ A ↔ ( x ∈ A ∧ x ∈ B ) )\n",
      "∀ x ( x ∈ A → x ∈ B )\n",
      "A ⊆ B\n",
      "A = ( A ∩ B )\n",
      "A\n",
      "x ∈ A\n",
      "x\n",
      "\n",
      "A ⊆ B\n",
      "∀ x ( x ∈ A ↔ ( x ∈ A ∧ x ∈ B ) )\n",
      "∀ x ( x ∈ A → x ∈ B )\n",
      "A ⊆ B\n",
      "A = ( A ∩ B )\n",
      "A\n",
      "x ∈ A\n",
      "x\n",
      "B\n",
      "\n",
      "A ⊆ B\n",
      "∀ x ( x ∈ A ↔ ( x ∈ A ∧ x ∈ B ) )\n",
      "∀ x ( x ∈ A → x ∈ B )\n",
      "A ⊆ B\n",
      "A = ( A ∩ B )\n",
      "A\n",
      "x ∈ A\n",
      "x ∈ B\n",
      "\n",
      "A ⊆ B\n",
      "∀ x ( x ∈ A ↔ ( x ∈ A ∧ x ∈ B ) )\n",
      "∀ x ( x ∈ A → x ∈ B )\n",
      "A ⊆ B\n",
      "A = ( A ∩ B )\n",
      "A\n",
      "( x ∈ A ∧ x ∈ B )\n",
      "\n",
      "A ⊆ B\n",
      "∀ x ( x ∈ A ↔ ( x ∈ A ∧ x ∈ B ) )\n",
      "∀ x ( x ∈ A → x ∈ B )\n",
      "A ⊆ B\n",
      "A = ( A ∩ B )\n",
      "A\n",
      "( x ∈ A ∧ x ∈ B )\n",
      "x\n",
      "\n",
      "A ⊆ B\n",
      "∀ x ( x ∈ A ↔ ( x ∈ A ∧ x ∈ B ) )\n",
      "∀ x ( x ∈ A → x ∈ B )\n",
      "A ⊆ B\n",
      "A = ( A ∩ B )\n",
      "A\n",
      "{ x | ( x ∈ A ∧ x ∈ B ) }\n",
      "\n",
      "A ⊆ B\n",
      "∀ x ( x ∈ A ↔ ( x ∈ A ∧ x ∈ B ) )\n",
      "∀ x ( x ∈ A → x ∈ B )\n",
      "A ⊆ B\n",
      "A = ( A ∩ B )\n",
      "A = { x | ( x ∈ A ∧ x ∈ B ) }\n",
      "\n",
      "A ⊆ B\n",
      "∀ x ( x ∈ A ↔ ( x ∈ A ∧ x ∈ B ) )\n",
      "∀ x ( x ∈ A → x ∈ B )\n",
      "A ⊆ B\n",
      "A = ( A ∩ B )\n",
      "A = { x | ( x ∈ A ∧ x ∈ B ) }\n",
      "x\n",
      "\n",
      "A ⊆ B\n",
      "∀ x ( x ∈ A ↔ ( x ∈ A ∧ x ∈ B ) )\n",
      "∀ x ( x ∈ A → x ∈ B )\n",
      "A ⊆ B\n",
      "A = ( A ∩ B )\n",
      "A = { x | ( x ∈ A ∧ x ∈ B ) }\n",
      "x\n",
      "\n",
      "A ⊆ B\n",
      "∀ x ( x ∈ A ↔ ( x ∈ A ∧ x ∈ B ) )\n",
      "∀ x ( x ∈ A → x ∈ B )\n",
      "A ⊆ B\n",
      "A = ( A ∩ B )\n",
      "A = { x | ( x ∈ A ∧ x ∈ B ) }\n",
      "x\n",
      "A\n",
      "\n",
      "A ⊆ B\n",
      "∀ x ( x ∈ A ↔ ( x ∈ A ∧ x ∈ B ) )\n",
      "∀ x ( x ∈ A → x ∈ B )\n",
      "A ⊆ B\n",
      "A = ( A ∩ B )\n",
      "A = { x | ( x ∈ A ∧ x ∈ B ) }\n",
      "x ∈ A\n",
      "\n",
      "A ⊆ B\n",
      "∀ x ( x ∈ A ↔ ( x ∈ A ∧ x ∈ B ) )\n",
      "∀ x ( x ∈ A → x ∈ B )\n",
      "A ⊆ B\n",
      "A = ( A ∩ B )\n",
      "A = { x | ( x ∈ A ∧ x ∈ B ) }\n",
      "x ∈ A\n",
      "x\n",
      "\n",
      "A ⊆ B\n",
      "∀ x ( x ∈ A ↔ ( x ∈ A ∧ x ∈ B ) )\n",
      "∀ x ( x ∈ A → x ∈ B )\n",
      "A ⊆ B\n",
      "A = ( A ∩ B )\n",
      "A = { x | ( x ∈ A ∧ x ∈ B ) }\n",
      "x ∈ A\n",
      "x\n",
      "\n",
      "A ⊆ B\n",
      "∀ x ( x ∈ A ↔ ( x ∈ A ∧ x ∈ B ) )\n",
      "∀ x ( x ∈ A → x ∈ B )\n",
      "A ⊆ B\n",
      "A = ( A ∩ B )\n",
      "A = { x | ( x ∈ A ∧ x ∈ B ) }\n",
      "x ∈ A\n",
      "x\n",
      "A\n",
      "\n",
      "A ⊆ B\n",
      "∀ x ( x ∈ A ↔ ( x ∈ A ∧ x ∈ B ) )\n",
      "∀ x ( x ∈ A → x ∈ B )\n",
      "A ⊆ B\n",
      "A = ( A ∩ B )\n",
      "A = { x | ( x ∈ A ∧ x ∈ B ) }\n",
      "x ∈ A\n",
      "x ∈ A\n",
      "\n",
      "A ⊆ B\n",
      "∀ x ( x ∈ A ↔ ( x ∈ A ∧ x ∈ B ) )\n",
      "∀ x ( x ∈ A → x ∈ B )\n",
      "A ⊆ B\n",
      "A = ( A ∩ B )\n",
      "A = { x | ( x ∈ A ∧ x ∈ B ) }\n",
      "x ∈ A\n",
      "x ∈ A\n",
      "x\n",
      "\n",
      "A ⊆ B\n",
      "∀ x ( x ∈ A ↔ ( x ∈ A ∧ x ∈ B ) )\n",
      "∀ x ( x ∈ A → x ∈ B )\n",
      "A ⊆ B\n",
      "A = ( A ∩ B )\n",
      "A = { x | ( x ∈ A ∧ x ∈ B ) }\n",
      "x ∈ A\n",
      "x ∈ A\n",
      "x\n",
      "\n",
      "A ⊆ B\n",
      "∀ x ( x ∈ A ↔ ( x ∈ A ∧ x ∈ B ) )\n",
      "∀ x ( x ∈ A → x ∈ B )\n",
      "A ⊆ B\n",
      "A = ( A ∩ B )\n",
      "A = { x | ( x ∈ A ∧ x ∈ B ) }\n",
      "x ∈ A\n",
      "x ∈ A\n",
      "x\n",
      "B\n",
      "\n",
      "A ⊆ B\n",
      "∀ x ( x ∈ A ↔ ( x ∈ A ∧ x ∈ B ) )\n",
      "∀ x ( x ∈ A → x ∈ B )\n",
      "A ⊆ B\n",
      "A = ( A ∩ B )\n",
      "A = { x | ( x ∈ A ∧ x ∈ B ) }\n",
      "x ∈ A\n",
      "x ∈ A\n",
      "x ∈ B\n",
      "\n",
      "A ⊆ B\n",
      "∀ x ( x ∈ A ↔ ( x ∈ A ∧ x ∈ B ) )\n",
      "∀ x ( x ∈ A → x ∈ B )\n",
      "A ⊆ B\n",
      "A = ( A ∩ B )\n",
      "A = { x | ( x ∈ A ∧ x ∈ B ) }\n",
      "x ∈ A\n",
      "( x ∈ A ∧ x ∈ B )\n",
      "\n",
      "A ⊆ B\n",
      "∀ x ( x ∈ A ↔ ( x ∈ A ∧ x ∈ B ) )\n",
      "∀ x ( x ∈ A → x ∈ B )\n",
      "A ⊆ B\n",
      "A = ( A ∩ B )\n",
      "A = { x | ( x ∈ A ∧ x ∈ B ) }\n",
      "( x ∈ A ↔ ( x ∈ A ∧ x ∈ B ) )\n",
      "\n",
      "A ⊆ B\n",
      "∀ x ( x ∈ A ↔ ( x ∈ A ∧ x ∈ B ) )\n",
      "∀ x ( x ∈ A → x ∈ B )\n",
      "A ⊆ B\n",
      "A = ( A ∩ B )\n",
      "A = { x | ( x ∈ A ∧ x ∈ B ) }\n",
      "( x ∈ A ↔ ( x ∈ A ∧ x ∈ B ) )\n",
      "x\n",
      "\n",
      "A ⊆ B\n",
      "∀ x ( x ∈ A ↔ ( x ∈ A ∧ x ∈ B ) )\n",
      "∀ x ( x ∈ A → x ∈ B )\n",
      "A ⊆ B\n",
      "A = ( A ∩ B )\n",
      "A = { x | ( x ∈ A ∧ x ∈ B ) }\n",
      "∀ x ( x ∈ A ↔ ( x ∈ A ∧ x ∈ B ) )\n",
      "\n",
      "A ⊆ B\n",
      "∀ x ( x ∈ A ↔ ( x ∈ A ∧ x ∈ B ) )\n",
      "∀ x ( x ∈ A → x ∈ B )\n",
      "A ⊆ B\n",
      "A = ( A ∩ B )\n",
      "A = { x | ( x ∈ A ∧ x ∈ B ) }\n",
      "∀ x ( x ∈ A ↔ ( x ∈ A ∧ x ∈ B ) )\n",
      "A\n",
      "\n",
      "A ⊆ B\n",
      "∀ x ( x ∈ A ↔ ( x ∈ A ∧ x ∈ B ) )\n",
      "∀ x ( x ∈ A → x ∈ B )\n",
      "A ⊆ B\n",
      "A = ( A ∩ B )\n",
      "A = { x | ( x ∈ A ∧ x ∈ B ) }\n",
      "∀ x ( x ∈ A ↔ ( x ∈ A ∧ x ∈ B ) )\n",
      "A\n",
      "B\n",
      "\n",
      "A ⊆ B\n",
      "∀ x ( x ∈ A ↔ ( x ∈ A ∧ x ∈ B ) )\n",
      "∀ x ( x ∈ A → x ∈ B )\n",
      "A ⊆ B\n",
      "A = ( A ∩ B )\n",
      "A = { x | ( x ∈ A ∧ x ∈ B ) }\n",
      "∀ x ( x ∈ A ↔ ( x ∈ A ∧ x ∈ B ) )\n",
      "( A ⊆ B ↔ A = ( A ∩ B ) )\n",
      "\n",
      "A ⊆ B\n",
      "∀ x ( x ∈ A ↔ ( x ∈ A ∧ x ∈ B ) )\n",
      "∀ x ( x ∈ A → x ∈ B )\n",
      "A ⊆ B\n",
      "A = ( A ∩ B )\n",
      "A = { x | ( x ∈ A ∧ x ∈ B ) }\n",
      "∀ x ( x ∈ A ↔ ( x ∈ A ∧ x ∈ B ) )\n",
      "( A ⊆ B ↔ A = ( A ∩ B ) )\n",
      "A\n",
      "\n",
      "A ⊆ B\n",
      "∀ x ( x ∈ A ↔ ( x ∈ A ∧ x ∈ B ) )\n",
      "∀ x ( x ∈ A → x ∈ B )\n",
      "A ⊆ B\n",
      "A = ( A ∩ B )\n",
      "A = { x | ( x ∈ A ∧ x ∈ B ) }\n",
      "∀ x ( x ∈ A ↔ ( x ∈ A ∧ x ∈ B ) )\n",
      "( A ⊆ B ↔ A = ( A ∩ B ) )\n",
      "A\n",
      "B\n",
      "\n",
      "A ⊆ B\n",
      "∀ x ( x ∈ A ↔ ( x ∈ A ∧ x ∈ B ) )\n",
      "∀ x ( x ∈ A → x ∈ B )\n",
      "A ⊆ B\n",
      "A = ( A ∩ B )\n",
      "A = { x | ( x ∈ A ∧ x ∈ B ) }\n",
      "∀ x ( x ∈ A ↔ ( x ∈ A ∧ x ∈ B ) )\n",
      "( A ⊆ B ↔ A = ( A ∩ B ) )\n",
      "( A ∩ B )\n",
      "\n",
      "A ⊆ B\n",
      "∀ x ( x ∈ A ↔ ( x ∈ A ∧ x ∈ B ) )\n",
      "∀ x ( x ∈ A → x ∈ B )\n",
      "A ⊆ B\n",
      "A = ( A ∩ B )\n",
      "A = { x | ( x ∈ A ∧ x ∈ B ) }\n",
      "∀ x ( x ∈ A ↔ ( x ∈ A ∧ x ∈ B ) )\n",
      "( A ⊆ B ↔ A = ( A ∩ B ) )\n",
      "( A ∩ B )\n",
      "x\n",
      "\n",
      "A ⊆ B\n",
      "∀ x ( x ∈ A ↔ ( x ∈ A ∧ x ∈ B ) )\n",
      "∀ x ( x ∈ A → x ∈ B )\n",
      "A ⊆ B\n",
      "A = ( A ∩ B )\n",
      "A = { x | ( x ∈ A ∧ x ∈ B ) }\n",
      "∀ x ( x ∈ A ↔ ( x ∈ A ∧ x ∈ B ) )\n",
      "( A ⊆ B ↔ A = ( A ∩ B ) )\n",
      "( A ∩ B )\n",
      "x\n",
      "\n",
      "A ⊆ B\n",
      "∀ x ( x ∈ A ↔ ( x ∈ A ∧ x ∈ B ) )\n",
      "∀ x ( x ∈ A → x ∈ B )\n",
      "A ⊆ B\n",
      "A = ( A ∩ B )\n",
      "A = { x | ( x ∈ A ∧ x ∈ B ) }\n",
      "∀ x ( x ∈ A ↔ ( x ∈ A ∧ x ∈ B ) )\n",
      "( A ⊆ B ↔ A = ( A ∩ B ) )\n",
      "( A ∩ B )\n",
      "x\n",
      "A\n",
      "\n",
      "A ⊆ B\n",
      "∀ x ( x ∈ A ↔ ( x ∈ A ∧ x ∈ B ) )\n",
      "∀ x ( x ∈ A → x ∈ B )\n",
      "A ⊆ B\n",
      "A = ( A ∩ B )\n",
      "A = { x | ( x ∈ A ∧ x ∈ B ) }\n",
      "∀ x ( x ∈ A ↔ ( x ∈ A ∧ x ∈ B ) )\n",
      "( A ⊆ B ↔ A = ( A ∩ B ) )\n",
      "( A ∩ B )\n",
      "x ∈ A\n",
      "\n",
      "A ⊆ B\n",
      "∀ x ( x ∈ A ↔ ( x ∈ A ∧ x ∈ B ) )\n",
      "∀ x ( x ∈ A → x ∈ B )\n",
      "A ⊆ B\n",
      "A = ( A ∩ B )\n",
      "A = { x | ( x ∈ A ∧ x ∈ B ) }\n",
      "∀ x ( x ∈ A ↔ ( x ∈ A ∧ x ∈ B ) )\n",
      "( A ⊆ B ↔ A = ( A ∩ B ) )\n",
      "( A ∩ B )\n",
      "x ∈ A\n",
      "x\n",
      "\n",
      "A ⊆ B\n",
      "∀ x ( x ∈ A ↔ ( x ∈ A ∧ x ∈ B ) )\n",
      "∀ x ( x ∈ A → x ∈ B )\n",
      "A ⊆ B\n",
      "A = ( A ∩ B )\n",
      "A = { x | ( x ∈ A ∧ x ∈ B ) }\n",
      "∀ x ( x ∈ A ↔ ( x ∈ A ∧ x ∈ B ) )\n",
      "( A ⊆ B ↔ A = ( A ∩ B ) )\n",
      "( A ∩ B )\n",
      "x ∈ A\n",
      "x\n",
      "\n",
      "A ⊆ B\n",
      "∀ x ( x ∈ A ↔ ( x ∈ A ∧ x ∈ B ) )\n",
      "∀ x ( x ∈ A → x ∈ B )\n",
      "A ⊆ B\n",
      "A = ( A ∩ B )\n",
      "A = { x | ( x ∈ A ∧ x ∈ B ) }\n",
      "∀ x ( x ∈ A ↔ ( x ∈ A ∧ x ∈ B ) )\n",
      "( A ⊆ B ↔ A = ( A ∩ B ) )\n",
      "( A ∩ B )\n",
      "x ∈ A\n",
      "x\n",
      "B\n",
      "\n",
      "A ⊆ B\n",
      "∀ x ( x ∈ A ↔ ( x ∈ A ∧ x ∈ B ) )\n",
      "∀ x ( x ∈ A → x ∈ B )\n",
      "A ⊆ B\n",
      "A = ( A ∩ B )\n",
      "A = { x | ( x ∈ A ∧ x ∈ B ) }\n",
      "∀ x ( x ∈ A ↔ ( x ∈ A ∧ x ∈ B ) )\n",
      "( A ⊆ B ↔ A = ( A ∩ B ) )\n",
      "( A ∩ B )\n",
      "x ∈ A\n",
      "x ∈ B\n",
      "\n",
      "A ⊆ B\n",
      "∀ x ( x ∈ A ↔ ( x ∈ A ∧ x ∈ B ) )\n",
      "∀ x ( x ∈ A → x ∈ B )\n",
      "A ⊆ B\n",
      "A = ( A ∩ B )\n",
      "A = { x | ( x ∈ A ∧ x ∈ B ) }\n",
      "∀ x ( x ∈ A ↔ ( x ∈ A ∧ x ∈ B ) )\n",
      "( A ⊆ B ↔ A = ( A ∩ B ) )\n",
      "( A ∩ B )\n",
      "( x ∈ A ∧ x ∈ B )\n",
      "\n",
      "A ⊆ B\n",
      "∀ x ( x ∈ A ↔ ( x ∈ A ∧ x ∈ B ) )\n",
      "∀ x ( x ∈ A → x ∈ B )\n",
      "A ⊆ B\n",
      "A = ( A ∩ B )\n",
      "A = { x | ( x ∈ A ∧ x ∈ B ) }\n",
      "∀ x ( x ∈ A ↔ ( x ∈ A ∧ x ∈ B ) )\n",
      "( A ⊆ B ↔ A = ( A ∩ B ) )\n",
      "( A ∩ B )\n",
      "( x ∈ A ∧ x ∈ B )\n",
      "x\n",
      "\n",
      "A ⊆ B\n",
      "∀ x ( x ∈ A ↔ ( x ∈ A ∧ x ∈ B ) )\n",
      "∀ x ( x ∈ A → x ∈ B )\n",
      "A ⊆ B\n",
      "A = ( A ∩ B )\n",
      "A = { x | ( x ∈ A ∧ x ∈ B ) }\n",
      "∀ x ( x ∈ A ↔ ( x ∈ A ∧ x ∈ B ) )\n",
      "( A ⊆ B ↔ A = ( A ∩ B ) )\n",
      "( A ∩ B )\n",
      "{ x | ( x ∈ A ∧ x ∈ B ) }\n",
      "\n",
      "A ⊆ B\n",
      "∀ x ( x ∈ A ↔ ( x ∈ A ∧ x ∈ B ) )\n",
      "∀ x ( x ∈ A → x ∈ B )\n",
      "A ⊆ B\n",
      "A = ( A ∩ B )\n",
      "A = { x | ( x ∈ A ∧ x ∈ B ) }\n",
      "∀ x ( x ∈ A ↔ ( x ∈ A ∧ x ∈ B ) )\n",
      "( A ⊆ B ↔ A = ( A ∩ B ) )\n",
      "( A ∩ B )\n",
      "{ x | ( x ∈ A ∧ x ∈ B ) }\n",
      "A\n",
      "\n",
      "A ⊆ B\n",
      "∀ x ( x ∈ A ↔ ( x ∈ A ∧ x ∈ B ) )\n",
      "∀ x ( x ∈ A → x ∈ B )\n",
      "A ⊆ B\n",
      "A = ( A ∩ B )\n",
      "A = { x | ( x ∈ A ∧ x ∈ B ) }\n",
      "∀ x ( x ∈ A ↔ ( x ∈ A ∧ x ∈ B ) )\n",
      "( A ⊆ B ↔ A = ( A ∩ B ) )\n",
      "( A ∩ B )\n",
      "{ x | ( x ∈ A ∧ x ∈ B ) }\n",
      "A\n",
      "x\n",
      "\n",
      "A ⊆ B\n",
      "∀ x ( x ∈ A ↔ ( x ∈ A ∧ x ∈ B ) )\n",
      "∀ x ( x ∈ A → x ∈ B )\n",
      "A ⊆ B\n",
      "A = ( A ∩ B )\n",
      "A = { x | ( x ∈ A ∧ x ∈ B ) }\n",
      "∀ x ( x ∈ A ↔ ( x ∈ A ∧ x ∈ B ) )\n",
      "( A ⊆ B ↔ A = ( A ∩ B ) )\n",
      "( A ∩ B )\n",
      "{ x | ( x ∈ A ∧ x ∈ B ) }\n",
      "A\n",
      "x\n",
      "A\n",
      "\n",
      "A ⊆ B\n",
      "∀ x ( x ∈ A ↔ ( x ∈ A ∧ x ∈ B ) )\n",
      "∀ x ( x ∈ A → x ∈ B )\n",
      "A ⊆ B\n",
      "A = ( A ∩ B )\n",
      "A = { x | ( x ∈ A ∧ x ∈ B ) }\n",
      "∀ x ( x ∈ A ↔ ( x ∈ A ∧ x ∈ B ) )\n",
      "( A ⊆ B ↔ A = ( A ∩ B ) )\n",
      "( A ∩ B )\n",
      "{ x | ( x ∈ A ∧ x ∈ B ) }\n",
      "A\n",
      "x\n",
      "A\n",
      "B\n",
      "\n",
      "A ⊆ B\n",
      "∀ x ( x ∈ A ↔ ( x ∈ A ∧ x ∈ B ) )\n",
      "∀ x ( x ∈ A → x ∈ B )\n",
      "A ⊆ B\n",
      "A = ( A ∩ B )\n",
      "A = { x | ( x ∈ A ∧ x ∈ B ) }\n",
      "∀ x ( x ∈ A ↔ ( x ∈ A ∧ x ∈ B ) )\n",
      "( A ⊆ B ↔ A = ( A ∩ B ) )\n",
      "( A ∩ B )\n",
      "{ x | ( x ∈ A ∧ x ∈ B ) }\n",
      "A\n",
      "( A ∩ B ) = { x | ( x ∈ A ∧ x ∈ B ) }\n",
      "\n",
      "A ⊆ B\n",
      "∀ x ( x ∈ A ↔ ( x ∈ A ∧ x ∈ B ) )\n",
      "∀ x ( x ∈ A → x ∈ B )\n",
      "A ⊆ B\n",
      "A = ( A ∩ B )\n",
      "A = { x | ( x ∈ A ∧ x ∈ B ) }\n",
      "∀ x ( x ∈ A ↔ ( x ∈ A ∧ x ∈ B ) )\n",
      "( A ⊆ B ↔ A = ( A ∩ B ) )\n",
      "( A = ( A ∩ B ) ↔ A = { x | ( x ∈ A ∧ x ∈ B ) } )\n",
      "\n",
      "A ⊆ B\n",
      "∀ x ( x ∈ A ↔ ( x ∈ A ∧ x ∈ B ) )\n",
      "∀ x ( x ∈ A → x ∈ B )\n",
      "A ⊆ B\n",
      "A = ( A ∩ B )\n",
      "A = { x | ( x ∈ A ∧ x ∈ B ) }\n",
      "∀ x ( x ∈ A ↔ ( x ∈ A ∧ x ∈ B ) )\n",
      "( A ⊆ B ↔ A = ( A ∩ B ) )\n",
      "( A = ( A ∩ B ) ↔ A = { x | ( x ∈ A ∧ x ∈ B ) } )\n",
      "x\n",
      "\n",
      "A ⊆ B\n",
      "∀ x ( x ∈ A ↔ ( x ∈ A ∧ x ∈ B ) )\n",
      "∀ x ( x ∈ A → x ∈ B )\n",
      "A ⊆ B\n",
      "A = ( A ∩ B )\n",
      "A = { x | ( x ∈ A ∧ x ∈ B ) }\n",
      "∀ x ( x ∈ A ↔ ( x ∈ A ∧ x ∈ B ) )\n",
      "( A ⊆ B ↔ A = ( A ∩ B ) )\n",
      "( A = ( A ∩ B ) ↔ A = { x | ( x ∈ A ∧ x ∈ B ) } )\n",
      "x\n",
      "\n",
      "A ⊆ B\n",
      "∀ x ( x ∈ A ↔ ( x ∈ A ∧ x ∈ B ) )\n",
      "∀ x ( x ∈ A → x ∈ B )\n",
      "A ⊆ B\n",
      "A = ( A ∩ B )\n",
      "A = { x | ( x ∈ A ∧ x ∈ B ) }\n",
      "∀ x ( x ∈ A ↔ ( x ∈ A ∧ x ∈ B ) )\n",
      "( A ⊆ B ↔ A = ( A ∩ B ) )\n",
      "( A = ( A ∩ B ) ↔ A = { x | ( x ∈ A ∧ x ∈ B ) } )\n",
      "x\n",
      "A\n",
      "\n",
      "A ⊆ B\n",
      "∀ x ( x ∈ A ↔ ( x ∈ A ∧ x ∈ B ) )\n",
      "∀ x ( x ∈ A → x ∈ B )\n",
      "A ⊆ B\n",
      "A = ( A ∩ B )\n",
      "A = { x | ( x ∈ A ∧ x ∈ B ) }\n",
      "∀ x ( x ∈ A ↔ ( x ∈ A ∧ x ∈ B ) )\n",
      "( A ⊆ B ↔ A = ( A ∩ B ) )\n",
      "( A = ( A ∩ B ) ↔ A = { x | ( x ∈ A ∧ x ∈ B ) } )\n",
      "x ∈ A\n",
      "\n",
      "A ⊆ B\n",
      "∀ x ( x ∈ A ↔ ( x ∈ A ∧ x ∈ B ) )\n",
      "∀ x ( x ∈ A → x ∈ B )\n",
      "A ⊆ B\n",
      "A = ( A ∩ B )\n",
      "A = { x | ( x ∈ A ∧ x ∈ B ) }\n",
      "∀ x ( x ∈ A ↔ ( x ∈ A ∧ x ∈ B ) )\n",
      "( A ⊆ B ↔ A = ( A ∩ B ) )\n",
      "( A = ( A ∩ B ) ↔ A = { x | ( x ∈ A ∧ x ∈ B ) } )\n",
      "x ∈ A\n",
      "x\n",
      "\n",
      "A ⊆ B\n",
      "∀ x ( x ∈ A ↔ ( x ∈ A ∧ x ∈ B ) )\n",
      "∀ x ( x ∈ A → x ∈ B )\n",
      "A ⊆ B\n",
      "A = ( A ∩ B )\n",
      "A = { x | ( x ∈ A ∧ x ∈ B ) }\n",
      "∀ x ( x ∈ A ↔ ( x ∈ A ∧ x ∈ B ) )\n",
      "( A ⊆ B ↔ A = ( A ∩ B ) )\n",
      "( A = ( A ∩ B ) ↔ A = { x | ( x ∈ A ∧ x ∈ B ) } )\n",
      "x ∈ A\n",
      "x\n",
      "\n",
      "A ⊆ B\n",
      "∀ x ( x ∈ A ↔ ( x ∈ A ∧ x ∈ B ) )\n",
      "∀ x ( x ∈ A → x ∈ B )\n",
      "A ⊆ B\n",
      "A = ( A ∩ B )\n",
      "A = { x | ( x ∈ A ∧ x ∈ B ) }\n",
      "∀ x ( x ∈ A ↔ ( x ∈ A ∧ x ∈ B ) )\n",
      "( A ⊆ B ↔ A = ( A ∩ B ) )\n",
      "( A = ( A ∩ B ) ↔ A = { x | ( x ∈ A ∧ x ∈ B ) } )\n",
      "x ∈ A\n",
      "x\n",
      "B\n",
      "\n",
      "A ⊆ B\n",
      "∀ x ( x ∈ A ↔ ( x ∈ A ∧ x ∈ B ) )\n",
      "∀ x ( x ∈ A → x ∈ B )\n",
      "A ⊆ B\n",
      "A = ( A ∩ B )\n",
      "A = { x | ( x ∈ A ∧ x ∈ B ) }\n",
      "∀ x ( x ∈ A ↔ ( x ∈ A ∧ x ∈ B ) )\n",
      "( A ⊆ B ↔ A = ( A ∩ B ) )\n",
      "( A = ( A ∩ B ) ↔ A = { x | ( x ∈ A ∧ x ∈ B ) } )\n",
      "x ∈ A\n",
      "x ∈ B\n",
      "\n",
      "A ⊆ B\n",
      "∀ x ( x ∈ A ↔ ( x ∈ A ∧ x ∈ B ) )\n",
      "∀ x ( x ∈ A → x ∈ B )\n",
      "A ⊆ B\n",
      "A = ( A ∩ B )\n",
      "A = { x | ( x ∈ A ∧ x ∈ B ) }\n",
      "∀ x ( x ∈ A ↔ ( x ∈ A ∧ x ∈ B ) )\n",
      "( A ⊆ B ↔ A = ( A ∩ B ) )\n",
      "( A = ( A ∩ B ) ↔ A = { x | ( x ∈ A ∧ x ∈ B ) } )\n",
      "( x ∈ A ∧ x ∈ B )\n",
      "\n",
      "A ⊆ B\n",
      "∀ x ( x ∈ A ↔ ( x ∈ A ∧ x ∈ B ) )\n",
      "∀ x ( x ∈ A → x ∈ B )\n",
      "A ⊆ B\n",
      "A = ( A ∩ B )\n",
      "A = { x | ( x ∈ A ∧ x ∈ B ) }\n",
      "∀ x ( x ∈ A ↔ ( x ∈ A ∧ x ∈ B ) )\n",
      "( A ⊆ B ↔ A = ( A ∩ B ) )\n",
      "( A = ( A ∩ B ) ↔ A = { x | ( x ∈ A ∧ x ∈ B ) } )\n",
      "( x ∈ A ∧ x ∈ B )\n",
      "x\n",
      "\n",
      "A ⊆ B\n",
      "∀ x ( x ∈ A ↔ ( x ∈ A ∧ x ∈ B ) )\n",
      "∀ x ( x ∈ A → x ∈ B )\n",
      "A ⊆ B\n",
      "A = ( A ∩ B )\n",
      "A = { x | ( x ∈ A ∧ x ∈ B ) }\n",
      "∀ x ( x ∈ A ↔ ( x ∈ A ∧ x ∈ B ) )\n",
      "( A ⊆ B ↔ A = ( A ∩ B ) )\n",
      "( A = ( A ∩ B ) ↔ A = { x | ( x ∈ A ∧ x ∈ B ) } )\n"
     ]
    },
    {
     "name": "stdout",
     "output_type": "stream",
     "text": [
      "( x ∈ A ∧ x ∈ B )\n",
      "x\n",
      "A\n",
      "\n",
      "A ⊆ B\n",
      "∀ x ( x ∈ A ↔ ( x ∈ A ∧ x ∈ B ) )\n",
      "∀ x ( x ∈ A → x ∈ B )\n",
      "A ⊆ B\n",
      "A = ( A ∩ B )\n",
      "A = { x | ( x ∈ A ∧ x ∈ B ) }\n",
      "∀ x ( x ∈ A ↔ ( x ∈ A ∧ x ∈ B ) )\n",
      "( A ⊆ B ↔ A = ( A ∩ B ) )\n",
      "( A = ( A ∩ B ) ↔ A = { x | ( x ∈ A ∧ x ∈ B ) } )\n",
      "( A = { x | ( x ∈ A ∧ x ∈ B ) } ↔ ∀ x ( x ∈ A ↔ ( x ∈ A ∧ x ∈ B ) ) )\n",
      "\n",
      "A ⊆ B\n",
      "∀ x ( x ∈ A ↔ ( x ∈ A ∧ x ∈ B ) )\n",
      "∀ x ( x ∈ A → x ∈ B )\n",
      "( A ⊆ B ↔ ∀ x ( x ∈ A ↔ ( x ∈ A ∧ x ∈ B ) ) )\n",
      "\n",
      "A ⊆ B\n",
      "∀ x ( x ∈ A ↔ ( x ∈ A ∧ x ∈ B ) )\n",
      "∀ x ( x ∈ A → x ∈ B )\n",
      "( A ⊆ B ↔ ∀ x ( x ∈ A ↔ ( x ∈ A ∧ x ∈ B ) ) )\n",
      "x\n",
      "\n",
      "A ⊆ B\n",
      "∀ x ( x ∈ A ↔ ( x ∈ A ∧ x ∈ B ) )\n",
      "∀ x ( x ∈ A → x ∈ B )\n",
      "( A ⊆ B ↔ ∀ x ( x ∈ A ↔ ( x ∈ A ∧ x ∈ B ) ) )\n",
      "x\n",
      "\n",
      "A ⊆ B\n",
      "∀ x ( x ∈ A ↔ ( x ∈ A ∧ x ∈ B ) )\n",
      "∀ x ( x ∈ A → x ∈ B )\n",
      "( A ⊆ B ↔ ∀ x ( x ∈ A ↔ ( x ∈ A ∧ x ∈ B ) ) )\n",
      "x\n",
      "A\n",
      "\n",
      "A ⊆ B\n",
      "∀ x ( x ∈ A ↔ ( x ∈ A ∧ x ∈ B ) )\n",
      "∀ x ( x ∈ A → x ∈ B )\n",
      "( A ⊆ B ↔ ∀ x ( x ∈ A ↔ ( x ∈ A ∧ x ∈ B ) ) )\n",
      "x ∈ A\n",
      "\n",
      "A ⊆ B\n",
      "∀ x ( x ∈ A ↔ ( x ∈ A ∧ x ∈ B ) )\n",
      "∀ x ( x ∈ A → x ∈ B )\n",
      "( A ⊆ B ↔ ∀ x ( x ∈ A ↔ ( x ∈ A ∧ x ∈ B ) ) )\n",
      "x ∈ A\n",
      "x\n",
      "\n",
      "A ⊆ B\n",
      "∀ x ( x ∈ A ↔ ( x ∈ A ∧ x ∈ B ) )\n",
      "∀ x ( x ∈ A → x ∈ B )\n",
      "( A ⊆ B ↔ ∀ x ( x ∈ A ↔ ( x ∈ A ∧ x ∈ B ) ) )\n",
      "x ∈ A\n",
      "x\n",
      "\n",
      "A ⊆ B\n",
      "∀ x ( x ∈ A ↔ ( x ∈ A ∧ x ∈ B ) )\n",
      "∀ x ( x ∈ A → x ∈ B )\n",
      "( A ⊆ B ↔ ∀ x ( x ∈ A ↔ ( x ∈ A ∧ x ∈ B ) ) )\n",
      "x ∈ A\n",
      "x\n",
      "B\n",
      "\n",
      "A ⊆ B\n",
      "∀ x ( x ∈ A ↔ ( x ∈ A ∧ x ∈ B ) )\n",
      "∀ x ( x ∈ A → x ∈ B )\n",
      "( A ⊆ B ↔ ∀ x ( x ∈ A ↔ ( x ∈ A ∧ x ∈ B ) ) )\n",
      "x ∈ A\n",
      "x ∈ B\n",
      "\n",
      "A ⊆ B\n",
      "∀ x ( x ∈ A ↔ ( x ∈ A ∧ x ∈ B ) )\n",
      "∀ x ( x ∈ A → x ∈ B )\n",
      "( A ⊆ B ↔ ∀ x ( x ∈ A ↔ ( x ∈ A ∧ x ∈ B ) ) )\n",
      "( x ∈ A → x ∈ B )\n",
      "\n",
      "A ⊆ B\n",
      "∀ x ( x ∈ A ↔ ( x ∈ A ∧ x ∈ B ) )\n",
      "∀ x ( x ∈ A → x ∈ B )\n",
      "( A ⊆ B ↔ ∀ x ( x ∈ A ↔ ( x ∈ A ∧ x ∈ B ) ) )\n",
      "( x ∈ A → x ∈ B )\n",
      "x\n",
      "\n",
      "A ⊆ B\n",
      "∀ x ( x ∈ A ↔ ( x ∈ A ∧ x ∈ B ) )\n",
      "∀ x ( x ∈ A → x ∈ B )\n",
      "( A ⊆ B ↔ ∀ x ( x ∈ A ↔ ( x ∈ A ∧ x ∈ B ) ) )\n",
      "( x ∈ A → x ∈ B )\n",
      "x\n",
      "\n",
      "A ⊆ B\n",
      "∀ x ( x ∈ A ↔ ( x ∈ A ∧ x ∈ B ) )\n",
      "∀ x ( x ∈ A → x ∈ B )\n",
      "( A ⊆ B ↔ ∀ x ( x ∈ A ↔ ( x ∈ A ∧ x ∈ B ) ) )\n",
      "( x ∈ A → x ∈ B )\n",
      "x\n",
      "A\n",
      "\n",
      "A ⊆ B\n",
      "∀ x ( x ∈ A ↔ ( x ∈ A ∧ x ∈ B ) )\n",
      "∀ x ( x ∈ A → x ∈ B )\n",
      "( A ⊆ B ↔ ∀ x ( x ∈ A ↔ ( x ∈ A ∧ x ∈ B ) ) )\n",
      "( x ∈ A → x ∈ B )\n",
      "x ∈ A\n",
      "\n",
      "A ⊆ B\n",
      "∀ x ( x ∈ A ↔ ( x ∈ A ∧ x ∈ B ) )\n",
      "∀ x ( x ∈ A → x ∈ B )\n",
      "( A ⊆ B ↔ ∀ x ( x ∈ A ↔ ( x ∈ A ∧ x ∈ B ) ) )\n",
      "( x ∈ A → x ∈ B )\n",
      "x ∈ A\n",
      "x\n",
      "\n",
      "A ⊆ B\n",
      "∀ x ( x ∈ A ↔ ( x ∈ A ∧ x ∈ B ) )\n",
      "∀ x ( x ∈ A → x ∈ B )\n",
      "( A ⊆ B ↔ ∀ x ( x ∈ A ↔ ( x ∈ A ∧ x ∈ B ) ) )\n",
      "( x ∈ A → x ∈ B )\n",
      "x ∈ A\n",
      "x\n",
      "\n",
      "A ⊆ B\n",
      "∀ x ( x ∈ A ↔ ( x ∈ A ∧ x ∈ B ) )\n",
      "∀ x ( x ∈ A → x ∈ B )\n",
      "( A ⊆ B ↔ ∀ x ( x ∈ A ↔ ( x ∈ A ∧ x ∈ B ) ) )\n",
      "( x ∈ A → x ∈ B )\n",
      "x ∈ A\n",
      "x\n",
      "A\n",
      "\n",
      "A ⊆ B\n",
      "∀ x ( x ∈ A ↔ ( x ∈ A ∧ x ∈ B ) )\n",
      "∀ x ( x ∈ A → x ∈ B )\n",
      "( A ⊆ B ↔ ∀ x ( x ∈ A ↔ ( x ∈ A ∧ x ∈ B ) ) )\n",
      "( x ∈ A → x ∈ B )\n",
      "x ∈ A\n",
      "x ∈ A\n",
      "\n",
      "A ⊆ B\n",
      "∀ x ( x ∈ A ↔ ( x ∈ A ∧ x ∈ B ) )\n",
      "∀ x ( x ∈ A → x ∈ B )\n",
      "( A ⊆ B ↔ ∀ x ( x ∈ A ↔ ( x ∈ A ∧ x ∈ B ) ) )\n",
      "( x ∈ A → x ∈ B )\n",
      "x ∈ A\n",
      "x ∈ A\n",
      "x\n",
      "\n",
      "A ⊆ B\n",
      "∀ x ( x ∈ A ↔ ( x ∈ A ∧ x ∈ B ) )\n",
      "∀ x ( x ∈ A → x ∈ B )\n",
      "( A ⊆ B ↔ ∀ x ( x ∈ A ↔ ( x ∈ A ∧ x ∈ B ) ) )\n",
      "( x ∈ A → x ∈ B )\n",
      "x ∈ A\n",
      "x ∈ A\n",
      "x\n",
      "\n",
      "A ⊆ B\n",
      "∀ x ( x ∈ A ↔ ( x ∈ A ∧ x ∈ B ) )\n",
      "∀ x ( x ∈ A → x ∈ B )\n",
      "( A ⊆ B ↔ ∀ x ( x ∈ A ↔ ( x ∈ A ∧ x ∈ B ) ) )\n",
      "( x ∈ A → x ∈ B )\n",
      "x ∈ A\n",
      "x ∈ A\n",
      "x\n",
      "B\n",
      "\n",
      "A ⊆ B\n",
      "∀ x ( x ∈ A ↔ ( x ∈ A ∧ x ∈ B ) )\n",
      "∀ x ( x ∈ A → x ∈ B )\n",
      "( A ⊆ B ↔ ∀ x ( x ∈ A ↔ ( x ∈ A ∧ x ∈ B ) ) )\n",
      "( x ∈ A → x ∈ B )\n",
      "x ∈ A\n",
      "x ∈ A\n",
      "x ∈ B\n",
      "\n",
      "A ⊆ B\n",
      "∀ x ( x ∈ A ↔ ( x ∈ A ∧ x ∈ B ) )\n",
      "∀ x ( x ∈ A → x ∈ B )\n",
      "( A ⊆ B ↔ ∀ x ( x ∈ A ↔ ( x ∈ A ∧ x ∈ B ) ) )\n",
      "( x ∈ A → x ∈ B )\n",
      "x ∈ A\n",
      "( x ∈ A ∧ x ∈ B )\n",
      "\n",
      "A ⊆ B\n",
      "∀ x ( x ∈ A ↔ ( x ∈ A ∧ x ∈ B ) )\n",
      "∀ x ( x ∈ A → x ∈ B )\n",
      "( A ⊆ B ↔ ∀ x ( x ∈ A ↔ ( x ∈ A ∧ x ∈ B ) ) )\n",
      "( x ∈ A → x ∈ B )\n",
      "( x ∈ A ↔ ( x ∈ A ∧ x ∈ B ) )\n",
      "\n",
      "A ⊆ B\n",
      "∀ x ( x ∈ A ↔ ( x ∈ A ∧ x ∈ B ) )\n",
      "∀ x ( x ∈ A → x ∈ B )\n",
      "( A ⊆ B ↔ ∀ x ( x ∈ A ↔ ( x ∈ A ∧ x ∈ B ) ) )\n",
      "( x ∈ A → x ∈ B )\n",
      "( x ∈ A ↔ ( x ∈ A ∧ x ∈ B ) )\n",
      "x\n",
      "\n",
      "A ⊆ B\n",
      "∀ x ( x ∈ A ↔ ( x ∈ A ∧ x ∈ B ) )\n",
      "∀ x ( x ∈ A → x ∈ B )\n",
      "( A ⊆ B ↔ ∀ x ( x ∈ A ↔ ( x ∈ A ∧ x ∈ B ) ) )\n",
      "( x ∈ A → x ∈ B )\n",
      "( x ∈ A ↔ ( x ∈ A ∧ x ∈ B ) )\n",
      "x\n",
      "x\n",
      "\n",
      "A ⊆ B\n",
      "∀ x ( x ∈ A ↔ ( x ∈ A ∧ x ∈ B ) )\n",
      "∀ x ( x ∈ A → x ∈ B )\n",
      "( A ⊆ B ↔ ∀ x ( x ∈ A ↔ ( x ∈ A ∧ x ∈ B ) ) )\n",
      "( x ∈ A → x ∈ B )\n",
      "( x ∈ A ↔ ( x ∈ A ∧ x ∈ B ) )\n",
      "x\n",
      "x\n",
      "\n",
      "A ⊆ B\n",
      "∀ x ( x ∈ A ↔ ( x ∈ A ∧ x ∈ B ) )\n",
      "∀ x ( x ∈ A → x ∈ B )\n",
      "( A ⊆ B ↔ ∀ x ( x ∈ A ↔ ( x ∈ A ∧ x ∈ B ) ) )\n",
      "( x ∈ A → x ∈ B )\n",
      "( x ∈ A ↔ ( x ∈ A ∧ x ∈ B ) )\n",
      "x\n",
      "x\n",
      "A\n",
      "\n",
      "A ⊆ B\n",
      "∀ x ( x ∈ A ↔ ( x ∈ A ∧ x ∈ B ) )\n",
      "∀ x ( x ∈ A → x ∈ B )\n",
      "( A ⊆ B ↔ ∀ x ( x ∈ A ↔ ( x ∈ A ∧ x ∈ B ) ) )\n",
      "( x ∈ A → x ∈ B )\n",
      "( x ∈ A ↔ ( x ∈ A ∧ x ∈ B ) )\n",
      "x\n",
      "x ∈ A\n",
      "\n",
      "A ⊆ B\n",
      "∀ x ( x ∈ A ↔ ( x ∈ A ∧ x ∈ B ) )\n",
      "∀ x ( x ∈ A → x ∈ B )\n",
      "( A ⊆ B ↔ ∀ x ( x ∈ A ↔ ( x ∈ A ∧ x ∈ B ) ) )\n",
      "( x ∈ A → x ∈ B )\n",
      "( x ∈ A ↔ ( x ∈ A ∧ x ∈ B ) )\n",
      "x\n",
      "x ∈ A\n",
      "x\n",
      "\n",
      "A ⊆ B\n",
      "∀ x ( x ∈ A ↔ ( x ∈ A ∧ x ∈ B ) )\n",
      "∀ x ( x ∈ A → x ∈ B )\n",
      "( A ⊆ B ↔ ∀ x ( x ∈ A ↔ ( x ∈ A ∧ x ∈ B ) ) )\n",
      "( x ∈ A → x ∈ B )\n",
      "( x ∈ A ↔ ( x ∈ A ∧ x ∈ B ) )\n",
      "x\n",
      "x ∈ A\n",
      "x\n",
      "\n",
      "A ⊆ B\n",
      "∀ x ( x ∈ A ↔ ( x ∈ A ∧ x ∈ B ) )\n",
      "∀ x ( x ∈ A → x ∈ B )\n",
      "( A ⊆ B ↔ ∀ x ( x ∈ A ↔ ( x ∈ A ∧ x ∈ B ) ) )\n",
      "( x ∈ A → x ∈ B )\n",
      "( x ∈ A ↔ ( x ∈ A ∧ x ∈ B ) )\n",
      "x\n",
      "x ∈ A\n",
      "x\n",
      "B\n",
      "\n",
      "A ⊆ B\n",
      "∀ x ( x ∈ A ↔ ( x ∈ A ∧ x ∈ B ) )\n",
      "∀ x ( x ∈ A → x ∈ B )\n",
      "( A ⊆ B ↔ ∀ x ( x ∈ A ↔ ( x ∈ A ∧ x ∈ B ) ) )\n",
      "( x ∈ A → x ∈ B )\n",
      "( x ∈ A ↔ ( x ∈ A ∧ x ∈ B ) )\n",
      "x\n",
      "x ∈ A\n",
      "x ∈ B\n",
      "\n",
      "A ⊆ B\n",
      "∀ x ( x ∈ A ↔ ( x ∈ A ∧ x ∈ B ) )\n",
      "∀ x ( x ∈ A → x ∈ B )\n",
      "( A ⊆ B ↔ ∀ x ( x ∈ A ↔ ( x ∈ A ∧ x ∈ B ) ) )\n",
      "( x ∈ A → x ∈ B )\n",
      "( x ∈ A ↔ ( x ∈ A ∧ x ∈ B ) )\n",
      "x\n",
      "( ( x ∈ A → x ∈ B ) ↔ ( x ∈ A ↔ ( x ∈ A ∧ x ∈ B ) ) )\n",
      "\n",
      "A ⊆ B\n",
      "∀ x ( x ∈ A ↔ ( x ∈ A ∧ x ∈ B ) )\n",
      "∀ x ( x ∈ A → x ∈ B )\n",
      "( A ⊆ B ↔ ∀ x ( x ∈ A ↔ ( x ∈ A ∧ x ∈ B ) ) )\n",
      "( ∀ x ( x ∈ A → x ∈ B ) ↔ ∀ x ( x ∈ A ↔ ( x ∈ A ∧ x ∈ B ) ) )\n",
      "\n",
      "( A ⊆ B ↔ ∀ x ( x ∈ A → x ∈ B ) )\n"
     ]
    }
   ],
   "source": [
    "tg = verify2(p, database, False)"
   ]
  },
  {
   "cell_type": "code",
   "execution_count": 26,
   "metadata": {},
   "outputs": [],
   "source": [
    "q = database.propositions[\"bitr4i\"]"
   ]
  },
  {
   "cell_type": "code",
   "execution_count": 46,
   "metadata": {},
   "outputs": [
    {
     "ename": "KeyError",
     "evalue": "'wph'",
     "output_type": "error",
     "traceback": [
      "\u001b[1;31m---------------------------------------------------------------------------\u001b[0m",
      "\u001b[1;31mKeyError\u001b[0m                                  Traceback (most recent call last)",
      "\u001b[1;32m<ipython-input-46-a3650212bf7c>\u001b[0m in \u001b[0;36m<module>\u001b[1;34m()\u001b[0m\n\u001b[1;32m----> 1\u001b[1;33m \u001b[0mdatabase\u001b[0m\u001b[1;33m.\u001b[0m\u001b[0mpropositions\u001b[0m\u001b[1;33m[\u001b[0m\u001b[1;34m\"wph\"\u001b[0m\u001b[1;33m]\u001b[0m\u001b[1;33m\u001b[0m\u001b[0m\n\u001b[0m",
      "\u001b[1;31mKeyError\u001b[0m: 'wph'"
     ]
    }
   ],
   "source": [
    "database.propositions[\"wph\"]"
   ]
  },
  {
   "cell_type": "code",
   "execution_count": 48,
   "metadata": {},
   "outputs": [
    {
     "data": {
      "text/plain": [
       "{'wch': <f_hypothesis wch: wff ch>,\n",
       " 'wph': <f_hypothesis wph: wff ph>,\n",
       " 'wps': <f_hypothesis wps: wff ps>}"
      ]
     },
     "execution_count": 48,
     "metadata": {},
     "output_type": "execute_result"
    }
   ],
   "source": [
    "q.f"
   ]
  },
  {
   "cell_type": "code",
   "execution_count": 28,
   "metadata": {},
   "outputs": [
    {
     "data": {
      "text/plain": [
       "['wph', 'wps', 'wch', 'bitr4i.1', 'wch', 'wps', 'bitr4i.2', 'bicomi', 'bitri']"
      ]
     },
     "execution_count": 28,
     "metadata": {},
     "output_type": "execute_result"
    }
   ],
   "source": [
    "q.proof"
   ]
  },
  {
   "cell_type": "code",
   "execution_count": 29,
   "metadata": {},
   "outputs": [
    {
     "name": "stdout",
     "output_type": "stream",
     "text": [
      "\n",
      "ph\n",
      "\n",
      "ph\n",
      "ps\n",
      "\n",
      "ph\n",
      "ps\n",
      "ch\n",
      "\n",
      "ph\n",
      "ps\n",
      "ch\n",
      "( ph ↔ ps )\n",
      "\n",
      "ph\n",
      "ps\n",
      "ch\n",
      "( ph ↔ ps )\n",
      "ch\n",
      "\n",
      "ph\n",
      "ps\n",
      "ch\n",
      "( ph ↔ ps )\n",
      "ch\n",
      "ps\n",
      "\n",
      "ph\n",
      "ps\n",
      "ch\n",
      "( ph ↔ ps )\n",
      "ch\n",
      "ps\n",
      "( ch ↔ ps )\n",
      "\n",
      "ph\n",
      "ps\n",
      "ch\n",
      "( ph ↔ ps )\n",
      "( ps ↔ ch )\n",
      "\n",
      "( ph ↔ ch )\n"
     ]
    },
    {
     "data": {
      "text/plain": [
       "[('bicomi',\n",
       "  <Tree: wb(wps(),wch())>,\n",
       "  [<Tree: wch()>, <Tree: wps()>, <Tree: wb(wch(),wps())>]),\n",
       " ('bitri',\n",
       "  <Tree: wb(wph(),wch())>,\n",
       "  [<Tree: wph()>,\n",
       "   <Tree: wps()>,\n",
       "   <Tree: wch()>,\n",
       "   <Tree: wb(wph(),wps())>,\n",
       "   <Tree: wb(wps(),wch())>])]"
      ]
     },
     "execution_count": 29,
     "metadata": {},
     "output_type": "execute_result"
    }
   ],
   "source": [
    "verify2(q, database, False)"
   ]
  },
  {
   "cell_type": "code",
   "execution_count": 30,
   "metadata": {},
   "outputs": [
    {
     "data": {
      "text/plain": [
       "<Tree: wb(wph(),wch())>"
      ]
     },
     "execution_count": 30,
     "metadata": {},
     "output_type": "execute_result"
    }
   ],
   "source": [
    "q.tree"
   ]
  },
  {
   "cell_type": "code",
   "execution_count": 38,
   "metadata": {},
   "outputs": [
    {
     "name": "stdout",
     "output_type": "stream",
     "text": [
      "|- ( A ⊆ B ↔ A = ( A ∩ B ) )\n",
      "|- ( A ∩ B ) = { x | ( x ∈ A ∧ x ∈ B ) }\n",
      "|- ( C = A ↔ C = B )\n",
      "|- ( A = { x | ph } ↔ ∀ x ( x ∈ A ↔ ph ) )\n",
      "|- ( ph ↔ th )\n",
      "|- ( ( ph → ps ) ↔ ( ph ↔ ( ph ∧ ps ) ) )\n",
      "|- ( ∀ x ph ↔ ∀ x ps )\n",
      "|- ( ph ↔ ch )\n"
     ]
    }
   ],
   "source": [
    "for ps in p.entails_proof_steps:\n",
    "    print(replace_symbols(\" \".join(ps.prop.statement)))"
   ]
  },
  {
   "cell_type": "code",
   "execution_count": 36,
   "metadata": {},
   "outputs": [
    {
     "data": {
      "text/plain": [
       "['|-', '(', 'A', 'C_', 'B', '<->', 'A', '=', '(', 'A', 'i^i', 'B', ')', ')']"
      ]
     },
     "execution_count": 36,
     "metadata": {},
     "output_type": "execute_result"
    }
   ],
   "source": [
    "ps.prop.statement"
   ]
  },
  {
   "cell_type": "code",
   "execution_count": 43,
   "metadata": {},
   "outputs": [
    {
     "data": {
      "text/plain": [
       "(['(',\n",
       "  'A',\n",
       "  'C_',\n",
       "  'B',\n",
       "  '<->',\n",
       "  'A.',\n",
       "  'x',\n",
       "  '(',\n",
       "  'x',\n",
       "  'e.',\n",
       "  'A',\n",
       "  '->',\n",
       "  'x',\n",
       "  'e.',\n",
       "  'B',\n",
       "  ')',\n",
       "  ')'],\n",
       " {'ph': ['A', 'C_', 'B'],\n",
       "  'ps': ['A.', 'x', '(', 'x', 'e.', 'A', '->', 'x', 'e.', 'B', ')']})"
      ]
     },
     "execution_count": 43,
     "metadata": {},
     "output_type": "execute_result"
    }
   ],
   "source": [
    "tree_to_string2(p.tree, database, p)"
   ]
  },
  {
   "cell_type": "code",
   "execution_count": null,
   "metadata": {},
   "outputs": [],
   "source": []
  }
 ],
 "metadata": {
  "kernelspec": {
   "display_name": "Python 3 (ipykernel)",
   "language": "python",
   "name": "python3"
  },
  "language_info": {
   "codemirror_mode": {
    "name": "ipython",
    "version": 3
   },
   "file_extension": ".py",
   "mimetype": "text/x-python",
   "name": "python",
   "nbconvert_exporter": "python",
   "pygments_lexer": "ipython3",
   "version": "3.7.11"
  }
 },
 "nbformat": 4,
 "nbformat_minor": 2
}

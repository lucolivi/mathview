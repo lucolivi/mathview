{
 "cells": [
  {
   "cell_type": "code",
   "execution_count": 6,
   "id": "956527f9",
   "metadata": {},
   "outputs": [],
   "source": [
    "from adapt_utils import replace_symbols\n",
    "from my_utils import print_proof_props_graph, get_proof_steps, print_ident_proof, print_proof_linear_steps\n",
    "\n",
    "from tree_parser import *\n",
    "\n",
    "#import networkx as nx\n",
    "\n",
    "#import matplotlib\n",
    "#import matplotlib.pyplot as plt\n",
    "\n",
    "import copy\n",
    "\n",
    "import time\n",
    "\n",
    "from collections import Counter\n",
    "\n",
    "import re"
   ]
  },
  {
   "cell_type": "code",
   "execution_count": 5,
   "id": "80c9d948",
   "metadata": {},
   "outputs": [
    {
     "name": "stdout",
     "output_type": "stream",
     "text": [
      "included 5555695 tokens from set.mm\n",
      "proposition: 16050\n",
      "Wall time: 8min 4s\n"
     ]
    }
   ],
   "source": [
    "%%time\n",
    "\n",
    "text = file_contents()\n",
    "database = meta_math_database(text,n=16050)\n",
    "print(\"\")"
   ]
  },
  {
   "cell_type": "code",
   "execution_count": 7,
   "id": "4cd5160c",
   "metadata": {},
   "outputs": [],
   "source": [
    "from theorem_database import TheoremDatabase\n",
    "\n",
    "tdb = TheoremDatabase(\"tdb\")"
   ]
  },
  {
   "cell_type": "code",
   "execution_count": 8,
   "id": "34a55194",
   "metadata": {},
   "outputs": [],
   "source": [
    "expr_list = [(k, v['expression']) for k, v in tdb.database.items() if v]"
   ]
  },
  {
   "cell_type": "code",
   "execution_count": 9,
   "id": "5ce2240a",
   "metadata": {},
   "outputs": [
    {
     "data": {
      "text/plain": [
       "<tree_parser.meta_math_database at 0x26931d444f0>"
      ]
     },
     "execution_count": 9,
     "metadata": {},
     "output_type": "execute_result"
    }
   ],
   "source": [
    "database"
   ]
  },
  {
   "cell_type": "code",
   "execution_count": 10,
   "id": "745222e7",
   "metadata": {},
   "outputs": [],
   "source": [
    "target_symbols = [\n",
    "    \"⊆\",\n",
    "    #\"∈\",\n",
    "    \"∩\",\n",
    "    #\"∧\",\n",
    "    \"∪\",\n",
    "    #\"∨\",\n",
    "    #\"∅\"\n",
    "]"
   ]
  },
  {
   "cell_type": "code",
   "execution_count": 11,
   "id": "78e051d5",
   "metadata": {},
   "outputs": [
    {
     "name": "stdout",
     "output_type": "stream",
     "text": [
      "81\n"
     ]
    }
   ],
   "source": [
    "target_expr = []\n",
    "for p in database.propositions_list:\n",
    "    statement = replace_symbols(p.statement_str())\n",
    "    if 40 < len(statement) < 45 and len(p.entails_proof_steps) > 5:\n",
    "        for s in target_symbols:\n",
    "            if s in statement:\n",
    "                target_expr.append((p.label,statement, len(p.entails_proof_steps)))\n",
    "                break\n",
    "                \n",
    "print(len(target_expr))"
   ]
  },
  {
   "cell_type": "code",
   "execution_count": null,
   "id": "1db99234",
   "metadata": {},
   "outputs": [],
   "source": [
    "### Search"
   ]
  },
  {
   "cell_type": "code",
   "execution_count": 14,
   "id": "7ba58a8e",
   "metadata": {},
   "outputs": [
    {
     "name": "stdout",
     "output_type": "stream",
     "text": [
      "2\n"
     ]
    }
   ],
   "source": [
    "search_terms = [\n",
    "    \"∉\",\n",
    "    \"ℚ\"\n",
    "]\n",
    "\n",
    "\n",
    "search_result = []\n",
    "\n",
    "for p in database.propositions_list:\n",
    "    statement = replace_symbols(p.statement_str())\n",
    "    result_match = True\n",
    "    for s in search_terms:\n",
    "        if s not in statement:\n",
    "            result_match = False\n",
    "            break\n",
    "    if result_match:\n",
    "        search_result.append((p.label,statement))\n",
    "                \n",
    "print(len(search_result))"
   ]
  },
  {
   "cell_type": "code",
   "execution_count": 15,
   "id": "96bf372d",
   "metadata": {},
   "outputs": [
    {
     "data": {
      "text/plain": [
       "[('eirr', '|- _e ∉ ℚ'), ('sqrt2irr', '|- ( sqrt ` 2 ) ∉ ℚ')]"
      ]
     },
     "execution_count": 15,
     "metadata": {},
     "output_type": "execute_result"
    }
   ],
   "source": [
    "search_result"
   ]
  },
  {
   "cell_type": "code",
   "execution_count": 76,
   "id": "78eb1009",
   "metadata": {},
   "outputs": [
    {
     "name": "stdout",
     "output_type": "stream",
     "text": [
      "12\n"
     ]
    }
   ],
   "source": [
    "search_terms = [\n",
    "    \"·\",\n",
    "    \"∉\"\n",
    "]\n",
    "\n",
    "\n",
    "search_result = []\n",
    "\n",
    "for label, statement in expr_list:\n",
    "    result_match = True\n",
    "    for s in search_terms:\n",
    "        if s not in statement:\n",
    "            result_match = False\n",
    "            break\n",
    "    if result_match:\n",
    "        search_result.append((label,statement))\n",
    "                \n",
    "print(len(search_result))"
   ]
  },
  {
   "cell_type": "code",
   "execution_count": 77,
   "id": "5e4dacf7",
   "metadata": {},
   "outputs": [
    {
     "data": {
      "text/plain": [
       "[('sqrtthlem',\n",
       "  '⊢ (𝐴 ∈ ℂ → (((√‘𝐴)↑2) = 𝐴 ∧ 0 ≤ (ℜ‘(√‘𝐴)) ∧ (i · (√‘𝐴)) ∉ ℝ+))'),\n",
       " ('sqrtval',\n",
       "  '⊢ (𝐴 ∈ ℂ → (√‘𝐴) = (℩𝑥 ∈ ℂ ((𝑥↑2) = 𝐴 ∧ 0 ≤ (ℜ‘𝑥) ∧ (i · 𝑥) ∉ ℝ+)))'),\n",
       " ('df-sqrt',\n",
       "  '⊢ √ = (𝑥 ∈ ℂ ↦ (℩𝑦 ∈ ℂ ((𝑦↑2) = 𝑥 ∧ 0 ≤ (ℜ‘𝑦) ∧ (i · 𝑦) ∉ ℝ+)))'),\n",
       " ('sqreu', '⊢ (𝐴 ∈ ℂ → ∃!𝑥 ∈ ℂ ((𝑥↑2) = 𝐴 ∧ 0 ≤ (ℜ‘𝑥) ∧ (i · 𝑥) ∉ ℝ+))'),\n",
       " ('rennim', '⊢ (𝐴 ∈ ℝ → (i · 𝐴) ∉ ℝ+)'),\n",
       " ('resqreu',\n",
       "  '⊢ ((𝐴 ∈ ℝ ∧ 0 ≤ 𝐴) → ∃!𝑥 ∈ ℂ ((𝑥↑2) = 𝐴 ∧ 0 ≤ (ℜ‘𝑥) ∧ (i · 𝑥) ∉ ℝ+))'),\n",
       " ('sqrmo', '⊢ (𝐴 ∈ ℂ → ∃*𝑥 ∈ ℂ ((𝑥↑2) = 𝐴 ∧ 0 ≤ (ℜ‘𝑥) ∧ (i · 𝑥) ∉ ℝ+))'),\n",
       " ('cnpart',\n",
       "  '⊢ ((𝐴 ∈ ℂ ∧ 𝐴 ≠ 0) → ((0 ≤ (ℜ‘𝐴) ∧ (i · 𝐴) ∉ ℝ+) ↔ ¬ (0 ≤ (ℜ‘-𝐴) ∧ (i · -𝐴) ∉ ℝ+)))'),\n",
       " ('resqrtthlem',\n",
       "  '⊢ ((𝐴 ∈ ℝ ∧ 0 ≤ 𝐴) → (((√‘𝐴)↑2) = 𝐴 ∧ 0 ≤ (ℜ‘(√‘𝐴)) ∧ (i · (√‘𝐴)) ∉ ℝ+))'),\n",
       " ('sqrtneglem',\n",
       "  '⊢ ((𝐴 ∈ ℝ ∧ 0 ≤ 𝐴) → (((i · (√‘𝐴))↑2) = -𝐴 ∧ 0 ≤ (ℜ‘(i · (√‘𝐴))) ∧ (i · (i · (√‘𝐴))) ∉ ℝ+))'),\n",
       " ('sqr0lem', '⊢ ((𝐴 ∈ ℂ ∧ ((𝐴↑2) = 0 ∧ 0 ≤ (ℜ‘𝐴) ∧ (i · 𝐴) ∉ ℝ+)) ↔ 𝐴 = 0)'),\n",
       " ('sqreulem',\n",
       "  '⊢ ((𝐴 ∈ ℂ ∧ ((abs‘𝐴) + 𝐴) ≠ 0) → ((𝐵↑2) = 𝐴 ∧ 0 ≤ (ℜ‘𝐵) ∧ (i · 𝐵) ∉ ℝ+))')]"
      ]
     },
     "execution_count": 77,
     "metadata": {},
     "output_type": "execute_result"
    }
   ],
   "source": [
    "search_result"
   ]
  },
  {
   "cell_type": "code",
   "execution_count": 29,
   "id": "f81c19f2",
   "metadata": {},
   "outputs": [
    {
     "data": {
      "text/plain": [
       "[('pwin', '|- 𝒫 ( A ∩ B ) = ( 𝒫 A ∩ 𝒫 B )')]"
      ]
     },
     "execution_count": 29,
     "metadata": {},
     "output_type": "execute_result"
    }
   ],
   "source": [
    "search_result\n"
   ]
  },
  {
   "cell_type": "code",
   "execution_count": 17,
   "id": "2518fa72",
   "metadata": {},
   "outputs": [
    {
     "data": {
      "text/plain": [
       "[('df-ss', '|- ( A ⊆ B ↔ ( A ∩ B ) = A )'),\n",
       " ('dfss', '|- ( A ⊆ B ↔ A = ( A ∩ B ) )'),\n",
       " ('nssinpss', '|- ( ¬ A ⊆ B ↔ ( A ∩ B ) ⊊ A )')]"
      ]
     },
     "execution_count": 17,
     "metadata": {},
     "output_type": "execute_result"
    }
   ],
   "source": [
    "search_result"
   ]
  },
  {
   "cell_type": "code",
   "execution_count": null,
   "id": "5f3a732c",
   "metadata": {},
   "outputs": [],
   "source": []
  },
  {
   "cell_type": "code",
   "execution_count": null,
   "id": "1ee2e933",
   "metadata": {},
   "outputs": [],
   "source": [
    "test_theorems = [\n",
    "    ('ssequn1', '|- ( A ⊆ B ↔ ( A ∪ B ) = B ),\n",
    "     ('ssdif0', '|- ( A ⊆ B ↔ ( A ∖ B ) = ∅ ),\n",
    "      dfpss3 ( A ⊊ B ↔ ( A ⊆ B ∧ ¬ B ⊆ A ) ),\n",
    "      ('eqss', '|- ( A = B ↔ ( A ⊆ B ∧ B ⊆ A ) )', 6),\n",
    "      ('difin', '|- ( A ∖ ( A ∩ B ) ) = ( A ∖ B )', 10),\n",
    "      ('dfin4', '|- ( A ∩ B ) = ( A ∖ ( A ∖ B ) )', 6),\n",
    "      ('undif1', '|- ( ( A ∖ B ) ∪ B ) = ( A ∪ B )', 10),\n",
    "       ('inundif', '|- ( ( A ∩ B ) ∪ ( A ∖ B ) ) = A', 6),\n",
    "      ('dfss2', '|- ( A ⊆ B ↔ ∀ x ( x ∈ A → x ∈ B ) )', 8),\n",
    "      ('dfss4', '|- ( A ⊆ B ↔ ( B ∖ ( B ∖ A ) ) = A )', 13),\n",
    "      ('uneqin', '|- ( ( A ∪ B ) = ( A ∩ B ) ↔ A = B )', 20),\n",
    "      ('disj', '|- ( ( A ∩ B ) = ∅ ↔ ∀ x ∈ A ¬ x ∈ B )', 11),\n",
    "       ('disj3', '|- ( ( A ∩ B ) = ∅ ↔ A = ( A ∖ B ) )', 8),\n",
    " ('disj4', '|- ( ( A ∩ B ) = ∅ ↔ ¬ ( A ∖ B ) ⊊ A )', 7),\n",
    "       ('ssundif', '|- ( A ⊆ ( B ∪ C ) ↔ ( A ∖ B ) ⊆ C )', 10),\n",
    "      ('ssextss', '|- ( A ⊆ B ↔ ∀ x ( x ⊆ A → x ⊆ B ) )', 7),\n",
    "      \n",
    "      ('ssext', '|- ( A = B ↔ ∀ x ( x ⊆ A ↔ x ⊆ B ) )', 6),\n",
    "      \n",
    "      ('nnullss', '|- ( A ≠ ∅ → ∃ x ( x ⊆ A ∧ x ≠ ∅ ) )', 14),\n",
    "      ('difin2', '|- ( A ⊆ C → ( A ∖ B ) = ( ( C ∖ B ) ∩ A ) )', 13),\n",
    "      \n",
    "      ('inssdif0', '|- ( ( A ∩ B ) ⊆ C ↔ ( A ∩ ( B ∖ C ) ) = ∅ )', 14),\n",
    "       ('disjel', '|- ( ( ( A ∩ B ) = ∅ ∧ C ∈ A ) → ¬ C ∈ B )', 6),\n",
    "      \n",
    "      0re\t⊢ 0 ∈ ℝ,\n",
    "      sqrt2irr\t⊢ (√‘2) ∉ ℚ\n",
    "      opoeALTV\t⊢ ((𝐴 ∈ Odd ∧ 𝐵 ∈ Odd ) → (𝐴 + 𝐵) ∈ Even )\n",
    "      \n",
    "      un00\t⊢ ((𝐴 = ∅ ∧ 𝐵 = ∅) ↔ (𝐴 ∪ 𝐵) = ∅)\n",
    "      \n",
    "      5p5e10\t⊢ (5 + 5) = ;10\n",
    "      \n",
    "      4t3e12\t⊢ (4 · 3) = ;12\n",
    "      zaddcl\t⊢ ((𝑀 ∈ ℤ ∧ 𝑁 ∈ ℤ) → (𝑀 + 𝑁) ∈ ℤ)\n",
    "      2evenALTV\t⊢ 2 ∈ Even\n",
    "      \n",
    "      oddp1evenALTV\t⊢ (𝑁 ∈ ℤ → (𝑁 ∈ Odd ↔ (𝑁 + 1) ∈ Even )\n",
    "        oddm1evenALTV\t⊢ (𝑁 ∈ ℤ → (𝑁 ∈ Odd ↔ (𝑁 − 1) ∈ Even ))\n",
    "                       \n",
    "    epee\t⊢ ((𝐴 ∈ Even ∧ 𝐵 ∈ Even ) → (𝐴 + 𝐵) ∈ Even )\n",
    "\n",
    "\n",
    "                       \n",
    "\n",
    "\n",
    "\n",
    "\n",
    "      \n",
    "      \n",
    "colocar teoremas com passagens bem obvias\n",
    "     \n",
    "    \n",
    "]"
   ]
  },
  {
   "cell_type": "code",
   "execution_count": 1,
   "id": "aefaa59a",
   "metadata": {},
   "outputs": [
    {
     "ename": "NameError",
     "evalue": "name 'replace_symbols' is not defined",
     "output_type": "error",
     "traceback": [
      "\u001b[0;31m---------------------------------------------------------------------------\u001b[0m",
      "\u001b[0;31mNameError\u001b[0m                                 Traceback (most recent call last)",
      "\u001b[0;32m/var/folders/l2/7llyhwlx5nd60gwdz55p43cr0000gn/T/ipykernel_82698/1240592273.py\u001b[0m in \u001b[0;36m<module>\u001b[0;34m\u001b[0m\n\u001b[1;32m      1\u001b[0m \u001b[0mprop\u001b[0m \u001b[0;34m=\u001b[0m \u001b[0;34m\"ssequn1\"\u001b[0m\u001b[0;34m\u001b[0m\u001b[0;34m\u001b[0m\u001b[0m\n\u001b[1;32m      2\u001b[0m \u001b[0;34m\u001b[0m\u001b[0m\n\u001b[0;32m----> 3\u001b[0;31m \u001b[0mprint\u001b[0m\u001b[0;34m(\u001b[0m\u001b[0mreplace_symbols\u001b[0m\u001b[0;34m(\u001b[0m\u001b[0mdatabase\u001b[0m\u001b[0;34m.\u001b[0m\u001b[0mpropositions\u001b[0m\u001b[0;34m[\u001b[0m\u001b[0mprop\u001b[0m\u001b[0;34m]\u001b[0m\u001b[0;34m.\u001b[0m\u001b[0mstatement_str\u001b[0m\u001b[0;34m(\u001b[0m\u001b[0;34m)\u001b[0m\u001b[0;34m)\u001b[0m\u001b[0;34m)\u001b[0m\u001b[0;34m\u001b[0m\u001b[0;34m\u001b[0m\u001b[0m\n\u001b[0m\u001b[1;32m      4\u001b[0m \u001b[0mprint\u001b[0m\u001b[0;34m(\u001b[0m\u001b[0;34m)\u001b[0m\u001b[0;34m\u001b[0m\u001b[0;34m\u001b[0m\u001b[0m\n\u001b[1;32m      5\u001b[0m \u001b[0;34m\u001b[0m\u001b[0m\n",
      "\u001b[0;31mNameError\u001b[0m: name 'replace_symbols' is not defined"
     ]
    }
   ],
   "source": [
    "prop = \"ssequn1\"\n",
    "\n",
    "print(replace_symbols(database.propositions[prop].statement_str()))\n",
    "print()\n",
    "\n",
    "print_proof_linear_steps(prop, database)"
   ]
  },
  {
   "cell_type": "code",
   "execution_count": null,
   "id": "7a0cde08",
   "metadata": {},
   "outputs": [],
   "source": [
    "0 = {}\n",
    "1 = {0}\n",
    "2 = {1,{1}}"
   ]
  },
  {
   "cell_type": "code",
   "execution_count": 67,
   "id": "b08a6873",
   "metadata": {},
   "outputs": [
    {
     "data": {
      "text/plain": [
       "[('ss2ab', '|- ( { x | 𝜑 } ⊆ { x | 𝜓 } ↔ ∀ x ( 𝜑 → 𝜓 ) )', 8),\n",
       " ('rabss2', '|- ( A ⊆ B → { x ∈ A | 𝜑 } ⊆ { x ∈ B | 𝜑 } )', 8),\n",
       " ('ssexnelpss', '|- ( ( A ⊆ B ∧ ∃ x ∈ B x e/ A ) → A ⊊ B )', 6),\n",
       " ('difin2', '|- ( A ⊆ C → ( A ∖ B ) = ( ( C ∖ B ) ∩ A ) )', 13),\n",
       " ('inssdif0', '|- ( ( A ∩ B ) ⊆ C ↔ ( A ∩ ( B ∖ C ) ) = ∅ )', 14),\n",
       " ('rabnc', '|- ( { x ∈ A | 𝜑 } ∩ { x ∈ A | ¬ 𝜑 } ) = ∅', 6),\n",
       " ('disjel', '|- ( ( ( A ∩ B ) = ∅ ∧ C ∈ A ) → ¬ C ∈ B )', 6),\n",
       " ('minelOLD', '|- ( ( A ∈ B ∧ ( C ∩ B ) = ∅ ) → ¬ A ∈ C )', 6),\n",
       " ('elpwunsn', '|- ( A ∈ ( 𝒫 ( B ∪ { C } ) ∖ 𝒫 B ) → C ∈ A )', 28),\n",
       " ('uniss2', '|- ( ∀ x ∈ A ∃ y ∈ B x ⊆ y → U. A ⊆ U. B )', 6),\n",
       " ('ssunieq', '|- ( ( A ∈ B ∧ ∀ x ∈ B x ⊆ A ) → A = U. B )', 6),\n",
       " ('elintgOLD', '|- ( A ∈ V → ( A ∈ ∩ B ↔ ∀ x ∈ B A ∈ x ) )', 6),\n",
       " ('elintab', '|- ( A ∈ ∩ { x | 𝜑 } ↔ ∀ x ( 𝜑 → A ∈ x ) )', 12),\n",
       " ('unissint', '|- ( U. A ⊆ ∩ A ↔ ( A = ∅ ∨ U. A = ∩ A ) )', 16),\n",
       " ('iuniin', '|- ∪ x ∈ A ∩_ y ∈ B C ⊆ ∩_ y ∈ B ∪ x ∈ A C', 14),\n",
       " ('ss2iun', '|- ( ∀ x ∈ A B ⊆ C → ∪ x ∈ A B ⊆ ∪ x ∈ A C )', 8),\n",
       " ('iuneq2', '|- ( ∀ x ∈ A B = C → ∪ x ∈ A B = ∪ x ∈ A C )', 9),\n",
       " ('iinab', '|- ∩_ x ∈ A { y | 𝜑 } = { y | ∀ x ∈ A 𝜑 }', 13),\n",
       " ('iinun2', '|- ∩_ x ∈ A ( B ∪ C ) = ( B ∪ ∩_ x ∈ A C )', 14),\n",
       " ('iundif2', '|- ∪ x ∈ A ( B ∖ C ) = ( B ∖ ∩_ x ∈ A C )', 14),\n",
       " ('iinvdif', '|- ∩_ x ∈ A ( V ∖ B ) = ( V ∖ ∪ x ∈ A B )', 11),\n",
       " ('exss', '|- ( ∃ x ∈ A 𝜑 → ∃ y ( y ⊆ A ∧ ∃ x ∈ y 𝜑 ) )', 39),\n",
       " ('dmcosseq', '|- ( ran B ⊆ dom A → dom ( A ∘ B ) = dom B )', 30),\n",
       " ('resres', '|- ( ( A |` B ) |` C ) = ( A |` ( B ∩ C ) )', 9),\n",
       " ('resiun1', '|- ( ∪ x ∈ A B |` C ) = ∪ x ∈ A ( B |` C )', 10),\n",
       " ('resiun2', '|- ( C |` ∪ x ∈ A B ) = ∪ x ∈ A ( C |` B )', 10),\n",
       " ('cnvsym', \"|- ( `' R ⊆ R ↔ ∀ x ∀ y ( x R y → y R x ) )\", 13),\n",
       " ('coeq0', '|- ( ( A ∘ B ) = ∅ ↔ ( dom A ∩ ran B ) = ∅ )', 17),\n",
       " ('relfld', '|- ( Rel R → U. U. R = ( dom R ∪ ran R ) )', 9),\n",
       " ('cnviin', \"|- ( A ≠ ∅ → `' ∩_ x ∈ A B = ∩_ x ∈ A `' B )\", 29),\n",
       " ('onin', '|- ( ( A ∈ On ∧ B ∈ On ) → ( A ∩ B ) ∈ On )', 9),\n",
       " ('ordtri2or2', '|- ( ( Ord A ∧ Ord B ) → ( A ⊆ B ∨ B ⊆ A ) )', 6),\n",
       " ('fnssresb', '|- ( F Fn A → ( ( F |` B ) Fn B ↔ B ⊆ A ) )', 11),\n",
       " ('fss', '|- ( ( F : A -→ B ∧ B ⊆ C ) → F : A -→ C )', 7),\n",
       " ('dfmpt', '|- ( x ∈ A |→ B ) = ∪ x ∈ A { ⟨ x , B ⟩ }', 6),\n",
       " ('onsucmin', '|- ( A ∈ On → suc A = ∩ { x ∈ On | A ∈ x } )', 9),\n",
       " ('tfindsg', '|- ( ( ( A ∈ On ∧ B ∈ On ) ∧ B ⊆ A ) → 𝜏 )', 67),\n",
       " ('findsg', '|- ( ( ( A ∈ _om ∧ B ∈ _om ) ∧ B ⊆ A ) → 𝜏 )', 62),\n",
       " ('1stval2', '|- ( A ∈ ( V × V ) → ( 1st ` A ) = ∩ ∩ A )', 14),\n",
       " ('ovmptss', '|- ( ∀ x ∈ A ∀ y ∈ B C ⊆ X → ( E F G ) ⊆ X )', 47),\n",
       " ('tposssxp', \"|- tpos F ⊆ ( ( `' dom F ∪ { ∅ } ) × ran F )\", 8),\n",
       " ('oaword1', '|- ( ( A ∈ On ∧ B ∈ On ) → A ⊆ ( A +o B ) )', 9),\n",
       " ('oaword2', '|- ( ( A ∈ On ∧ B ∈ On ) → A ⊆ ( B +o A ) )', 10),\n",
       " ('ixpf', '|- ( F ∈ X_ x ∈ A B → F : A -→ ∪ x ∈ A B )', 12),\n",
       " ('sbthlem5', '|- ( ( dom f = A ∧ ran g ⊆ A ) → dom H = A )', 33),\n",
       " ('fisseneq', '|- ( ( B ∈ Fin ∧ A ⊆ B ∧ A ≈ B ) → A = B )', 8),\n",
       " ('nnunifi', '|- ( ( S ⊆ _om ∧ S ∈ Fin ) → U. S ∈ _om )', 16),\n",
       " ('infcntss', '|- ( _om ≺_ A → ∃ x ( x ⊆ A ∧ x ≈ _om ) )', 6),\n",
       " ('harword', '|- ( X ≺_ Y → ( har ` X ) ⊆ ( har ` Y ) )', 13),\n",
       " ('inf3lem1', '|- ( A ∈ _om → ( F ` A ) ⊆ ( F ` suc A ) )', 45),\n",
       " ('tcsni', '|- ( TC ` { A } ) = ( ( TC ` A ) ∪ { A } )', 9),\n",
       " ('rankval4', '|- ( rank ` A ) = ∪ x ∈ A suc ( rank ` x )', 55),\n",
       " ('cardlim', '|- ( _om ⊆ ( card ` A ) ↔ Lim ( card ` A ) )', 42),\n",
       " ('infxpenlem', '|- ( ( A ∈ On ∧ _om ⊆ A ) → ( A × A ) ≈ A )', 708),\n",
       " ('infxpen', '|- ( ( A ∈ On ∧ _om ⊆ A ) → ( A × A ) ≈ A )', 30),\n",
       " ('numacn', '|- ( A ∈ V → ( X ∈ dom card → X ∈ A⊆ A ) )', 41),\n",
       " ('dfac5lem4', '|- ( 𝜑 → ∃ y ∀ z ∈ A E! v v ∈ ( z ∩ y ) )', 113),\n",
       " ('kmlem9', '|- ∀ z ∈ A ∀ w ∈ A ( z ≠ w → ( z ∩ w ) = ∅ )', 39),\n",
       " ('ackbij1lem1', '|- ( ¬ A ∈ B → ( B ∩ suc A ) = ( B ∩ A ) )', 10),\n",
       " ('fin23lem13', '|- ( A ∈ _om → ( U ` suc A ) ⊆ ( U ` A ) )', 7),\n",
       " ('fin23lem30', '|- ( Fun t → ( U. ran Z ∩ ∩ ran U ) = ∅ )', 181),\n",
       " ('ac7g', '|- ( R ∈ A → ∃ f ( f ⊆ R ∧ f Fn dom R ) )', 7),\n",
       " ('fpwwe2lem9', '|- ( 𝜑 → ( X ⊆ Y ∧ R = ( S ∩ ( Y × X ) ) ) )', 371),\n",
       " ('tsktrss', '|- ( ( T ∈ Tarski ∧ Tr A ∧ A ∈ T ) → A ⊆ T )', 6),\n",
       " ('inttsk', '|- ( ( A ⊆ Tarski ∧ A ≠ ∅ ) → ∩ A ∈ Tarski )', 69),\n",
       " ('gruss', '|- ( ( U ∈ Univ ∧ A ∈ U ∧ B ⊆ A ) → B ∈ U )', 8),\n",
       " ('genpss', '|- ( ( A ∈ P. ∧ B ∈ P. ) → ( A F B ) ⊆ Q. )', 13)]"
      ]
     },
     "execution_count": 67,
     "metadata": {},
     "output_type": "execute_result"
    }
   ],
   "source": [
    "target_expr"
   ]
  },
  {
   "cell_type": "code",
   "execution_count": 6,
   "id": "c72e39d7",
   "metadata": {},
   "outputs": [
    {
     "name": "stdout",
     "output_type": "stream",
     "text": [
      "|- ( 𝜑 → 𝜓 )\n",
      "\n",
      "[a1i] |- ( ¬ 𝜓 → ¬ 𝜑 )\n",
      "[con4i] |- ( 𝜑 → 𝜓 )\n"
     ]
    }
   ],
   "source": [
    "prop = \"pm2.21i\"\n",
    "\n",
    "print(replace_symbols(database.propositions[prop].statement_str()))\n",
    "print()\n",
    "\n",
    "print_proof_linear_steps(prop, database)"
   ]
  },
  {
   "cell_type": "code",
   "execution_count": null,
   "id": "14c6ae0a",
   "metadata": {},
   "outputs": [],
   "source": []
  }
 ],
 "metadata": {
  "kernelspec": {
   "display_name": "Python 3",
   "language": "python",
   "name": "python3"
  },
  "language_info": {
   "codemirror_mode": {
    "name": "ipython",
    "version": 3
   },
   "file_extension": ".py",
   "mimetype": "text/x-python",
   "name": "python",
   "nbconvert_exporter": "python",
   "pygments_lexer": "ipython3",
   "version": "3.9.6"
  }
 },
 "nbformat": 4,
 "nbformat_minor": 5
}

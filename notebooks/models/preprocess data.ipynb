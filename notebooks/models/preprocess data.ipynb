{
 "cells": [
  {
   "cell_type": "markdown",
   "id": "552e1e38",
   "metadata": {},
   "source": [
    "## Preprocess and save training data"
   ]
  },
  {
   "cell_type": "code",
   "execution_count": 1,
   "id": "27cc7158",
   "metadata": {},
   "outputs": [],
   "source": [
    "import sys\n",
    "sys.path.append(\"..\")\n",
    "\n",
    "from tree_parser import file_contents, meta_math_database\n",
    "\n",
    "# from my_utils import print_proof_props_graph, get_proof_steps, print_ident_proof, print_proof_linear_steps\n",
    "# from my_utils import get_proof_steps_graph, print_proof_steps_graph\n",
    "\n",
    "import json\n",
    "\n",
    "\n",
    "from expanding import construct_proof, expand_all_nodes_with_depth\n",
    "\n",
    "# from collections import defaultdict\n",
    "\n",
    "# import glob\n",
    "\n",
    "# import os\n",
    "\n",
    "# import numpy as np\n",
    "\n",
    "# from sklearn.metrics import roc_auc_score\n",
    "\n",
    "# import random\n",
    "\n",
    "from tqdm import tqdm\n",
    "\n",
    "import time\n",
    "\n",
    "# from expanding import PStep, construct_proof\n",
    "# from theorem_database import TheoremDatabase"
   ]
  },
  {
   "cell_type": "code",
   "execution_count": 2,
   "id": "e2a455c2",
   "metadata": {},
   "outputs": [
    {
     "name": "stdout",
     "output_type": "stream",
     "text": [
      "included 3651825 tokens from ../set_mod.mm\n",
      "proposition: 8000CPU times: user 2min 20s, sys: 29.2 s, total: 2min 49s\n",
      "Wall time: 3min 19s\n"
     ]
    }
   ],
   "source": [
    "%%time\n",
    "\n",
    "text = file_contents(\"../set_mod.mm\")\n",
    "database = meta_math_database(text,n=8000)"
   ]
  },
  {
   "cell_type": "code",
   "execution_count": 8,
   "id": "718dcdaa",
   "metadata": {},
   "outputs": [],
   "source": [
    "def get_prop_dataset(prop_label):\n",
    "    prop = database.propositions[prop_label]\n",
    "    \n",
    "    prop_dataset = {\n",
    "        'id':prop.number,\n",
    "        'prop': prop_label,\n",
    "        'steps':[],\n",
    "        'links':[]\n",
    "    }\n",
    "    \n",
    "    prop_proof = construct_proof(prop)\n",
    "    prop_proof = expand_all_nodes_with_depth(prop_proof)\n",
    "\n",
    "    #Populate step numbers\n",
    "    next_step_n = 0\n",
    "    \n",
    "    for s in prop_proof.get_steps_df(): \n",
    "        next_step_n += 1\n",
    "        s._step_num = next_step_n\n",
    "    \n",
    "    #Populate data\n",
    "    \n",
    "    _no_zero_labels = True \n",
    "    #This flag is necessary to remove from the dataset propositions which every label is true\n",
    "    #All labels true doesnt contribute much to the train/validation\n",
    "    \n",
    "    for s in prop_proof.get_steps_df():\n",
    "        #Since negative class is some depth bigger than 0, in case we have some, set this to false\n",
    "        if s.statement_depth > 0: _no_zero_labels = False\n",
    "        \n",
    "        prop_dataset[\"steps\"].append((\n",
    "            s._step_num,\n",
    "            s.label,\n",
    "            s.raw_statement,\n",
    "            s.raw_prop_statement,\n",
    "            int(s.statement_depth == 0)\n",
    "        ))\n",
    "        \n",
    "        for child_s in s.inputs:\n",
    "            prop_dataset[\"links\"].append((child_s._step_num, s._step_num))\n",
    "        \n",
    "    if _no_zero_labels:\n",
    "        raise Exception(f\"Only positive classes in {prop_label}.\")\n",
    "        \n",
    "    return prop_dataset"
   ]
  },
  {
   "cell_type": "code",
   "execution_count": 9,
   "id": "f35c48d9",
   "metadata": {
    "scrolled": true
   },
   "outputs": [
    {
     "name": "stdout",
     "output_type": "stream",
     "text": [
      "8000/80007476\n",
      "154\n"
     ]
    }
   ],
   "source": [
    "props_data = []\n",
    "failed_props = []\n",
    "\n",
    "for i, p in enumerate(database.propositions.keys()):\n",
    "    print(f\"\\r{i+1}/{len(database.propositions)}\", end=\"\")\n",
    "    \n",
    "    if len(database.propositions[p].entails_proof_steps) == 0:\n",
    "        continue\n",
    "        \n",
    "    try:\n",
    "        props_data.append(get_prop_dataset(p))\n",
    "    except:\n",
    "        failed_props.append(p)\n",
    "        \n",
    "print(len(props_data))\n",
    "print(len(failed_props))"
   ]
  },
  {
   "cell_type": "code",
   "execution_count": null,
   "id": "7440861a",
   "metadata": {},
   "outputs": [],
   "source": [
    "#failed_props"
   ]
  },
  {
   "cell_type": "code",
   "execution_count": 10,
   "id": "6cd09f79",
   "metadata": {},
   "outputs": [],
   "source": [
    "ts = time.time()\n",
    "\n",
    "out_file = open(f\"prop_dataset_{ts}.json\", \"w\")\n",
    "  \n",
    "json.dump(props_data, out_file)\n",
    "  \n",
    "out_file.close()"
   ]
  },
  {
   "cell_type": "code",
   "execution_count": null,
   "id": "1090bbea",
   "metadata": {},
   "outputs": [],
   "source": []
  }
 ],
 "metadata": {
  "kernelspec": {
   "display_name": "Python 3 (ipykernel)",
   "language": "python",
   "name": "python3"
  },
  "language_info": {
   "codemirror_mode": {
    "name": "ipython",
    "version": 3
   },
   "file_extension": ".py",
   "mimetype": "text/x-python",
   "name": "python",
   "nbconvert_exporter": "python",
   "pygments_lexer": "ipython3",
   "version": "3.9.7"
  }
 },
 "nbformat": 4,
 "nbformat_minor": 5
}

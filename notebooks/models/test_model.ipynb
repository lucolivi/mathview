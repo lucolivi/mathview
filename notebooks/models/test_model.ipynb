{
 "cells": [
  {
   "cell_type": "code",
   "execution_count": 1,
   "id": "f22dd83c",
   "metadata": {},
   "outputs": [],
   "source": [
    "import sys\n",
    "sys.path.append(\"../../src\")\n",
    "\n",
    "import pickle\n",
    "import os\n",
    "import numpy as np\n",
    "\n",
    "from theorem_database import TheoremDatabase\n",
    "\n",
    "from expanding import construct_proof\n",
    "\n",
    "from tree_parser import file_contents, meta_math_database\n",
    "\n",
    "from models_functions import get_props_features_xy"
   ]
  },
  {
   "cell_type": "code",
   "execution_count": 2,
   "id": "5dfd693b",
   "metadata": {},
   "outputs": [
    {
     "name": "stdout",
     "output_type": "stream",
     "text": [
      "included 3651825 tokens from ../../data/set_mod.mm\n",
      "proposition: 4000CPU times: user 19.6 s, sys: 1.61 s, total: 21.2 s\n",
      "Wall time: 22.9 s\n"
     ]
    }
   ],
   "source": [
    "%%time\n",
    "\n",
    "text = file_contents(\"../../data/set_mod.mm\")\n",
    "database = meta_math_database(text,n=4000)"
   ]
  },
  {
   "cell_type": "code",
   "execution_count": 3,
   "id": "8320d2ea",
   "metadata": {},
   "outputs": [
    {
     "name": "stdout",
     "output_type": "stream",
     "text": [
      "total 96\r\n",
      "drwx------@ 1 lucasvoliveira  staff    16K Aug 12 00:13 \u001b[34m.\u001b[m\u001b[m\r\n",
      "drwx------@ 1 lucasvoliveira  staff    16K Aug 12 00:13 \u001b[34m..\u001b[m\u001b[m\r\n",
      "drwx------@ 1 lucasvoliveira  staff    16K Aug 12 00:10 \u001b[34m1660273773.971621\u001b[m\u001b[m\r\n",
      "-rwx------@ 1 lucasvoliveira  staff   6.0K Aug 11 23:14 \u001b[31m.DS_Store\u001b[m\u001b[m\r\n"
     ]
    }
   ],
   "source": [
    "!ls -lhSa ../../data/trained_models"
   ]
  },
  {
   "cell_type": "code",
   "execution_count": 4,
   "id": "6ce45a15",
   "metadata": {},
   "outputs": [],
   "source": [
    "model_name = \"1660273773.971621\"\n",
    "model = pickle.load(open(os.path.join(\"../../data/trained_models\", model_name, \"model.pkl\"), \"rb\"))"
   ]
  },
  {
   "cell_type": "code",
   "execution_count": 5,
   "id": "3e457b99",
   "metadata": {},
   "outputs": [],
   "source": [
    "tdb = TheoremDatabase(\"../../data/tdb\")"
   ]
  },
  {
   "cell_type": "code",
   "execution_count": 6,
   "id": "aa1783a4",
   "metadata": {},
   "outputs": [],
   "source": [
    "def get_prop_data(prop_label):\n",
    "    \n",
    "    prop = database.propositions[prop_label]\n",
    "    \n",
    "    prop_proof = construct_proof(prop)\n",
    "\n",
    "    prop_dataset = {\n",
    "#         'id':prop.number,\n",
    "#         'prop': prop_label,\n",
    "        'steps':[],\n",
    "        'links':[]\n",
    "    }\n",
    "\n",
    "    #Populate step numbers\n",
    "    next_step_n = 0\n",
    "    for s in prop_proof.get_steps_df(): \n",
    "        next_step_n += 1\n",
    "        s._step_num = next_step_n\n",
    "\n",
    "\n",
    "    for s in prop_proof.get_steps_df():\n",
    "\n",
    "        prop_dataset[\"steps\"].append((\n",
    "            s._step_num,\n",
    "            s.label,\n",
    "            s.raw_statement,\n",
    "            s.raw_prop_statement,\n",
    "            get_theorem_complexity(s.label), #Lemma complexity\n",
    "            int(s.statement_depth == 0)\n",
    "        ))\n",
    "\n",
    "        for child_s in s.inputs:\n",
    "            prop_dataset[\"links\"].append((child_s._step_num, s._step_num))\n",
    "\n",
    "\n",
    "    return prop_dataset"
   ]
  },
  {
   "cell_type": "code",
   "execution_count": 7,
   "id": "fd5d5d35",
   "metadata": {},
   "outputs": [],
   "source": [
    "def get_theorem_complexity(theorem_name):\n",
    "    theorem = tdb[theorem_name]\n",
    "    \n",
    "    if theorem == None:\n",
    "        return 0\n",
    "    \n",
    "    if \"complexity\" not in theorem:\n",
    "        #print(theorem[\"theorem\"])\n",
    "        \n",
    "        if len(theorem[\"steps\"]) == 0:\n",
    "            theorem[\"complexity\"] = 1\n",
    "        else:\n",
    "            theorem[\"complexity\"] = sum([get_theorem_complexity(tt[\"theorem\"]) for tt in theorem[\"steps\"]])\n",
    "            \n",
    "    return theorem[\"complexity\"]"
   ]
  },
  {
   "cell_type": "code",
   "execution_count": 12,
   "id": "740bf9bc",
   "metadata": {},
   "outputs": [],
   "source": [
    "prop_data = get_prop_data(\"dfss2\")"
   ]
  },
  {
   "cell_type": "code",
   "execution_count": 13,
   "id": "6a11a68a",
   "metadata": {},
   "outputs": [],
   "source": [
    "prop_params_x, prop_params_y = get_props_features_xy(prop_data)"
   ]
  },
  {
   "cell_type": "code",
   "execution_count": 14,
   "id": "508c4e75",
   "metadata": {},
   "outputs": [],
   "source": [
    "pred_y = model.predict_proba(prop_params_x)"
   ]
  },
  {
   "cell_type": "code",
   "execution_count": 15,
   "id": "ec8226a5",
   "metadata": {},
   "outputs": [
    {
     "data": {
      "text/plain": [
       "array([0.7065    , 0.84541667, 0.59139286, 0.64933333, 0.8025    ,\n",
       "       0.4025    , 0.41041667, 0.23125   ])"
      ]
     },
     "execution_count": 15,
     "metadata": {},
     "output_type": "execute_result"
    }
   ],
   "source": [
    "pred_y[:,1]"
   ]
  },
  {
   "cell_type": "code",
   "execution_count": 64,
   "id": "e9bb17fd",
   "metadata": {},
   "outputs": [
    {
     "data": {
      "text/plain": [
       "array([0.97666667, 0.98166667, 0.87      , 0.94833333, 0.72666667])"
      ]
     },
     "execution_count": 64,
     "metadata": {},
     "output_type": "execute_result"
    }
   ],
   "source": [
    "pred_y[:,1]"
   ]
  },
  {
   "cell_type": "code",
   "execution_count": 17,
   "id": "fab5171d",
   "metadata": {},
   "outputs": [
    {
     "data": {
      "text/plain": [
       "[(1,\n",
       "  'bitr4i',\n",
       "  '( A C_ B <-> A. x ( x e. A -> x e. B ) )',\n",
       "  '( ph <-> ch )',\n",
       "  10727,\n",
       "  1),\n",
       " (2,\n",
       "  '3bitri',\n",
       "  '( A C_ B <-> A. x ( x e. A <-> ( x e. A /\\\\ x e. B ) ) )',\n",
       "  '( ph <-> th )',\n",
       "  15454,\n",
       "  1),\n",
       " (3,\n",
       "  'dfss',\n",
       "  '( A C_ B <-> A = ( A i^i B ) )',\n",
       "  '( A C_ B <-> A = ( A i^i B ) )',\n",
       "  546507,\n",
       "  1),\n",
       " (4,\n",
       "  'eqeq2i',\n",
       "  '( A = ( A i^i B ) <-> A = { x | ( x e. A /\\\\ x e. B ) } )',\n",
       "  '( C = A <-> C = B )',\n",
       "  1409025,\n",
       "  1),\n",
       " (5,\n",
       "  'df-in',\n",
       "  '( A i^i B ) = { x | ( x e. A /\\\\ x e. B ) }',\n",
       "  '( A i^i B ) = { x | ( x e. A /\\\\ x e. B ) }',\n",
       "  1,\n",
       "  1),\n",
       " (6,\n",
       "  'abeq2',\n",
       "  '( A = { x | ( x e. A /\\\\ x e. B ) } <-> A. x ( x e. A <-> ( x e. A /\\\\ x e. B ) ) )',\n",
       "  '( A = { x | ph } <-> A. x ( x e. A <-> ph ) )',\n",
       "  155514667,\n",
       "  1),\n",
       " (7,\n",
       "  'albii',\n",
       "  '( A. x ( x e. A -> x e. B ) <-> A. x ( x e. A <-> ( x e. A /\\\\ x e. B ) ) )',\n",
       "  '( A. x ph <-> A. x ps )',\n",
       "  3027,\n",
       "  1),\n",
       " (8,\n",
       "  'pm4.71',\n",
       "  '( ( x e. A -> x e. B ) <-> ( x e. A <-> ( x e. A /\\\\ x e. B ) ) )',\n",
       "  '( ( ph -> ps ) <-> ( ph <-> ( ph /\\\\ ps ) ) )',\n",
       "  47647,\n",
       "  1)]"
      ]
     },
     "execution_count": 17,
     "metadata": {},
     "output_type": "execute_result"
    }
   ],
   "source": [
    "prop_data[\"steps\"]"
   ]
  },
  {
   "cell_type": "code",
   "execution_count": null,
   "id": "a0c149e6",
   "metadata": {},
   "outputs": [],
   "source": []
  }
 ],
 "metadata": {
  "kernelspec": {
   "display_name": "Python 3 (ipykernel)",
   "language": "python",
   "name": "python3"
  },
  "language_info": {
   "codemirror_mode": {
    "name": "ipython",
    "version": 3
   },
   "file_extension": ".py",
   "mimetype": "text/x-python",
   "name": "python",
   "nbconvert_exporter": "python",
   "pygments_lexer": "ipython3",
   "version": "3.9.7"
  }
 },
 "nbformat": 4,
 "nbformat_minor": 5
}

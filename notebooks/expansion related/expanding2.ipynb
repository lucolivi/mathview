{
 "cells": [
  {
   "cell_type": "markdown",
   "id": "67b98295",
   "metadata": {},
   "source": [
    "## Expanding function to be used to expand theorems to help comprehension"
   ]
  },
  {
   "cell_type": "code",
   "execution_count": 1,
   "id": "146cd96f",
   "metadata": {},
   "outputs": [],
   "source": [
    "from adapt_utils import replace_symbols\n",
    "\n",
    "from tree_parser import *\n",
    "from tree_parser import proof_step\n",
    "\n",
    "import networkx as nx\n",
    "\n",
    "import matplotlib\n",
    "import matplotlib.pyplot as plt\n",
    "\n",
    "import copy\n",
    "\n",
    "import time\n",
    "\n",
    "from adapt_utils import replace_symbols\n",
    "from my_utils import print_proof_props_graph, get_proof_steps, print_ident_proof, print_proof_linear_steps\n",
    "from my_utils import get_proof_steps_graph, print_proof_steps_graph\n",
    "\n",
    "import pickle\n",
    "\n"
   ]
  },
  {
   "cell_type": "code",
   "execution_count": 7,
   "id": "dcf819f8",
   "metadata": {},
   "outputs": [
    {
     "name": "stdout",
     "output_type": "stream",
     "text": [
      "included 5555695 tokens from set.mm\n",
      "proposition: 3500CPU times: user 10.4 s, sys: 349 ms, total: 10.8 s\n",
      "Wall time: 10.9 s\n"
     ]
    }
   ],
   "source": [
    "%%time\n",
    "\n",
    "text = file_contents()\n",
    "database = meta_math_database(text,n=3500)"
   ]
  },
  {
   "cell_type": "code",
   "execution_count": 330,
   "id": "a1672ba3",
   "metadata": {},
   "outputs": [],
   "source": [
    "context_values = dict()\n",
    "\n",
    "for prop in database.propositions_list:\n",
    "    for k, v in prop.f.items():\n",
    "        if k in context_values:\n",
    "            if v.statement != context_values[k]:\n",
    "                print(k, v.statement, context_values[k])\n",
    "                break\n",
    "        else:\n",
    "            context_values[k] = v.statement"
   ]
  },
  {
   "cell_type": "code",
   "execution_count": 342,
   "id": "aff8578c",
   "metadata": {},
   "outputs": [],
   "source": [
    "def eval_tree(tree):\n",
    "    if tree.value in context_values: \n",
    "        return context_values[tree.value]\n",
    "    \n",
    "    prop = database.propositions[tree.value]\n",
    "    assert len(tree.leaves)==len(prop.hyps)\n",
    "    \n",
    "    replacement_dict = {prop.hyps[i].variable: eval_tree(tree.leaves[i]) for i in range(len(prop.hyps)) if prop.hyps[i].type == \"f\"} #find the replacement rules for the variables\n",
    "    #print 'replacement_dict', replacement_dict, 'applied to', prop.statement\n",
    "    return string_replace(prop.statement[1:],replacement_dict)\n",
    "\n",
    "def tree2str(tree):\n",
    "    evaluated_tree = eval_tree(tree)\n",
    "    return replace_symbols(\" \".join(evaluated_tree))"
   ]
  },
  {
   "cell_type": "code",
   "execution_count": 825,
   "id": "93458d9e",
   "metadata": {},
   "outputs": [],
   "source": [
    "class PTree:\n",
    "    def __init__(self, value, leaves):\n",
    "        self._default_value = value\n",
    "        self._default_leaves = leaves\n",
    "        self._connected_ptree = None\n",
    "        \n",
    "    def __repr__(self):\n",
    "        return self.__str__()\n",
    "\n",
    "    def __str__(self):\n",
    "        return '<PTree: ' + self.stringify() + '>'\n",
    "    \n",
    "    @property\n",
    "    def value(self):\n",
    "        if self._connected_ptree:\n",
    "            return self._connected_ptree.value\n",
    "        return self._default_value\n",
    "    \n",
    "    @property\n",
    "    def leaves(self):\n",
    "        if self._connected_ptree:\n",
    "            return self._connected_ptree.leaves\n",
    "        \n",
    "        return self._default_leaves\n",
    "\n",
    "    def stringify(self):\n",
    "        if self.value is None: \n",
    "            return \"???\"  # for the beam search\n",
    "        \n",
    "        out = self.value + \"(\"\n",
    "        dontaddcomma = True\n",
    "        for l in self.leaves:\n",
    "            if not dontaddcomma: \n",
    "                out += \",\"\n",
    "            else: \n",
    "                dontaddcomma = False\n",
    "            out += l.stringify()\n",
    "        out += \")\"\n",
    "        return out\n",
    "    \n",
    "    @property\n",
    "    def statement(self):\n",
    "        return tree2str(self)\n",
    "            \n",
    "    def connect(self, target_tree):\n",
    "        assert target_tree.value == self.value, f\"{target_tree.value} {self.value}\"\n",
    "        assert len(target_tree.leaves) == len(self.leaves)\n",
    "        \n",
    "        #We can connect direct as the command below because other trees here are references by the symbols, \n",
    "        #not by the tree itself, since the arrangements of symbols are diferent.\n",
    "        #self._connected_ptree = target_tree <- This doesnt work due that\n",
    "        for this_leaf, target_leaf in zip(self.leaves, target_tree.leaves):\n",
    "            this_leaf._connected_ptree = target_leaf\n",
    "            \n",
    "    def disconnect(self):\n",
    "        for this_leaf in self.leaves:\n",
    "            this_leaf._connected_ptree = None\n",
    "\n",
    "# class PTreePlaceholder:\n",
    "#     def __init__(self):\n",
    "#         self.tree = None\n",
    "    \n",
    "#     @property\n",
    "#     def value(self):\n",
    "#         return self.tree.value\n",
    "    \n",
    "#     @property\n",
    "#     def leaves(self):\n",
    "#         return self.tree.leaves\n",
    "         \n",
    "#     def stringify(self):\n",
    "#         return self.tree.stringify()\n",
    "    \n",
    "#     def __repr__(self):\n",
    "#         return self.__str__()\n",
    "\n",
    "#     def __str__(self):\n",
    "#         return '<PTreePlaceholder: ' + self.stringify() + '>'"
   ]
  },
  {
   "cell_type": "code",
   "execution_count": 826,
   "id": "cfd02a44",
   "metadata": {},
   "outputs": [],
   "source": [
    "def tree2ptree(tree, ph_dict={}):\n",
    "\n",
    "    new_leaves = []\n",
    "    for l in tree.leaves:\n",
    "        if str(l) not in ph_dict:\n",
    "            ph_dict[str(l)] = tree2ptree(l, ph_dict)\n",
    "        new_leaves.append(ph_dict[str(l)])\n",
    "    \n",
    "    return PTree(tree.value, new_leaves)"
   ]
  },
  {
   "cell_type": "code",
   "execution_count": 827,
   "id": "fcdfc867",
   "metadata": {},
   "outputs": [
    {
     "ename": "AttributeError",
     "evalue": "'PTree' object has no attribute 'get_statement'",
     "output_type": "error",
     "traceback": [
      "\u001b[0;31m---------------------------------------------------------------------------\u001b[0m",
      "\u001b[0;31mAttributeError\u001b[0m                            Traceback (most recent call last)",
      "\u001b[0;32m/var/folders/l2/7llyhwlx5nd60gwdz55p43cr0000gn/T/ipykernel_16025/2277688134.py\u001b[0m in \u001b[0;36m<module>\u001b[0;34m\u001b[0m\n\u001b[1;32m      1\u001b[0m \u001b[0mprop\u001b[0m \u001b[0;34m=\u001b[0m \u001b[0mdatabase\u001b[0m\u001b[0;34m.\u001b[0m\u001b[0mpropositions\u001b[0m\u001b[0;34m[\u001b[0m\u001b[0;34m\"bitr4i\"\u001b[0m\u001b[0;34m]\u001b[0m\u001b[0;34m\u001b[0m\u001b[0;34m\u001b[0m\u001b[0m\n\u001b[0;32m----> 2\u001b[0;31m \u001b[0mtree2ptree\u001b[0m\u001b[0;34m(\u001b[0m\u001b[0mprop\u001b[0m\u001b[0;34m.\u001b[0m\u001b[0mtree\u001b[0m\u001b[0;34m)\u001b[0m\u001b[0;34m.\u001b[0m\u001b[0mget_statement\u001b[0m\u001b[0;34m(\u001b[0m\u001b[0;34m)\u001b[0m\u001b[0;34m\u001b[0m\u001b[0;34m\u001b[0m\u001b[0m\n\u001b[0m",
      "\u001b[0;31mAttributeError\u001b[0m: 'PTree' object has no attribute 'get_statement'"
     ]
    }
   ],
   "source": [
    "prop = database.propositions[\"bitr4i\"]\n",
    "tree2ptree(prop.tree).get_statement()"
   ]
  },
  {
   "cell_type": "code",
   "execution_count": 828,
   "id": "40976c6a",
   "metadata": {},
   "outputs": [],
   "source": [
    "# def connect_trees(output_trees, input_trees, trees_to_update=[]):\n",
    "    \n",
    "#     assert len(output_trees) == len(input_trees)\n",
    "    \n",
    "#     repdict = {}\n",
    "    \n",
    "#     for output_tree, input_tree in zip(output_trees, input_trees):\n",
    "       \n",
    "#         raw_tree = input_tree\n",
    "#         rep_tree = output_tree\n",
    "\n",
    "#         for pos in raw_tree.breadth_first_position_list():\n",
    "#             raw_subtree = raw_tree.tree_at_position(pos)\n",
    "#             rep_subtree = rep_tree.tree_at_position(pos)\n",
    "#             if raw_subtree.value != rep_subtree.value:\n",
    "#                 repdict[raw_subtree.value] = rep_subtree\n",
    "\n",
    "#         input_tree.replace(repdict)\n",
    "        \n",
    "#     #Update additional trees in the list\n",
    "#     for t in trees_to_update:\n",
    "#         t.replace(repdict)\n",
    "        \n",
    " \n",
    "\n",
    "\n",
    "class PNode:\n",
    "    def __init__(self, prop):\n",
    "        ph_dict = {}\n",
    "        \n",
    "        self._prop = prop\n",
    "        self.output_tree = tree2ptree(prop.tree, ph_dict)\n",
    "        self.input_trees = [tree2ptree(h.tree, ph_dict) for h in prop.hyps if h.type == 'e']\n",
    "        self.output = None\n",
    "        self.inputs = []\n",
    "    \n",
    "    @property\n",
    "    def statement(self):\n",
    "        return self.output_tree.statement\n",
    "    \n",
    "    def expand(self):\n",
    "        #Return set of PNodes\n",
    "        #Return the root PNode\n",
    "        pass"
   ]
  },
  {
   "cell_type": "code",
   "execution_count": 829,
   "id": "cbbcdfb2",
   "metadata": {},
   "outputs": [
    {
     "data": {
      "text/plain": [
       "'( 𝜑 ↔ 𝜒 )'"
      ]
     },
     "execution_count": 829,
     "metadata": {},
     "output_type": "execute_result"
    }
   ],
   "source": [
    "prop1 = database.propositions[\"bitr4i\"]\n",
    "pn1 = PNode(prop1)\n",
    "pn1.statement"
   ]
  },
  {
   "cell_type": "code",
   "execution_count": 830,
   "id": "67a31153",
   "metadata": {},
   "outputs": [
    {
     "data": {
      "text/plain": [
       "'( 𝜑 ↔ 𝜃 )'"
      ]
     },
     "execution_count": 830,
     "metadata": {},
     "output_type": "execute_result"
    }
   ],
   "source": [
    "prop2 = database.propositions[\"3bitri\"]\n",
    "pn2 = PNode(prop2)\n",
    "pn2.statement"
   ]
  },
  {
   "cell_type": "code",
   "execution_count": 831,
   "id": "4cf43f0c",
   "metadata": {},
   "outputs": [
    {
     "data": {
      "text/plain": [
       "'( ∀ x 𝜑 ↔ ∀ x 𝜓 )'"
      ]
     },
     "execution_count": 831,
     "metadata": {},
     "output_type": "execute_result"
    }
   ],
   "source": [
    "prop3 = database.propositions[\"albii\"]\n",
    "pn3 = PNode(prop3)\n",
    "pn3.statement"
   ]
  },
  {
   "cell_type": "code",
   "execution_count": 832,
   "id": "26d032a8",
   "metadata": {},
   "outputs": [
    {
     "data": {
      "text/plain": [
       "'( ( 𝜑 → 𝜓 ) ↔ ( 𝜑 ↔ ( 𝜑 ∧ 𝜓 ) ) )'"
      ]
     },
     "execution_count": 832,
     "metadata": {},
     "output_type": "execute_result"
    }
   ],
   "source": [
    "prop4 = database.propositions[\"pm4.71\"]\n",
    "pn4 = PNode(prop4)\n",
    "pn4.statement"
   ]
  },
  {
   "cell_type": "code",
   "execution_count": 833,
   "id": "e82ea833",
   "metadata": {},
   "outputs": [
    {
     "data": {
      "text/plain": [
       "'( A ⊆ B ↔ A = ( A ∩ B ) )'"
      ]
     },
     "execution_count": 833,
     "metadata": {},
     "output_type": "execute_result"
    }
   ],
   "source": [
    "prop5 = database.propositions[\"dfss\"]\n",
    "pn5 = PNode(prop5)\n",
    "pn5.statement"
   ]
  },
  {
   "cell_type": "code",
   "execution_count": 834,
   "id": "4dbd1957",
   "metadata": {},
   "outputs": [
    {
     "data": {
      "text/plain": [
       "'( C = A ↔ C = B )'"
      ]
     },
     "execution_count": 834,
     "metadata": {},
     "output_type": "execute_result"
    }
   ],
   "source": [
    "prop6 = database.propositions[\"eqeq2i\"]\n",
    "pn6 = PNode(prop6)\n",
    "pn6.statement"
   ]
  },
  {
   "cell_type": "code",
   "execution_count": 835,
   "id": "10ba9be1",
   "metadata": {},
   "outputs": [
    {
     "data": {
      "text/plain": [
       "'( A = { x | 𝜑 } ↔ ∀ x ( x ∈ A ↔ 𝜑 ) )'"
      ]
     },
     "execution_count": 835,
     "metadata": {},
     "output_type": "execute_result"
    }
   ],
   "source": [
    "prop7 = database.propositions[\"abeq2\"]\n",
    "pn7 = PNode(prop7)\n",
    "pn7.statement"
   ]
  },
  {
   "cell_type": "code",
   "execution_count": 836,
   "id": "a12b43f1",
   "metadata": {},
   "outputs": [
    {
     "data": {
      "text/plain": [
       "'( 𝜑 ↔ 𝜒 )'"
      ]
     },
     "execution_count": 836,
     "metadata": {},
     "output_type": "execute_result"
    }
   ],
   "source": [
    "pn1.input_trees[0].connect(pn2.output_tree)\n",
    "pn1.statement"
   ]
  },
  {
   "cell_type": "code",
   "execution_count": 837,
   "id": "ec1c09dc",
   "metadata": {},
   "outputs": [
    {
     "data": {
      "text/plain": [
       "'( A ⊆ B ↔ 𝜃 )'"
      ]
     },
     "execution_count": 837,
     "metadata": {},
     "output_type": "execute_result"
    }
   ],
   "source": [
    "pn2.input_trees[0].connect(pn5.output_tree)\n",
    "pn2.statement"
   ]
  },
  {
   "cell_type": "code",
   "execution_count": 838,
   "id": "0e89fd5a",
   "metadata": {},
   "outputs": [
    {
     "data": {
      "text/plain": [
       "'( A ⊆ B ↔ 𝜒 )'"
      ]
     },
     "execution_count": 838,
     "metadata": {},
     "output_type": "execute_result"
    }
   ],
   "source": [
    "pn1.statement"
   ]
  },
  {
   "cell_type": "code",
   "execution_count": 839,
   "id": "7ccea461",
   "metadata": {},
   "outputs": [
    {
     "data": {
      "text/plain": [
       "'( A ⊆ B ↔ ∀ x ( x ∈ A → x ∈ B ) )'"
      ]
     },
     "execution_count": 839,
     "metadata": {},
     "output_type": "execute_result"
    }
   ],
   "source": [
    "prop0 = database.propositions[\"dfss2\"]\n",
    "pn0 = PNode(prop0)\n",
    "pn0.statement"
   ]
  },
  {
   "cell_type": "code",
   "execution_count": 840,
   "id": "1be47770",
   "metadata": {},
   "outputs": [
    {
     "data": {
      "text/plain": [
       "'( 𝜑 ↔ 𝜒 )'"
      ]
     },
     "execution_count": 840,
     "metadata": {},
     "output_type": "execute_result"
    }
   ],
   "source": [
    "prop1 = database.propositions[\"bitr4i\"]\n",
    "pn1 = PNode(prop1)\n",
    "pn1.statement"
   ]
  },
  {
   "cell_type": "code",
   "execution_count": 841,
   "id": "d660debb",
   "metadata": {},
   "outputs": [],
   "source": [
    "pn1.output_tree.connect(pn0.output_tree)"
   ]
  },
  {
   "cell_type": "code",
   "execution_count": 842,
   "id": "07c07691",
   "metadata": {},
   "outputs": [
    {
     "data": {
      "text/plain": [
       "'( A ⊆ B ↔ ∀ x ( x ∈ A → x ∈ B ) )'"
      ]
     },
     "execution_count": 842,
     "metadata": {},
     "output_type": "execute_result"
    }
   ],
   "source": [
    "pn1.statement"
   ]
  },
  {
   "cell_type": "code",
   "execution_count": 843,
   "id": "b9884f0b",
   "metadata": {},
   "outputs": [
    {
     "data": {
      "text/plain": [
       "'( A ⊆ B ↔ 𝜓 )'"
      ]
     },
     "execution_count": 843,
     "metadata": {},
     "output_type": "execute_result"
    }
   ],
   "source": [
    "pn1.input_trees[0].statement"
   ]
  },
  {
   "cell_type": "code",
   "execution_count": 844,
   "id": "19a8dc28",
   "metadata": {},
   "outputs": [
    {
     "data": {
      "text/plain": [
       "'( ∀ x ( x ∈ A → x ∈ B ) ↔ 𝜓 )'"
      ]
     },
     "execution_count": 844,
     "metadata": {},
     "output_type": "execute_result"
    }
   ],
   "source": [
    "pn1.input_trees[1].statement"
   ]
  },
  {
   "cell_type": "code",
   "execution_count": 845,
   "id": "f3e2fa5a",
   "metadata": {},
   "outputs": [
    {
     "data": {
      "text/plain": [
       "'( 𝜑 ↔ 𝜃 )'"
      ]
     },
     "execution_count": 845,
     "metadata": {},
     "output_type": "execute_result"
    }
   ],
   "source": [
    "prop2 = database.propositions[\"3bitri\"]\n",
    "pn2 = PNode(prop2)\n",
    "pn2.statement"
   ]
  },
  {
   "cell_type": "code",
   "execution_count": 846,
   "id": "6dc9078b",
   "metadata": {},
   "outputs": [],
   "source": [
    "pn2.output_tree.connect(pn1.input_trees[0])"
   ]
  },
  {
   "cell_type": "code",
   "execution_count": 847,
   "id": "8b82bb7f",
   "metadata": {},
   "outputs": [
    {
     "data": {
      "text/plain": [
       "'( A ⊆ B ↔ 𝜓 )'"
      ]
     },
     "execution_count": 847,
     "metadata": {},
     "output_type": "execute_result"
    }
   ],
   "source": [
    "pn2.statement"
   ]
  },
  {
   "cell_type": "code",
   "execution_count": 822,
   "id": "5cde4ccd",
   "metadata": {},
   "outputs": [
    {
     "data": {
      "text/plain": [
       "'( 𝜒 ↔ 𝜓 )'"
      ]
     },
     "execution_count": 822,
     "metadata": {},
     "output_type": "execute_result"
    }
   ],
   "source": [
    "pn2.input_trees[2].statement"
   ]
  },
  {
   "cell_type": "code",
   "execution_count": 848,
   "id": "64e23962",
   "metadata": {},
   "outputs": [
    {
     "data": {
      "text/plain": [
       "'( A ∩ B ) = { x | ( x ∈ A ∧ x ∈ B ) }'"
      ]
     },
     "execution_count": 848,
     "metadata": {},
     "output_type": "execute_result"
    }
   ],
   "source": [
    "prop22 = database.propositions[\"df-in\"]\n",
    "pn22 = PNode(prop22)\n",
    "pn22.statement"
   ]
  },
  {
   "cell_type": "code",
   "execution_count": 851,
   "id": "e941a6e0",
   "metadata": {},
   "outputs": [
    {
     "data": {
      "text/plain": [
       "'( C = A ↔ C = B )'"
      ]
     },
     "execution_count": 851,
     "metadata": {},
     "output_type": "execute_result"
    }
   ],
   "source": [
    "prop23 = database.propositions[\"eqeq2i\"]\n",
    "pn23 = PNode(prop23)\n",
    "pn23.statement"
   ]
  },
  {
   "cell_type": "code",
   "execution_count": 853,
   "id": "15503b17",
   "metadata": {},
   "outputs": [],
   "source": [
    "pn23.input_trees[0].connect(pn22.output_tree)"
   ]
  },
  {
   "cell_type": "code",
   "execution_count": 854,
   "id": "662a62a1",
   "metadata": {},
   "outputs": [
    {
     "data": {
      "text/plain": [
       "'( C = ( A ∩ B ) ↔ C = { x | ( x ∈ A ∧ x ∈ B ) } )'"
      ]
     },
     "execution_count": 854,
     "metadata": {},
     "output_type": "execute_result"
    }
   ],
   "source": [
    "pn23.statement"
   ]
  },
  {
   "cell_type": "code",
   "execution_count": 855,
   "id": "aee984e9",
   "metadata": {},
   "outputs": [
    {
     "data": {
      "text/plain": [
       "'( A ⊆ B ↔ C = { x | ( x ∈ A ∧ x ∈ B ) } )'"
      ]
     },
     "execution_count": 855,
     "metadata": {},
     "output_type": "execute_result"
    }
   ],
   "source": [
    "pn2.input_trees[2].connect(pn23.output_tree)\n",
    "pn2.statement"
   ]
  },
  {
   "cell_type": "code",
   "execution_count": null,
   "id": "f17e5835",
   "metadata": {},
   "outputs": [],
   "source": [
    "Pelo bug de cima isso aqui vai dar muita zica"
   ]
  },
  {
   "cell_type": "code",
   "execution_count": 823,
   "id": "fb654067",
   "metadata": {},
   "outputs": [
    {
     "data": {
      "text/plain": [
       "'( A ⊆ B ↔ A = ( A ∩ B ) )'"
      ]
     },
     "execution_count": 823,
     "metadata": {},
     "output_type": "execute_result"
    }
   ],
   "source": [
    "prop5 = database.propositions[\"dfss\"]\n",
    "pn5 = PNode(prop5)\n",
    "pn5.statement"
   ]
  },
  {
   "cell_type": "code",
   "execution_count": 824,
   "id": "ad944fbd",
   "metadata": {},
   "outputs": [
    {
     "data": {
      "text/plain": [
       "'( A ⊆ B ↔ 𝜓 )'"
      ]
     },
     "execution_count": 824,
     "metadata": {},
     "output_type": "execute_result"
    }
   ],
   "source": [
    "pn5.output_tree.connect(pn2.input_trees[0])\n",
    "pn5.statement"
   ]
  },
  {
   "cell_type": "code",
   "execution_count": 730,
   "id": "afa671dd",
   "metadata": {
    "scrolled": true
   },
   "outputs": [
    {
     "data": {
      "text/plain": [
       "<PTree: wb(wss(cA(),cB()),wceq(cA(),cin(cA(),cB())))>"
      ]
     },
     "execution_count": 730,
     "metadata": {},
     "output_type": "execute_result"
    }
   ],
   "source": [
    "pn2.input_trees[0]._connected_ptree"
   ]
  },
  {
   "cell_type": "code",
   "execution_count": 731,
   "id": "438b7068",
   "metadata": {},
   "outputs": [
    {
     "data": {
      "text/plain": [
       "<PTree: wb(wss(cA(),cB()),wceq(cA(),cin(cA(),cB())))>"
      ]
     },
     "execution_count": 731,
     "metadata": {},
     "output_type": "execute_result"
    }
   ],
   "source": [
    "pn2.input_trees[0]"
   ]
  },
  {
   "cell_type": "code",
   "execution_count": 733,
   "id": "9113f77f",
   "metadata": {},
   "outputs": [
    {
     "data": {
      "text/plain": [
       "<PTree: wb(wph(),wth())>"
      ]
     },
     "execution_count": 733,
     "metadata": {},
     "output_type": "execute_result"
    }
   ],
   "source": [
    "pn2.output_tree"
   ]
  },
  {
   "cell_type": "code",
   "execution_count": 707,
   "id": "ed3f3018",
   "metadata": {},
   "outputs": [
    {
     "data": {
      "text/plain": [
       "'( A ⊆ B ↔ 𝜃 )'"
      ]
     },
     "execution_count": 707,
     "metadata": {},
     "output_type": "execute_result"
    }
   ],
   "source": [
    "pn2.input_trees[1].connect(pn6.output_tree)\n",
    "pn2.describe()"
   ]
  },
  {
   "cell_type": "code",
   "execution_count": 711,
   "id": "012ae6b1",
   "metadata": {},
   "outputs": [
    {
     "data": {
      "text/plain": [
       "'( A ⊆ B ↔ ∀ x ( x ∈ A ↔ 𝜑 ) )'"
      ]
     },
     "execution_count": 711,
     "metadata": {},
     "output_type": "execute_result"
    }
   ],
   "source": [
    "pn2.input_trees[2].connect(pn7.output_tree)\n",
    "pn2.describe()"
   ]
  },
  {
   "cell_type": "code",
   "execution_count": 712,
   "id": "92fd9000",
   "metadata": {},
   "outputs": [
    {
     "data": {
      "text/plain": [
       "'( A ⊆ B ↔ 𝜒 )'"
      ]
     },
     "execution_count": 712,
     "metadata": {},
     "output_type": "execute_result"
    }
   ],
   "source": [
    "pn1.describe()"
   ]
  },
  {
   "cell_type": "markdown",
   "id": "1c6f7282",
   "metadata": {},
   "source": [
    "o problema aqui são as variaveis que nao tem origem nenhuma, teria que propaga-las para baixo. Talvez o esquema seja usar mesmo o que ja tava fazendo com os replace dict"
   ]
  },
  {
   "cell_type": "code",
   "execution_count": null,
   "id": "de21c634",
   "metadata": {},
   "outputs": [],
   "source": []
  },
  {
   "cell_type": "code",
   "execution_count": 704,
   "id": "125f5a1e",
   "metadata": {},
   "outputs": [
    {
     "data": {
      "text/plain": [
       "<PTree: wb(wss(cA(),cB()),wth())>"
      ]
     },
     "execution_count": 704,
     "metadata": {},
     "output_type": "execute_result"
    }
   ],
   "source": [
    "pn2.output_tree"
   ]
  },
  {
   "cell_type": "code",
   "execution_count": 638,
   "id": "dff4e225",
   "metadata": {},
   "outputs": [],
   "source": [
    "pn3.input_trees[0].connect(pn4.output_tree)"
   ]
  },
  {
   "cell_type": "code",
   "execution_count": 510,
   "id": "d09cc810",
   "metadata": {},
   "outputs": [
    {
     "data": {
      "text/plain": [
       "'( ∀ x ( 𝜑 → 𝜓 ) ↔ ∀ x ( 𝜑 ↔ ( 𝜑 ∧ 𝜓 ) ) )'"
      ]
     },
     "execution_count": 510,
     "metadata": {},
     "output_type": "execute_result"
    }
   ],
   "source": [
    "pn3.describe()"
   ]
  },
  {
   "cell_type": "code",
   "execution_count": 512,
   "id": "7770b1fb",
   "metadata": {},
   "outputs": [],
   "source": [
    "pn1.input_trees[1].connect(pn3.output_tree)"
   ]
  },
  {
   "cell_type": "code",
   "execution_count": 513,
   "id": "a82c66f0",
   "metadata": {},
   "outputs": [
    {
     "data": {
      "text/plain": [
       "'( 𝜑 ↔ ∀ x ( 𝜑 → 𝜓 ) )'"
      ]
     },
     "execution_count": 513,
     "metadata": {},
     "output_type": "execute_result"
    }
   ],
   "source": [
    "pn1.describe()"
   ]
  },
  {
   "cell_type": "code",
   "execution_count": 515,
   "id": "1c104372",
   "metadata": {},
   "outputs": [],
   "source": [
    "pn1.input_trees[0].connect(pn2.output_tree)"
   ]
  },
  {
   "cell_type": "code",
   "execution_count": 526,
   "id": "5704f09c",
   "metadata": {},
   "outputs": [
    {
     "data": {
      "text/plain": [
       "<PTree: wb(wph(),wal(wi(wph(),wps()),vx()))>"
      ]
     },
     "execution_count": 526,
     "metadata": {},
     "output_type": "execute_result"
    }
   ],
   "source": [
    "pn1.output_tree"
   ]
  },
  {
   "cell_type": "code",
   "execution_count": 521,
   "id": "80164e39",
   "metadata": {},
   "outputs": [],
   "source": [
    "pn2.input_trees[0].connect(pn5.output_tree)"
   ]
  },
  {
   "cell_type": "code",
   "execution_count": 524,
   "id": "a142a8d3",
   "metadata": {},
   "outputs": [
    {
     "data": {
      "text/plain": [
       "'( A ⊆ B ↔ 𝜃 )'"
      ]
     },
     "execution_count": 524,
     "metadata": {},
     "output_type": "execute_result"
    }
   ],
   "source": [
    "pn2.describe()"
   ]
  },
  {
   "cell_type": "code",
   "execution_count": 520,
   "id": "613f3936",
   "metadata": {},
   "outputs": [
    {
     "data": {
      "text/plain": [
       "'( A ⊆ B ↔ A = ( A ∩ B ) )'"
      ]
     },
     "execution_count": 520,
     "metadata": {},
     "output_type": "execute_result"
    }
   ],
   "source": []
  },
  {
   "cell_type": "code",
   "execution_count": null,
   "id": "005fbfb5",
   "metadata": {},
   "outputs": [],
   "source": []
  },
  {
   "cell_type": "code",
   "execution_count": 497,
   "id": "73f4b00e",
   "metadata": {},
   "outputs": [],
   "source": [
    "pn1.input_trees[0].connect(pn2.output_tree)"
   ]
  },
  {
   "cell_type": "code",
   "execution_count": 498,
   "id": "822a4218",
   "metadata": {},
   "outputs": [
    {
     "data": {
      "text/plain": [
       "'( 𝜑 ↔ 𝜒 )'"
      ]
     },
     "execution_count": 498,
     "metadata": {},
     "output_type": "execute_result"
    }
   ],
   "source": [
    "pn1.describe()"
   ]
  },
  {
   "cell_type": "code",
   "execution_count": 499,
   "id": "98ca62e0",
   "metadata": {},
   "outputs": [],
   "source": [
    "pn1.input_trees[1].connect(pn3.output_tree)"
   ]
  },
  {
   "cell_type": "code",
   "execution_count": 500,
   "id": "85c730f3",
   "metadata": {},
   "outputs": [
    {
     "data": {
      "text/plain": [
       "'( 𝜑 ↔ ∀ x 𝜑 )'"
      ]
     },
     "execution_count": 500,
     "metadata": {},
     "output_type": "execute_result"
    }
   ],
   "source": [
    "pn1.describe()"
   ]
  },
  {
   "cell_type": "code",
   "execution_count": 480,
   "id": "3b2b5133",
   "metadata": {},
   "outputs": [
    {
     "data": {
      "text/plain": [
       "<PTree: wb(wph(),wth())>"
      ]
     },
     "execution_count": 480,
     "metadata": {},
     "output_type": "execute_result"
    }
   ],
   "source": [
    "pn2.output_tree"
   ]
  },
  {
   "cell_type": "code",
   "execution_count": null,
   "id": "c1bbb783",
   "metadata": {},
   "outputs": [],
   "source": []
  },
  {
   "cell_type": "code",
   "execution_count": 427,
   "id": "2eca63d6",
   "metadata": {},
   "outputs": [],
   "source": [
    "connect_trees([pn2.output_tree, pn3.output_tree], pn1.input_trees, [pn1.output_tree])"
   ]
  },
  {
   "cell_type": "code",
   "execution_count": 428,
   "id": "90c22013",
   "metadata": {},
   "outputs": [
    {
     "data": {
      "text/plain": [
       "[<Tree: wb(wph(),wth())>, <Tree: wb(wal(wph(),vx()),wal(wps(),vx()))>]"
      ]
     },
     "execution_count": 428,
     "metadata": {},
     "output_type": "execute_result"
    }
   ],
   "source": [
    "pn1.input_trees"
   ]
  },
  {
   "cell_type": "code",
   "execution_count": 429,
   "id": "671facd8",
   "metadata": {},
   "outputs": [
    {
     "data": {
      "text/plain": [
       "<Tree: wb(wph(),wal(wph(),vx()))>"
      ]
     },
     "execution_count": 429,
     "metadata": {},
     "output_type": "execute_result"
    }
   ],
   "source": [
    "pn1.output_tree"
   ]
  },
  {
   "cell_type": "code",
   "execution_count": 430,
   "id": "a7f3a37a",
   "metadata": {},
   "outputs": [
    {
     "data": {
      "text/plain": [
       "'( 𝜑 ↔ ∀ x 𝜑 )'"
      ]
     },
     "execution_count": 430,
     "metadata": {},
     "output_type": "execute_result"
    }
   ],
   "source": [
    "pn1.describe()"
   ]
  },
  {
   "cell_type": "code",
   "execution_count": 379,
   "id": "81e4436b",
   "metadata": {},
   "outputs": [
    {
     "data": {
      "text/plain": [
       "'( A ⊆ B ↔ ∀ x ( x ∈ A → x ∈ B ) )'"
      ]
     },
     "execution_count": 379,
     "metadata": {},
     "output_type": "execute_result"
    }
   ],
   "source": [
    "prop = database.propositions[\"dfss2\"]\n",
    "pn = PNode(prop)\n",
    "pn.describe()"
   ]
  },
  {
   "cell_type": "code",
   "execution_count": null,
   "id": "b4c77b6b",
   "metadata": {},
   "outputs": [],
   "source": []
  },
  {
   "cell_type": "code",
   "execution_count": null,
   "id": "74118a12",
   "metadata": {},
   "outputs": [],
   "source": []
  },
  {
   "cell_type": "code",
   "execution_count": 373,
   "id": "31602e7e",
   "metadata": {},
   "outputs": [
    {
     "data": {
      "text/plain": [
       "<Tree: wph()>"
      ]
     },
     "execution_count": 373,
     "metadata": {},
     "output_type": "execute_result"
    }
   ],
   "source": [
    "pn.inputs[0].leaves[0]"
   ]
  },
  {
   "cell_type": "code",
   "execution_count": 360,
   "id": "ae128b31",
   "metadata": {},
   "outputs": [
    {
     "data": {
      "text/plain": [
       "True"
      ]
     },
     "execution_count": 360,
     "metadata": {},
     "output_type": "execute_result"
    }
   ],
   "source": [
    "prop.tree.copy().leaves[1] == prop.hyps[-1].tree.leaves[0]"
   ]
  },
  {
   "cell_type": "code",
   "execution_count": 356,
   "id": "121f90f7",
   "metadata": {},
   "outputs": [
    {
     "data": {
      "text/plain": [
       "<Tree: wch()>"
      ]
     },
     "execution_count": 356,
     "metadata": {},
     "output_type": "execute_result"
    }
   ],
   "source": [
    "prop.hyps[-1].tree.leaves[0]"
   ]
  },
  {
   "cell_type": "code",
   "execution_count": 349,
   "id": "3d0affa0",
   "metadata": {},
   "outputs": [
    {
     "data": {
      "text/plain": [
       "[]"
      ]
     },
     "execution_count": 349,
     "metadata": {},
     "output_type": "execute_result"
    }
   ],
   "source": [
    "[h. for h in prop.hyps if h.type == 'e']"
   ]
  },
  {
   "cell_type": "code",
   "execution_count": 4,
   "id": "98cd30ee",
   "metadata": {},
   "outputs": [],
   "source": [
    "#%%time\n",
    "#database = pickle.load(open(\"database10000.pkl\", \"rb\"))"
   ]
  },
  {
   "cell_type": "code",
   "execution_count": 5,
   "id": "dc2ee152",
   "metadata": {},
   "outputs": [],
   "source": [
    "#pickle.dump(database, open(\"database10000.pkl\", \"wb\"))"
   ]
  },
  {
   "cell_type": "code",
   "execution_count": 346,
   "id": "caf19345",
   "metadata": {},
   "outputs": [],
   "source": [
    "#print_proof_linear_steps(\"dfss2\", database)"
   ]
  },
  {
   "cell_type": "code",
   "execution_count": 6,
   "id": "37cb783b",
   "metadata": {},
   "outputs": [],
   "source": [
    "#1. Olhar pro passo\n",
    "#2. Pegar as variaveis F do teorema correspondente ao passo\n",
    "#3. Preencher dentro dos passos dentro da prova do teorema"
   ]
  },
  {
   "cell_type": "code",
   "execution_count": 347,
   "id": "179fe5c7",
   "metadata": {},
   "outputs": [],
   "source": [
    "#print_proof_linear_steps(\"dfss2\", database)"
   ]
  },
  {
   "cell_type": "code",
   "execution_count": 289,
   "id": "37ac2b67",
   "metadata": {},
   "outputs": [],
   "source": [
    "def populate_post_entails(step):\n",
    "    #Get all steps. This is necessary because hypothesis are not natively within entails proof_steps\n",
    "    all_steps = []\n",
    "    for pstep in step.entails_proof_steps:\n",
    "        if pstep not in all_steps:\n",
    "            all_steps.append(pstep)\n",
    "\n",
    "        for prior_pstep in pstep._prior_entails:\n",
    "            if prior_pstep not in all_steps:\n",
    "                all_steps.append(prior_pstep)\n",
    "\n",
    "    for child_step in all_steps:\n",
    "        child_step._post_entail = None\n",
    "        \n",
    "    for child_step in all_steps:\n",
    "        for gchild_step in child_step._prior_entails:\n",
    "            gchild_step._post_entail = child_step"
   ]
  },
  {
   "cell_type": "code",
   "execution_count": null,
   "id": "af53b211",
   "metadata": {},
   "outputs": [],
   "source": [
    "class PNode:\n",
    "    pass\n",
    "        \n",
    "        \n",
    "def create_node(prop):\n",
    "    node = PNode()\n",
    "    "
   ]
  },
  {
   "cell_type": "code",
   "execution_count": 299,
   "id": "f72ae578",
   "metadata": {},
   "outputs": [
    {
     "data": {
      "text/plain": [
       "<Tree: wb(wph(),wch())>"
      ]
     },
     "execution_count": 299,
     "metadata": {},
     "output_type": "execute_result"
    }
   ],
   "source": [
    "prop.tree"
   ]
  },
  {
   "cell_type": "code",
   "execution_count": 295,
   "id": "2523758b",
   "metadata": {},
   "outputs": [
    {
     "data": {
      "text/plain": [
       "'bitr4i'"
      ]
     },
     "execution_count": 295,
     "metadata": {},
     "output_type": "execute_result"
    }
   ],
   "source": [
    "prop.label"
   ]
  },
  {
   "cell_type": "code",
   "execution_count": 300,
   "id": "e7155cf1",
   "metadata": {},
   "outputs": [],
   "source": [
    "prop = database.propositions[\"dfss2\"]"
   ]
  },
  {
   "cell_type": "code",
   "execution_count": 311,
   "id": "35a6115a",
   "metadata": {},
   "outputs": [
    {
     "data": {
      "text/plain": [
       "'|- ( A C_ B <-> A. x ( x e. A -> x e. B ) )'"
      ]
     },
     "execution_count": 311,
     "metadata": {},
     "output_type": "execute_result"
    }
   ],
   "source": [
    "\" \".join(prop.statement)"
   ]
  },
  {
   "cell_type": "code",
   "execution_count": 309,
   "id": "2079c127",
   "metadata": {},
   "outputs": [
    {
     "data": {
      "text/plain": [
       "<Tree: wb(wss(cA(),cB()),wal(wi(wcel(cv(vx()),cA()),wcel(cv(vx()),cB())),vx()))>"
      ]
     },
     "execution_count": 309,
     "metadata": {},
     "output_type": "execute_result"
    }
   ],
   "source": [
    "prop.tree"
   ]
  },
  {
   "cell_type": "code",
   "execution_count": null,
   "id": "84f3d888",
   "metadata": {},
   "outputs": [],
   "source": [
    "tree_values_dict = {\n",
    "    'wb': '<->',\n",
    "    'cA': 'A',\n",
    "    'cB': 'B',\n",
    "    'wss': 'C_',\n",
    "    'wal': 'A.',\n",
    "    'wi': '->',\n",
    "    'wcel': 'e.'\n",
    "    \n",
    "}"
   ]
  },
  {
   "cell_type": "code",
   "execution_count": 329,
   "id": "40dbddd0",
   "metadata": {},
   "outputs": [
    {
     "data": {
      "text/plain": [
       "{'wph': ['ph'],\n",
       " 'wps': ['ps'],\n",
       " 'wch': ['ch'],\n",
       " 'wth': ['th'],\n",
       " 'wta': ['ta'],\n",
       " 'wet': ['et'],\n",
       " 'wze': ['ze'],\n",
       " 'wsi': ['si'],\n",
       " 'wrh': ['rh'],\n",
       " 'wmu': ['mu'],\n",
       " 'wla': ['la'],\n",
       " 'wka': ['ka'],\n",
       " 'vx.wal': ['x'],\n",
       " 'vx.cv': ['x'],\n",
       " 'cA.wceq': ['A'],\n",
       " 'cB.wceq': ['B'],\n",
       " 'vx.tru': ['x'],\n",
       " 'vy.tru': ['y'],\n",
       " 'vx': ['x'],\n",
       " 'vy': ['y'],\n",
       " 'vz': ['z'],\n",
       " 'vw': ['w'],\n",
       " 'vt': ['t'],\n",
       " 'vu': ['u'],\n",
       " 'vv': ['v'],\n",
       " 'v.vs': ['s'],\n",
       " 'wcel.cA': ['A'],\n",
       " 'wcel.cB': ['B'],\n",
       " 'cbvex4v.vf': ['f'],\n",
       " 'cbvex4v.vg': ['g'],\n",
       " 'cA': ['A'],\n",
       " 'cB': ['B'],\n",
       " 'cC': ['C'],\n",
       " 'cD': ['D'],\n",
       " 'cF': ['F'],\n",
       " 'cG': ['G'],\n",
       " 'cE': ['E'],\n",
       " 'cV': ['V'],\n",
       " 'cR': ['R'],\n",
       " 'cS': ['S'],\n",
       " 'cW': ['W'],\n",
       " 'cH': ['H'],\n",
       " 'vs': ['s'],\n",
       " 'cX': ['X'],\n",
       " 'cT': ['T'],\n",
       " 'cQ': ['Q'],\n",
       " 'cY': ['Y'],\n",
       " 'va': ['a']}"
      ]
     },
     "execution_count": 329,
     "metadata": {},
     "output_type": "execute_result"
    }
   ],
   "source": [
    "context_values"
   ]
  },
  {
   "cell_type": "code",
   "execution_count": null,
   "id": "a60fecfe",
   "metadata": {},
   "outputs": [],
   "source": [
    "def tree_to_string(tree, database, context):\n",
    "    if tree.value in context.f: return context.f[tree.value].statement\n",
    "    prop = database.propositions[tree.value]\n",
    "    assert len(tree.leaves)==len(prop.hyps)\n",
    "    replacement_dict = {prop.hyps[i].variable:tree_to_string(tree.leaves[i], database, context) for i in range(len(prop.hyps)) if prop.hyps[i].type == \"f\"} #find the replacement rules for the variables\n",
    "    #print 'replacement_dict', replacement_dict, 'applied to', prop.statement\n",
    "    return string_replace(prop.statement[1:],replacement_dict)"
   ]
  },
  {
   "cell_type": "code",
   "execution_count": 290,
   "id": "a06788e0",
   "metadata": {},
   "outputs": [],
   "source": [
    "class ExpProof:\n",
    "    \n",
    "    def __init__(self, prop):\n",
    "        self._prop = prop\n",
    "        self.steps = {}\n",
    "        self._next_id = 0\n",
    "        \n",
    "        #Populate child entails for every step\n",
    "        populate_post_entails(prop)\n",
    "        \n",
    "        step2exp = dict() #Dictionary to store references from steps to expandable steps\n",
    "        \n",
    "        #Get all steps. This is necessary because hypothesis are not natively within entails proof_steps\n",
    "        all_steps = []\n",
    "        for pstep in prop.entails_proof_steps:\n",
    "            if pstep not in all_steps:\n",
    "                all_steps.append(pstep)\n",
    "                \n",
    "            for prior_pstep in pstep._prior_entails:\n",
    "                if prior_pstep not in all_steps:\n",
    "                    all_steps.append(prior_pstep)\n",
    "        \n",
    "        for step in all_steps:\n",
    "            n_id = self.get_next_id()\n",
    "            new_expproof_step = ExpProofStep(step, n_id, self, 0)\n",
    "            self.steps[n_id] = new_expproof_step\n",
    "            \n",
    "            step2exp[step] = new_expproof_step\n",
    "            \n",
    "        #Set child step and parents steps\n",
    "        none_count = 0 \n",
    "        for s, e in step2exp.items():\n",
    "            e.parents_steps = [step2exp[ss] for ss in s._prior_entails]\n",
    "            if s._post_entail == None:\n",
    "                none_count += 1\n",
    "            else:\n",
    "                e.child_step = step2exp[s._post_entail]\n",
    "                \n",
    "        assert none_count == 1, \"There have to be only one none_count post_entail from the root step. none_count: \" + none_count\n",
    "            \n",
    "            \n",
    "    def get_next_id(self):\n",
    "        n_id = self._next_id\n",
    "        self._next_id += 1\n",
    "        return n_id\n",
    "            \n",
    "    def print_proof(self):\n",
    "        repr_str = \"\"\n",
    "        \n",
    "        print(\"[{}]\".format(self._prop.label), \"|-\", replace_symbols(self._prop.tree.eval(database, self._prop)))\n",
    "        \n",
    "        for _step in self.steps.values():\n",
    "            print(_step)\n",
    "        \n",
    "\n",
    "class ExpProofStep:\n",
    "    \n",
    "    def __init__(self, step, step_id, proof, depth=0):\n",
    "        self._step = step\n",
    "        self._step_id = step_id\n",
    "        self._proof = proof\n",
    "        self.depth = depth\n",
    "        self.statement = replace_symbols(step.tree.eval(database, self._proof._prop))\n",
    "        \n",
    "        self.parents_steps = []\n",
    "        self.child_step = None\n",
    "        \n",
    "        self._expanded = False\n",
    "    \n",
    "    def expand(self):\n",
    "        if self._step.prop.type == \"e\":\n",
    "            return\n",
    "        \n",
    "        #Set these flags to prevent bugs of calling expanded twice in the same step\n",
    "        if self._expanded:\n",
    "            raise Exception(\"Step already expanded.\")  \n",
    "        self._expanded = True\n",
    "        \n",
    "        step2exp = dict() #Dictionary to store references from steps to expandable steps\n",
    "        \n",
    "        expanded_steps = []\n",
    "        for step in expand_proof_step(self._step):\n",
    "            n_id = self._proof.get_next_id()\n",
    "            new_expproof_step = ExpProofStep(step, n_id, self._proof, self.depth+1)\n",
    "            expanded_steps.append(new_expproof_step)\n",
    "            \n",
    "            step2exp[step] = new_expproof_step\n",
    "           \n",
    "        \n",
    "        \n",
    "        \n",
    "        \n",
    "            \n",
    "        #Set child step and parents steps\n",
    "        none_count = 0 \n",
    "        for s, e in step2exp.items():\n",
    "            e.parents_steps = [step2exp.get(ss, ss) for ss in s._prior_entails]\n",
    "            if s._post_entail == None:\n",
    "                none_count += 1\n",
    "            else:\n",
    "                e.child_step = step2exp[s._post_entail]\n",
    "                \n",
    "        assert none_count == 1, \"There have to be only one none_count post_entail from the root step. none_count: \" + none_count    \n",
    "            \n",
    "            \n",
    "            \n",
    "        #Set hypothesis steps\n",
    "#         hyps2steps = dict()\n",
    "#         e_hyps = [h for h in self._step.prop.hyps if h.type == 'e']\n",
    "#         assert len(e_hyps) == len(self._step._prior_entails), print(len(e_hyps), len(self._step._prior_entails))\n",
    "        \n",
    "#         for raw_hyp, rep_hyp in zip(e_hyps, step._prior_entails):\n",
    "#             hyps2steps[raw_hyp] = rep_hyp\n",
    "        \n",
    "        #for step in expanded_steps:\n",
    "            \n",
    "            \n",
    "        \n",
    "        \n",
    "        return expanded_steps\n",
    "    \n",
    "    def __repr__(self):\n",
    "        return self.describe()\n",
    "    \n",
    "    def __str__(self):\n",
    "        return self.describe()\n",
    "        \n",
    "    def describe(self):\n",
    "        return \" \".join([\n",
    "            str(self._step_id),\n",
    "            \"---\" * (self.depth+1),\n",
    "            \"[{}]\".format(self._step.prop.label),\n",
    "            str([s._step_id for s in self.parents_steps]),\n",
    "            \"|-\",\n",
    "            self.statement\n",
    "        ])\n",
    "        \n",
    "def get_step_replace_dict(step):\n",
    "    \n",
    "    e_hyps = [h for h in step.prop.hyps if h.type == 'e']\n",
    "    assert len(e_hyps) == len(step._prior_entails), print(len(e_hyps), len(step._prior_entails))\n",
    "    \n",
    "    repdict = {}\n",
    "    \n",
    "    for raw_hyp, rep_hyp in zip(e_hyps, step._prior_entails):\n",
    "       \n",
    "        raw_tree = raw_hyp.tree\n",
    "        rep_tree = rep_hyp.tree\n",
    "\n",
    "        for pos in raw_tree.breadth_first_position_list():\n",
    "            raw_subtree = raw_tree.tree_at_position(pos)\n",
    "            rep_subtree = rep_tree.tree_at_position(pos)\n",
    "            if raw_subtree.value != rep_subtree.value:\n",
    "                repdict[raw_subtree.value] = rep_subtree\n",
    "        \n",
    "    return repdict\n",
    "\n",
    "def expand_proof_step(root_step):\n",
    "    \n",
    "    expanded_steps = []\n",
    "    \n",
    "    if not hasattr(root_step, \"replace_dict_list\"):\n",
    "        root_step.replace_dict_list = [get_step_replace_dict(root_step)]\n",
    "        \n",
    "    step2exp = dict() #Store references from steps to expanded steps to populate \n",
    "    \n",
    "    for child_step in root_step.prop.entails_proof_steps:\n",
    "        #Take the original prop tree\n",
    "        exp_tree = child_step.prop.tree.copy()\n",
    "        \n",
    "        #Take the step transformation that was used to the raw step to the replace step\n",
    "        replace_dict_list = [get_step_replace_dict(child_step)]\n",
    "            \n",
    "        #Get the root step replace dicts so we can iterativelly expand the steps\n",
    "        replace_dict_list.extend(root_step.replace_dict_list)\n",
    "        \n",
    "        for rep_dict in replace_dict_list:\n",
    "            exp_tree = exp_tree.replace(rep_dict)\n",
    "        \n",
    "        prior_statements = child_step.prior_statements if hasattr(child_step, \"prior_statements\") else []\n",
    "        \n",
    "        exp_step = proof_step(exp_tree, root_step.context, child_step.prop, prior_statements)\n",
    "        exp_step.replace_dict_list = replace_dict_list\n",
    "        \n",
    "        expanded_steps.append(exp_step)\n",
    "        \n",
    "        step2exp[child_step] = exp_step\n",
    "        \n",
    "    #Populate _prior_entails\n",
    "    for child_step in root_step.prop.entails_proof_steps:\n",
    "        step2exp[child_step]._prior_entails = [step2exp.get(cc, cc) for cc in child_step._prior_entails]\n",
    "    \n",
    "        \n",
    "    return expanded_steps"
   ]
  },
  {
   "cell_type": "code",
   "execution_count": 291,
   "id": "013c16e1",
   "metadata": {},
   "outputs": [
    {
     "name": "stdout",
     "output_type": "stream",
     "text": [
      "[bitr4i] |- ( 𝜑 ↔ 𝜒 )\n",
      "0 --- [bicomi] [1] |- ( 𝜓 ↔ 𝜒 )\n",
      "1 --- [bitr4i.2] [] |- ( 𝜒 ↔ 𝜓 )\n",
      "2 --- [bitri] [3, 0] |- ( 𝜑 ↔ 𝜒 )\n",
      "3 --- [bitr4i.1] [] |- ( 𝜑 ↔ 𝜓 )\n"
     ]
    }
   ],
   "source": [
    "prop = database.propositions[\"bitr4i\"]\n",
    "ep = ExpProof(prop)\n",
    "ep.print_proof()"
   ]
  },
  {
   "cell_type": "code",
   "execution_count": 292,
   "id": "dfb541d1",
   "metadata": {},
   "outputs": [
    {
     "ename": "AttributeError",
     "evalue": "'proof_step' object has no attribute '_post_entail'",
     "output_type": "error",
     "traceback": [
      "\u001b[0;31m---------------------------------------------------------------------------\u001b[0m",
      "\u001b[0;31mAttributeError\u001b[0m                            Traceback (most recent call last)",
      "\u001b[0;32m/var/folders/l2/7llyhwlx5nd60gwdz55p43cr0000gn/T/ipykernel_16025/3460768638.py\u001b[0m in \u001b[0;36m<module>\u001b[0;34m\u001b[0m\n\u001b[0;32m----> 1\u001b[0;31m \u001b[0meee\u001b[0m \u001b[0;34m=\u001b[0m \u001b[0mep\u001b[0m\u001b[0;34m.\u001b[0m\u001b[0msteps\u001b[0m\u001b[0;34m[\u001b[0m\u001b[0;36m2\u001b[0m\u001b[0;34m]\u001b[0m\u001b[0;34m.\u001b[0m\u001b[0mexpand\u001b[0m\u001b[0;34m(\u001b[0m\u001b[0;34m)\u001b[0m\u001b[0;34m\u001b[0m\u001b[0;34m\u001b[0m\u001b[0m\n\u001b[0m\u001b[1;32m      2\u001b[0m \u001b[0meee\u001b[0m\u001b[0;34m\u001b[0m\u001b[0;34m\u001b[0m\u001b[0m\n",
      "\u001b[0;32m/var/folders/l2/7llyhwlx5nd60gwdz55p43cr0000gn/T/ipykernel_16025/3313972746.py\u001b[0m in \u001b[0;36mexpand\u001b[0;34m(self)\u001b[0m\n\u001b[1;32m     92\u001b[0m         \u001b[0;32mfor\u001b[0m \u001b[0ms\u001b[0m\u001b[0;34m,\u001b[0m \u001b[0me\u001b[0m \u001b[0;32min\u001b[0m \u001b[0mstep2exp\u001b[0m\u001b[0;34m.\u001b[0m\u001b[0mitems\u001b[0m\u001b[0;34m(\u001b[0m\u001b[0;34m)\u001b[0m\u001b[0;34m:\u001b[0m\u001b[0;34m\u001b[0m\u001b[0;34m\u001b[0m\u001b[0m\n\u001b[1;32m     93\u001b[0m             \u001b[0me\u001b[0m\u001b[0;34m.\u001b[0m\u001b[0mparents_steps\u001b[0m \u001b[0;34m=\u001b[0m \u001b[0;34m[\u001b[0m\u001b[0mstep2exp\u001b[0m\u001b[0;34m.\u001b[0m\u001b[0mget\u001b[0m\u001b[0;34m(\u001b[0m\u001b[0mss\u001b[0m\u001b[0;34m,\u001b[0m \u001b[0mss\u001b[0m\u001b[0;34m)\u001b[0m \u001b[0;32mfor\u001b[0m \u001b[0mss\u001b[0m \u001b[0;32min\u001b[0m \u001b[0ms\u001b[0m\u001b[0;34m.\u001b[0m\u001b[0m_prior_entails\u001b[0m\u001b[0;34m]\u001b[0m\u001b[0;34m\u001b[0m\u001b[0;34m\u001b[0m\u001b[0m\n\u001b[0;32m---> 94\u001b[0;31m             \u001b[0;32mif\u001b[0m \u001b[0ms\u001b[0m\u001b[0;34m.\u001b[0m\u001b[0m_post_entail\u001b[0m \u001b[0;34m==\u001b[0m \u001b[0;32mNone\u001b[0m\u001b[0;34m:\u001b[0m\u001b[0;34m\u001b[0m\u001b[0;34m\u001b[0m\u001b[0m\n\u001b[0m\u001b[1;32m     95\u001b[0m                 \u001b[0mnone_count\u001b[0m \u001b[0;34m+=\u001b[0m \u001b[0;36m1\u001b[0m\u001b[0;34m\u001b[0m\u001b[0;34m\u001b[0m\u001b[0m\n\u001b[1;32m     96\u001b[0m             \u001b[0;32melse\u001b[0m\u001b[0;34m:\u001b[0m\u001b[0;34m\u001b[0m\u001b[0;34m\u001b[0m\u001b[0m\n",
      "\u001b[0;31mAttributeError\u001b[0m: 'proof_step' object has no attribute '_post_entail'"
     ]
    }
   ],
   "source": [
    "eee = ep.steps[2].expand()\n",
    "eee"
   ]
  },
  {
   "cell_type": "code",
   "execution_count": 262,
   "id": "9b113033",
   "metadata": {},
   "outputs": [
    {
     "data": {
      "text/plain": [
       "<tree_parser.proof_step at 0x7f7ff8008d10>"
      ]
     },
     "execution_count": 262,
     "metadata": {},
     "output_type": "execute_result"
    }
   ],
   "source": [
    "eee[1]._step._prior_entails[1]"
   ]
  },
  {
   "cell_type": "code",
   "execution_count": null,
   "id": "f59d3c77",
   "metadata": {},
   "outputs": [],
   "source": []
  },
  {
   "cell_type": "code",
   "execution_count": 268,
   "id": "7a155ac1",
   "metadata": {},
   "outputs": [],
   "source": [
    "prop = database.propositions[\"bitr4i\"]\n",
    "populate_post_entails(prop)"
   ]
  },
  {
   "cell_type": "code",
   "execution_count": 269,
   "id": "68a8a044",
   "metadata": {},
   "outputs": [
    {
     "ename": "KeyError",
     "evalue": "'wps'",
     "output_type": "error",
     "traceback": [
      "\u001b[0;31m---------------------------------------------------------------------------\u001b[0m",
      "\u001b[0;31mKeyError\u001b[0m                                  Traceback (most recent call last)",
      "\u001b[0;32m/var/folders/l2/7llyhwlx5nd60gwdz55p43cr0000gn/T/ipykernel_16025/2235688348.py\u001b[0m in \u001b[0;36m<module>\u001b[0;34m\u001b[0m\n\u001b[1;32m      1\u001b[0m \u001b[0;32mfor\u001b[0m \u001b[0mexp_step\u001b[0m \u001b[0;32min\u001b[0m \u001b[0mprop\u001b[0m\u001b[0;34m.\u001b[0m\u001b[0mentails_proof_steps\u001b[0m\u001b[0;34m:\u001b[0m\u001b[0;34m\u001b[0m\u001b[0;34m\u001b[0m\u001b[0m\n\u001b[0;32m----> 2\u001b[0;31m     \u001b[0mprint\u001b[0m\u001b[0;34m(\u001b[0m\u001b[0;34m\"--- [{}]\"\u001b[0m\u001b[0;34m.\u001b[0m\u001b[0mformat\u001b[0m\u001b[0;34m(\u001b[0m\u001b[0mexp_step\u001b[0m\u001b[0;34m.\u001b[0m\u001b[0mprop\u001b[0m\u001b[0;34m.\u001b[0m\u001b[0mlabel\u001b[0m\u001b[0;34m)\u001b[0m\u001b[0;34m,\u001b[0m \u001b[0mlen\u001b[0m\u001b[0;34m(\u001b[0m\u001b[0mexp_step\u001b[0m\u001b[0;34m.\u001b[0m\u001b[0m_prior_entails\u001b[0m\u001b[0;34m)\u001b[0m\u001b[0;34m,\u001b[0m \u001b[0;34m\"|-\"\u001b[0m\u001b[0;34m,\u001b[0m \u001b[0mreplace_symbols\u001b[0m\u001b[0;34m(\u001b[0m\u001b[0mexp_step\u001b[0m\u001b[0;34m.\u001b[0m\u001b[0mtree\u001b[0m\u001b[0;34m.\u001b[0m\u001b[0meval\u001b[0m\u001b[0;34m(\u001b[0m\u001b[0mdatabase\u001b[0m\u001b[0;34m,\u001b[0m \u001b[0mroot_step\u001b[0m\u001b[0;34m.\u001b[0m\u001b[0mcontext\u001b[0m\u001b[0;34m)\u001b[0m\u001b[0;34m)\u001b[0m\u001b[0;34m)\u001b[0m\u001b[0;34m\u001b[0m\u001b[0;34m\u001b[0m\u001b[0m\n\u001b[0m\u001b[1;32m      3\u001b[0m \u001b[0;34m\u001b[0m\u001b[0m\n\u001b[1;32m      4\u001b[0m \u001b[0mprint\u001b[0m\u001b[0;34m(\u001b[0m\u001b[0;34m)\u001b[0m\u001b[0;34m\u001b[0m\u001b[0;34m\u001b[0m\u001b[0m\n\u001b[1;32m      5\u001b[0m \u001b[0;34m\u001b[0m\u001b[0m\n",
      "\u001b[0;32m/Volumes/GoogleDrive/My Drive/UFABC/Pesquisa/Community Detection for Granularity/mathview/tree.py\u001b[0m in \u001b[0;36meval\u001b[0;34m(self, database, context)\u001b[0m\n\u001b[1;32m    302\u001b[0m \u001b[0;34m\u001b[0m\u001b[0m\n\u001b[1;32m    303\u001b[0m     \u001b[0;32mdef\u001b[0m \u001b[0meval\u001b[0m\u001b[0;34m(\u001b[0m\u001b[0mself\u001b[0m\u001b[0;34m,\u001b[0m \u001b[0mdatabase\u001b[0m\u001b[0;34m,\u001b[0m \u001b[0mcontext\u001b[0m\u001b[0;34m)\u001b[0m\u001b[0;34m:\u001b[0m\u001b[0;34m\u001b[0m\u001b[0;34m\u001b[0m\u001b[0m\n\u001b[0;32m--> 304\u001b[0;31m         \u001b[0;32mreturn\u001b[0m \u001b[0;34m\" \"\u001b[0m\u001b[0;34m.\u001b[0m\u001b[0mjoin\u001b[0m\u001b[0;34m(\u001b[0m\u001b[0mtree_parser\u001b[0m\u001b[0;34m.\u001b[0m\u001b[0mtree_to_string\u001b[0m\u001b[0;34m(\u001b[0m\u001b[0mself\u001b[0m\u001b[0;34m,\u001b[0m \u001b[0mdatabase\u001b[0m\u001b[0;34m,\u001b[0m \u001b[0mcontext\u001b[0m\u001b[0;34m)\u001b[0m\u001b[0;34m)\u001b[0m\u001b[0;34m\u001b[0m\u001b[0;34m\u001b[0m\u001b[0m\n\u001b[0m",
      "\u001b[0;32m/Volumes/GoogleDrive/My Drive/UFABC/Pesquisa/Community Detection for Granularity/mathview/tree_parser.py\u001b[0m in \u001b[0;36mtree_to_string\u001b[0;34m(tree, database, context)\u001b[0m\n\u001b[1;32m    118\u001b[0m     \u001b[0mprop\u001b[0m \u001b[0;34m=\u001b[0m \u001b[0mdatabase\u001b[0m\u001b[0;34m.\u001b[0m\u001b[0mpropositions\u001b[0m\u001b[0;34m[\u001b[0m\u001b[0mtree\u001b[0m\u001b[0;34m.\u001b[0m\u001b[0mvalue\u001b[0m\u001b[0;34m]\u001b[0m\u001b[0;34m\u001b[0m\u001b[0;34m\u001b[0m\u001b[0m\n\u001b[1;32m    119\u001b[0m     \u001b[0;32massert\u001b[0m \u001b[0mlen\u001b[0m\u001b[0;34m(\u001b[0m\u001b[0mtree\u001b[0m\u001b[0;34m.\u001b[0m\u001b[0mleaves\u001b[0m\u001b[0;34m)\u001b[0m\u001b[0;34m==\u001b[0m\u001b[0mlen\u001b[0m\u001b[0;34m(\u001b[0m\u001b[0mprop\u001b[0m\u001b[0;34m.\u001b[0m\u001b[0mhyps\u001b[0m\u001b[0;34m)\u001b[0m\u001b[0;34m\u001b[0m\u001b[0;34m\u001b[0m\u001b[0m\n\u001b[0;32m--> 120\u001b[0;31m     \u001b[0mreplacement_dict\u001b[0m \u001b[0;34m=\u001b[0m \u001b[0;34m{\u001b[0m\u001b[0mprop\u001b[0m\u001b[0;34m.\u001b[0m\u001b[0mhyps\u001b[0m\u001b[0;34m[\u001b[0m\u001b[0mi\u001b[0m\u001b[0;34m]\u001b[0m\u001b[0;34m.\u001b[0m\u001b[0mvariable\u001b[0m\u001b[0;34m:\u001b[0m\u001b[0mtree_to_string\u001b[0m\u001b[0;34m(\u001b[0m\u001b[0mtree\u001b[0m\u001b[0;34m.\u001b[0m\u001b[0mleaves\u001b[0m\u001b[0;34m[\u001b[0m\u001b[0mi\u001b[0m\u001b[0;34m]\u001b[0m\u001b[0;34m,\u001b[0m \u001b[0mdatabase\u001b[0m\u001b[0;34m,\u001b[0m \u001b[0mcontext\u001b[0m\u001b[0;34m)\u001b[0m \u001b[0;32mfor\u001b[0m \u001b[0mi\u001b[0m \u001b[0;32min\u001b[0m \u001b[0mrange\u001b[0m\u001b[0;34m(\u001b[0m\u001b[0mlen\u001b[0m\u001b[0;34m(\u001b[0m\u001b[0mprop\u001b[0m\u001b[0;34m.\u001b[0m\u001b[0mhyps\u001b[0m\u001b[0;34m)\u001b[0m\u001b[0;34m)\u001b[0m \u001b[0;32mif\u001b[0m \u001b[0mprop\u001b[0m\u001b[0;34m.\u001b[0m\u001b[0mhyps\u001b[0m\u001b[0;34m[\u001b[0m\u001b[0mi\u001b[0m\u001b[0;34m]\u001b[0m\u001b[0;34m.\u001b[0m\u001b[0mtype\u001b[0m \u001b[0;34m==\u001b[0m \u001b[0;34m\"f\"\u001b[0m\u001b[0;34m}\u001b[0m \u001b[0;31m#find the replacement rules for the variables\u001b[0m\u001b[0;34m\u001b[0m\u001b[0;34m\u001b[0m\u001b[0m\n\u001b[0m\u001b[1;32m    121\u001b[0m     \u001b[0;31m#print 'replacement_dict', replacement_dict, 'applied to', prop.statement\u001b[0m\u001b[0;34m\u001b[0m\u001b[0;34m\u001b[0m\u001b[0;34m\u001b[0m\u001b[0m\n\u001b[1;32m    122\u001b[0m     \u001b[0;32mreturn\u001b[0m \u001b[0mstring_replace\u001b[0m\u001b[0;34m(\u001b[0m\u001b[0mprop\u001b[0m\u001b[0;34m.\u001b[0m\u001b[0mstatement\u001b[0m\u001b[0;34m[\u001b[0m\u001b[0;36m1\u001b[0m\u001b[0;34m:\u001b[0m\u001b[0;34m]\u001b[0m\u001b[0;34m,\u001b[0m\u001b[0mreplacement_dict\u001b[0m\u001b[0;34m)\u001b[0m\u001b[0;34m\u001b[0m\u001b[0;34m\u001b[0m\u001b[0m\n",
      "\u001b[0;32m/Volumes/GoogleDrive/My Drive/UFABC/Pesquisa/Community Detection for Granularity/mathview/tree_parser.py\u001b[0m in \u001b[0;36m<dictcomp>\u001b[0;34m(.0)\u001b[0m\n\u001b[1;32m    118\u001b[0m     \u001b[0mprop\u001b[0m \u001b[0;34m=\u001b[0m \u001b[0mdatabase\u001b[0m\u001b[0;34m.\u001b[0m\u001b[0mpropositions\u001b[0m\u001b[0;34m[\u001b[0m\u001b[0mtree\u001b[0m\u001b[0;34m.\u001b[0m\u001b[0mvalue\u001b[0m\u001b[0;34m]\u001b[0m\u001b[0;34m\u001b[0m\u001b[0;34m\u001b[0m\u001b[0m\n\u001b[1;32m    119\u001b[0m     \u001b[0;32massert\u001b[0m \u001b[0mlen\u001b[0m\u001b[0;34m(\u001b[0m\u001b[0mtree\u001b[0m\u001b[0;34m.\u001b[0m\u001b[0mleaves\u001b[0m\u001b[0;34m)\u001b[0m\u001b[0;34m==\u001b[0m\u001b[0mlen\u001b[0m\u001b[0;34m(\u001b[0m\u001b[0mprop\u001b[0m\u001b[0;34m.\u001b[0m\u001b[0mhyps\u001b[0m\u001b[0;34m)\u001b[0m\u001b[0;34m\u001b[0m\u001b[0;34m\u001b[0m\u001b[0m\n\u001b[0;32m--> 120\u001b[0;31m     \u001b[0mreplacement_dict\u001b[0m \u001b[0;34m=\u001b[0m \u001b[0;34m{\u001b[0m\u001b[0mprop\u001b[0m\u001b[0;34m.\u001b[0m\u001b[0mhyps\u001b[0m\u001b[0;34m[\u001b[0m\u001b[0mi\u001b[0m\u001b[0;34m]\u001b[0m\u001b[0;34m.\u001b[0m\u001b[0mvariable\u001b[0m\u001b[0;34m:\u001b[0m\u001b[0mtree_to_string\u001b[0m\u001b[0;34m(\u001b[0m\u001b[0mtree\u001b[0m\u001b[0;34m.\u001b[0m\u001b[0mleaves\u001b[0m\u001b[0;34m[\u001b[0m\u001b[0mi\u001b[0m\u001b[0;34m]\u001b[0m\u001b[0;34m,\u001b[0m \u001b[0mdatabase\u001b[0m\u001b[0;34m,\u001b[0m \u001b[0mcontext\u001b[0m\u001b[0;34m)\u001b[0m \u001b[0;32mfor\u001b[0m \u001b[0mi\u001b[0m \u001b[0;32min\u001b[0m \u001b[0mrange\u001b[0m\u001b[0;34m(\u001b[0m\u001b[0mlen\u001b[0m\u001b[0;34m(\u001b[0m\u001b[0mprop\u001b[0m\u001b[0;34m.\u001b[0m\u001b[0mhyps\u001b[0m\u001b[0;34m)\u001b[0m\u001b[0;34m)\u001b[0m \u001b[0;32mif\u001b[0m \u001b[0mprop\u001b[0m\u001b[0;34m.\u001b[0m\u001b[0mhyps\u001b[0m\u001b[0;34m[\u001b[0m\u001b[0mi\u001b[0m\u001b[0;34m]\u001b[0m\u001b[0;34m.\u001b[0m\u001b[0mtype\u001b[0m \u001b[0;34m==\u001b[0m \u001b[0;34m\"f\"\u001b[0m\u001b[0;34m}\u001b[0m \u001b[0;31m#find the replacement rules for the variables\u001b[0m\u001b[0;34m\u001b[0m\u001b[0;34m\u001b[0m\u001b[0m\n\u001b[0m\u001b[1;32m    121\u001b[0m     \u001b[0;31m#print 'replacement_dict', replacement_dict, 'applied to', prop.statement\u001b[0m\u001b[0;34m\u001b[0m\u001b[0;34m\u001b[0m\u001b[0;34m\u001b[0m\u001b[0m\n\u001b[1;32m    122\u001b[0m     \u001b[0;32mreturn\u001b[0m \u001b[0mstring_replace\u001b[0m\u001b[0;34m(\u001b[0m\u001b[0mprop\u001b[0m\u001b[0;34m.\u001b[0m\u001b[0mstatement\u001b[0m\u001b[0;34m[\u001b[0m\u001b[0;36m1\u001b[0m\u001b[0;34m:\u001b[0m\u001b[0;34m]\u001b[0m\u001b[0;34m,\u001b[0m\u001b[0mreplacement_dict\u001b[0m\u001b[0;34m)\u001b[0m\u001b[0;34m\u001b[0m\u001b[0;34m\u001b[0m\u001b[0m\n",
      "\u001b[0;32m/Volumes/GoogleDrive/My Drive/UFABC/Pesquisa/Community Detection for Granularity/mathview/tree_parser.py\u001b[0m in \u001b[0;36mtree_to_string\u001b[0;34m(tree, database, context)\u001b[0m\n\u001b[1;32m    116\u001b[0m \u001b[0;32mdef\u001b[0m \u001b[0mtree_to_string\u001b[0m\u001b[0;34m(\u001b[0m\u001b[0mtree\u001b[0m\u001b[0;34m,\u001b[0m \u001b[0mdatabase\u001b[0m\u001b[0;34m,\u001b[0m \u001b[0mcontext\u001b[0m\u001b[0;34m)\u001b[0m\u001b[0;34m:\u001b[0m\u001b[0;34m\u001b[0m\u001b[0;34m\u001b[0m\u001b[0m\n\u001b[1;32m    117\u001b[0m     \u001b[0;32mif\u001b[0m \u001b[0mtree\u001b[0m\u001b[0;34m.\u001b[0m\u001b[0mvalue\u001b[0m \u001b[0;32min\u001b[0m \u001b[0mcontext\u001b[0m\u001b[0;34m.\u001b[0m\u001b[0mf\u001b[0m\u001b[0;34m:\u001b[0m \u001b[0;32mreturn\u001b[0m \u001b[0mcontext\u001b[0m\u001b[0;34m.\u001b[0m\u001b[0mf\u001b[0m\u001b[0;34m[\u001b[0m\u001b[0mtree\u001b[0m\u001b[0;34m.\u001b[0m\u001b[0mvalue\u001b[0m\u001b[0;34m]\u001b[0m\u001b[0;34m.\u001b[0m\u001b[0mstatement\u001b[0m\u001b[0;34m\u001b[0m\u001b[0;34m\u001b[0m\u001b[0m\n\u001b[0;32m--> 118\u001b[0;31m     \u001b[0mprop\u001b[0m \u001b[0;34m=\u001b[0m \u001b[0mdatabase\u001b[0m\u001b[0;34m.\u001b[0m\u001b[0mpropositions\u001b[0m\u001b[0;34m[\u001b[0m\u001b[0mtree\u001b[0m\u001b[0;34m.\u001b[0m\u001b[0mvalue\u001b[0m\u001b[0;34m]\u001b[0m\u001b[0;34m\u001b[0m\u001b[0;34m\u001b[0m\u001b[0m\n\u001b[0m\u001b[1;32m    119\u001b[0m     \u001b[0;32massert\u001b[0m \u001b[0mlen\u001b[0m\u001b[0;34m(\u001b[0m\u001b[0mtree\u001b[0m\u001b[0;34m.\u001b[0m\u001b[0mleaves\u001b[0m\u001b[0;34m)\u001b[0m\u001b[0;34m==\u001b[0m\u001b[0mlen\u001b[0m\u001b[0;34m(\u001b[0m\u001b[0mprop\u001b[0m\u001b[0;34m.\u001b[0m\u001b[0mhyps\u001b[0m\u001b[0;34m)\u001b[0m\u001b[0;34m\u001b[0m\u001b[0;34m\u001b[0m\u001b[0m\n\u001b[1;32m    120\u001b[0m     \u001b[0mreplacement_dict\u001b[0m \u001b[0;34m=\u001b[0m \u001b[0;34m{\u001b[0m\u001b[0mprop\u001b[0m\u001b[0;34m.\u001b[0m\u001b[0mhyps\u001b[0m\u001b[0;34m[\u001b[0m\u001b[0mi\u001b[0m\u001b[0;34m]\u001b[0m\u001b[0;34m.\u001b[0m\u001b[0mvariable\u001b[0m\u001b[0;34m:\u001b[0m\u001b[0mtree_to_string\u001b[0m\u001b[0;34m(\u001b[0m\u001b[0mtree\u001b[0m\u001b[0;34m.\u001b[0m\u001b[0mleaves\u001b[0m\u001b[0;34m[\u001b[0m\u001b[0mi\u001b[0m\u001b[0;34m]\u001b[0m\u001b[0;34m,\u001b[0m \u001b[0mdatabase\u001b[0m\u001b[0;34m,\u001b[0m \u001b[0mcontext\u001b[0m\u001b[0;34m)\u001b[0m \u001b[0;32mfor\u001b[0m \u001b[0mi\u001b[0m \u001b[0;32min\u001b[0m \u001b[0mrange\u001b[0m\u001b[0;34m(\u001b[0m\u001b[0mlen\u001b[0m\u001b[0;34m(\u001b[0m\u001b[0mprop\u001b[0m\u001b[0;34m.\u001b[0m\u001b[0mhyps\u001b[0m\u001b[0;34m)\u001b[0m\u001b[0;34m)\u001b[0m \u001b[0;32mif\u001b[0m \u001b[0mprop\u001b[0m\u001b[0;34m.\u001b[0m\u001b[0mhyps\u001b[0m\u001b[0;34m[\u001b[0m\u001b[0mi\u001b[0m\u001b[0;34m]\u001b[0m\u001b[0;34m.\u001b[0m\u001b[0mtype\u001b[0m \u001b[0;34m==\u001b[0m \u001b[0;34m\"f\"\u001b[0m\u001b[0;34m}\u001b[0m \u001b[0;31m#find the replacement rules for the variables\u001b[0m\u001b[0;34m\u001b[0m\u001b[0;34m\u001b[0m\u001b[0m\n",
      "\u001b[0;31mKeyError\u001b[0m: 'wps'"
     ]
    }
   ],
   "source": [
    "for exp_step in prop.entails_proof_steps:\n",
    "    print(\"--- [{}]\".format(exp_step.prop.label), len(exp_step._prior_entails), \"|-\", replace_symbols(exp_step.tree.eval(database, root_step.context)))\n",
    "\n",
    "print()\n",
    "\n",
    "root_step = prop.entails_proof_steps[-1]\n",
    "exp_proof = expand_proof_step(root_step)\n",
    "\n",
    "print(\"[{}]\".format(root_step.prop.label), \"|-\", replace_symbols(root_step.tree.eval(database, root_step.context)))\n",
    "\n",
    "for exp_step in exp_proof:\n",
    "    print(\"--- [{}]\".format(exp_step.prop.label), len(exp_step._prior_entails), \"|-\", replace_symbols(exp_step.tree.eval(database, root_step.context)))"
   ]
  },
  {
   "cell_type": "code",
   "execution_count": null,
   "id": "83412acd",
   "metadata": {},
   "outputs": [],
   "source": []
  },
  {
   "cell_type": "code",
   "execution_count": 10,
   "id": "5839b9fd",
   "metadata": {},
   "outputs": [
    {
     "name": "stdout",
     "output_type": "stream",
     "text": [
      "[mp2] |- ( 𝜑 ↔ 𝜓 )\n",
      "\n"
     ]
    },
    {
     "ename": "NameError",
     "evalue": "name 'exp_step' is not defined",
     "output_type": "error",
     "traceback": [
      "\u001b[0;31m---------------------------------------------------------------------------\u001b[0m",
      "\u001b[0;31mNameError\u001b[0m                                 Traceback (most recent call last)",
      "\u001b[0;32m/var/folders/l2/7llyhwlx5nd60gwdz55p43cr0000gn/T/ipykernel_10785/1115926363.py\u001b[0m in \u001b[0;36m<module>\u001b[0;34m\u001b[0m\n\u001b[1;32m     16\u001b[0m \u001b[0;34m\u001b[0m\u001b[0m\n\u001b[1;32m     17\u001b[0m     \u001b[0;31m#.replace(step_rep_dict)\u001b[0m\u001b[0;34m\u001b[0m\u001b[0;34m\u001b[0m\u001b[0;34m\u001b[0m\u001b[0m\n\u001b[0;32m---> 18\u001b[0;31m     \u001b[0mprint\u001b[0m\u001b[0;34m(\u001b[0m\u001b[0;34m\"--- [{}]\"\u001b[0m\u001b[0;34m.\u001b[0m\u001b[0mformat\u001b[0m\u001b[0;34m(\u001b[0m\u001b[0mexp_step\u001b[0m\u001b[0;34m.\u001b[0m\u001b[0mprop\u001b[0m\u001b[0;34m.\u001b[0m\u001b[0mlabel\u001b[0m\u001b[0;34m)\u001b[0m\u001b[0;34m,\u001b[0m \u001b[0;34m\"|-\"\u001b[0m\u001b[0;34m,\u001b[0m \u001b[0mreplace_symbols\u001b[0m\u001b[0;34m(\u001b[0m\u001b[0mnew_tree\u001b[0m\u001b[0;34m.\u001b[0m\u001b[0meval\u001b[0m\u001b[0;34m(\u001b[0m\u001b[0mdatabase\u001b[0m\u001b[0;34m,\u001b[0m \u001b[0mprop\u001b[0m\u001b[0;34m)\u001b[0m\u001b[0;34m)\u001b[0m\u001b[0;34m)\u001b[0m\u001b[0;34m\u001b[0m\u001b[0;34m\u001b[0m\u001b[0m\n\u001b[0m\u001b[1;32m     19\u001b[0m \u001b[0;34m\u001b[0m\u001b[0m\n\u001b[1;32m     20\u001b[0m \u001b[0;34m\u001b[0m\u001b[0m\n",
      "\u001b[0;31mNameError\u001b[0m: name 'exp_step' is not defined"
     ]
    }
   ],
   "source": [
    "#Verificar como utilizar a lista previa de replace dicts\n",
    "\n",
    "prop = database.propositions[\"impbii\"]\n",
    "root_step = prop.entails_proof_steps[-1]\n",
    "\n",
    "replace_dict_list = [get_step_replace_dict(root_step)]\n",
    "\n",
    "print(\"[{}]\".format(root_step.prop.label), \"|-\", replace_symbols(root_step.tree.eval(database, root_step.context)))\n",
    "print()\n",
    "\n",
    "for child_step in root_step.prop.entails_proof_steps:\n",
    "    new_tree = child_step.tree.copy()#.replace(replace_dict_list[0])\n",
    "    \n",
    "    for rep_dict in replace_dict_list:\n",
    "        new_tree = new_tree.replace(rep_dict)\n",
    "    \n",
    "    #.replace(step_rep_dict)\n",
    "    print(\"--- [{}]\".format(exp_step.prop.label), \"|-\", replace_symbols(new_tree.eval(database, prop)))\n",
    "    \n",
    "    \n",
    "    #print(get_step_replace_dict(child_step), child_step.prop.tree)\n",
    "    #print(replace_symbols(child_step.tree.copy().replace(step_rep_dict).eval(database, prop)))\n",
    "   # print()"
   ]
  },
  {
   "cell_type": "code",
   "execution_count": 11,
   "id": "91983870",
   "metadata": {},
   "outputs": [],
   "source": [
    "#[p.label for p in database.propositions_list[-300:]]"
   ]
  },
  {
   "cell_type": "code",
   "execution_count": 12,
   "id": "90385aba",
   "metadata": {},
   "outputs": [
    {
     "data": {
      "text/plain": [
       "'e'"
      ]
     },
     "execution_count": 12,
     "metadata": {},
     "output_type": "execute_result"
    }
   ],
   "source": [
    "root_step.prop.hyps[-1].type"
   ]
  },
  {
   "cell_type": "code",
   "execution_count": 73,
   "id": "11be4d91",
   "metadata": {},
   "outputs": [
    {
     "data": {
      "text/plain": [
       "<e_hypothesis bitr4i.2: |- |-(ch<->ps)>"
      ]
     },
     "execution_count": 73,
     "metadata": {},
     "output_type": "execute_result"
    }
   ],
   "source": [
    "root_step.prop.hyps[-1]"
   ]
  },
  {
   "cell_type": "code",
   "execution_count": 74,
   "id": "1c4c2fc1",
   "metadata": {},
   "outputs": [
    {
     "data": {
      "text/plain": [
       "True"
      ]
     },
     "execution_count": 74,
     "metadata": {},
     "output_type": "execute_result"
    }
   ],
   "source": [
    "root_step.prop.entails_proof_steps[-1]._prior_entails[1]._prior_entails[0].prop == root_step.prop.hyps[-1]"
   ]
  },
  {
   "cell_type": "code",
   "execution_count": 76,
   "id": "3bb4deba",
   "metadata": {},
   "outputs": [
    {
     "data": {
      "text/plain": [
       "['__class__',\n",
       " '__delattr__',\n",
       " '__dict__',\n",
       " '__dir__',\n",
       " '__doc__',\n",
       " '__eq__',\n",
       " '__format__',\n",
       " '__ge__',\n",
       " '__getattribute__',\n",
       " '__gt__',\n",
       " '__hash__',\n",
       " '__init__',\n",
       " '__init_subclass__',\n",
       " '__le__',\n",
       " '__lt__',\n",
       " '__module__',\n",
       " '__ne__',\n",
       " '__new__',\n",
       " '__reduce__',\n",
       " '__reduce_ex__',\n",
       " '__repr__',\n",
       " '__setattr__',\n",
       " '__sizeof__',\n",
       " '__str__',\n",
       " '__subclasshook__',\n",
       " '__weakref__',\n",
       " '_prior_entails',\n",
       " '_prior_statements',\n",
       " 'applicable_propositions',\n",
       " 'context',\n",
       " 'descendants',\n",
       " 'height',\n",
       " 'prop',\n",
       " 'replace_dict_list',\n",
       " 'summarize',\n",
       " 'tree',\n",
       " 'unconstrained',\n",
       " 'vclass']"
      ]
     },
     "execution_count": 76,
     "metadata": {},
     "output_type": "execute_result"
    }
   ],
   "source": [
    "dir(root_step)"
   ]
  },
  {
   "cell_type": "code",
   "execution_count": 13,
   "id": "2462a70d",
   "metadata": {},
   "outputs": [
    {
     "data": {
      "text/plain": [
       "<Tree: wi(wph(),wi(wps(),wch()))>"
      ]
     },
     "execution_count": 13,
     "metadata": {},
     "output_type": "execute_result"
    }
   ],
   "source": [
    "root_step.prop.hyps[-1].tree"
   ]
  },
  {
   "cell_type": "code",
   "execution_count": 23,
   "id": "edbe3a96",
   "metadata": {},
   "outputs": [
    {
     "data": {
      "text/plain": [
       "{'wph': <Tree: wss(cA(),cB())>,\n",
       " 'wps': <Tree: wal(wb(wcel(cv(vx()),cA()),wa(wcel(cv(vx()),cA()),wcel(cv(vx()),cB()))),vx())>,\n",
       " 'wch': <Tree: wal(wi(wcel(cv(vx()),cA()),wcel(cv(vx()),cB())),vx())>}"
      ]
     },
     "execution_count": 23,
     "metadata": {},
     "output_type": "execute_result"
    }
   ],
   "source": [
    "get_step_replace_dict(root_step)"
   ]
  },
  {
   "cell_type": "code",
   "execution_count": 27,
   "id": "67d69c6f",
   "metadata": {},
   "outputs": [
    {
     "name": "stdout",
     "output_type": "stream",
     "text": [
      "--- [dfss] 0 |- ( A ⊆ B ↔ A = ( A ∩ B ) )\n",
      "--- [df-in] 0 |- ( A ∩ B ) = { x | ( x ∈ A ∧ x ∈ B ) }\n",
      "--- [eqeq2i] 1 |- ( A = ( A ∩ B ) ↔ A = { x | ( x ∈ A ∧ x ∈ B ) } )\n",
      "--- [abeq2] 0 |- ( A = { x | ( x ∈ A ∧ x ∈ B ) } ↔ ∀ x ( x ∈ A ↔ ( x ∈ A ∧ x ∈ B ) ) )\n",
      "--- [3bitri] 3 |- ( A ⊆ B ↔ ∀ x ( x ∈ A ↔ ( x ∈ A ∧ x ∈ B ) ) )\n",
      "--- [pm4.71] 0 |- ( ( x ∈ A → x ∈ B ) ↔ ( x ∈ A ↔ ( x ∈ A ∧ x ∈ B ) ) )\n",
      "--- [albii] 1 |- ( ∀ x ( x ∈ A → x ∈ B ) ↔ ∀ x ( x ∈ A ↔ ( x ∈ A ∧ x ∈ B ) ) )\n",
      "--- [bitr4i] 2 |- ( A ⊆ B ↔ ∀ x ( x ∈ A → x ∈ B ) )\n",
      "\n",
      "[bitr4i] |- ( A ⊆ B ↔ ∀ x ( x ∈ A → x ∈ B ) )\n",
      "\n",
      "--- [bicomi] |- ( ∀ x ( x ∈ A ↔ ( x ∈ A ∧ x ∈ B ) ) ↔ ∀ x ( x ∈ A → x ∈ B ) )\n",
      "--- [bitri] |- ( A ⊆ B ↔ ∀ x ( x ∈ A → x ∈ B ) )\n"
     ]
    }
   ],
   "source": [
    "prop = database.propositions[\"dfss2\"]\n",
    "\n",
    "for exp_step in prop.entails_proof_steps:\n",
    "    print(\"--- [{}]\".format(exp_step.prop.label), len(exp_step._prior_entails), \"|-\", replace_symbols(exp_step.tree.eval(database, root_step.context)))\n",
    "\n",
    "print()\n",
    "\n",
    "root_step = prop.entails_proof_steps[-1]\n",
    "exp_proof = expand_proof_step(root_step)\n",
    "\n",
    "print(\"[{}]\".format(root_step.prop.label), \"|-\", replace_symbols(root_step.tree.eval(database, root_step.context)))\n",
    "print()\n",
    "\n",
    "for exp_step in exp_proof:\n",
    "    print(\"--- [{}]\".format(exp_step.prop.label), \"|-\", replace_symbols(exp_step.tree.eval(database, root_step.context)))"
   ]
  },
  {
   "cell_type": "code",
   "execution_count": 21,
   "id": "62c83df2",
   "metadata": {},
   "outputs": [
    {
     "data": {
      "text/plain": [
       "[<tree_parser.proof_step at 0x7f80143ade10>,\n",
       " <tree_parser.proof_step at 0x7f80143bac50>]"
      ]
     },
     "execution_count": 21,
     "metadata": {},
     "output_type": "execute_result"
    }
   ],
   "source": [
    "prop.entails_proof_steps[-1]._prior_entails"
   ]
  },
  {
   "cell_type": "code",
   "execution_count": 22,
   "id": "c9b5aba3",
   "metadata": {},
   "outputs": [
    {
     "data": {
      "text/plain": [
       "[]"
      ]
     },
     "execution_count": 22,
     "metadata": {},
     "output_type": "execute_result"
    }
   ],
   "source": [
    "exp_proof[1]._prior_entails"
   ]
  },
  {
   "cell_type": "code",
   "execution_count": null,
   "id": "5be7604f",
   "metadata": {},
   "outputs": [],
   "source": []
  },
  {
   "cell_type": "code",
   "execution_count": 21,
   "id": "d00cf429",
   "metadata": {},
   "outputs": [
    {
     "name": "stdout",
     "output_type": "stream",
     "text": [
      "[bitri] |- ( A ⊆ B ↔ ∀ x ( x ∈ A → x ∈ B ) )\n",
      "\n",
      "--- [sylbb] |- ( A ⊆ B → ∀ x ( x ∈ A → x ∈ B ) )\n",
      "--- [sylbbr] |- ( ∀ x ( x ∈ A → x ∈ B ) → A ⊆ B )\n",
      "--- [impbii] |- ( A ⊆ B ↔ ∀ x ( x ∈ A → x ∈ B ) )\n"
     ]
    }
   ],
   "source": [
    "root_step = exp_proof[-1]\n",
    "\n",
    "exp_proof = expand_proof_step(root_step)\n",
    "\n",
    "print(\"[{}]\".format(root_step.prop.label), \"|-\", replace_symbols(root_step.tree.eval(database, root_step.context)))\n",
    "print()\n",
    "\n",
    "for exp_step in exp_proof:\n",
    "    print(\"--- [{}]\".format(exp_step.prop.label), \"|-\", replace_symbols(exp_step.tree.eval(database, root_step.context)))"
   ]
  },
  {
   "cell_type": "code",
   "execution_count": 22,
   "id": "5365c652",
   "metadata": {},
   "outputs": [
    {
     "name": "stdout",
     "output_type": "stream",
     "text": [
      "[impbii] |- ( A ⊆ B ↔ ∀ x ( x ∈ A → x ∈ B ) )\n",
      "\n",
      "--- [impbi] |- ( ( A ⊆ B → ∀ x ( x ∈ A → x ∈ B ) ) → ( ( ∀ x ( x ∈ A → x ∈ B ) → A ⊆ B ) → ( A ⊆ B ↔ ∀ x ( x ∈ A → x ∈ B ) ) ) )\n",
      "--- [mp2] |- ( A ⊆ B ↔ ∀ x ( x ∈ A → x ∈ B ) )\n"
     ]
    }
   ],
   "source": [
    "root_step = exp_proof[-1]\n",
    "\n",
    "exp_proof = expand_proof_step(root_step)\n",
    "\n",
    "print(\"[{}]\".format(root_step.prop.label), \"|-\", replace_symbols(root_step.tree.eval(database, root_step.context)))\n",
    "print()\n",
    "\n",
    "for exp_step in exp_proof:\n",
    "    print(\"--- [{}]\".format(exp_step.prop.label), \"|-\", replace_symbols(exp_step.tree.eval(database, root_step.context)))"
   ]
  },
  {
   "cell_type": "code",
   "execution_count": 23,
   "id": "5bebcbf8",
   "metadata": {},
   "outputs": [
    {
     "name": "stdout",
     "output_type": "stream",
     "text": [
      "[mp2] |- ( A ⊆ B ↔ ∀ x ( x ∈ A → x ∈ B ) )\n",
      "\n",
      "--- [ax-mp] |- ( ( ∀ x ( x ∈ A → x ∈ B ) → A ⊆ B ) → ( A ⊆ B ↔ ∀ x ( x ∈ A → x ∈ B ) ) )\n",
      "--- [ax-mp] |- ( A ⊆ B ↔ ∀ x ( x ∈ A → x ∈ B ) )\n"
     ]
    }
   ],
   "source": [
    "root_step = exp_proof[-1]\n",
    "\n",
    "exp_proof = expand_proof_step(root_step)\n",
    "\n",
    "print(\"[{}]\".format(root_step.prop.label), \"|-\", replace_symbols(root_step.tree.eval(database, root_step.context)))\n",
    "print()\n",
    "\n",
    "for exp_step in exp_proof:\n",
    "    print(\"--- [{}]\".format(exp_step.prop.label), \"|-\", replace_symbols(exp_step.tree.eval(database, root_step.context)))"
   ]
  },
  {
   "cell_type": "code",
   "execution_count": 91,
   "id": "daf13ab1",
   "metadata": {},
   "outputs": [],
   "source": [
    "root_step = database.propositions[\"impbii\"].entails_proof_steps[-1]"
   ]
  },
  {
   "cell_type": "code",
   "execution_count": 92,
   "id": "ba2c60c0",
   "metadata": {},
   "outputs": [
    {
     "data": {
      "text/plain": [
       "{'wph': <Tree: wi(wph(),wps())>,\n",
       " 'wps': <Tree: wi(wps(),wph())>,\n",
       " 'wch': <Tree: wb(wph(),wps())>}"
      ]
     },
     "execution_count": 92,
     "metadata": {},
     "output_type": "execute_result"
    }
   ],
   "source": [
    "step_rep_dict = get_step_replace_dict(root_step)\n",
    "step_rep_dict"
   ]
  },
  {
   "cell_type": "code",
   "execution_count": 93,
   "id": "3802d91b",
   "metadata": {},
   "outputs": [
    {
     "data": {
      "text/plain": [
       "'( ( ps -> ph ) -> ( ph <-> ps ) )'"
      ]
     },
     "execution_count": 93,
     "metadata": {},
     "output_type": "execute_result"
    }
   ],
   "source": [
    "root_step.prop.entails_proof_steps[-2].tree.copy().replace(step_rep_dict).eval(database, database.propositions[\"impbii\"])"
   ]
  },
  {
   "cell_type": "code",
   "execution_count": null,
   "id": "fdb8f606",
   "metadata": {},
   "outputs": [],
   "source": []
  },
  {
   "cell_type": "code",
   "execution_count": null,
   "id": "9701e6d0",
   "metadata": {},
   "outputs": [],
   "source": []
  },
  {
   "cell_type": "code",
   "execution_count": 94,
   "id": "086f7912",
   "metadata": {},
   "outputs": [
    {
     "data": {
      "text/plain": [
       "'( ( ph -> ps ) -> ( ( ps -> ph ) -> ( ph <-> ps ) ) )'"
      ]
     },
     "execution_count": 94,
     "metadata": {},
     "output_type": "execute_result"
    }
   ],
   "source": [
    "database.propositions[\"impbii\"].entails_proof_steps[-2].tree.eval(database, database.propositions[\"impbii\"])"
   ]
  },
  {
   "cell_type": "code",
   "execution_count": 95,
   "id": "72b9a78e",
   "metadata": {},
   "outputs": [
    {
     "data": {
      "text/plain": [
       "<tree_parser.proposition at 0x155335102b0>"
      ]
     },
     "execution_count": 95,
     "metadata": {},
     "output_type": "execute_result"
    }
   ],
   "source": [
    "database.propositions[\"impbii\"]"
   ]
  },
  {
   "cell_type": "code",
   "execution_count": 96,
   "id": "8b8fbf32",
   "metadata": {},
   "outputs": [],
   "source": [
    "done_steps = []"
   ]
  },
  {
   "cell_type": "code",
   "execution_count": 99,
   "id": "95819c39",
   "metadata": {},
   "outputs": [
    {
     "name": "stdout",
     "output_type": "stream",
     "text": [
      "[mp2] |- ( 𝜑 ↔ 𝜓 )\n",
      "\n",
      "--- [ax-mp] |- 𝜓\n",
      "--- [ax-mp] |- 𝜓\n"
     ]
    }
   ],
   "source": []
  },
  {
   "cell_type": "code",
   "execution_count": 98,
   "id": "9d61b13f",
   "metadata": {},
   "outputs": [
    {
     "name": "stdout",
     "output_type": "stream",
     "text": [
      "2 0\n"
     ]
    },
    {
     "ename": "AssertionError",
     "evalue": "None",
     "output_type": "error",
     "traceback": [
      "\u001b[1;31m---------------------------------------------------------------------------\u001b[0m",
      "\u001b[1;31mAssertionError\u001b[0m                            Traceback (most recent call last)",
      "\u001b[1;32m<ipython-input-98-2516cb19d2cb>\u001b[0m in \u001b[0;36m<module>\u001b[1;34m\u001b[0m\n\u001b[0;32m      1\u001b[0m \u001b[0mroot_step\u001b[0m \u001b[1;33m=\u001b[0m \u001b[0mexp_proof\u001b[0m\u001b[1;33m[\u001b[0m\u001b[1;33m-\u001b[0m\u001b[1;36m1\u001b[0m\u001b[1;33m]\u001b[0m\u001b[1;33m\u001b[0m\u001b[1;33m\u001b[0m\u001b[0m\n\u001b[0;32m      2\u001b[0m \u001b[0mdone_steps\u001b[0m\u001b[1;33m.\u001b[0m\u001b[0mappend\u001b[0m\u001b[1;33m(\u001b[0m\u001b[0mroot_step\u001b[0m\u001b[1;33m)\u001b[0m\u001b[1;33m\u001b[0m\u001b[1;33m\u001b[0m\u001b[0m\n\u001b[1;32m----> 3\u001b[1;33m \u001b[0mexp_proof\u001b[0m \u001b[1;33m=\u001b[0m \u001b[0mexpand_proof_step\u001b[0m\u001b[1;33m(\u001b[0m\u001b[0mroot_step\u001b[0m\u001b[1;33m)\u001b[0m\u001b[1;33m\u001b[0m\u001b[1;33m\u001b[0m\u001b[0m\n\u001b[0m\u001b[0;32m      4\u001b[0m \u001b[1;33m\u001b[0m\u001b[0m\n\u001b[0;32m      5\u001b[0m \u001b[0mprint\u001b[0m\u001b[1;33m(\u001b[0m\u001b[1;34m\"[{}]\"\u001b[0m\u001b[1;33m.\u001b[0m\u001b[0mformat\u001b[0m\u001b[1;33m(\u001b[0m\u001b[0mroot_step\u001b[0m\u001b[1;33m.\u001b[0m\u001b[0mprop\u001b[0m\u001b[1;33m.\u001b[0m\u001b[0mlabel\u001b[0m\u001b[1;33m)\u001b[0m\u001b[1;33m,\u001b[0m \u001b[1;34m\"|-\"\u001b[0m\u001b[1;33m,\u001b[0m \u001b[0mreplace_symbols\u001b[0m\u001b[1;33m(\u001b[0m\u001b[0mroot_step\u001b[0m\u001b[1;33m.\u001b[0m\u001b[0mtree\u001b[0m\u001b[1;33m.\u001b[0m\u001b[0meval\u001b[0m\u001b[1;33m(\u001b[0m\u001b[0mdatabase\u001b[0m\u001b[1;33m,\u001b[0m \u001b[0mroot_step\u001b[0m\u001b[1;33m.\u001b[0m\u001b[0mcontext\u001b[0m\u001b[1;33m)\u001b[0m\u001b[1;33m)\u001b[0m\u001b[1;33m)\u001b[0m\u001b[1;33m\u001b[0m\u001b[1;33m\u001b[0m\u001b[0m\n",
      "\u001b[1;32m<ipython-input-82-943a4b19016e>\u001b[0m in \u001b[0;36mexpand_proof_step\u001b[1;34m(root_step)\u001b[0m\n\u001b[0;32m      7\u001b[0m     \u001b[0mexpanded_steps\u001b[0m \u001b[1;33m=\u001b[0m \u001b[1;33m[\u001b[0m\u001b[1;33m]\u001b[0m\u001b[1;33m\u001b[0m\u001b[1;33m\u001b[0m\u001b[0m\n\u001b[0;32m      8\u001b[0m \u001b[1;33m\u001b[0m\u001b[0m\n\u001b[1;32m----> 9\u001b[1;33m     \u001b[0mroot_step\u001b[0m\u001b[1;33m.\u001b[0m\u001b[0mreplace_dict_list\u001b[0m \u001b[1;33m=\u001b[0m \u001b[1;33m[\u001b[0m\u001b[0mget_step_replace_dict\u001b[0m\u001b[1;33m(\u001b[0m\u001b[0mroot_step\u001b[0m\u001b[1;33m)\u001b[0m\u001b[1;33m]\u001b[0m\u001b[1;33m\u001b[0m\u001b[1;33m\u001b[0m\u001b[0m\n\u001b[0m\u001b[0;32m     10\u001b[0m \u001b[1;33m\u001b[0m\u001b[0m\n\u001b[0;32m     11\u001b[0m     \u001b[1;32mfor\u001b[0m \u001b[0mchild_step\u001b[0m \u001b[1;32min\u001b[0m \u001b[0mroot_step\u001b[0m\u001b[1;33m.\u001b[0m\u001b[0mprop\u001b[0m\u001b[1;33m.\u001b[0m\u001b[0mentails_proof_steps\u001b[0m\u001b[1;33m:\u001b[0m\u001b[1;33m\u001b[0m\u001b[1;33m\u001b[0m\u001b[0m\n",
      "\u001b[1;32m<ipython-input-90-721b0afb6f2f>\u001b[0m in \u001b[0;36mget_step_replace_dict\u001b[1;34m(step)\u001b[0m\n\u001b[0;32m      2\u001b[0m \u001b[1;33m\u001b[0m\u001b[0m\n\u001b[0;32m      3\u001b[0m     \u001b[0me_hyps\u001b[0m \u001b[1;33m=\u001b[0m \u001b[1;33m[\u001b[0m\u001b[0mh\u001b[0m \u001b[1;32mfor\u001b[0m \u001b[0mh\u001b[0m \u001b[1;32min\u001b[0m \u001b[0mstep\u001b[0m\u001b[1;33m.\u001b[0m\u001b[0mprop\u001b[0m\u001b[1;33m.\u001b[0m\u001b[0mhyps\u001b[0m \u001b[1;32mif\u001b[0m \u001b[0mh\u001b[0m\u001b[1;33m.\u001b[0m\u001b[0mtype\u001b[0m \u001b[1;33m==\u001b[0m \u001b[1;34m'e'\u001b[0m\u001b[1;33m]\u001b[0m\u001b[1;33m\u001b[0m\u001b[1;33m\u001b[0m\u001b[0m\n\u001b[1;32m----> 4\u001b[1;33m     \u001b[1;32massert\u001b[0m \u001b[0mlen\u001b[0m\u001b[1;33m(\u001b[0m\u001b[0me_hyps\u001b[0m\u001b[1;33m)\u001b[0m \u001b[1;33m==\u001b[0m \u001b[0mlen\u001b[0m\u001b[1;33m(\u001b[0m\u001b[0mstep\u001b[0m\u001b[1;33m.\u001b[0m\u001b[0m_prior_entails\u001b[0m\u001b[1;33m)\u001b[0m\u001b[1;33m,\u001b[0m \u001b[0mprint\u001b[0m\u001b[1;33m(\u001b[0m\u001b[0mlen\u001b[0m\u001b[1;33m(\u001b[0m\u001b[0me_hyps\u001b[0m\u001b[1;33m)\u001b[0m\u001b[1;33m,\u001b[0m \u001b[0mlen\u001b[0m\u001b[1;33m(\u001b[0m\u001b[0mstep\u001b[0m\u001b[1;33m.\u001b[0m\u001b[0m_prior_entails\u001b[0m\u001b[1;33m)\u001b[0m\u001b[1;33m)\u001b[0m\u001b[1;33m\u001b[0m\u001b[1;33m\u001b[0m\u001b[0m\n\u001b[0m\u001b[0;32m      5\u001b[0m \u001b[1;33m\u001b[0m\u001b[0m\n\u001b[0;32m      6\u001b[0m     \u001b[0mrepdict\u001b[0m \u001b[1;33m=\u001b[0m \u001b[1;33m{\u001b[0m\u001b[1;33m}\u001b[0m\u001b[1;33m\u001b[0m\u001b[1;33m\u001b[0m\u001b[0m\n",
      "\u001b[1;31mAssertionError\u001b[0m: None"
     ]
    }
   ],
   "source": [
    "root_step = exp_proof[-1]\n",
    "done_steps.append(root_step)\n",
    "exp_proof = expand_proof_step(root_step)\n",
    "\n",
    "print(\"[{}]\".format(root_step.prop.label), \"|-\", replace_symbols(root_step.tree.eval(database, root_step.context)))\n",
    "print()\n",
    "\n",
    "for exp_step in exp_proof:\n",
    "    print(\"--- [{}]\".format(exp_step.prop.label), \"|-\", replace_symbols(exp_step.tree.eval(database, root_step.context)))"
   ]
  },
  {
   "cell_type": "code",
   "execution_count": null,
   "id": "5b0fd024",
   "metadata": {},
   "outputs": [],
   "source": [
    "for child_step in root_step.prop.entails_proof_steps:\n",
    "        #exp_tree = child_step.prop.tree.copy()\n",
    "        exp_tree = child_step.tree.copy()\n",
    "        \n",
    "        #Check if the child step tree has a replace dict list (axioms dont have it I think)\n",
    "        #replace_dict_list = child_step.replace_dict_list.copy()\n",
    "        \n",
    "        replace_dict_list = [get_step_replace_dict(child_step)]\n",
    "        \n",
    "        \n",
    "        #if hasattr(child_step.tree, \"replace_dict_list\"):\n",
    "        #    exp_tree.replace_dict_list = child_step.tree.replace_dict_list.copy()\n",
    "        #else:\n",
    "            #exp_tree.replace_dict_list = []\n",
    "            \n",
    "        replace_dict_list.extend(root_step.replace_dict_list)\n",
    "        \n",
    "        for rep_dict in replace_dict_list:\n",
    "            exp_tree.replace(rep_dict)\n",
    "        \n",
    "        prior_statements = child_step.prior_statements if hasattr(child_step, \"prior_statements\") else []\n",
    "        \n",
    "        exp_step = proof_step(exp_tree, root_step.context, child_step.prop, prior_statements)\n",
    "        exp_step.replace_dict_list = replace_dict_list\n",
    "        \n",
    "        expanded_steps.append(exp_step)"
   ]
  },
  {
   "cell_type": "code",
   "execution_count": null,
   "id": "bb3c5d93",
   "metadata": {},
   "outputs": [],
   "source": [
    "def expand_proof_step(root_step):\n",
    "\n",
    "    #rep_dict = root_step.tree._rep_dict\n",
    "    \n",
    "    expanded_steps = []\n",
    "    \n",
    "    for child_step in root_step.prop.entails_proof_steps:\n",
    "        #exp_tree = child_step.prop.tree.copy()\n",
    "        exp_tree = child_step.tree.copy()\n",
    "        \n",
    "        #Check if the child step tree has a replace dict list (axioms dont have it I think)\n",
    "        #replace_dict_list = child_step.replace_dict_list.copy()\n",
    "        \n",
    "        replace_dict_list = [get_step_replace_dict(child_step)]\n",
    "        \n",
    "        \n",
    "        #if hasattr(child_step.tree, \"replace_dict_list\"):\n",
    "        #    exp_tree.replace_dict_list = child_step.tree.replace_dict_list.copy()\n",
    "        #else:\n",
    "            #exp_tree.replace_dict_list = []\n",
    "            \n",
    "        replace_dict_list.extend(root_step.replace_dict_list)\n",
    "        \n",
    "        for rep_dict in replace_dict_list:\n",
    "            exp_tree.replace(rep_dict)\n",
    "        \n",
    "        prior_statements = child_step.prior_statements if hasattr(child_step, \"prior_statements\") else []\n",
    "        \n",
    "        exp_step = proof_step(exp_tree, root_step.context, child_step.prop, prior_statements)\n",
    "        exp_step.replace_dict_list = replace_dict_list\n",
    "        \n",
    "        expanded_steps.append(exp_step)\n",
    "        \n",
    "    return expanded_steps"
   ]
  },
  {
   "cell_type": "code",
   "execution_count": null,
   "id": "d1fbe235",
   "metadata": {},
   "outputs": [],
   "source": []
  },
  {
   "cell_type": "code",
   "execution_count": null,
   "id": "7c6e9d51",
   "metadata": {},
   "outputs": [],
   "source": []
  },
  {
   "cell_type": "code",
   "execution_count": 6,
   "id": "0d08fb56",
   "metadata": {},
   "outputs": [
    {
     "ename": "AttributeError",
     "evalue": "'Tree' object has no attribute 'replace_dict_list'",
     "output_type": "error",
     "traceback": [
      "\u001b[1;31m---------------------------------------------------------------------------\u001b[0m",
      "\u001b[1;31mAttributeError\u001b[0m                            Traceback (most recent call last)",
      "\u001b[1;32m<ipython-input-6-c7aa9499398e>\u001b[0m in \u001b[0;36m<module>\u001b[1;34m\u001b[0m\n\u001b[1;32m----> 1\u001b[1;33m \u001b[0mdatabase\u001b[0m\u001b[1;33m.\u001b[0m\u001b[0mpropositions\u001b[0m\u001b[1;33m[\u001b[0m\u001b[1;34m\"mp2\"\u001b[0m\u001b[1;33m]\u001b[0m\u001b[1;33m.\u001b[0m\u001b[0mtree\u001b[0m\u001b[1;33m.\u001b[0m\u001b[0mreplace_dict_list\u001b[0m\u001b[1;33m\u001b[0m\u001b[1;33m\u001b[0m\u001b[0m\n\u001b[0m",
      "\u001b[1;31mAttributeError\u001b[0m: 'Tree' object has no attribute 'replace_dict_list'"
     ]
    }
   ],
   "source": [
    "#database.propositions[\"mp2\"].tree.replace_dict_list"
   ]
  },
  {
   "cell_type": "code",
   "execution_count": 7,
   "id": "5a49ed16",
   "metadata": {},
   "outputs": [
    {
     "data": {
      "text/plain": [
       "[]"
      ]
     },
     "execution_count": 7,
     "metadata": {},
     "output_type": "execute_result"
    }
   ],
   "source": [
    "database.propositions[\"impbii\"].entails_proof_steps[-1].replace_dict_list"
   ]
  },
  {
   "cell_type": "code",
   "execution_count": 9,
   "id": "f44bf601",
   "metadata": {},
   "outputs": [
    {
     "data": {
      "text/plain": [
       "<Tree: wb(wph(),wps())>"
      ]
     },
     "execution_count": 9,
     "metadata": {},
     "output_type": "execute_result"
    }
   ],
   "source": [
    "database.propositions[\"impbii\"].entails_proof_steps[-1].tree"
   ]
  },
  {
   "cell_type": "code",
   "execution_count": null,
   "id": "1647bc1b",
   "metadata": {},
   "outputs": [],
   "source": []
  },
  {
   "cell_type": "code",
   "execution_count": 24,
   "id": "566edefd",
   "metadata": {},
   "outputs": [
    {
     "name": "stdout",
     "output_type": "stream",
     "text": [
      "[mp2] |- ( 𝜑 ↔ 𝜒 )\n",
      "\n",
      "--- [ax-mp] |- ( 𝜒 → 𝜒 )\n",
      "--- [ax-mp] |- 𝜒\n"
     ]
    }
   ],
   "source": [
    "root_step = exp_proof[-1]\n",
    "done_steps.append(root_step)\n",
    "exp_proof = expand_proof_step(root_step)\n",
    "\n",
    "\n",
    "print(\"[{}]\".format(root_step.prop.label), \"|-\", replace_symbols(root_step.tree.eval(database, root_step.context)))\n",
    "print()\n",
    "\n",
    "for exp_step in exp_proof:\n",
    "    print(\"--- [{}]\".format(exp_step.prop.label), \"|-\", replace_symbols(exp_step.tree.eval(database, root_step.context)))"
   ]
  },
  {
   "cell_type": "code",
   "execution_count": 25,
   "id": "a2f444d3",
   "metadata": {},
   "outputs": [
    {
     "name": "stdout",
     "output_type": "stream",
     "text": [
      "[ax-mp] |- 𝜒\n",
      "\n"
     ]
    }
   ],
   "source": [
    "root_step = exp_proof[-1]\n",
    "done_steps.append(root_step)\n",
    "exp_proof = expand_proof_step(root_step)\n",
    "\n",
    "\n",
    "print(\"[{}]\".format(root_step.prop.label), \"|-\", replace_symbols(root_step.tree.eval(database, root_step.context)))\n",
    "print()\n",
    "\n",
    "for exp_step in exp_proof:\n",
    "    print(\"--- [{}]\".format(exp_step.prop.label), \"|-\", replace_symbols(exp_step.tree.eval(database, root_step.context)))\n",
    "#print(\"--- [{}]\".format(exp_proof[-1].prop.label), \"|-\", replace_symbols(exp_proof[-1].tree.eval(database, root_step.context)))"
   ]
  },
  {
   "cell_type": "code",
   "execution_count": 26,
   "id": "27d0a481",
   "metadata": {},
   "outputs": [
    {
     "ename": "IndexError",
     "evalue": "list index out of range",
     "output_type": "error",
     "traceback": [
      "\u001b[1;31m---------------------------------------------------------------------------\u001b[0m",
      "\u001b[1;31mIndexError\u001b[0m                                Traceback (most recent call last)",
      "\u001b[1;32m<ipython-input-26-476f3563a298>\u001b[0m in \u001b[0;36m<module>\u001b[1;34m\u001b[0m\n\u001b[1;32m----> 1\u001b[1;33m \u001b[0mroot_step\u001b[0m \u001b[1;33m=\u001b[0m \u001b[0mexp_proof\u001b[0m\u001b[1;33m[\u001b[0m\u001b[1;33m-\u001b[0m\u001b[1;36m1\u001b[0m\u001b[1;33m]\u001b[0m\u001b[1;33m\u001b[0m\u001b[1;33m\u001b[0m\u001b[0m\n\u001b[0m\u001b[0;32m      2\u001b[0m \u001b[0mdone_steps\u001b[0m\u001b[1;33m.\u001b[0m\u001b[0mappend\u001b[0m\u001b[1;33m(\u001b[0m\u001b[0mroot_step\u001b[0m\u001b[1;33m)\u001b[0m\u001b[1;33m\u001b[0m\u001b[1;33m\u001b[0m\u001b[0m\n\u001b[0;32m      3\u001b[0m \u001b[0mexp_proof\u001b[0m \u001b[1;33m=\u001b[0m \u001b[0mexpand_proof_step\u001b[0m\u001b[1;33m(\u001b[0m\u001b[0mroot_step\u001b[0m\u001b[1;33m)\u001b[0m\u001b[1;33m\u001b[0m\u001b[1;33m\u001b[0m\u001b[0m\n\u001b[0;32m      4\u001b[0m \u001b[1;33m\u001b[0m\u001b[0m\n\u001b[0;32m      5\u001b[0m \u001b[1;33m\u001b[0m\u001b[0m\n",
      "\u001b[1;31mIndexError\u001b[0m: list index out of range"
     ]
    }
   ],
   "source": [
    "root_step = exp_proof[-1]\n",
    "done_steps.append(root_step)\n",
    "exp_proof = expand_proof_step(root_step)\n",
    "\n",
    "\n",
    "print(\"[{}]\".format(root_step.prop.label), \"|-\", replace_symbols(root_step.tree.eval(database, root_step.context)))\n",
    "print()\n",
    "\n",
    "for exp_step in exp_proof:\n",
    "    print(\"--- [{}]\".format(exp_step.prop.label), \"|-\", replace_symbols(exp_step.tree.eval(database, root_step.context)))"
   ]
  },
  {
   "cell_type": "code",
   "execution_count": 11,
   "id": "9962fa9f",
   "metadata": {},
   "outputs": [
    {
     "data": {
      "text/plain": [
       "[{'wph': <Tree: wss(cA(),cB())>,\n",
       "  'wps': <Tree: wal(wb(wcel(cv(vx()),cA()),wa(wcel(cv(vx()),cA()),wcel(cv(vx()),cB()))),vx())>,\n",
       "  'wch': <Tree: wal(wi(wcel(cv(vx()),cA()),wcel(cv(vx()),cB())),vx())>}]"
      ]
     },
     "execution_count": 11,
     "metadata": {},
     "output_type": "execute_result"
    }
   ],
   "source": [
    "done_steps[0].replace_dict_list"
   ]
  },
  {
   "cell_type": "code",
   "execution_count": 12,
   "id": "12ea60f3",
   "metadata": {},
   "outputs": [
    {
     "data": {
      "text/plain": [
       "[{'wph': <Tree: wph()>, 'wps': <Tree: wps()>, 'wch': <Tree: wch()>},\n",
       " {'wph': <Tree: wss(cA(),cB())>,\n",
       "  'wps': <Tree: wal(wb(wcel(cv(vx()),cA()),wa(wcel(cv(vx()),cA()),wcel(cv(vx()),cB()))),vx())>,\n",
       "  'wch': <Tree: wal(wi(wcel(cv(vx()),cA()),wcel(cv(vx()),cB())),vx())>}]"
      ]
     },
     "execution_count": 12,
     "metadata": {},
     "output_type": "execute_result"
    }
   ],
   "source": [
    "done_steps[1].replace_dict_list"
   ]
  },
  {
   "cell_type": "code",
   "execution_count": 13,
   "id": "268f973a",
   "metadata": {},
   "outputs": [
    {
     "data": {
      "text/plain": [
       "[{'wph': <Tree: wph()>, 'wps': <Tree: wch()>},\n",
       " {'wph': <Tree: wph()>, 'wps': <Tree: wps()>, 'wch': <Tree: wch()>},\n",
       " {'wph': <Tree: wss(cA(),cB())>,\n",
       "  'wps': <Tree: wal(wb(wcel(cv(vx()),cA()),wa(wcel(cv(vx()),cA()),wcel(cv(vx()),cB()))),vx())>,\n",
       "  'wch': <Tree: wal(wi(wcel(cv(vx()),cA()),wcel(cv(vx()),cB())),vx())>}]"
      ]
     },
     "execution_count": 13,
     "metadata": {},
     "output_type": "execute_result"
    }
   ],
   "source": [
    "done_steps[2].replace_dict_list"
   ]
  },
  {
   "cell_type": "code",
   "execution_count": 14,
   "id": "e22de533",
   "metadata": {},
   "outputs": [
    {
     "data": {
      "text/plain": [
       "[{'wph': <Tree: wph()>, 'wps': <Tree: wch()>},\n",
       " {'wph': <Tree: wph()>, 'wps': <Tree: wps()>, 'wch': <Tree: wch()>},\n",
       " {'wph': <Tree: wss(cA(),cB())>,\n",
       "  'wps': <Tree: wal(wb(wcel(cv(vx()),cA()),wa(wcel(cv(vx()),cA()),wcel(cv(vx()),cB()))),vx())>,\n",
       "  'wch': <Tree: wal(wi(wcel(cv(vx()),cA()),wcel(cv(vx()),cB())),vx())>}]"
      ]
     },
     "execution_count": 14,
     "metadata": {},
     "output_type": "execute_result"
    }
   ],
   "source": [
    "done_steps[3].replace_dict_list"
   ]
  },
  {
   "cell_type": "code",
   "execution_count": 17,
   "id": "6a04c1db",
   "metadata": {},
   "outputs": [
    {
     "data": {
      "text/plain": [
       "[]"
      ]
     },
     "execution_count": 17,
     "metadata": {},
     "output_type": "execute_result"
    }
   ],
   "source": [
    "database.propositions[\"mp2\"].entails_proof_steps[-1].replace_dict_list"
   ]
  },
  {
   "cell_type": "code",
   "execution_count": 18,
   "id": "87b6a90c",
   "metadata": {},
   "outputs": [
    {
     "data": {
      "text/plain": [
       "[<f_hypothesis wph: wff ph>,\n",
       " <f_hypothesis wps: wff ps>,\n",
       " <f_hypothesis wch: wff ch>,\n",
       " <e_hypothesis mp2.1: |- |-ph>,\n",
       " <e_hypothesis mp2.2: |- |-ps>,\n",
       " <e_hypothesis mp2.3: |- |-(ph->(ps->ch))>]"
      ]
     },
     "execution_count": 18,
     "metadata": {},
     "output_type": "execute_result"
    }
   ],
   "source": [
    "database.propositions[\"mp2\"].hyps"
   ]
  },
  {
   "cell_type": "code",
   "execution_count": null,
   "id": "6be8dccb",
   "metadata": {},
   "outputs": [],
   "source": []
  }
 ],
 "metadata": {
  "kernelspec": {
   "display_name": "Python 3 (ipykernel)",
   "language": "python",
   "name": "python3"
  },
  "language_info": {
   "codemirror_mode": {
    "name": "ipython",
    "version": 3
   },
   "file_extension": ".py",
   "mimetype": "text/x-python",
   "name": "python",
   "nbconvert_exporter": "python",
   "pygments_lexer": "ipython3",
   "version": "3.7.11"
  }
 },
 "nbformat": 4,
 "nbformat_minor": 5
}

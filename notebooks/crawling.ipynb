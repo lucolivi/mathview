{
 "cells": [
  {
   "cell_type": "code",
   "execution_count": 1,
   "id": "a555fbd9",
   "metadata": {},
   "outputs": [],
   "source": [
    "import requests\n",
    "from bs4 import BeautifulSoup"
   ]
  },
  {
   "cell_type": "code",
   "execution_count": 2,
   "id": "f8ff9fe0",
   "metadata": {},
   "outputs": [
    {
     "name": "stdout",
     "output_type": "stream",
     "text": [
      "200\n"
     ]
    }
   ],
   "source": [
    "req = requests.get(\"http://us.metamath.org/mpeuni/oveq1i.html\")\n",
    "print(req.status_code)\n",
    "\n",
    "htmltext = req.text"
   ]
  },
  {
   "cell_type": "code",
   "execution_count": 3,
   "id": "7b9755ce",
   "metadata": {},
   "outputs": [],
   "source": [
    "soup = BeautifulSoup(htmltext)"
   ]
  },
  {
   "cell_type": "code",
   "execution_count": 36,
   "id": "f6ba9e22",
   "metadata": {},
   "outputs": [
    {
     "name": "stdout",
     "output_type": "stream",
     "text": [
      "Step      Hyp       Ref       Expression\n",
      "\n",
      "1         ['']      oveq1i.1  ⊢ 𝐴 = 𝐵   \n",
      "2         ['']      oveq1     ⊢ (𝐴 = 𝐵 → (𝐴𝐹𝐶) = (𝐵𝐹𝐶))\n",
      "3         ['1', '2']ax-mp     ⊢ (𝐴𝐹𝐶) = (𝐵𝐹𝐶)\n"
     ]
    }
   ],
   "source": [
    "print(tabbed(\"Step\", \"Hyp\", \"Ref\", \"Expression\", width=10))\n",
    "print()\n",
    "\n",
    "nodes = []\n",
    "edges = []\n",
    "\n",
    "for row in soup.find(\"table\", summary=\"Proof of theorem\").find_all(\"tr\"):\n",
    "    row_data = row.find_all(\"td\")\n",
    "    if len(row_data) != 4:\n",
    "        continue\n",
    "    \n",
    "    step, hyp, ref, expression = row_data\n",
    "    \n",
    "    step = step.text\n",
    "    hyps = hyp.text.strip().split(\", \")\n",
    "    ref = ref.find(\"a\").text if ref.find(\"a\") else ref.text\n",
    "    expression = \" \".join(expression.find(class_=\"math\").text.split())\n",
    "    \n",
    "    nodes.append({\n",
    "        \"step\": step,\n",
    "        \"theorem\": ref,\n",
    "        \"expression\": expression\n",
    "    })\n",
    "    \n",
    "    for i, h in enumerate(hyps):\n",
    "        if h:\n",
    "            edges.append((step, h, i))\n",
    "    \n",
    "    print(tabbed(step, str(hyps), ref, expression, width=10))"
   ]
  },
  {
   "cell_type": "code",
   "execution_count": null,
   "id": "90afb739",
   "metadata": {},
   "outputs": [],
   "source": []
  }
 ],
 "metadata": {
  "kernelspec": {
   "display_name": "Python 3 (ipykernel)",
   "language": "python",
   "name": "python3"
  },
  "language_info": {
   "codemirror_mode": {
    "name": "ipython",
    "version": 3
   },
   "file_extension": ".py",
   "mimetype": "text/x-python",
   "name": "python",
   "nbconvert_exporter": "python",
   "pygments_lexer": "ipython3",
   "version": "3.9.7"
  }
 },
 "nbformat": 4,
 "nbformat_minor": 5
}

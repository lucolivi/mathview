{
 "cells": [
  {
   "cell_type": "code",
   "execution_count": 4,
   "id": "610df062",
   "metadata": {},
   "outputs": [],
   "source": [
    "import sys\n",
    "sys.path.append(\"../src\")\n",
    "\n",
    "from theorem_database import TheoremDatabase"
   ]
  },
  {
   "cell_type": "code",
   "execution_count": 6,
   "id": "d2450569",
   "metadata": {},
   "outputs": [],
   "source": [
    "tdb = TheoremDatabase(\"../data/tdb\")"
   ]
  },
  {
   "cell_type": "code",
   "execution_count": 9,
   "id": "3f32b09a",
   "metadata": {},
   "outputs": [
    {
     "data": {
      "text/plain": [
       "{'theorem': 'dfss2',\n",
       " 'expression': '⊢ (𝐴 ⊆ 𝐵 ↔ ∀𝑥(𝑥 ∈ 𝐴 → 𝑥 ∈ 𝐵))',\n",
       " 'steps': [{'step': '1',\n",
       "   'theorem': 'dfss',\n",
       "   'expression': '⊢ (𝐴 ⊆ 𝐵 ↔ 𝐴 = (𝐴 ∩ 𝐵))',\n",
       "   'step_complexity': 546507,\n",
       "   'lemma_complexity': 546507,\n",
       "   'log_complexity': 13.2113,\n",
       "   'norm_complexity': 0.00347},\n",
       "  {'step': '2',\n",
       "   'theorem': 'df-in',\n",
       "   'expression': '⊢ (𝐴 ∩ 𝐵) = {𝑥 ∣ (𝑥 ∈ 𝐴 ∧ 𝑥 ∈ 𝐵)}',\n",
       "   'step_complexity': 1,\n",
       "   'lemma_complexity': 1,\n",
       "   'log_complexity': 0.0,\n",
       "   'norm_complexity': 0.0},\n",
       "  {'step': '3',\n",
       "   'theorem': 'eqeq2i',\n",
       "   'expression': '⊢ (𝐴 = (𝐴 ∩ 𝐵) ↔ 𝐴 = {𝑥 ∣ (𝑥 ∈ 𝐴 ∧ 𝑥 ∈ 𝐵)})',\n",
       "   'step_complexity': 1409026,\n",
       "   'lemma_complexity': 1409025,\n",
       "   'log_complexity': 14.15841,\n",
       "   'norm_complexity': 0.00894},\n",
       "  {'step': '4',\n",
       "   'theorem': 'abeq2',\n",
       "   'expression': '⊢ (𝐴 = {𝑥 ∣ (𝑥 ∈ 𝐴 ∧ 𝑥 ∈ 𝐵)} ↔ ∀𝑥(𝑥 ∈ 𝐴 ↔ (𝑥 ∈ 𝐴 ∧ 𝑥 ∈ 𝐵)))',\n",
       "   'step_complexity': 155514667,\n",
       "   'lemma_complexity': 155514667,\n",
       "   'log_complexity': 18.86225,\n",
       "   'norm_complexity': 0.9871},\n",
       "  {'step': '5',\n",
       "   'theorem': '3bitri',\n",
       "   'expression': '⊢ (𝐴 ⊆ 𝐵 ↔ ∀𝑥(𝑥 ∈ 𝐴 ↔ (𝑥 ∈ 𝐴 ∧ 𝑥 ∈ 𝐵)))',\n",
       "   'step_complexity': 157485654,\n",
       "   'lemma_complexity': 15454,\n",
       "   'log_complexity': 18.87484,\n",
       "   'norm_complexity': 0.99961},\n",
       "  {'step': '6',\n",
       "   'theorem': 'pm4.71',\n",
       "   'expression': '⊢ ((𝑥 ∈ 𝐴 → 𝑥 ∈ 𝐵) ↔ (𝑥 ∈ 𝐴 ↔ (𝑥 ∈ 𝐴 ∧ 𝑥 ∈ 𝐵)))',\n",
       "   'step_complexity': 47647,\n",
       "   'lemma_complexity': 47647,\n",
       "   'log_complexity': 10.77157,\n",
       "   'norm_complexity': 0.0003},\n",
       "  {'step': '7',\n",
       "   'theorem': 'albii',\n",
       "   'expression': '⊢ (∀𝑥(𝑥 ∈ 𝐴 → 𝑥 ∈ 𝐵) ↔ ∀𝑥(𝑥 ∈ 𝐴 ↔ (𝑥 ∈ 𝐴 ∧ 𝑥 ∈ 𝐵)))',\n",
       "   'step_complexity': 50674,\n",
       "   'lemma_complexity': 3027,\n",
       "   'log_complexity': 10.83317,\n",
       "   'norm_complexity': 0.00032},\n",
       "  {'step': '8',\n",
       "   'theorem': 'bitr4i',\n",
       "   'expression': '⊢ (𝐴 ⊆ 𝐵 ↔ ∀𝑥(𝑥 ∈ 𝐴 → 𝑥 ∈ 𝐵))',\n",
       "   'step_complexity': 157547055,\n",
       "   'lemma_complexity': 10727,\n",
       "   'log_complexity': 18.87523,\n",
       "   'norm_complexity': 1.0}],\n",
       " 'hyps': [('3', '2', 0),\n",
       "  ('5', '1', 0),\n",
       "  ('5', '3', 1),\n",
       "  ('5', '4', 2),\n",
       "  ('7', '6', 0),\n",
       "  ('8', '5', 0),\n",
       "  ('8', '7', 1)],\n",
       " 'complexity': 157547055}"
      ]
     },
     "execution_count": 9,
     "metadata": {},
     "output_type": "execute_result"
    }
   ],
   "source": [
    "tdb[\"dfss2\"]"
   ]
  },
  {
   "cell_type": "code",
   "execution_count": 3,
   "id": "e450a714",
   "metadata": {},
   "outputs": [],
   "source": [
    "def get_theorem_complexity(theorem_name):\n",
    "    theorem = tdb[theorem_name]\n",
    "    \n",
    "    if theorem == None:\n",
    "        return 0\n",
    "    \n",
    "    if \"complexity\" not in theorem:\n",
    "        print(theorem[\"theorem\"])\n",
    "        \n",
    "        if len(theorem[\"steps\"]) == 0:\n",
    "            theorem[\"complexity\"] = 1\n",
    "        else:\n",
    "            theorem[\"complexity\"] = sum([get_theorem_complexity(tt[\"theorem\"]) for tt in theorem[\"steps\"]])\n",
    "            \n",
    "    return theorem[\"complexity\"]"
   ]
  },
  {
   "cell_type": "code",
   "execution_count": 25,
   "id": "2ec33366",
   "metadata": {},
   "outputs": [],
   "source": [
    "comp = get_theorem_complexity(\"oddp1eveni\")"
   ]
  },
  {
   "cell_type": "code",
   "execution_count": 26,
   "id": "f3c1f2cf",
   "metadata": {},
   "outputs": [
    {
     "data": {
      "text/plain": [
       "380296930726742838274821"
      ]
     },
     "execution_count": 26,
     "metadata": {},
     "output_type": "execute_result"
    }
   ],
   "source": [
    "comp"
   ]
  },
  {
   "cell_type": "code",
   "execution_count": 29,
   "id": "3d59af1a",
   "metadata": {},
   "outputs": [],
   "source": [
    "    \n",
    "tdb.save()"
   ]
  },
  {
   "cell_type": "code",
   "execution_count": 28,
   "id": "4d221d1d",
   "metadata": {},
   "outputs": [
    {
     "data": {
      "text/plain": [
       "{'theorem': 'oddp1eveni',\n",
       " 'expression': '⊢ (𝑍 ∈ Odd → (𝑍 + 1) ∈ Even )',\n",
       " 'steps': [{'step': '1',\n",
       "   'theorem': 'oddz',\n",
       "   'expression': '⊢ (𝑍 ∈ Odd → 𝑍 ∈ ℤ)'},\n",
       "  {'step': '2',\n",
       "   'theorem': 'peano2zd',\n",
       "   'expression': '⊢ (𝑍 ∈ Odd → (𝑍 + 1) ∈ ℤ)'},\n",
       "  {'step': '3',\n",
       "   'theorem': 'oddp1div2z',\n",
       "   'expression': '⊢ (𝑍 ∈ Odd → ((𝑍 + 1) / 2) ∈ ℤ)'},\n",
       "  {'step': '4',\n",
       "   'theorem': 'iseven',\n",
       "   'expression': '⊢ ((𝑍 + 1) ∈ Even ↔ ((𝑍 + 1) ∈ ℤ ∧ ((𝑍 + 1) / 2) ∈ ℤ))'},\n",
       "  {'step': '5',\n",
       "   'theorem': 'sylanbrc',\n",
       "   'expression': '⊢ (𝑍 ∈ Odd → (𝑍 + 1) ∈ Even )'}],\n",
       " 'hyps': [('2', '1', 0), ('5', '2', 0), ('5', '3', 1), ('5', '4', 2)],\n",
       " 'complexity': 380296930726742838274821}"
      ]
     },
     "execution_count": 28,
     "metadata": {},
     "output_type": "execute_result"
    }
   ],
   "source": [
    "tdb[\"oddp1eveni\"]"
   ]
  },
  {
   "cell_type": "code",
   "execution_count": null,
   "id": "1f12b601",
   "metadata": {},
   "outputs": [],
   "source": []
  }
 ],
 "metadata": {
  "kernelspec": {
   "display_name": "Python 3 (ipykernel)",
   "language": "python",
   "name": "python3"
  },
  "language_info": {
   "codemirror_mode": {
    "name": "ipython",
    "version": 3
   },
   "file_extension": ".py",
   "mimetype": "text/x-python",
   "name": "python",
   "nbconvert_exporter": "python",
   "pygments_lexer": "ipython3",
   "version": "3.9.7"
  }
 },
 "nbformat": 4,
 "nbformat_minor": 5
}

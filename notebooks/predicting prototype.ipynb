{
 "cells": [
  {
   "cell_type": "code",
   "execution_count": 1,
   "id": "70c6ab14",
   "metadata": {},
   "outputs": [],
   "source": [
    "from theorem_database import TheoremDatabase"
   ]
  },
  {
   "cell_type": "code",
   "execution_count": 2,
   "id": "b71e640f",
   "metadata": {},
   "outputs": [],
   "source": [
    "tdb = TheoremDatabase(\"tdb\")"
   ]
  },
  {
   "cell_type": "code",
   "execution_count": 7,
   "id": "85604603",
   "metadata": {},
   "outputs": [
    {
     "data": {
      "text/plain": [
       "6428"
      ]
     },
     "execution_count": 7,
     "metadata": {},
     "output_type": "execute_result"
    }
   ],
   "source": [
    "len(tdb.database.keys())"
   ]
  },
  {
   "cell_type": "code",
   "execution_count": 8,
   "id": "b201a3cf",
   "metadata": {},
   "outputs": [
    {
     "data": {
      "text/plain": [
       "{'theorem': 'dfss2',\n",
       " 'expression': '⊢ (𝐴 ⊆ 𝐵 ↔ ∀𝑥(𝑥 ∈ 𝐴 → 𝑥 ∈ 𝐵))',\n",
       " 'steps': [{'step': '1',\n",
       "   'theorem': 'dfss',\n",
       "   'expression': '⊢ (𝐴 ⊆ 𝐵 ↔ 𝐴 = (𝐴 ∩ 𝐵))',\n",
       "   'step_complexity': 546507,\n",
       "   'lemma_complexity': 546507,\n",
       "   'log_complexity': 13.2113,\n",
       "   'norm_complexity': 0.00347},\n",
       "  {'step': '2',\n",
       "   'theorem': 'df-in',\n",
       "   'expression': '⊢ (𝐴 ∩ 𝐵) = {𝑥 ∣ (𝑥 ∈ 𝐴 ∧ 𝑥 ∈ 𝐵)}',\n",
       "   'step_complexity': 1,\n",
       "   'lemma_complexity': 1,\n",
       "   'log_complexity': 0.0,\n",
       "   'norm_complexity': 0.0},\n",
       "  {'step': '3',\n",
       "   'theorem': 'eqeq2i',\n",
       "   'expression': '⊢ (𝐴 = (𝐴 ∩ 𝐵) ↔ 𝐴 = {𝑥 ∣ (𝑥 ∈ 𝐴 ∧ 𝑥 ∈ 𝐵)})',\n",
       "   'step_complexity': 1409026,\n",
       "   'lemma_complexity': 1409025,\n",
       "   'log_complexity': 14.15841,\n",
       "   'norm_complexity': 0.00894},\n",
       "  {'step': '4',\n",
       "   'theorem': 'abeq2',\n",
       "   'expression': '⊢ (𝐴 = {𝑥 ∣ (𝑥 ∈ 𝐴 ∧ 𝑥 ∈ 𝐵)} ↔ ∀𝑥(𝑥 ∈ 𝐴 ↔ (𝑥 ∈ 𝐴 ∧ 𝑥 ∈ 𝐵)))',\n",
       "   'step_complexity': 155514667,\n",
       "   'lemma_complexity': 155514667,\n",
       "   'log_complexity': 18.86225,\n",
       "   'norm_complexity': 0.9871},\n",
       "  {'step': '5',\n",
       "   'theorem': '3bitri',\n",
       "   'expression': '⊢ (𝐴 ⊆ 𝐵 ↔ ∀𝑥(𝑥 ∈ 𝐴 ↔ (𝑥 ∈ 𝐴 ∧ 𝑥 ∈ 𝐵)))',\n",
       "   'step_complexity': 157485654,\n",
       "   'lemma_complexity': 15454,\n",
       "   'log_complexity': 18.87484,\n",
       "   'norm_complexity': 0.99961},\n",
       "  {'step': '6',\n",
       "   'theorem': 'pm4.71',\n",
       "   'expression': '⊢ ((𝑥 ∈ 𝐴 → 𝑥 ∈ 𝐵) ↔ (𝑥 ∈ 𝐴 ↔ (𝑥 ∈ 𝐴 ∧ 𝑥 ∈ 𝐵)))',\n",
       "   'step_complexity': 47647,\n",
       "   'lemma_complexity': 47647,\n",
       "   'log_complexity': 10.77157,\n",
       "   'norm_complexity': 0.0003},\n",
       "  {'step': '7',\n",
       "   'theorem': 'albii',\n",
       "   'expression': '⊢ (∀𝑥(𝑥 ∈ 𝐴 → 𝑥 ∈ 𝐵) ↔ ∀𝑥(𝑥 ∈ 𝐴 ↔ (𝑥 ∈ 𝐴 ∧ 𝑥 ∈ 𝐵)))',\n",
       "   'step_complexity': 50674,\n",
       "   'lemma_complexity': 3027,\n",
       "   'log_complexity': 10.83317,\n",
       "   'norm_complexity': 0.00032},\n",
       "  {'step': '8',\n",
       "   'theorem': 'bitr4i',\n",
       "   'expression': '⊢ (𝐴 ⊆ 𝐵 ↔ ∀𝑥(𝑥 ∈ 𝐴 → 𝑥 ∈ 𝐵))',\n",
       "   'step_complexity': 157547055,\n",
       "   'lemma_complexity': 10727,\n",
       "   'log_complexity': 18.87523,\n",
       "   'norm_complexity': 1.0}],\n",
       " 'hyps': [('3', '2', 0),\n",
       "  ('5', '1', 0),\n",
       "  ('5', '3', 1),\n",
       "  ('5', '4', 2),\n",
       "  ('7', '6', 0),\n",
       "  ('8', '5', 0),\n",
       "  ('8', '7', 1)],\n",
       " 'complexity': 157547055}"
      ]
     },
     "execution_count": 8,
     "metadata": {},
     "output_type": "execute_result"
    }
   ],
   "source": [
    "tdb[\"dfss2\"]"
   ]
  },
  {
   "cell_type": "code",
   "execution_count": null,
   "id": "348b4eaa",
   "metadata": {},
   "outputs": [],
   "source": []
  }
 ],
 "metadata": {
  "kernelspec": {
   "display_name": "Python 3 (ipykernel)",
   "language": "python",
   "name": "python3"
  },
  "language_info": {
   "codemirror_mode": {
    "name": "ipython",
    "version": 3
   },
   "file_extension": ".py",
   "mimetype": "text/x-python",
   "name": "python",
   "nbconvert_exporter": "python",
   "pygments_lexer": "ipython3",
   "version": "3.9.7"
  }
 },
 "nbformat": 4,
 "nbformat_minor": 5
}

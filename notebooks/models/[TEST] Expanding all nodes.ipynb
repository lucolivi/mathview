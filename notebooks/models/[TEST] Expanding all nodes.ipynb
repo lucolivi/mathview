{
 "cells": [
  {
   "cell_type": "code",
   "execution_count": 1,
   "id": "eeb94cc3",
   "metadata": {},
   "outputs": [],
   "source": [
    "import sys\n",
    "sys.path.append(\"..\")\n",
    "\n",
    "import random\n",
    "\n",
    "from tree_parser import file_contents, meta_math_database\n",
    "\n",
    "\n",
    "from expanding import construct_proof, expand_proof_step_ps, expand_all_nodes_with_depth"
   ]
  },
  {
   "cell_type": "code",
   "execution_count": 2,
   "id": "dd49bc21",
   "metadata": {},
   "outputs": [
    {
     "name": "stdout",
     "output_type": "stream",
     "text": [
      "included 3651825 tokens from ../set_mod.mm\n",
      "proposition: 5000CPU times: user 24.2 s, sys: 607 ms, total: 24.8 s\n",
      "Wall time: 25 s\n"
     ]
    }
   ],
   "source": [
    "%%time\n",
    "\n",
    "text = file_contents(\"../set_mod.mm\")\n",
    "database = meta_math_database(text,n=5000)"
   ]
  },
  {
   "cell_type": "code",
   "execution_count": 3,
   "id": "ff996d7c",
   "metadata": {},
   "outputs": [
    {
     "name": "stdout",
     "output_type": "stream",
     "text": [
      "dfss2 2803\n"
     ]
    },
    {
     "data": {
      "image/png": "[encoded data removed]",
      "text/plain": [
       "<Figure size 720x360 with 1 Axes>"
      ]
     },
     "metadata": {},
     "output_type": "display_data"
    }
   ],
   "source": [
    "prop = database.propositions[\"dfss2\"]\n",
    "#prop = database.propositions_list[-1]\n",
    "print(prop.label, prop.number)\n",
    "prop_proof = construct_proof(prop)\n",
    "prop_proof.print_graph()\n",
    "#prop_proof.print_linear()"
   ]
  },
  {
   "cell_type": "code",
   "execution_count": 11,
   "id": "11db8ff0",
   "metadata": {},
   "outputs": [
    {
     "ename": "IndexError",
     "evalue": "list index out of range",
     "output_type": "error",
     "traceback": [
      "\u001b[0;31m---------------------------------------------------------------------------\u001b[0m",
      "\u001b[0;31mIndexError\u001b[0m                                Traceback (most recent call last)",
      "\u001b[0;32m/var/folders/l2/7llyhwlx5nd60gwdz55p43cr0000gn/T/ipykernel_46282/799932671.py\u001b[0m in \u001b[0;36m<module>\u001b[0;34m\u001b[0m\n\u001b[1;32m      8\u001b[0m \u001b[0mprop\u001b[0m \u001b[0;34m=\u001b[0m \u001b[0mrandom\u001b[0m\u001b[0;34m.\u001b[0m\u001b[0mchoice\u001b[0m\u001b[0;34m(\u001b[0m\u001b[0mdatabase\u001b[0m\u001b[0;34m.\u001b[0m\u001b[0mpropositions_list\u001b[0m\u001b[0;34m)\u001b[0m\u001b[0;34m\u001b[0m\u001b[0;34m\u001b[0m\u001b[0m\n\u001b[1;32m      9\u001b[0m \u001b[0;34m\u001b[0m\u001b[0m\n\u001b[0;32m---> 10\u001b[0;31m \u001b[0mprop_proof\u001b[0m \u001b[0;34m=\u001b[0m \u001b[0mconstruct_proof\u001b[0m\u001b[0;34m(\u001b[0m\u001b[0mprop\u001b[0m\u001b[0;34m)\u001b[0m\u001b[0;34m\u001b[0m\u001b[0;34m\u001b[0m\u001b[0m\n\u001b[0m\u001b[1;32m     11\u001b[0m \u001b[0moriginal_steps\u001b[0m \u001b[0;34m=\u001b[0m \u001b[0mset\u001b[0m\u001b[0;34m(\u001b[0m\u001b[0;34m[\u001b[0m\u001b[0ms\u001b[0m\u001b[0;34m.\u001b[0m\u001b[0mstatement\u001b[0m \u001b[0;32mfor\u001b[0m \u001b[0ms\u001b[0m \u001b[0;32min\u001b[0m \u001b[0mprop_proof\u001b[0m\u001b[0;34m.\u001b[0m\u001b[0mget_steps_df\u001b[0m\u001b[0;34m(\u001b[0m\u001b[0;34m)\u001b[0m\u001b[0;34m]\u001b[0m\u001b[0;34m)\u001b[0m\u001b[0;34m\u001b[0m\u001b[0;34m\u001b[0m\u001b[0m\n\u001b[1;32m     12\u001b[0m \u001b[0;34m\u001b[0m\u001b[0m\n",
      "\u001b[0;32m/Volumes/GoogleDrive/My Drive/UFABC/Pesquisa/Community Detection for Granularity/mathview/models/../expanding.py\u001b[0m in \u001b[0;36mconstruct_proof\u001b[0;34m(prop)\u001b[0m\n\u001b[1;32m    333\u001b[0m \u001b[0;34m\u001b[0m\u001b[0m\n\u001b[1;32m    334\u001b[0m \u001b[0;32mdef\u001b[0m \u001b[0mconstruct_proof\u001b[0m\u001b[0;34m(\u001b[0m\u001b[0mprop\u001b[0m\u001b[0;34m)\u001b[0m\u001b[0;34m:\u001b[0m\u001b[0;34m\u001b[0m\u001b[0;34m\u001b[0m\u001b[0m\n\u001b[0;32m--> 335\u001b[0;31m     \u001b[0mroot_step\u001b[0m \u001b[0;34m=\u001b[0m \u001b[0mprop\u001b[0m\u001b[0;34m.\u001b[0m\u001b[0mentails_proof_steps\u001b[0m\u001b[0;34m[\u001b[0m\u001b[0;34m-\u001b[0m\u001b[0;36m1\u001b[0m\u001b[0;34m]\u001b[0m\u001b[0;34m\u001b[0m\u001b[0;34m\u001b[0m\u001b[0m\n\u001b[0m\u001b[1;32m    336\u001b[0m     \u001b[0;32mreturn\u001b[0m \u001b[0m_construct_proof_recursive\u001b[0m\u001b[0;34m(\u001b[0m\u001b[0mroot_step\u001b[0m\u001b[0;34m)\u001b[0m\u001b[0;34m\u001b[0m\u001b[0;34m\u001b[0m\u001b[0m\n\u001b[1;32m    337\u001b[0m \u001b[0;34m\u001b[0m\u001b[0m\n",
      "\u001b[0;31mIndexError\u001b[0m: list index out of range"
     ]
    }
   ],
   "source": [
    "#This is not passing sometimes (like for theorem profun with steps impcom and com12) probably because there is \n",
    "#some node that once it is expanded it generates one expressions that \n",
    "#exists previously in the graph somewhere else\n",
    "#But I think this is working fine\n",
    "\n",
    "#prop = database.propositions[\"pofun\"]\n",
    "#prop = database.propositions[\"bitr4i\"]\n",
    "prop = random.choice(database.propositions_list)\n",
    "\n",
    "prop_proof = construct_proof(prop)\n",
    "original_steps = set([s.statement for s in prop_proof.get_steps_df()])\n",
    "\n",
    "prop_proof = expand_all_nodes_with_depth(prop_proof)\n",
    "\n",
    "for s in prop_proof.get_steps_df():\n",
    "    #print(s, s.depth, s.statement_depth)\n",
    "    if s.statement_depth == 0:\n",
    "        assert s.statement in original_steps, f\"{s} should be in the original steps.\"\n",
    "    else:\n",
    "        assert s.statement not in original_steps, f\"{s} should not be in the original steps. {s.statement_depth}\""
   ]
  },
  {
   "cell_type": "code",
   "execution_count": null,
   "id": "a1f86f24",
   "metadata": {},
   "outputs": [],
   "source": []
  }
 ],
 "metadata": {
  "kernelspec": {
   "display_name": "Python 3 (ipykernel)",
   "language": "python",
   "name": "python3"
  },
  "language_info": {
   "codemirror_mode": {
    "name": "ipython",
    "version": 3
   },
   "file_extension": ".py",
   "mimetype": "text/x-python",
   "name": "python",
   "nbconvert_exporter": "python",
   "pygments_lexer": "ipython3",
   "version": "3.9.7"
  }
 },
 "nbformat": 4,
 "nbformat_minor": 5
}

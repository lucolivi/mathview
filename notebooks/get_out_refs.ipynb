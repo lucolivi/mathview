{
 "cells": [
  {
   "cell_type": "code",
   "execution_count": 2,
   "id": "d82f9087",
   "metadata": {},
   "outputs": [],
   "source": [
    "import requests\n",
    "from bs4 import BeautifulSoup"
   ]
  },
  {
   "cell_type": "code",
   "execution_count": 3,
   "id": "1c267858",
   "metadata": {},
   "outputs": [],
   "source": [
    "#Get references to theorem"
   ]
  },
  {
   "cell_type": "code",
   "execution_count": 4,
   "id": "4a29a100",
   "metadata": {},
   "outputs": [],
   "source": []
  },
  {
   "cell_type": "code",
   "execution_count": 6,
   "id": "b21d16d7",
   "metadata": {},
   "outputs": [],
   "source": []
  },
  {
   "cell_type": "code",
   "execution_count": 36,
   "id": "f8ba97ce",
   "metadata": {},
   "outputs": [],
   "source": [
    "def get_theorem_out_ref(theorem):\n",
    "    html = requests.get(f\"http://us.metamath.org/mpeuni/{theorem}.html\")\n",
    "\n",
    "    soup = BeautifulSoup(html.text)\n",
    "\n",
    "    out_ref_node = None\n",
    "\n",
    "    for b in soup.find_all(\"b\"):\n",
    "        if b.text == \"This theorem is referenced by:\":\n",
    "            out_ref_node = b\n",
    "            break\n",
    "\n",
    "    out_refs = list()\n",
    "    out_ref = out_ref_node\n",
    "    while True:\n",
    "        out_ref = out_ref.find_next_sibling(\"a\")\n",
    "        if out_ref:\n",
    "            out_refs.append(out_ref.text)\n",
    "        else:\n",
    "            break\n",
    "            \n",
    "    return out_refs"
   ]
  },
  {
   "cell_type": "code",
   "execution_count": 38,
   "id": "1fef1118",
   "metadata": {},
   "outputs": [
    {
     "data": {
      "text/plain": [
       "{'aacllem',\n",
       " 'ackbij1lem1',\n",
       " 'alephadd',\n",
       " 'axdc3lem4',\n",
       " 'ballotlemfp1',\n",
       " 'birthdaylem2',\n",
       " 'carsgclctunlem1',\n",
       " 'carsggect',\n",
       " 'cdaassen',\n",
       " 'difelcarsg',\n",
       " 'difres',\n",
       " 'diftpsn3OLD',\n",
       " 'diophren',\n",
       " 'diophrw',\n",
       " 'disjpr2',\n",
       " 'disjpr2OLD',\n",
       " 'domss2',\n",
       " 'domunfican',\n",
       " 'eldioph2lem1',\n",
       " 'eldioph2lem2',\n",
       " 'eulerpartgbij',\n",
       " 'eulerpartlemt',\n",
       " 'ex-res',\n",
       " 'filconn',\n",
       " 'fin1a2lem10',\n",
       " 'fpwwe2lem13',\n",
       " 'funresdm1',\n",
       " 'fvun1',\n",
       " 'fvunsn',\n",
       " 'fzopredsuc',\n",
       " 'fzsplit1nn0',\n",
       " 'hashfun',\n",
       " 'imadifxp',\n",
       " 'indispconn',\n",
       " 'indistopon',\n",
       " 'itgsplitioo',\n",
       " 'iununi',\n",
       " 'iunxdif3',\n",
       " 'kmlem11',\n",
       " 'kmlem2',\n",
       " 'lcmfun',\n",
       " 'lgsquadlem2',\n",
       " 'locfinref',\n",
       " 'measun',\n",
       " 'mreexexlem3d',\n",
       " 'noextendseq',\n",
       " 'oarec',\n",
       " 'oev2',\n",
       " 'ofpreima2',\n",
       " 'ovolioo',\n",
       " 'padct',\n",
       " 'padd01',\n",
       " 'padd02',\n",
       " 'pclfinclN',\n",
       " 'poimirlem10',\n",
       " 'poimirlem15',\n",
       " 'poimirlem22',\n",
       " 'poimirlem23',\n",
       " 'poimirlem28',\n",
       " 'poimirlem3',\n",
       " 'poimirlem5',\n",
       " 'prsiga',\n",
       " 'pwssplit1',\n",
       " 'pwssplit4',\n",
       " 'restcld',\n",
       " 'sadid1',\n",
       " 'setsres',\n",
       " 'un00',\n",
       " 'undifixp',\n",
       " 'unelldsys',\n",
       " 'vdwap1'}"
      ]
     },
     "execution_count": 38,
     "metadata": {},
     "output_type": "execute_result"
    }
   ],
   "source": [
    "set(get_theorem_out_ref(\"un0\")).intersection(get_theorem_out_ref(\"syl6eq\"))"
   ]
  },
  {
   "cell_type": "code",
   "execution_count": null,
   "id": "26127c91",
   "metadata": {},
   "outputs": [],
   "source": []
  }
 ],
 "metadata": {
  "kernelspec": {
   "display_name": "Python 3",
   "language": "python",
   "name": "python3"
  },
  "language_info": {
   "codemirror_mode": {
    "name": "ipython",
    "version": 3
   },
   "file_extension": ".py",
   "mimetype": "text/x-python",
   "name": "python",
   "nbconvert_exporter": "python",
   "pygments_lexer": "ipython3",
   "version": "3.9.6"
  }
 },
 "nbformat": 4,
 "nbformat_minor": 5
}

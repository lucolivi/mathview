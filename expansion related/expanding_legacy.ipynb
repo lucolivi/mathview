{
 "cells": [
  {
   "cell_type": "markdown",
   "id": "67b98295",
   "metadata": {},
   "source": [
    "## Expanding function to be used to expand theorems to help comprehension"
   ]
  },
  {
   "cell_type": "code",
   "execution_count": 1,
   "id": "146cd96f",
   "metadata": {},
   "outputs": [],
   "source": [
    "import sys\n",
    "sys.path.append(\"..\")\n",
    "\n",
    "from adapt_utils import replace_symbols\n",
    "\n",
    "from tree_parser import *\n",
    "\n",
    "import networkx as nx\n",
    "\n",
    "#import matplotlib\n",
    "#import matplotlib.pyplot as plt\n",
    "\n",
    "import copy\n",
    "\n",
    "import time\n",
    "\n",
    "from my_utils import print_proof_props_graph, get_proof_steps, print_ident_proof, print_proof_linear_steps\n",
    "from my_utils import get_proof_steps_graph, print_proof_steps_graph\n",
    "\n",
    "import pickle"
   ]
  },
  {
   "cell_type": "code",
   "execution_count": 2,
   "id": "dcf819f8",
   "metadata": {},
   "outputs": [
    {
     "name": "stdout",
     "output_type": "stream",
     "text": [
      "included 5555695 tokens from ../set.mm\n",
      "proposition: 3500CPU times: user 9.83 s, sys: 362 ms, total: 10.2 s\n",
      "Wall time: 10.4 s\n"
     ]
    }
   ],
   "source": [
    "%%time\n",
    "\n",
    "text = file_contents(\"../set.mm\")\n",
    "database = meta_math_database(text,n=3500)"
   ]
  },
  {
   "cell_type": "code",
   "execution_count": 5,
   "id": "aff8578c",
   "metadata": {},
   "outputs": [],
   "source": [
    "def eval_tree(tree):\n",
    "    if tree.value in context_values: \n",
    "        return context_values[tree.value]\n",
    "    \n",
    "    prop = database.propositions[tree.value]\n",
    "    assert len(tree.leaves)==len(prop.hyps)\n",
    "    \n",
    "    replacement_dict = {prop.hyps[i].variable: eval_tree(tree.leaves[i]) for i in range(len(prop.hyps)) if prop.hyps[i].type == \"f\"} #find the replacement rules for the variables\n",
    "    #print 'replacement_dict', replacement_dict, 'applied to', prop.statement\n",
    "    return string_replace(prop.statement[1:],replacement_dict)\n",
    "\n",
    "def tree2str(tree):\n",
    "    evaluated_tree = eval_tree(tree)\n",
    "    return replace_symbols(\" \".join(evaluated_tree))\n",
    "\n",
    "def tree_to_string(tree, database, context):\n",
    "    if tree.value in context.f: return context.f[tree.value].statement\n",
    "    prop = database.propositions[tree.value]\n",
    "    assert len(tree.leaves)==len(prop.hyps)\n",
    "    replacement_dict = {prop.hyps[i].variable:tree_to_string(tree.leaves[i], database, context) for i in range(len(prop.hyps)) if prop.hyps[i].type == \"f\"} #find the replacement rules for the variables\n",
    "    #print 'replacement_dict', replacement_dict, 'applied to', prop.statement\n",
    "    return string_replace(prop.statement[1:],replacement_dict)"
   ]
  },
  {
   "cell_type": "code",
   "execution_count": 54,
   "id": "cfd02a44",
   "metadata": {},
   "outputs": [],
   "source": [
    "def tree2ptree(tree, ph_dict={}):\n",
    "\n",
    "    new_leaves = []\n",
    "    for l in tree.leaves:\n",
    "        if str(l) not in ph_dict:\n",
    "            ph_dict[str(l)] = tree2ptree(l, ph_dict)\n",
    "        new_leaves.append(ph_dict[str(l)])\n",
    "    \n",
    "    return PTree(tree.value, new_leaves)"
   ]
  },
  {
   "cell_type": "code",
   "execution_count": 55,
   "id": "fcdfc867",
   "metadata": {},
   "outputs": [
    {
     "data": {
      "text/plain": [
       "'( 𝜑 ↔ 𝜒 )'"
      ]
     },
     "execution_count": 55,
     "metadata": {},
     "output_type": "execute_result"
    }
   ],
   "source": [
    "prop = database.propositions[\"bitr4i\"]\n",
    "tree2ptree(prop.tree).statement"
   ]
  },
  {
   "cell_type": "code",
   "execution_count": 7,
   "id": "1c3e3565",
   "metadata": {},
   "outputs": [],
   "source": [
    "def get_prop_hyps(prop):\n",
    "    #We should use this function instead of direct checking for hypothesis\n",
    "    #because if the prop is already a hypothesis, this property will not exist\n",
    "    #which will raise an exception. This encapsulates and resolves this\n",
    "    return prop.hyps if hasattr(prop, \"hyps\") else []\n",
    "\n",
    "def get_step_replace_dict(step):\n",
    "    \n",
    "    repdict = {}\n",
    "    \n",
    "    #In case we are dealing with already hypotehsis nodes, there no hypothesis to work with\n",
    "    #since there is no hypotehsis of a hypothesis, so we may skip it here\n",
    "    #if hasattr(step.prop, \"hyps\"):\n",
    "    \n",
    "    e_hyps = [h for h in get_prop_hyps(step.prop) if h.type == 'e']\n",
    "    assert len(e_hyps) == len(step._prior_entails), print(len(e_hyps), len(step._prior_entails))\n",
    "\n",
    "    #Populate with hypothesis\n",
    "    for raw_hyp, rep_hyp in zip(e_hyps, step._prior_entails):\n",
    "\n",
    "        raw_tree = raw_hyp.tree\n",
    "        rep_tree = rep_hyp.tree\n",
    "\n",
    "        for pos in raw_tree.breadth_first_position_list():\n",
    "            raw_subtree = raw_tree.tree_at_position(pos)\n",
    "            rep_subtree = rep_tree.tree_at_position(pos)\n",
    "            if raw_subtree.value != rep_subtree.value:\n",
    "                repdict[raw_subtree.value] = rep_subtree\n",
    "\n",
    "    \n",
    "    \n",
    "    #Populate with conclusion (this is necessary when there is no hypothesis)\n",
    "    raw_tree = step.prop.tree\n",
    "    rep_tree = step.tree\n",
    "             \n",
    "    for pos in raw_tree.breadth_first_position_list():\n",
    "        raw_subtree = raw_tree.tree_at_position(pos)\n",
    "        rep_subtree = rep_tree.tree_at_position(pos)\n",
    "        if raw_subtree.value != rep_subtree.value:\n",
    "            if raw_subtree.value in repdict and rep_subtree != repdict[raw_subtree.value]:\n",
    "                print(rep_subtree, repdict[raw_subtree.value])\n",
    "                raise Exception(\"Different trees within same node!\")\n",
    "            else:\n",
    "                repdict[raw_subtree.value] = rep_subtree\n",
    "        \n",
    "    return repdict"
   ]
  },
  {
   "cell_type": "markdown",
   "id": "4375e85a",
   "metadata": {},
   "source": [
    "The problem with ax-mp may be solvable by using the previous idea of propagate context, although the previous appraoch failled with dfss3\n"
   ]
  },
  {
   "cell_type": "code",
   "execution_count": 17,
   "id": "37ac2b67",
   "metadata": {},
   "outputs": [],
   "source": [
    "def populate_post_entails(step):\n",
    "    #Get all steps. This is necessary because hypothesis are not natively within entails proof_steps\n",
    "    all_steps = []\n",
    "    for pstep in step.entails_proof_steps:\n",
    "        if pstep not in all_steps:\n",
    "            all_steps.append(pstep)\n",
    "\n",
    "        for prior_pstep in pstep._prior_entails:\n",
    "            if prior_pstep not in all_steps:\n",
    "                all_steps.append(prior_pstep)\n",
    "\n",
    "    for child_step in all_steps:\n",
    "        child_step._post_entail = None\n",
    "        \n",
    "    for child_step in all_steps:\n",
    "        for gchild_step in child_step._prior_entails:\n",
    "            gchild_step._post_entail = child_step"
   ]
  },
  {
   "cell_type": "code",
   "execution_count": null,
   "id": "df655ba6",
   "metadata": {},
   "outputs": [],
   "source": [
    "#root_step = database.propositions[\"dfss3\"].entails_proof_steps[0]"
   ]
  },
  {
   "cell_type": "code",
   "execution_count": 8,
   "id": "67d69c6f",
   "metadata": {},
   "outputs": [
    {
     "name": "stdout",
     "output_type": "stream",
     "text": [
      "--- [dfss] 0 |- ( A ⊆ B ↔ A = ( A ∩ B ) )\n",
      "--- [df-in] 0 |- ( A ∩ B ) = { x | ( x ∈ A ∧ x ∈ B ) }\n",
      "--- [eqeq2i] 1 |- ( A = ( A ∩ B ) ↔ A = { x | ( x ∈ A ∧ x ∈ B ) } )\n",
      "--- [abeq2] 0 |- ( A = { x | ( x ∈ A ∧ x ∈ B ) } ↔ ∀ x ( x ∈ A ↔ ( x ∈ A ∧ x ∈ B ) ) )\n",
      "--- [3bitri] 3 |- ( A ⊆ B ↔ ∀ x ( x ∈ A ↔ ( x ∈ A ∧ x ∈ B ) ) )\n",
      "--- [pm4.71] 0 |- ( ( x ∈ A → x ∈ B ) ↔ ( x ∈ A ↔ ( x ∈ A ∧ x ∈ B ) ) )\n",
      "--- [albii] 1 |- ( ∀ x ( x ∈ A → x ∈ B ) ↔ ∀ x ( x ∈ A ↔ ( x ∈ A ∧ x ∈ B ) ) )\n",
      "--- [bitr4i] 2 |- ( A ⊆ B ↔ ∀ x ( x ∈ A → x ∈ B ) )\n",
      "\n",
      "[bitr4i] |- ( A ⊆ B ↔ ∀ x ( x ∈ A → x ∈ B ) )\n",
      "--- [bicomi] |- ( ∀ x ( x ∈ A ↔ ( x ∈ A ∧ x ∈ B ) ) ↔ ∀ x ( x ∈ A → x ∈ B ) )\n",
      "--- [bitri] |- ( A ⊆ B ↔ ∀ x ( x ∈ A → x ∈ B ) )\n"
     ]
    }
   ],
   "source": [
    "prop = database.propositions[\"dfss2\"]\n",
    "\n",
    "root_step = prop.entails_proof_steps[-1]\n",
    "\n",
    "for exp_step in prop.entails_proof_steps:\n",
    "    print(\"--- [{}]\".format(exp_step.prop.label), len(exp_step._prior_entails), \"|-\", replace_symbols(exp_step.tree.eval(database, root_step.context)))\n",
    "\n",
    "print()\n",
    "\n",
    "exp_proof = expand_proof_step(root_step)\n",
    "\n",
    "print(\"[{}]\".format(root_step.prop.label), \"|-\", replace_symbols(root_step.tree.eval(database, root_step.context)))\n",
    "\n",
    "for exp_step in exp_proof:\n",
    "    print(\"--- [{}]\".format(exp_step.prop.label), \"|-\", replace_symbols(exp_step.tree.eval(database, root_step.context)))"
   ]
  },
  {
   "cell_type": "code",
   "execution_count": 9,
   "id": "d00cf429",
   "metadata": {},
   "outputs": [
    {
     "name": "stdout",
     "output_type": "stream",
     "text": [
      "[bicomi] |- ( ∀ x ( x ∈ A ↔ ( x ∈ A ∧ x ∈ B ) ) ↔ ∀ x ( x ∈ A → x ∈ B ) )\n",
      "\n",
      "--- [bicom1] |- ( ( ∀ x ( x ∈ A → x ∈ B ) ↔ ∀ x ( x ∈ A ↔ ( x ∈ A ∧ x ∈ B ) ) ) → ( ∀ x ( x ∈ A ↔ ( x ∈ A ∧ x ∈ B ) ) ↔ ∀ x ( x ∈ A → x ∈ B ) ) )\n",
      "--- [ax-mp] |- ( ∀ x ( x ∈ A ↔ ( x ∈ A ∧ x ∈ B ) ) ↔ ∀ x ( x ∈ A → x ∈ B ) )\n"
     ]
    }
   ],
   "source": [
    "root_step = exp_proof[0]\n",
    "\n",
    "exp_proof = expand_proof_step(root_step)\n",
    "\n",
    "print(\"[{}]\".format(root_step.prop.label), \"|-\", replace_symbols(root_step.tree.eval(database, root_step.context)))\n",
    "print()\n",
    "\n",
    "for exp_step in exp_proof:\n",
    "    print(\"--- [{}]\".format(exp_step.prop.label), \"|-\", replace_symbols(exp_step.tree.eval(database, root_step.context)))"
   ]
  },
  {
   "cell_type": "code",
   "execution_count": 28,
   "id": "ba2c60c0",
   "metadata": {},
   "outputs": [
    {
     "data": {
      "text/plain": [
       "{'wps': <Tree: wal(wb(wcel(cv(vx()),cA()),wa(wcel(cv(vx()),cA()),wcel(cv(vx()),cB()))),vx())>,\n",
       " 'wch': <Tree: wal(wi(wcel(cv(vx()),cA()),wcel(cv(vx()),cB())),vx())>}"
      ]
     },
     "execution_count": 28,
     "metadata": {},
     "output_type": "execute_result"
    }
   ],
   "source": [
    "step_rep_dict = get_step_replace_dict(root_step)\n",
    "step_rep_dict"
   ]
  },
  {
   "cell_type": "markdown",
   "id": "383c5341",
   "metadata": {},
   "source": [
    "### Defining Classes"
   ]
  },
  {
   "cell_type": "code",
   "execution_count": 5,
   "id": "37fabd8b",
   "metadata": {},
   "outputs": [],
   "source": [
    "def expand_proof_step(root_step):\n",
    "    \n",
    "    expanded_steps = []\n",
    "    \n",
    "    if not hasattr(root_step, \"replace_dict_list\"):\n",
    "        root_step.replace_dict_list = [get_step_replace_dict(root_step)]\n",
    "        \n",
    "    step2exp = dict() #Store references from steps to expanded steps to populate \n",
    "    \n",
    "    for child_step in root_step.prop.entails_proof_steps:\n",
    "        #Take the original prop tree\n",
    "        exp_tree = child_step.prop.tree.copy()\n",
    "        \n",
    "        #Take the step transformation that was used to the raw step to the replace step\n",
    "        replace_dict_list = [get_step_replace_dict(child_step)]\n",
    "            \n",
    "        #Get the root step replace dicts so we can iterativelly expand the steps\n",
    "        replace_dict_list.extend(root_step.replace_dict_list)\n",
    "        \n",
    "        for rep_dict in replace_dict_list:\n",
    "            exp_tree = exp_tree.replace(rep_dict)\n",
    "        \n",
    "        prior_statements = child_step.prior_statements if hasattr(child_step, \"prior_statements\") else []\n",
    "        \n",
    "        exp_step = proof_step(exp_tree, root_step.context, child_step.prop, prior_statements)\n",
    "        exp_step.replace_dict_list = replace_dict_list\n",
    "        \n",
    "        expanded_steps.append(exp_step)\n",
    "        \n",
    "        step2exp[child_step] = exp_step\n",
    "        \n",
    "    #Populate _prior_entails\n",
    "    for child_step in root_step.prop.entails_proof_steps:\n",
    "        step2exp[child_step]._prior_entails = [step2exp.get(cc, cc) for cc in child_step._prior_entails]\n",
    "    \n",
    "        \n",
    "    return expanded_steps"
   ]
  },
  {
   "cell_type": "code",
   "execution_count": 65,
   "id": "6eb3210a",
   "metadata": {},
   "outputs": [],
   "source": []
  },
  {
   "cell_type": "code",
   "execution_count": null,
   "id": "49958664",
   "metadata": {},
   "outputs": [],
   "source": []
  }
 ],
 "metadata": {
  "kernelspec": {
   "display_name": "Python 3 (ipykernel)",
   "language": "python",
   "name": "python3"
  },
  "language_info": {
   "codemirror_mode": {
    "name": "ipython",
    "version": 3
   },
   "file_extension": ".py",
   "mimetype": "text/x-python",
   "name": "python",
   "nbconvert_exporter": "python",
   "pygments_lexer": "ipython3",
   "version": "3.9.7"
  }
 },
 "nbformat": 4,
 "nbformat_minor": 5
}

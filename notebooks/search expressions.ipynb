{
 "cells": [
  {
   "cell_type": "code",
   "execution_count": 1,
   "id": "d42304d3",
   "metadata": {},
   "outputs": [],
   "source": [
    "from adapt_utils import replace_symbols\n",
    "from my_utils import print_proof_props_graph, get_proof_steps, print_ident_proof, print_proof_linear_steps\n",
    "\n",
    "from tree_parser import *\n",
    "\n",
    "#import networkx as nx\n",
    "\n",
    "#import matplotlib\n",
    "#import matplotlib.pyplot as plt\n",
    "\n",
    "import copy\n",
    "\n",
    "import time\n",
    "\n",
    "from collections import Counter\n",
    "\n",
    "import re"
   ]
  },
  {
   "cell_type": "code",
   "execution_count": 2,
   "id": "9287c78a",
   "metadata": {},
   "outputs": [],
   "source": [
    "setmm = open(\"set.mm\").read()"
   ]
  },
  {
   "cell_type": "code",
   "execution_count": 3,
   "id": "abc63587",
   "metadata": {},
   "outputs": [
    {
     "ename": "SyntaxError",
     "evalue": "invalid syntax (<ipython-input-3-8dab1ad450aa>, line 1)",
     "output_type": "error",
     "traceback": [
      "\u001b[1;36m  File \u001b[1;32m\"<ipython-input-3-8dab1ad450aa>\"\u001b[1;36m, line \u001b[1;32m1\u001b[0m\n\u001b[1;33m    write code to store all labels and expressions in order to search through them\u001b[0m\n\u001b[1;37m          ^\u001b[0m\n\u001b[1;31mSyntaxError\u001b[0m\u001b[1;31m:\u001b[0m invalid syntax\n"
     ]
    }
   ],
   "source": [
    "write code to store all labels and expressions in order to search through them"
   ]
  },
  {
   "cell_type": "code",
   "execution_count": null,
   "id": "fef0320e",
   "metadata": {},
   "outputs": [],
   "source": [
    "dfss2 $p |- ( A C_ B <-> A. x ( x e. A -> x e. B ) ) $="
   ]
  },
  {
   "cell_type": "code",
   "execution_count": 4,
   "id": "68f7ba08",
   "metadata": {},
   "outputs": [],
   "source": [
    "tokens = setmm.split()"
   ]
  },
  {
   "cell_type": "code",
   "execution_count": 5,
   "id": "2b7af71d",
   "metadata": {},
   "outputs": [],
   "source": [
    "expressions = list()\n",
    "\n",
    "start_expr = False\n",
    "current_label = None\n",
    "current_expr = list()\n",
    "statement_type = None\n",
    "\n",
    "for i, t in enumerate(tokens):\n",
    "    if (statement_type == \"$p\" and t == \"$=\") or (statement_type == \"$a\" and t == \"$.\"):\n",
    "        start_expr = False\n",
    "        expressions.append((current_label, replace_symbols(\" \".join(current_expr))))\n",
    "        current_expr = list()\n",
    "    \n",
    "    if start_expr:\n",
    "        current_expr.append(t)\n",
    "    \n",
    "    if t in (\"$p\", \"$a\") and tokens[i+1] == \"|-\":\n",
    "        start_expr = True\n",
    "        current_label = tokens[i-1]\n",
    "        statement_type = t"
   ]
  },
  {
   "cell_type": "code",
   "execution_count": 6,
   "id": "9b6152ef",
   "metadata": {},
   "outputs": [
    {
     "data": {
      "text/plain": [
       "[('alsi-no-surprise', '|- ¬ ( A! x ( 𝜑 → 𝜓 ) ∧ A! x ( 𝜑 → ¬ 𝜓 ) )'),\n",
       " ('5m4e1', '|- ( 5 - 4 ) = 1'),\n",
       " ('2p2ne5', '|- ( 2 + 2 ) ≠ 5'),\n",
       " ('resolution', '|- ( ( ( 𝜑 ∧ 𝜓 ) ∨ ( ¬ 𝜑 ∧ 𝜒 ) ) → ( 𝜓 ∨ 𝜒 ) )'),\n",
       " ('testable', '|- ( ¬ 𝜑 ∨ ¬ ¬ 𝜑 )'),\n",
       " ('aacllem', '|- ( 𝜑 → A ∈ AA )'),\n",
       " ('amgmwlem',\n",
       "  '|- ( 𝜑 → ( M gsum ( F oF ^c W ) ) ≤ ( ℂfld gsum ( F oF · W ) ) )'),\n",
       " ('amgmlemALT',\n",
       "  '|- ( 𝜑 → ( ( M gsum F ) ^c ( 1 / ( # ` A ) ) ) ≤ ( ( ℂfld gsum F ) / ( # ` A ) ) )'),\n",
       " ('amgmw2d',\n",
       "  '|- ( 𝜑 → ( ( A ^c P ) · ( B ^c Q ) ) ≤ ( ( A · P ) + ( B · Q ) ) )'),\n",
       " ('young2d',\n",
       "  '|- ( 𝜑 → ( A · B ) ≤ ( ( ( A ^c P ) / P ) + ( ( B ^c Q ) / Q ) ) )')]"
      ]
     },
     "execution_count": 6,
     "metadata": {},
     "output_type": "execute_result"
    }
   ],
   "source": [
    "expressions[-10:]"
   ]
  },
  {
   "cell_type": "code",
   "execution_count": 44,
   "id": "d30cce7e",
   "metadata": {},
   "outputs": [
    {
     "name": "stdout",
     "output_type": "stream",
     "text": [
      "11\n"
     ]
    }
   ],
   "source": [
    "search_terms = [\n",
    "    #\"A || B\",\n",
    "    #\"∈ ℤ\"\n",
    "    #\"∈ Odd\"\n",
    "    #\"·\"\n",
    "    #\"∩\",\n",
    "    #\"↔\",\n",
    "    #\"⊆\",\n",
    "    #\"∈\",\n",
    "    \"𝜑\",\"𝜒\",\"𝜓\",\"→\",\"( 𝜑 → ( 𝜒 → 𝜓 ) )\"\n",
    "]\n",
    "\n",
    "not_terms = [\n",
    "    #\"⊆\",\"∪\",\"∅\"\n",
    "]\n",
    "\n",
    "\n",
    "search_result = []\n",
    "\n",
    "for label, statement in expressions:\n",
    "    result_match = True\n",
    "    for t in not_terms:\n",
    "        if t in statement:\n",
    "            result_match = False\n",
    "    if not result_match:\n",
    "        continue\n",
    "    \n",
    "    for s in search_terms:\n",
    "        if s not in statement:\n",
    "            result_match = False\n",
    "            break\n",
    "    if result_match:\n",
    "        search_result.append((label,statement))\n",
    "                \n",
    "print(len(search_result))"
   ]
  },
  {
   "cell_type": "code",
   "execution_count": 45,
   "id": "fbb45ae7",
   "metadata": {},
   "outputs": [
    {
     "data": {
      "text/plain": [
       "[('a1d', '|- ( 𝜑 → ( 𝜒 → 𝜓 ) )'),\n",
       " ('con4d', '|- ( 𝜑 → ( 𝜒 → 𝜓 ) )'),\n",
       " ('syl5ibrcom', '|- ( 𝜑 → ( 𝜒 → 𝜓 ) )'),\n",
       " ('biimprd', '|- ( 𝜑 → ( 𝜒 → 𝜓 ) )'),\n",
       " ('merco1lem15', '|- ( ( 𝜑 → 𝜓 ) → ( 𝜑 → ( 𝜒 → 𝜓 ) ) )'),\n",
       " ('wl-a1d', '|- ( 𝜑 → ( 𝜒 → 𝜓 ) )'),\n",
       " ('wl-impchain-a1-2', '|- ( 𝜑 → ( 𝜒 → 𝜓 ) )'),\n",
       " ('ibdr', '|- ( 𝜑 → ( 𝜒 → 𝜓 ) )'),\n",
       " ('rp-frege24', '|- ( ( 𝜑 → 𝜓 ) → ( 𝜑 → ( 𝜒 → 𝜓 ) ) )'),\n",
       " ('frege24', '|- ( ( 𝜑 → 𝜓 ) → ( 𝜑 → ( 𝜒 → 𝜓 ) ) )'),\n",
       " ('pm10.542', '|- ( ∀ x ( 𝜑 → ( 𝜒 → 𝜓 ) ) ↔ ( 𝜒 → ∀ x ( 𝜑 → 𝜓 ) ) )')]"
      ]
     },
     "execution_count": 45,
     "metadata": {},
     "output_type": "execute_result"
    }
   ],
   "source": [
    "search_result"
   ]
  },
  {
   "cell_type": "code",
   "execution_count": 72,
   "id": "58caf95a",
   "metadata": {},
   "outputs": [
    {
     "name": "stdout",
     "output_type": "stream",
     "text": [
      "infpn |- ( N ∈ ℕ → ∃ j ∈ ℕ ( N < j ∧ ∀ k ∈ ℕ ( ( j / k ) ∈ ℕ → ( k = 1 ∨ k = j ) ) ) )\n"
     ]
    }
   ],
   "source": [
    "for l, s in expressions:\n",
    "    if l ==\"infpn\":\n",
    "        print(l,s)\n",
    "        break"
   ]
  },
  {
   "cell_type": "code",
   "execution_count": null,
   "id": "d934fb09",
   "metadata": {},
   "outputs": [],
   "source": []
  }
 ],
 "metadata": {
  "kernelspec": {
   "display_name": "Python 3",
   "language": "python",
   "name": "python3"
  },
  "language_info": {
   "codemirror_mode": {
    "name": "ipython",
    "version": 3
   },
   "file_extension": ".py",
   "mimetype": "text/x-python",
   "name": "python",
   "nbconvert_exporter": "python",
   "pygments_lexer": "ipython3",
   "version": "3.9.6"
  }
 },
 "nbformat": 4,
 "nbformat_minor": 5
}

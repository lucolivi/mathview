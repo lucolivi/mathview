{
 "cells": [
  {
   "cell_type": "code",
   "execution_count": 1,
   "id": "add773dc",
   "metadata": {},
   "outputs": [],
   "source": [
    "from tree_parser import file_contents, meta_math_database\n",
    "\n",
    "from my_utils import print_proof_props_graph, get_proof_steps, print_ident_proof, print_proof_linear_steps\n",
    "from my_utils import get_proof_steps_graph, print_proof_steps_graph\n",
    "\n",
    "\n",
    "from expanding import construct_proof, expand_proof_step_ps\n",
    "\n",
    "from collections import defaultdict\n",
    "\n",
    "import glob\n",
    "\n",
    "import os\n",
    "\n",
    "import numpy as np\n",
    "\n",
    "from sklearn.metrics import roc_auc_score\n",
    "\n",
    "import random"
   ]
  },
  {
   "cell_type": "code",
   "execution_count": 2,
   "id": "878ee2d9",
   "metadata": {},
   "outputs": [
    {
     "name": "stdout",
     "output_type": "stream",
     "text": [
      "included 3651825 tokens from set_mod.mm\n",
      "proposition: 5000CPU times: user 23.7 s, sys: 510 ms, total: 24.2 s\n",
      "Wall time: 24.3 s\n"
     ]
    }
   ],
   "source": [
    "%%time\n",
    "\n",
    "text = file_contents(\"set_mod.mm\")\n",
    "database = meta_math_database(text,n=5000)"
   ]
  },
  {
   "cell_type": "code",
   "execution_count": 3,
   "id": "48a24fcf",
   "metadata": {},
   "outputs": [],
   "source": [
    "#Load test data\n",
    "testdata = dict()\n",
    "for f in glob.glob(os.path.join(\"test_data\", \"*.txt\")):\n",
    "    f_rev = \"\".join(reversed(f))\n",
    "    f_name = \"\".join(reversed(f_rev[4:f_rev.index(\"/\")]))\n",
    "    testdata[f_name] = [l[:-1] for l in open(f).readlines() if len(l) > 2]"
   ]
  },
  {
   "cell_type": "code",
   "execution_count": 4,
   "id": "aefa72de",
   "metadata": {},
   "outputs": [
    {
     "name": "stdout",
     "output_type": "stream",
     "text": [
      "t1lucas\n",
      "t2lucas\n",
      "t4lucas\n",
      "t5lucas\n"
     ]
    }
   ],
   "source": [
    "for p in database.propositions_list:\n",
    "    if \"lucas\" in p.label:\n",
    "        print(p.label)"
   ]
  },
  {
   "cell_type": "code",
   "execution_count": 5,
   "id": "1902af66",
   "metadata": {},
   "outputs": [
    {
     "name": "stdout",
     "output_type": "stream",
     "text": [
      "t2lucas 2976\n"
     ]
    },
    {
     "data": {
      "image/png": "[encoded data removed]",
      "text/plain": [
       "<Figure size 720x360 with 1 Axes>"
      ]
     },
     "metadata": {},
     "output_type": "display_data"
    },
    {
     "name": "stdout",
     "output_type": "stream",
     "text": [
      " <PStep:eqssi ⊢ ( A ∩ A ) = A>\n",
      " |  <PStep:ssriv ⊢ ( A ∩ A ) ⊆ A>\n",
      " |  |  <PStep:simpld ⊢ ( x ∈ ( A ∩ A ) → x ∈ A )>\n",
      " |  |  |  <PStep:biimpi ⊢ ( x ∈ ( A ∩ A ) → ( x ∈ A ∧ x ∈ A ) )>\n",
      " |  |  |  |  <PStep:elin ⊢ ( x ∈ ( A ∩ A ) ↔ ( x ∈ A ∧ x ∈ A ) )>\n",
      " |  <PStep:ssriv ⊢ A ⊆ ( A ∩ A )>\n",
      " |  |  <PStep:syl ⊢ ( x ∈ A → x ∈ ( A ∩ A ) )>\n",
      " |  |  |  <PStep:biimpi ⊢ ( x ∈ A → ( x ∈ A ∧ x ∈ A ) )>\n",
      " |  |  |  |  <PStep:pm4.24 ⊢ ( x ∈ A ↔ ( x ∈ A ∧ x ∈ A ) )>\n",
      " |  |  |  <PStep:biimpri ⊢ ( ( x ∈ A ∧ x ∈ A ) → x ∈ ( A ∩ A ) )>\n",
      " |  |  |  |  <PStep:elin ⊢ ( x ∈ ( A ∩ A ) ↔ ( x ∈ A ∧ x ∈ A ) )>\n"
     ]
    }
   ],
   "source": [
    "prop = database.propositions[\"t2lucas\"]\n",
    "#prop = database.propositions_list[-1]\n",
    "print(prop.label, prop.number)\n",
    "prop_proof = construct_proof(prop)\n",
    "prop_proof.print_graph()\n",
    "prop_proof.print_linear()"
   ]
  },
  {
   "cell_type": "code",
   "execution_count": 6,
   "id": "cbb05df2",
   "metadata": {},
   "outputs": [
    {
     "data": {
      "text/plain": [
       "[<PStep:eqssi ⊢ ( A ∩ A ) = A>,\n",
       " <PStep:ssriv ⊢ ( A ∩ A ) ⊆ A>,\n",
       " <PStep:simpld ⊢ ( x ∈ ( A ∩ A ) → x ∈ A )>,\n",
       " <PStep:biimpi ⊢ ( x ∈ ( A ∩ A ) → ( x ∈ A ∧ x ∈ A ) )>,\n",
       " <PStep:elin ⊢ ( x ∈ ( A ∩ A ) ↔ ( x ∈ A ∧ x ∈ A ) )>,\n",
       " <PStep:ssriv ⊢ A ⊆ ( A ∩ A )>,\n",
       " <PStep:syl ⊢ ( x ∈ A → x ∈ ( A ∩ A ) )>,\n",
       " <PStep:biimpi ⊢ ( x ∈ A → ( x ∈ A ∧ x ∈ A ) )>,\n",
       " <PStep:pm4.24 ⊢ ( x ∈ A ↔ ( x ∈ A ∧ x ∈ A ) )>,\n",
       " <PStep:biimpri ⊢ ( ( x ∈ A ∧ x ∈ A ) → x ∈ ( A ∩ A ) )>,\n",
       " <PStep:elin ⊢ ( x ∈ ( A ∩ A ) ↔ ( x ∈ A ∧ x ∈ A ) )>]"
      ]
     },
     "execution_count": 6,
     "metadata": {},
     "output_type": "execute_result"
    }
   ],
   "source": [
    "prop_proof.get_steps_df()"
   ]
  },
  {
   "cell_type": "code",
   "execution_count": 7,
   "id": "d34f39f2",
   "metadata": {},
   "outputs": [],
   "source": [
    "def get_prop_steps_gt(prop):\n",
    "    if prop.label not in testdata:\n",
    "        raise Exception(f\"Propostion {prop.label} not in testdata.\")\n",
    "    \n",
    "    prop_proof = construct_proof(prop)\n",
    "    prop_steps = prop_proof.get_steps_df()\n",
    "    \n",
    "    prop_steps_gt = list()\n",
    "    for s in prop_steps:\n",
    "        gt = 0\n",
    "        #print(s.label + \" ⊢ \" + s.statement)\n",
    "        if s.label + \" ⊢ \" + s.statement in testdata[prop.label]:\n",
    "            gt = 1\n",
    "        prop_steps_gt.append((s, gt))\n",
    "        \n",
    "    return prop_steps_gt"
   ]
  },
  {
   "cell_type": "code",
   "execution_count": 8,
   "id": "79142e22",
   "metadata": {},
   "outputs": [
    {
     "data": {
      "text/plain": [
       "[(<PStep:eqssi ⊢ ( A ∩ A ) = A>, 0),\n",
       " (<PStep:ssriv ⊢ ( A ∩ A ) ⊆ A>, 0),\n",
       " (<PStep:simpld ⊢ ( x ∈ ( A ∩ A ) → x ∈ A )>, 1),\n",
       " (<PStep:biimpi ⊢ ( x ∈ ( A ∩ A ) → ( x ∈ A ∧ x ∈ A ) )>, 1),\n",
       " (<PStep:elin ⊢ ( x ∈ ( A ∩ A ) ↔ ( x ∈ A ∧ x ∈ A ) )>, 0),\n",
       " (<PStep:ssriv ⊢ A ⊆ ( A ∩ A )>, 0),\n",
       " (<PStep:syl ⊢ ( x ∈ A → x ∈ ( A ∩ A ) )>, 1),\n",
       " (<PStep:biimpi ⊢ ( x ∈ A → ( x ∈ A ∧ x ∈ A ) )>, 1),\n",
       " (<PStep:pm4.24 ⊢ ( x ∈ A ↔ ( x ∈ A ∧ x ∈ A ) )>, 0),\n",
       " (<PStep:biimpri ⊢ ( ( x ∈ A ∧ x ∈ A ) → x ∈ ( A ∩ A ) )>, 0),\n",
       " (<PStep:elin ⊢ ( x ∈ ( A ∩ A ) ↔ ( x ∈ A ∧ x ∈ A ) )>, 0)]"
      ]
     },
     "execution_count": 8,
     "metadata": {},
     "output_type": "execute_result"
    }
   ],
   "source": [
    "prop_steps = get_prop_steps_gt(database.propositions[\"t2lucas\"])\n",
    "prop_steps"
   ]
  },
  {
   "cell_type": "code",
   "execution_count": 9,
   "id": "00df40a7",
   "metadata": {},
   "outputs": [
    {
     "name": "stdout",
     "output_type": "stream",
     "text": [
      "0.4642857142857143\n"
     ]
    }
   ],
   "source": [
    "prop_steps = get_prop_steps_gt(database.propositions[\"t2lucas\"])\n",
    "\n",
    "### Baseline Naive Classifier Based on amount of symbols\n",
    "predictions = list()\n",
    "for s, _ in prop_steps:\n",
    "    predictions.append(len(s.statement.split(\" \")))\n",
    "    \n",
    "predictions = np.array(predictions)\n",
    "\n",
    "#Get max value and normalize by it\n",
    "max_pred = predictions.max()\n",
    "predictions = 1 - predictions / max_pred\n",
    "predictions\n",
    "\n",
    "gts = np.array([gt for _, gt in prop_steps])\n",
    "gts\n",
    "\n",
    "print(roc_auc_score(gts, predictions))"
   ]
  },
  {
   "cell_type": "code",
   "execution_count": 10,
   "id": "8167c571",
   "metadata": {},
   "outputs": [
    {
     "name": "stdout",
     "output_type": "stream",
     "text": [
      "0.8222222222222222\n"
     ]
    }
   ],
   "source": [
    "prop_steps = get_prop_steps_gt(database.propositions[\"t1lucas\"])\n",
    "\n",
    "### Baseline Naive Classifier Based on amount of symbols\n",
    "predictions = list()\n",
    "for s, _ in prop_steps:\n",
    "    predictions.append(len(s.statement.split(\" \")))\n",
    "    \n",
    "predictions = np.array(predictions)\n",
    "\n",
    "#Get max value and normalize by it\n",
    "max_pred = predictions.max()\n",
    "predictions = 1 - predictions / max_pred\n",
    "predictions\n",
    "\n",
    "gts = np.array([gt for _, gt in prop_steps])\n",
    "gts\n",
    "\n",
    "print(roc_auc_score(gts, predictions))"
   ]
  },
  {
   "cell_type": "code",
   "execution_count": 11,
   "id": "a229b211",
   "metadata": {},
   "outputs": [
    {
     "name": "stdout",
     "output_type": "stream",
     "text": [
      "0.861111111111111\n"
     ]
    }
   ],
   "source": [
    "prop_steps = get_prop_steps_gt(database.propositions[\"t4lucas\"])\n",
    "\n",
    "### Baseline Naive Classifier Based on amount of symbols\n",
    "predictions = list()\n",
    "for s, _ in prop_steps:\n",
    "    predictions.append(len(s.statement.split(\" \")))\n",
    "    \n",
    "predictions = np.array(predictions)\n",
    "\n",
    "#Get max value and normalize by it\n",
    "max_pred = predictions.max()\n",
    "predictions = 1 - predictions / max_pred\n",
    "predictions\n",
    "\n",
    "gts = np.array([gt for _, gt in prop_steps])\n",
    "gts\n",
    "\n",
    "#prop_steps[0][0].print_linear()\n",
    "\n",
    "print(roc_auc_score(gts, predictions))"
   ]
  },
  {
   "cell_type": "code",
   "execution_count": 12,
   "id": "4328ad67",
   "metadata": {},
   "outputs": [
    {
     "name": "stdout",
     "output_type": "stream",
     "text": [
      "0.6435185185185185\n"
     ]
    }
   ],
   "source": [
    "prop_steps = get_prop_steps_gt(database.propositions[\"t5lucas\"])\n",
    "\n",
    "### Baseline Naive Classifier Based on amount of symbols\n",
    "predictions = list()\n",
    "for s, _ in prop_steps:\n",
    "    predictions.append(len(s.statement.split(\" \")))\n",
    "    \n",
    "predictions = np.array(predictions)\n",
    "\n",
    "#Get max value and normalize by it\n",
    "max_pred = predictions.max()\n",
    "predictions = 1 - predictions / max_pred\n",
    "predictions\n",
    "\n",
    "gts = np.array([gt for _, gt in prop_steps])\n",
    "gts\n",
    "\n",
    "print(roc_auc_score(gts, predictions))"
   ]
  },
  {
   "cell_type": "code",
   "execution_count": 13,
   "id": "0f54b264",
   "metadata": {},
   "outputs": [
    {
     "name": "stdout",
     "output_type": "stream",
     "text": [
      "0.5\n"
     ]
    }
   ],
   "source": [
    "prop_steps = get_prop_steps_gt(database.propositions[\"ssun1\"])\n",
    "\n",
    "### Baseline Naive Classifier Based on amount of symbols\n",
    "predictions = list()\n",
    "for s, _ in prop_steps:\n",
    "    predictions.append(len(s.statement.split(\" \")))\n",
    "    \n",
    "predictions = np.array(predictions)\n",
    "\n",
    "#Get max value and normalize by it\n",
    "max_pred = predictions.max()\n",
    "predictions = 1 - predictions / max_pred\n",
    "predictions\n",
    "\n",
    "gts = np.array([gt for _, gt in prop_steps])\n",
    "gts\n",
    "\n",
    "print(roc_auc_score(gts, predictions))"
   ]
  },
  {
   "cell_type": "code",
   "execution_count": 130,
   "id": "ba232104",
   "metadata": {},
   "outputs": [],
   "source": [
    "class BaseClf:\n",
    "    def auc_score(self, X, y):\n",
    "        predictions = self.predict(X)\n",
    "        return roc_auc_score(y, predictions)\n",
    "\n",
    "class WeightClassifier(BaseClf):   \n",
    "    def predict(self, X):\n",
    "        predictions = list()\n",
    "        for s in X:\n",
    "            predictions.append(len(s.statement.split(\" \")))\n",
    "        \n",
    "        predictions = np.array(predictions)\n",
    "        \n",
    "        #Get max value and normalize by it\n",
    "        max_pred = predictions.max()\n",
    "        predictions = predictions/max_pred\n",
    "        \n",
    "        # The way it is the largest statement will get the value of 1\n",
    "        # Here we will treat the positive class as the statement to be removed\n",
    "        # In this classifier we want to keep only the small expressions      \n",
    "        return predictions\n",
    "    \n",
    "class RandomClassifier(BaseClf):\n",
    "    def predict(self, X):\n",
    "        return np.random.random(len(X))\n",
    "    \n",
    "rand_clf = RandomClassifier()\n",
    "weight_clf = WeightClassifier()"
   ]
  },
  {
   "cell_type": "code",
   "execution_count": 131,
   "id": "41e9a139",
   "metadata": {},
   "outputs": [],
   "source": [
    "#computar metricas para teoremas baguncados"
   ]
  },
  {
   "cell_type": "code",
   "execution_count": 165,
   "id": "480c6451",
   "metadata": {},
   "outputs": [
    {
     "name": "stdout",
     "output_type": "stream",
     "text": [
      "[0, 0, 0, 1, 0, 1, 1, 0, 1, 1, 1, 1, 1, 1, 1, 1, 1, 1, 1, 1, 1, 1, 1, 1, 1, 1, 1, 1, 1, 0, 0, 1, 1, 1, 1, 1, 1, 1]\n"
     ]
    },
    {
     "data": {
      "text/plain": [
       "0.7188940092165899"
      ]
     },
     "execution_count": 165,
     "metadata": {},
     "output_type": "execute_result"
    }
   ],
   "source": [
    "prop_proof = construct_proof(database.propositions[\"dfss2\"])\n",
    "gt_statements = [s.statement for s in prop_proof.get_steps_df()]\n",
    "\n",
    "#Randomly expand 5 steps\n",
    "for i in range(10):\n",
    "    prop_proof = random.choice(prop_proof.get_steps_df()).expand()\n",
    "    \n",
    "prop_steps = prop_proof.get_steps_df()\n",
    "#Everything within the original statements should not be hidden (class 0)\n",
    "#in other words, every statement not in the original statements set should be hidden (class 1)\n",
    "prop_ys = [int(s.statement not in gt_statements) for s in prop_steps]\n",
    "\n",
    "print(prop_ys)\n",
    "\n",
    "auc_value = weight_clf.auc_score(prop_steps, prop_ys)\n",
    "auc_value"
   ]
  },
  {
   "cell_type": "code",
   "execution_count": 175,
   "id": "fee8044d",
   "metadata": {},
   "outputs": [],
   "source": [
    "def get_messed_prop_auc(prop, score_method=None, n_steps=50, n_expansions=20):\n",
    "    \"\"\"\n",
    "        Generate random expansions to check how the score method can detect additional steps.\n",
    "    \"\"\"\n",
    "    \n",
    "    auc_values = []\n",
    "    for _ in range(n_steps):\n",
    "\n",
    "        prop_proof = construct_proof(database.propositions[prop])\n",
    "        gt_statements = [s.statement for s in prop_proof.get_steps_df()]\n",
    "\n",
    "        #Randomly expand steps\n",
    "        for i in range(n_expansions):\n",
    "            prop_proof = random.choice(prop_proof.get_steps_df()).expand().get_root_step()\n",
    "\n",
    "        prop_steps = prop_proof.get_steps_df()\n",
    "        #Everything within the original statements should not be hidden (class 0)\n",
    "        prop_ys = [int(s.statement not in gt_statements) for s in prop_steps]\n",
    "\n",
    "        auc_value = score_method(prop_steps, prop_ys)\n",
    "        auc_values.append(auc_value)\n",
    "\n",
    "    return np.mean(auc_values)"
   ]
  },
  {
   "cell_type": "code",
   "execution_count": 176,
   "id": "1cb3dfea",
   "metadata": {},
   "outputs": [
    {
     "name": "stdout",
     "output_type": "stream",
     "text": [
      "0.6843839728694502\n",
      "0.5262644814538252\n",
      "CPU times: user 1.08 s, sys: 22.2 ms, total: 1.1 s\n",
      "Wall time: 1.12 s\n"
     ]
    }
   ],
   "source": [
    "%%time \n",
    "\n",
    "prop_label = \"dfss2\"\n",
    "\n",
    "print(get_messed_prop_auc(prop_label, weight_clf.auc_score))\n",
    "print(get_messed_prop_auc(prop_label, rand_clf.auc_score))"
   ]
  },
  {
   "cell_type": "code",
   "execution_count": 177,
   "id": "7b208091",
   "metadata": {},
   "outputs": [
    {
     "name": "stdout",
     "output_type": "stream",
     "text": [
      "0.812007072586412\n",
      "0.525394155600624\n",
      "CPU times: user 628 ms, sys: 12.8 ms, total: 641 ms\n",
      "Wall time: 638 ms\n"
     ]
    }
   ],
   "source": [
    "%%time \n",
    "\n",
    "prop_label = \"dfss\"\n",
    "\n",
    "print(get_messed_prop_auc(prop_label, weight_clf.auc_score))\n",
    "print(get_messed_prop_auc(prop_label, rand_clf.auc_score))"
   ]
  },
  {
   "cell_type": "code",
   "execution_count": 178,
   "id": "7ac8848f",
   "metadata": {},
   "outputs": [
    {
     "name": "stdout",
     "output_type": "stream",
     "text": [
      "0.8066508894118911\n",
      "0.4789202885749023\n",
      "CPU times: user 1.87 s, sys: 203 ms, total: 2.08 s\n",
      "Wall time: 2.17 s\n"
     ]
    }
   ],
   "source": [
    "%%time \n",
    "\n",
    "prop_label = \"dfss3\"\n",
    "\n",
    "print(get_messed_prop_auc(prop_label, weight_clf.auc_score))\n",
    "print(get_messed_prop_auc(prop_label, rand_clf.auc_score))"
   ]
  },
  {
   "cell_type": "code",
   "execution_count": 179,
   "id": "5e987757",
   "metadata": {},
   "outputs": [
    {
     "name": "stdout",
     "output_type": "stream",
     "text": [
      "0.6733644093448001\n",
      "0.4785193966709822\n"
     ]
    }
   ],
   "source": [
    "prop_label = \"t1lucas\"\n",
    "\n",
    "print(get_messed_prop_auc(prop_label, weight_clf.auc_score))\n",
    "print(get_messed_prop_auc(prop_label, rand_clf.auc_score))"
   ]
  },
  {
   "cell_type": "code",
   "execution_count": 123,
   "id": "7f299af8",
   "metadata": {},
   "outputs": [
    {
     "ename": "SyntaxError",
     "evalue": "invalid syntax (3648115588.py, line 1)",
     "output_type": "error",
     "traceback": [
      "\u001b[0;36m  File \u001b[0;32m\"/var/folders/l2/7llyhwlx5nd60gwdz55p43cr0000gn/T/ipykernel_9474/3648115588.py\"\u001b[0;36m, line \u001b[0;32m1\u001b[0m\n\u001b[0;31m    determinar quais provas e quais passos vao ser usados para teste\u001b[0m\n\u001b[0m               ^\u001b[0m\n\u001b[0;31mSyntaxError\u001b[0m\u001b[0;31m:\u001b[0m invalid syntax\n"
     ]
    }
   ],
   "source": [
    "determinar quais provas e quais passos vao ser usados para teste"
   ]
  },
  {
   "cell_type": "code",
   "execution_count": 180,
   "id": "20e1a092",
   "metadata": {},
   "outputs": [
    {
     "name": "stdout",
     "output_type": "stream",
     "text": [
      "0.7851331026584378\n",
      "0.48379436329139247\n"
     ]
    }
   ],
   "source": [
    "prop_label = \"t2lucas\"\n",
    "\n",
    "print(get_messed_prop_auc(prop_label, weight_clf.auc_score))\n",
    "print(get_messed_prop_auc(prop_label, rand_clf.auc_score))"
   ]
  },
  {
   "cell_type": "code",
   "execution_count": 181,
   "id": "94da3092",
   "metadata": {},
   "outputs": [
    {
     "name": "stdout",
     "output_type": "stream",
     "text": [
      "0.8108121986260788\n",
      "0.5117019588823204\n"
     ]
    }
   ],
   "source": [
    "prop_label = \"ssun1\"\n",
    "\n",
    "print(get_messed_prop_auc(prop_label, weight_clf.auc_score))\n",
    "print(get_messed_prop_auc(prop_label, rand_clf.auc_score))"
   ]
  },
  {
   "cell_type": "code",
   "execution_count": 182,
   "id": "23c35caa",
   "metadata": {},
   "outputs": [
    {
     "name": "stdout",
     "output_type": "stream",
     "text": [
      "0.6549941858753933\n",
      "0.5037498693613266\n"
     ]
    }
   ],
   "source": [
    "prop_label = \"t5lucas\"\n",
    "\n",
    "print(get_messed_prop_auc(prop_label, weight_clf.auc_score))\n",
    "print(get_messed_prop_auc(prop_label, rand_clf.auc_score))"
   ]
  },
  {
   "cell_type": "code",
   "execution_count": null,
   "id": "64774baa",
   "metadata": {},
   "outputs": [],
   "source": []
  }
 ],
 "metadata": {
  "kernelspec": {
   "display_name": "Python 3 (ipykernel)",
   "language": "python",
   "name": "python3"
  },
  "language_info": {
   "codemirror_mode": {
    "name": "ipython",
    "version": 3
   },
   "file_extension": ".py",
   "mimetype": "text/x-python",
   "name": "python",
   "nbconvert_exporter": "python",
   "pygments_lexer": "ipython3",
   "version": "3.9.7"
  }
 },
 "nbformat": 4,
 "nbformat_minor": 5
}

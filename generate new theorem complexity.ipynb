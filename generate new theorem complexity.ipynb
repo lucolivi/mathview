{
 "cells": [
  {
   "cell_type": "code",
   "execution_count": 1,
   "id": "610df062",
   "metadata": {},
   "outputs": [],
   "source": [
    "from theorem_database import TheoremDatabase"
   ]
  },
  {
   "cell_type": "code",
   "execution_count": 2,
   "id": "d2450569",
   "metadata": {},
   "outputs": [],
   "source": [
    "tdb = TheoremDatabase(\"tdb\")"
   ]
  },
  {
   "cell_type": "code",
   "execution_count": 3,
   "id": "e450a714",
   "metadata": {},
   "outputs": [],
   "source": [
    "def get_theorem_complexity(theorem_name):\n",
    "    theorem = tdb[theorem_name]\n",
    "    \n",
    "    if theorem == None:\n",
    "        return 0\n",
    "    \n",
    "    if \"complexity\" not in theorem:\n",
    "        print(theorem[\"theorem\"])\n",
    "        \n",
    "        if len(theorem[\"steps\"]) == 0:\n",
    "            theorem[\"complexity\"] = 1\n",
    "        else:\n",
    "            theorem[\"complexity\"] = sum([get_theorem_complexity(tt[\"theorem\"]) for tt in theorem[\"steps\"]])\n",
    "            \n",
    "    return theorem[\"complexity\"]"
   ]
  },
  {
   "cell_type": "code",
   "execution_count": 25,
   "id": "2ec33366",
   "metadata": {},
   "outputs": [],
   "source": [
    "comp = get_theorem_complexity(\"oddp1eveni\")"
   ]
  },
  {
   "cell_type": "code",
   "execution_count": 26,
   "id": "f3c1f2cf",
   "metadata": {},
   "outputs": [
    {
     "data": {
      "text/plain": [
       "380296930726742838274821"
      ]
     },
     "execution_count": 26,
     "metadata": {},
     "output_type": "execute_result"
    }
   ],
   "source": [
    "comp"
   ]
  },
  {
   "cell_type": "code",
   "execution_count": 29,
   "id": "3d59af1a",
   "metadata": {},
   "outputs": [],
   "source": [
    "    \n",
    "tdb.save()"
   ]
  },
  {
   "cell_type": "code",
   "execution_count": 28,
   "id": "4d221d1d",
   "metadata": {},
   "outputs": [
    {
     "data": {
      "text/plain": [
       "{'theorem': 'oddp1eveni',\n",
       " 'expression': '⊢ (𝑍 ∈ Odd → (𝑍 + 1) ∈ Even )',\n",
       " 'steps': [{'step': '1',\n",
       "   'theorem': 'oddz',\n",
       "   'expression': '⊢ (𝑍 ∈ Odd → 𝑍 ∈ ℤ)'},\n",
       "  {'step': '2',\n",
       "   'theorem': 'peano2zd',\n",
       "   'expression': '⊢ (𝑍 ∈ Odd → (𝑍 + 1) ∈ ℤ)'},\n",
       "  {'step': '3',\n",
       "   'theorem': 'oddp1div2z',\n",
       "   'expression': '⊢ (𝑍 ∈ Odd → ((𝑍 + 1) / 2) ∈ ℤ)'},\n",
       "  {'step': '4',\n",
       "   'theorem': 'iseven',\n",
       "   'expression': '⊢ ((𝑍 + 1) ∈ Even ↔ ((𝑍 + 1) ∈ ℤ ∧ ((𝑍 + 1) / 2) ∈ ℤ))'},\n",
       "  {'step': '5',\n",
       "   'theorem': 'sylanbrc',\n",
       "   'expression': '⊢ (𝑍 ∈ Odd → (𝑍 + 1) ∈ Even )'}],\n",
       " 'hyps': [('2', '1', 0), ('5', '2', 0), ('5', '3', 1), ('5', '4', 2)],\n",
       " 'complexity': 380296930726742838274821}"
      ]
     },
     "execution_count": 28,
     "metadata": {},
     "output_type": "execute_result"
    }
   ],
   "source": [
    "tdb[\"oddp1eveni\"]"
   ]
  },
  {
   "cell_type": "code",
   "execution_count": null,
   "id": "1f12b601",
   "metadata": {},
   "outputs": [],
   "source": []
  }
 ],
 "metadata": {
  "kernelspec": {
   "display_name": "Python 3 (ipykernel)",
   "language": "python",
   "name": "python3"
  },
  "language_info": {
   "codemirror_mode": {
    "name": "ipython",
    "version": 3
   },
   "file_extension": ".py",
   "mimetype": "text/x-python",
   "name": "python",
   "nbconvert_exporter": "python",
   "pygments_lexer": "ipython3",
   "version": "3.9.7"
  }
 },
 "nbformat": 4,
 "nbformat_minor": 5
}

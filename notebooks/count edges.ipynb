{
 "cells": [
  {
   "cell_type": "markdown",
   "id": "5943c940",
   "metadata": {},
   "source": [
    "In this notebook we will count the occurrence of sequence of theorems together to use as sign to control granularity."
   ]
  },
  {
   "cell_type": "code",
   "execution_count": 1,
   "id": "00e35abb",
   "metadata": {},
   "outputs": [],
   "source": [
    "from adapt_utils import replace_symbols\n",
    "\n",
    "from tree_parser import *\n",
    "\n",
    "import networkx as nx \n",
    "\n",
    "from collections import Counter\n",
    "\n",
    "#import matplotlib\n",
    "#import matplotlib.pyplot as plt"
   ]
  },
  {
   "cell_type": "code",
   "execution_count": 5,
   "id": "06296588",
   "metadata": {},
   "outputs": [
    {
     "name": "stdout",
     "output_type": "stream",
     "text": [
      "included 5555695 tokens from set.mm\n",
      "proposition: 16000"
     ]
    }
   ],
   "source": [
    "text = file_contents()\n",
    "database = meta_math_database(text,n=16000)"
   ]
  },
  {
   "cell_type": "code",
   "execution_count": 7,
   "id": "7cbab391",
   "metadata": {},
   "outputs": [
    {
     "ename": "KeyError",
     "evalue": "'oddz'",
     "output_type": "error",
     "traceback": [
      "\u001b[1;31m---------------------------------------------------------------------------\u001b[0m",
      "\u001b[1;31mKeyError\u001b[0m                                  Traceback (most recent call last)",
      "\u001b[1;32m<ipython-input-7-c62c27c794b5>\u001b[0m in \u001b[0;36m<module>\u001b[1;34m\u001b[0m\n\u001b[1;32m----> 1\u001b[1;33m \u001b[0mdatabase\u001b[0m\u001b[1;33m.\u001b[0m\u001b[0mpropositions\u001b[0m\u001b[1;33m[\u001b[0m\u001b[1;34m\"oddz\"\u001b[0m\u001b[1;33m]\u001b[0m\u001b[1;33m\u001b[0m\u001b[1;33m\u001b[0m\u001b[0m\n\u001b[0m",
      "\u001b[1;31mKeyError\u001b[0m: 'oddz'"
     ]
    }
   ],
   "source": [
    "database.propositions[\"oddz\"]"
   ]
  },
  {
   "cell_type": "code",
   "execution_count": 8,
   "id": "fa68fb73",
   "metadata": {},
   "outputs": [],
   "source": [
    "def get_edges(proof_step, edges):\n",
    "\n",
    "    for ps in proof_step._prior_entails:\n",
    "        edges.append((proof_step.prop.label, ps.prop.label))\n",
    "        get_edges(ps, edges)"
   ]
  },
  {
   "cell_type": "code",
   "execution_count": 9,
   "id": "02b99168",
   "metadata": {},
   "outputs": [
    {
     "name": "stdout",
     "output_type": "stream",
     "text": [
      "15999"
     ]
    }
   ],
   "source": [
    "edges = []\n",
    "\n",
    "for i, prop in enumerate(database.propositions_list):\n",
    "    print(f\"\\r{i}\", end=\"\")\n",
    "    if len(prop.entails_proof_steps) > 0:\n",
    "        get_edges(prop.entails_proof_steps[-1], edges)\n",
    "    "
   ]
  },
  {
   "cell_type": "code",
   "execution_count": 11,
   "id": "68021da2",
   "metadata": {},
   "outputs": [
    {
     "data": {
      "text/plain": [
       "465278"
      ]
     },
     "execution_count": 11,
     "metadata": {},
     "output_type": "execute_result"
    }
   ],
   "source": [
    "len(edges)"
   ]
  },
  {
   "cell_type": "code",
   "execution_count": 12,
   "id": "a33c60ff",
   "metadata": {},
   "outputs": [],
   "source": [
    "edges_cnt = Counter(edges)"
   ]
  },
  {
   "cell_type": "code",
   "execution_count": 13,
   "id": "d0a6197b",
   "metadata": {},
   "outputs": [],
   "source": [
    "import pickle\n",
    "\n",
    "pickle.dump(edges_cnt, open(\"edges_cnt.pkl\", \"wb\"))\n",
    "\n",
    "#edges_cnt"
   ]
  },
  {
   "cell_type": "code",
   "execution_count": 14,
   "id": "dd15bb7a",
   "metadata": {},
   "outputs": [
    {
     "data": {
      "text/plain": [
       "0"
      ]
     },
     "execution_count": 14,
     "metadata": {},
     "output_type": "execute_result"
    }
   ],
   "source": [
    "edges_cnt[(\"eqss\", \"0ss\")]"
   ]
  },
  {
   "cell_type": "code",
   "execution_count": 15,
   "id": "f3e708bd",
   "metadata": {},
   "outputs": [
    {
     "name": "stdout",
     "output_type": "stream",
     "text": [
      "('bitr4i', '3bitri') 13\n",
      "('3bitri', 'dfss') 1\n",
      "('3bitri', 'eqeq2i') 3\n",
      "('eqeq2i', 'df-in') 1\n",
      "('3bitri', 'abeq2') 1\n",
      "('bitr4i', 'albii') 32\n",
      "('albii', 'pm4.71') 5\n"
     ]
    }
   ],
   "source": [
    "target_prop = database.propositions[\"dfss2\"]\n",
    "\n",
    "target_edges = []\n",
    "get_edges(target_prop.entails_proof_steps[-1], target_edges)\n",
    "\n",
    "for e in target_edges:\n",
    "    print(e, edges_cnt[e])\n",
    "\n",
    "#edges_cnt[(\"bitr4i\",\"3bitri\")]"
   ]
  },
  {
   "cell_type": "code",
   "execution_count": 16,
   "id": "0a50fa48",
   "metadata": {},
   "outputs": [],
   "source": [
    "#target_edges"
   ]
  },
  {
   "cell_type": "code",
   "execution_count": 17,
   "id": "7dab1e31",
   "metadata": {},
   "outputs": [
    {
     "data": {
      "text/plain": [
       "'mressmrcd'"
      ]
     },
     "execution_count": 17,
     "metadata": {},
     "output_type": "execute_result"
    }
   ],
   "source": [
    "database.propositions_list[-40].label"
   ]
  },
  {
   "cell_type": "code",
   "execution_count": 18,
   "id": "66f93daf",
   "metadata": {},
   "outputs": [
    {
     "name": "stdout",
     "output_type": "stream",
     "text": [
      "('simplbi', 'an43') 1\n",
      "('simplbi', 'df-3an') 1\n",
      "('simplbi', 'xor2') 1\n",
      "('simplbi', 'df-sb') 1\n",
      "('simplbi', 'reu5') 1\n",
      "('simplbi', 'eqss') 1\n",
      "('simplbi', 'df-pss') 1\n",
      "('simplbi', 'eldif') 1\n",
      "('simplbi', 'elin') 8\n",
      "('simplbi', 'bicomi') 5\n",
      "('simplbi', 'bitr4i') 1\n",
      "('simplbi', 'df-so') 1\n",
      "('simplbi', 'df-we') 1\n",
      "('simplbi', 'opelxp') 1\n",
      "('simplbi', 'preqsn') 1\n",
      "('simplbi', 'df-ord') 1\n",
      "('simplbi', 'dffun6') 1\n",
      "('simplbi', 'df-fun') 1\n",
      "('simplbi', 'df-fn') 1\n",
      "('simplbi', 'df-f') 1\n",
      "('simplbi', 'df-f1') 1\n",
      "('simplbi', 'df-f1o') 1\n",
      "('simplbi', 'dff1o3') 1\n",
      "('simplbi', 'df-isom') 1\n",
      "('simplbi', 'elxp6') 2\n",
      "('simplbi', 'ax-mp') 7\n",
      "('simplbi', 'brxp') 38\n",
      "('simplbi', 'brsdom') 1\n",
      "('simplbi', 'elrab2') 59\n",
      "('simplbi', 'inf3lema') 1\n",
      "('simplbi', '3bitri') 4\n",
      "('simplbi', 'bitri') 2\n",
      "('simplbi', 'elab') 1\n",
      "('simplbi', 'elab2') 1\n",
      "('simplbi', 'elreal2') 6\n",
      "('simplbi', 'elz') 1\n",
      "('simplbi', 'elnnz') 1\n",
      "('simplbi', 'elixx3g') 15\n",
      "('simplbi', 'elioo3g') 2\n",
      "('simplbi', 'elrege0') 3\n",
      "('simplbi', 'elfzuzb') 1\n",
      "('simplbi', 'f00') 1\n",
      "('simplbi', 'elpm2') 3\n",
      "('simplbi', 'ello1') 2\n",
      "('simplbi', 'elo1') 2\n",
      "('simplbi', 'mertens.11') 9\n",
      "('simplbi', 'elfpw') 7\n",
      "('simplbi', 'ralunb') 3\n",
      "('simplbi', 'isprm') 1\n",
      "('simplbi', 'isprm4') 1\n",
      "('simplbi', 'fo00') 1\n",
      "('simplbi', 'isacs') 1\n"
     ]
    }
   ],
   "source": [
    "for k, v in edges_cnt.items():\n",
    "    if k[0] == \"simplbi\":\n",
    "        print(k,v)"
   ]
  },
  {
   "cell_type": "code",
   "execution_count": 1,
   "id": "9a929904",
   "metadata": {},
   "outputs": [
    {
     "ename": "NameError",
     "evalue": "name 'edges_cnt' is not defined",
     "output_type": "error",
     "traceback": [
      "\u001b[1;31m---------------------------------------------------------------------------\u001b[0m",
      "\u001b[1;31mNameError\u001b[0m                                 Traceback (most recent call last)",
      "\u001b[1;32m<ipython-input-1-dfc10a5937c1>\u001b[0m in \u001b[0;36m<module>\u001b[1;34m\u001b[0m\n\u001b[1;32m----> 1\u001b[1;33m \u001b[0medges_cnt\u001b[0m\u001b[1;33m\u001b[0m\u001b[1;33m\u001b[0m\u001b[0m\n\u001b[0m",
      "\u001b[1;31mNameError\u001b[0m: name 'edges_cnt' is not defined"
     ]
    }
   ],
   "source": [
    "edges_cnt"
   ]
  },
  {
   "cell_type": "code",
   "execution_count": 19,
   "id": "5b592341",
   "metadata": {},
   "outputs": [
    {
     "ename": "KeyError",
     "evalue": "'oddz'",
     "output_type": "error",
     "traceback": [
      "\u001b[1;31m---------------------------------------------------------------------------\u001b[0m",
      "\u001b[1;31mKeyError\u001b[0m                                  Traceback (most recent call last)",
      "\u001b[1;32m<ipython-input-19-c62c27c794b5>\u001b[0m in \u001b[0;36m<module>\u001b[1;34m\u001b[0m\n\u001b[1;32m----> 1\u001b[1;33m \u001b[0mdatabase\u001b[0m\u001b[1;33m.\u001b[0m\u001b[0mpropositions\u001b[0m\u001b[1;33m[\u001b[0m\u001b[1;34m\"oddz\"\u001b[0m\u001b[1;33m]\u001b[0m\u001b[1;33m\u001b[0m\u001b[1;33m\u001b[0m\u001b[0m\n\u001b[0m",
      "\u001b[1;31mKeyError\u001b[0m: 'oddz'"
     ]
    }
   ],
   "source": [
    "database.propositions[\"oddz\"]"
   ]
  },
  {
   "cell_type": "code",
   "execution_count": 3,
   "id": "3ce866af",
   "metadata": {},
   "outputs": [],
   "source": [
    "import pickle\n",
    "edges_cnt = pickle.load(open(\"edges_cnt.pkl\", \"rb\"))"
   ]
  },
  {
   "cell_type": "code",
   "execution_count": 6,
   "id": "9f8f156a",
   "metadata": {},
   "outputs": [
    {
     "data": {
      "text/plain": [
       "[(('syl2anc', 'syl'), 1074),\n",
       " (('syl2anc', 'adantr'), 873),\n",
       " (('syl', 'syl'), 853),\n",
       " (('eqsstri', 'ssrab2'), 815),\n",
       " (('syl2anc', 'syl2anc'), 705),\n",
       " (('syl', 'adantr'), 686),\n",
       " (('syl', 'simpld'), 642),\n",
       " (('syl', 'gzcn'), 627),\n",
       " (('adantr', 'syl'), 619),\n",
       " (('syl', 'eluz2nn'), 611)]"
      ]
     },
     "execution_count": 6,
     "metadata": {},
     "output_type": "execute_result"
    }
   ],
   "source": [
    "edges_cnt.most_common(10)"
   ]
  },
  {
   "cell_type": "code",
   "execution_count": null,
   "id": "1deb0b72",
   "metadata": {},
   "outputs": [],
   "source": []
  }
 ],
 "metadata": {
  "kernelspec": {
   "display_name": "Python 3 (ipykernel)",
   "language": "python",
   "name": "python3"
  },
  "language_info": {
   "codemirror_mode": {
    "name": "ipython",
    "version": 3
   },
   "file_extension": ".py",
   "mimetype": "text/x-python",
   "name": "python",
   "nbconvert_exporter": "python",
   "pygments_lexer": "ipython3",
   "version": "3.9.7"
  }
 },
 "nbformat": 4,
 "nbformat_minor": 5
}

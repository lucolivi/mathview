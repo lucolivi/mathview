{
 "cells": [
  {
   "cell_type": "markdown",
   "id": "67b98295",
   "metadata": {},
   "source": [
    "## Expanding function to be used to expand theorems to help comprehension"
   ]
  },
  {
   "cell_type": "code",
   "execution_count": 475,
   "id": "146cd96f",
   "metadata": {},
   "outputs": [],
   "source": [
    "import sys\n",
    "sys.path.append(\"..\")\n",
    "\n",
    "from adapt_utils import replace_symbols\n",
    "\n",
    "from tree_parser import *\n",
    "\n",
    "import networkx as nx\n",
    "\n",
    "#import matplotlib\n",
    "#import matplotlib.pyplot as plt\n",
    "\n",
    "import copy\n",
    "\n",
    "import time\n",
    "\n",
    "from my_utils import print_proof_props_graph, get_proof_steps, print_ident_proof, print_proof_linear_steps\n",
    "from my_utils import get_proof_steps_graph, print_proof_steps_graph\n",
    "\n",
    "import pickle"
   ]
  },
  {
   "cell_type": "code",
   "execution_count": 2,
   "id": "dcf819f8",
   "metadata": {},
   "outputs": [
    {
     "name": "stdout",
     "output_type": "stream",
     "text": [
      "included 5555695 tokens from ../set.mm\n",
      "proposition: 3500CPU times: user 9.59 s, sys: 324 ms, total: 9.91 s\n",
      "Wall time: 10.1 s\n"
     ]
    }
   ],
   "source": [
    "%%time\n",
    "\n",
    "text = file_contents(\"../set.mm\")\n",
    "database = meta_math_database(text,n=3500)"
   ]
  },
  {
   "cell_type": "code",
   "execution_count": 3,
   "id": "f5b7420d",
   "metadata": {},
   "outputs": [
    {
     "data": {
      "image/png": "[encoded data removed]",
      "text/plain": [
       "<Figure size 720x360 with 1 Axes>"
      ]
     },
     "metadata": {},
     "output_type": "display_data"
    }
   ],
   "source": [
    "print_proof_props_graph(\"dfss2\", database)"
   ]
  },
  {
   "cell_type": "code",
   "execution_count": 4,
   "id": "a1672ba3",
   "metadata": {},
   "outputs": [],
   "source": [
    "context_values = dict()\n",
    "\n",
    "for prop in database.propositions_list:\n",
    "    for k, v in prop.f.items():\n",
    "        if k in context_values:\n",
    "            if v.statement != context_values[k]:\n",
    "                print(k, v.statement, context_values[k])\n",
    "                break\n",
    "        else:\n",
    "            context_values[k] = v.statement"
   ]
  },
  {
   "cell_type": "code",
   "execution_count": 428,
   "id": "d452adc2",
   "metadata": {},
   "outputs": [],
   "source": [
    "import matplotlib.pyplot as plt\n",
    "from networkx.drawing.nx_pydot import graphviz_layout\n",
    "\n",
    "class Step:\n",
    "    def __init__(self, name):\n",
    "        self.name = name\n",
    "\n",
    "def get_proof_graph_pn(pn, node_label=\"label\"):\n",
    "    G = nx.DiGraph()\n",
    "    return _get_proof_graph_pn_recursive(pn, G, node_label), G\n",
    "\n",
    "def _get_proof_graph_pn_recursive(pn, G, node_label=\"label\"):\n",
    "    if node_label == \"label+statement\":\n",
    "        pn_gstep = Step(f\"[{pn.label}] {pn.statement}\")\n",
    "    else:\n",
    "        pn_gstep = Step(pn.label)\n",
    "        \n",
    "    for pni in pn.inputs:\n",
    "        pni_gstep = _get_proof_graph_pn_recursive(pni, G, node_label)\n",
    "        G.add_edge(pn_gstep, pni_gstep)\n",
    "    return pn_gstep\n",
    "\n",
    "\n",
    "def print_proof_props_graph_pn(pn, node_label=\"label\"):\n",
    "    \n",
    "    root, G = get_proof_graph_pn(pn, node_label)\n",
    "\n",
    "    graph_nodes = list(nx.dfs_preorder_nodes(G, root, 9))\n",
    "    #print(len(graph_nodes))\n",
    "\n",
    "    graph_nodes_labels = {n:n.name for n in graph_nodes}\n",
    "\n",
    "    plt.figure(figsize=(10, 5))\n",
    "    pos = graphviz_layout(G.subgraph(graph_nodes), prog=\"dot\")#twopi\n",
    "    nx.draw(G.subgraph(graph_nodes), pos, labels=graph_nodes_labels, node_color=\"w\", node_size=2000)\n",
    "    plt.show()"
   ]
  },
  {
   "cell_type": "code",
   "execution_count": 5,
   "id": "aff8578c",
   "metadata": {},
   "outputs": [],
   "source": [
    "def eval_tree(tree):\n",
    "    if tree.value in context_values: \n",
    "        return context_values[tree.value]\n",
    "    \n",
    "    prop = database.propositions[tree.value]\n",
    "    assert len(tree.leaves)==len(prop.hyps)\n",
    "    \n",
    "    replacement_dict = {prop.hyps[i].variable: eval_tree(tree.leaves[i]) for i in range(len(prop.hyps)) if prop.hyps[i].type == \"f\"} #find the replacement rules for the variables\n",
    "    #print 'replacement_dict', replacement_dict, 'applied to', prop.statement\n",
    "    return string_replace(prop.statement[1:],replacement_dict)\n",
    "\n",
    "def tree2str(tree):\n",
    "    evaluated_tree = eval_tree(tree)\n",
    "    return replace_symbols(\" \".join(evaluated_tree))\n",
    "\n",
    "def tree_to_string(tree, database, context):\n",
    "    if tree.value in context.f: return context.f[tree.value].statement\n",
    "    prop = database.propositions[tree.value]\n",
    "    assert len(tree.leaves)==len(prop.hyps)\n",
    "    replacement_dict = {prop.hyps[i].variable:tree_to_string(tree.leaves[i], database, context) for i in range(len(prop.hyps)) if prop.hyps[i].type == \"f\"} #find the replacement rules for the variables\n",
    "    #print 'replacement_dict', replacement_dict, 'applied to', prop.statement\n",
    "    return string_replace(prop.statement[1:],replacement_dict)"
   ]
  },
  {
   "cell_type": "code",
   "execution_count": 53,
   "id": "93458d9e",
   "metadata": {},
   "outputs": [],
   "source": [
    "class PTree:\n",
    "    def __init__(self, value, leaves):\n",
    "        self._default_value = value\n",
    "        self._default_leaves = leaves\n",
    "        self._connected_ptree = None\n",
    "        \n",
    "    def __repr__(self):\n",
    "        return self.__str__()\n",
    "\n",
    "    def __str__(self):\n",
    "        return '<PTree: ' + self.stringify() + ' >'\n",
    "    \n",
    "    @property\n",
    "    def value(self):\n",
    "        if self._connected_ptree:\n",
    "            return self._connected_ptree.value\n",
    "        return self._default_value\n",
    "    \n",
    "    @property\n",
    "    def leaves(self):\n",
    "        if self._connected_ptree:\n",
    "            return self._connected_ptree.leaves\n",
    "        \n",
    "        return self._default_leaves\n",
    "\n",
    "    def stringify(self):\n",
    "        if self.value is None: \n",
    "            return \"???\"  # for the beam search\n",
    "        \n",
    "        out = self.value + \"(\"\n",
    "        dontaddcomma = True\n",
    "        for l in self.leaves:\n",
    "            if not dontaddcomma: \n",
    "                out += \",\"\n",
    "            else: \n",
    "                dontaddcomma = False\n",
    "            out += l.stringify()\n",
    "        out += \")\"\n",
    "        return out\n",
    "    \n",
    "    @property\n",
    "    def statement(self):\n",
    "        return tree2str(self)\n",
    "            \n",
    "    def connect(self, target_tree):\n",
    "        ### Connect must be called from bottom up\n",
    "        assert target_tree.value == self.value, f\"{target_tree.value} {self.value}\"\n",
    "        assert len(target_tree.leaves) == len(self.leaves)\n",
    "        \n",
    "        #We can connect direct as the command below because other trees here are references by the symbols, \n",
    "        #not by the tree itself, since the arrangements of symbols are diferent.\n",
    "        #self._connected_ptree = target_tree <- This doesnt work due that\n",
    "        for this_leaf, target_leaf in zip(self.leaves, target_tree.leaves):\n",
    "            this_leaf._connected_ptree = target_leaf\n",
    "            \n",
    "    def disconnect(self):\n",
    "        for this_leaf in self.leaves:\n",
    "            this_leaf._connected_ptree = None"
   ]
  },
  {
   "cell_type": "code",
   "execution_count": 54,
   "id": "cfd02a44",
   "metadata": {},
   "outputs": [],
   "source": [
    "def tree2ptree(tree, ph_dict={}):\n",
    "\n",
    "    new_leaves = []\n",
    "    for l in tree.leaves:\n",
    "        if str(l) not in ph_dict:\n",
    "            ph_dict[str(l)] = tree2ptree(l, ph_dict)\n",
    "        new_leaves.append(ph_dict[str(l)])\n",
    "    \n",
    "    return PTree(tree.value, new_leaves)"
   ]
  },
  {
   "cell_type": "code",
   "execution_count": 55,
   "id": "fcdfc867",
   "metadata": {},
   "outputs": [
    {
     "data": {
      "text/plain": [
       "'( 𝜑 ↔ 𝜒 )'"
      ]
     },
     "execution_count": 55,
     "metadata": {},
     "output_type": "execute_result"
    }
   ],
   "source": [
    "prop = database.propositions[\"bitr4i\"]\n",
    "tree2ptree(prop.tree).statement"
   ]
  },
  {
   "cell_type": "code",
   "execution_count": 82,
   "id": "2709f875",
   "metadata": {},
   "outputs": [],
   "source": [
    "def get_prop_hyps(prop):\n",
    "    #We should use this function instead of direct checking for hypothesis\n",
    "    #because if the prop is already a hypothesis, this property will not exist\n",
    "    #which will raise an exception. This encapsulates and resolves this\n",
    "    return prop.hyps if hasattr(prop, \"hyps\") else []\n",
    "\n",
    "def get_step_replace_dict(step):\n",
    "    \n",
    "    repdict = {}\n",
    "    \n",
    "    #In case we are dealing with already hypotehsis nodes, there no hypothesis to work with\n",
    "    #since there is no hypotehsis of a hypothesis, so we may skip it here\n",
    "    #if hasattr(step.prop, \"hyps\"):\n",
    "    \n",
    "    e_hyps = [h for h in get_prop_hyps(step.prop) if h.type == 'e']\n",
    "    assert len(e_hyps) == len(step._prior_entails), print(len(e_hyps), len(step._prior_entails))\n",
    "\n",
    "    #Populate with hypothesis\n",
    "    for raw_hyp, rep_hyp in zip(e_hyps, step._prior_entails):\n",
    "\n",
    "        raw_tree = raw_hyp.tree\n",
    "        rep_tree = rep_hyp.tree\n",
    "\n",
    "        for pos in raw_tree.breadth_first_position_list():\n",
    "            raw_subtree = raw_tree.tree_at_position(pos)\n",
    "            rep_subtree = rep_tree.tree_at_position(pos)\n",
    "            if raw_subtree.value != rep_subtree.value:\n",
    "                repdict[raw_subtree.value] = rep_subtree\n",
    "\n",
    "    \n",
    "    \n",
    "    #Populate with conclusion (this is necessary when there is no hypothesis)\n",
    "    raw_tree = step.prop.tree\n",
    "    rep_tree = step.tree\n",
    "             \n",
    "    for pos in raw_tree.breadth_first_position_list():\n",
    "        raw_subtree = raw_tree.tree_at_position(pos)\n",
    "        rep_subtree = rep_tree.tree_at_position(pos)\n",
    "        if raw_subtree.value != rep_subtree.value:\n",
    "            if raw_subtree.value in repdict and rep_subtree != repdict[raw_subtree.value]:\n",
    "                print(rep_subtree, repdict[raw_subtree.value])\n",
    "                raise Exception(\"Different trees within same node!\")\n",
    "            else:\n",
    "                repdict[raw_subtree.value] = rep_subtree\n",
    "        \n",
    "    return repdict"
   ]
  },
  {
   "cell_type": "code",
   "execution_count": 230,
   "id": "40976c6a",
   "metadata": {},
   "outputs": [],
   "source": [
    "class PNode:\n",
    "    def __init__(self):\n",
    "        self.depth = 0\n",
    "        \n",
    "        self.output = None\n",
    "        self.inputs = []\n",
    "        \n",
    "        self._step = None\n",
    "\n",
    "    \n",
    "    @property\n",
    "    def statement(self):\n",
    "        return self.output_tree.statement\n",
    "    \n",
    "    def expand(self):\n",
    "        #Return set of PNodes\n",
    "        #Return the root PNode\n",
    "        pass\n",
    "    \n",
    "    @classmethod\n",
    "    def from_prop(cls, prop):\n",
    "        ph_dict = {}\n",
    "        \n",
    "        new_pnode = PNode()\n",
    "        new_pnode.prop = prop\n",
    "        \n",
    "        new_pnode.label = prop.label\n",
    "        \n",
    "        new_pnode._prop = prop\n",
    "        new_pnode.output_tree = tree2ptree(prop.tree.copy(), ph_dict)\n",
    "        new_pnode.input_trees = [tree2ptree(h.tree.copy(), ph_dict) for h in prop.hyps if h.type == 'e']\n",
    "        \n",
    "        return new_pnode\n",
    "    \n",
    "    @classmethod\n",
    "    def from_step(cls, step):\n",
    "        \n",
    "        step_rd = get_step_replace_dict(step)\n",
    "        ph_dict = {}\n",
    "        \n",
    "        new_pnode = PNode()\n",
    "        new_pnode.prop = step.prop\n",
    "        \n",
    "        new_pnode.label = step.prop.label\n",
    "        new_pnode.is_hyp = step.prop.type == 'e'\n",
    "        new_pnode._step = step\n",
    "        \n",
    "        new_pnode.output_tree = tree2ptree(step.prop.tree.copy().replace(step_rd), ph_dict)\n",
    "        new_pnode.input_trees = [tree2ptree(h.tree.copy().replace(step_rd), ph_dict) for h in get_prop_hyps(step.prop) if h.type == 'e']\n",
    "        \n",
    "        return new_pnode\n",
    "    \n",
    "    def __repr__(self):\n",
    "        return f\"<PNode: [{self.label}] ⊢ {self.statement} >\"\n",
    "        "
   ]
  },
  {
   "cell_type": "code",
   "execution_count": 231,
   "id": "cbbcdfb2",
   "metadata": {},
   "outputs": [
    {
     "name": "stdout",
     "output_type": "stream",
     "text": [
      "( A ⊆ B ↔ ∀ x ( x ∈ A → x ∈ B ) )\n",
      "( 𝜑 ↔ 𝜒 )\n",
      "( 𝜑 ↔ 𝜃 )\n",
      "( ∀ x 𝜑 ↔ ∀ x 𝜓 )\n",
      "( ( 𝜑 → 𝜓 ) ↔ ( 𝜑 ↔ ( 𝜑 ∧ 𝜓 ) ) )\n",
      "( A ⊆ B ↔ A = ( A ∩ B ) )\n",
      "( C = A ↔ C = B )\n",
      "( A = { x | 𝜑 } ↔ ∀ x ( x ∈ A ↔ 𝜑 ) )\n"
     ]
    }
   ],
   "source": [
    "prop0 = database.propositions[\"dfss2\"]\n",
    "pn0 = PNode.from_prop(prop0)\n",
    "\n",
    "prop1 = database.propositions[\"bitr4i\"]\n",
    "pn1 = PNode.from_prop(prop1)\n",
    "\n",
    "prop2 = database.propositions[\"3bitri\"]\n",
    "pn2 = PNode.from_prop(prop2)\n",
    "\n",
    "prop3 = database.propositions[\"albii\"]\n",
    "pn3 = PNode.from_prop(prop3)\n",
    "\n",
    "prop4 = database.propositions[\"pm4.71\"]\n",
    "pn4 = PNode.from_prop(prop4)\n",
    "\n",
    "prop5 = database.propositions[\"dfss\"]\n",
    "pn5 = PNode.from_prop(prop5)\n",
    "\n",
    "prop6 = database.propositions[\"eqeq2i\"]\n",
    "pn6 = PNode.from_prop(prop6)\n",
    "\n",
    "prop7 = database.propositions[\"abeq2\"]\n",
    "pn7 = PNode.from_prop(prop7)\n",
    "\n",
    "print(pn0.statement)\n",
    "print(pn1.statement)\n",
    "print(pn2.statement)\n",
    "print(pn3.statement)\n",
    "print(pn4.statement)\n",
    "print(pn5.statement)\n",
    "print(pn6.statement)\n",
    "print(pn7.statement)"
   ]
  },
  {
   "cell_type": "code",
   "execution_count": 232,
   "id": "f303be64",
   "metadata": {},
   "outputs": [
    {
     "name": "stdout",
     "output_type": "stream",
     "text": [
      "( 𝜑 ↔ 𝜃 )\n",
      "( A ⊆ B ↔ 𝜃 )\n"
     ]
    }
   ],
   "source": [
    "print(pn2.statement)\n",
    "pn2.input_trees[0].connect(pn5.output_tree)\n",
    "print(pn2.statement)"
   ]
  },
  {
   "cell_type": "code",
   "execution_count": 233,
   "id": "7bc13ee8",
   "metadata": {},
   "outputs": [
    {
     "name": "stdout",
     "output_type": "stream",
     "text": [
      "( A ⊆ B ↔ ∀ x ( x ∈ A → x ∈ B ) )\n",
      "\n",
      "dfss ( A ⊆ B ↔ A = ( A ∩ B ) )\n",
      "df-in ( A ∩ B ) = { x | ( x ∈ A ∧ x ∈ B ) }\n",
      "eqeq2i ( A = ( A ∩ B ) ↔ A = { x | ( x ∈ A ∧ x ∈ B ) } )\n",
      "abeq2 ( A = { x | ( x ∈ A ∧ x ∈ B ) } ↔ ∀ x ( x ∈ A ↔ ( x ∈ A ∧ x ∈ B ) ) )\n",
      "3bitri ( A ⊆ B ↔ ∀ x ( x ∈ A ↔ ( x ∈ A ∧ x ∈ B ) ) )\n",
      "pm4.71 ( ( x ∈ A → x ∈ B ) ↔ ( x ∈ A ↔ ( x ∈ A ∧ x ∈ B ) ) )\n",
      "albii ( ∀ x ( x ∈ A → x ∈ B ) ↔ ∀ x ( x ∈ A ↔ ( x ∈ A ∧ x ∈ B ) ) )\n",
      "bitr4i ( A ⊆ B ↔ ∀ x ( x ∈ A → x ∈ B ) )\n"
     ]
    }
   ],
   "source": [
    "prop0 = database.propositions[\"dfss2\"]\n",
    "pn0 = PNode.from_prop(prop0)\n",
    "print(pn0.statement)\n",
    "print()\n",
    "\n",
    "for s in prop0.entails_proof_steps:\n",
    "    step_pn = PNode.from_step(s)\n",
    "    print(step_pn.label, step_pn.statement)"
   ]
  },
  {
   "cell_type": "code",
   "execution_count": 443,
   "id": "d7286097",
   "metadata": {},
   "outputs": [
    {
     "name": "stdout",
     "output_type": "stream",
     "text": [
      " <PNode: [dfss2] ⊢ ( A ⊆ B ↔ ∀ x ( x ∈ A → x ∈ B ) ) >\n"
     ]
    }
   ],
   "source": [
    "def construct_proof_from_node(n):\n",
    "    prop = n.prop\n",
    "    root_step = prop.entails_proof_steps[-1]\n",
    "    \n",
    "    return construct_proof_from_raw_step(root_step)\n",
    "\n",
    "    \n",
    "def construct_proof_from_raw_step(raw_step):\n",
    "    step_pn = PNode.from_step(raw_step)\n",
    "    assert len(step_pn.input_trees) == len(raw_step._prior_entails) #Sanity check\n",
    "    \n",
    "    for input_t, child_raw_step in zip(step_pn.input_trees, raw_step._prior_entails):\n",
    "        child_pn = construct_proof_from_raw_step(child_raw_step)\n",
    "        input_t.connect(child_pn.output_tree)\n",
    "        \n",
    "        child_pn.output = step_pn\n",
    "        step_pn.inputs.append(child_pn)\n",
    "    \n",
    "    return step_pn   \n",
    "\n",
    "\n",
    "\n",
    "# def construct_proof(step_pn):\n",
    "#     #step_pn = PNode.from_step(raw_step)\n",
    "#     raw_step = step_pn._step\n",
    "#     assert len(step_pn.input_trees) == len(raw_step._prior_entails)\n",
    "#     for input_t, child_raw_step in zip(step_pn.input_trees, raw_step._prior_entails):\n",
    "#         child_pn = construct_proof(PNode.from_step(child_raw_step))\n",
    "#         input_t.connect(child_pn.output_tree)\n",
    "        \n",
    "#         child_pn.output = step_pn\n",
    "#         step_pn.inputs.append(child_pn)\n",
    "    \n",
    "#     return step_pn\n",
    "\n",
    "def get_proof_hyps(step, proof_hyps=None):\n",
    "    #Perform a depth first collection of hypothesis from proof steps\n",
    "    #Hopefully the order will match the original proposition hypothesis\n",
    "    #This need to ensure that the hypothesis are not connected to anything\n",
    "    \n",
    "    if proof_hyps == None:\n",
    "        proof_hyps = []\n",
    "    \n",
    "    if step.is_hyp and len(step.inputs) == 0:\n",
    "        proof_hyps.append(step)\n",
    "    else:\n",
    "        for child_step in step.inputs:\n",
    "            get_proof_hyps(child_step, proof_hyps)           \n",
    "    return proof_hyps\n",
    "\n",
    "def print_proof_steps_pn(step, ident=0):\n",
    "    print(\"---\" * ident, step)\n",
    "    for cs in step.inputs:\n",
    "        print_proof_steps_pn(cs, ident+1)\n",
    "\n",
    "\n",
    "prop = database.propositions[\"dfss2\"]\n",
    "prop_pn = PNode.from_prop(prop)\n",
    "print_proof_steps_pn(prop_pn)"
   ]
  },
  {
   "cell_type": "code",
   "execution_count": 444,
   "id": "4c5b5164",
   "metadata": {},
   "outputs": [
    {
     "name": "stdout",
     "output_type": "stream",
     "text": [
      " <PNode: [bitr4i] ⊢ ( A ⊆ B ↔ ∀ x ( x ∈ A → x ∈ B ) ) >\n",
      "--- <PNode: [3bitri] ⊢ ( A ⊆ B ↔ ∀ x ( x ∈ A ↔ ( x ∈ A ∧ x ∈ B ) ) ) >\n",
      "------ <PNode: [dfss] ⊢ ( A ⊆ B ↔ A = ( A ∩ B ) ) >\n",
      "------ <PNode: [eqeq2i] ⊢ ( A = ( A ∩ B ) ↔ A = { x | ( x ∈ A ∧ x ∈ B ) } ) >\n",
      "--------- <PNode: [df-in] ⊢ ( A ∩ B ) = { x | ( x ∈ A ∧ x ∈ B ) } >\n",
      "------ <PNode: [abeq2] ⊢ ( A = { x | ( x ∈ A ∧ x ∈ B ) } ↔ ∀ x ( x ∈ A ↔ ( x ∈ A ∧ x ∈ B ) ) ) >\n",
      "--- <PNode: [albii] ⊢ ( ∀ x ( x ∈ A → x ∈ B ) ↔ ∀ x ( x ∈ A ↔ ( x ∈ A ∧ x ∈ B ) ) ) >\n",
      "------ <PNode: [pm4.71] ⊢ ( ( x ∈ A → x ∈ B ) ↔ ( x ∈ A ↔ ( x ∈ A ∧ x ∈ B ) ) ) >\n"
     ]
    }
   ],
   "source": [
    "prop_pn_proof = construct_proof_from_node(prop_pn)\n",
    "print_proof_steps_pn(prop_pn_proof)"
   ]
  },
  {
   "cell_type": "code",
   "execution_count": 445,
   "id": "cb2ba99a",
   "metadata": {},
   "outputs": [],
   "source": [
    "def expand_pnode(pn):\n",
    "    #1. Construct proof from step\n",
    "    #2. Connect proof hyps with step hyps\n",
    "    #3. Update input and output refs for every node\n",
    "    \n",
    "    #Step1\n",
    "    pn_proof = construct_proof_from_node(pn)\n",
    "    \n",
    "    #Step2\n",
    "    pn_hyps = pn.inputs \n",
    "    pn_proof_hyps = get_proof_hyps(pn_proof)\n",
    "    \n",
    "    assert len(pn_hyps) == len(pn_proof_hyps), f\"{pn_hyps} {pn_proof_hyps}\" #Sanity Check\n",
    "    for pn_hyp, pn_proof_hyp in zip(pn_hyps, pn_proof_hyps):\n",
    "        pn_proof_hyp_input_index = pn_proof_hyp.output.inputs.index(pn_proof_hyp)\n",
    "        pn_proof_hyp.output.input_trees[pn_proof_hyp_input_index].connect(pn_hyp.output_tree)\n",
    "        \n",
    "        #Step3 (Partially) for hyps\n",
    "        pn_proof_hyp.output.inputs[pn_proof_hyp_input_index] = pn_hyp\n",
    "        pn_hyp.output = pn_proof_hyp.output\n",
    "        \n",
    "    #Step3 For root node\n",
    "    if pn.output != None: #In case this node is not the root step\n",
    "        pn_proof.output = pn.output\n",
    "        pn_output_index = pn.output.inputs.index(pn) #This must always exists\n",
    "        assert pn_output_index >= 0\n",
    "        pn.output.inputs[pn_output_index] = pn_proof\n",
    "        \n",
    "#     for pn_hyp, pn_proof_hyp in zip(pn_hyps, pn_proof_hyps):\n",
    "#         assert len(pn_proof_hyp.inputs) == 0 #Sanity check, the fresh hyps should contain no input\n",
    "#         #By definition hypothesis inputs can be larger than one, so this looks fine\n",
    "#         pn_proof_hyp.inputs = [pn_hyp]\n",
    "        \n",
    "#         for inp in pn_hyp.inputs:\n",
    "#             inp.output = pn_proof_hyp\n",
    "            \n",
    "    return pn_proof\n",
    "\n",
    "def get_root_node(pn):\n",
    "    if pn.output == None:\n",
    "        return pn\n",
    "    return get_root_node(pn.output)"
   ]
  },
  {
   "cell_type": "code",
   "execution_count": 446,
   "id": "b2c2e24a",
   "metadata": {},
   "outputs": [
    {
     "data": {
      "image/png": "[encoded data removed]",
      "text/plain": [
       "<Figure size 720x360 with 1 Axes>"
      ]
     },
     "metadata": {},
     "output_type": "display_data"
    }
   ],
   "source": [
    "print_proof_props_graph_pn(prop_pn_proof)"
   ]
  },
  {
   "cell_type": "code",
   "execution_count": 447,
   "id": "83656e47",
   "metadata": {},
   "outputs": [],
   "source": [
    "prop_pn_proof_exp = expand_pnode(prop_pn_proof)"
   ]
  },
  {
   "cell_type": "code",
   "execution_count": 448,
   "id": "606be80d",
   "metadata": {},
   "outputs": [
    {
     "data": {
      "image/png": "[encoded data removed]",
      "text/plain": [
       "<Figure size 720x360 with 1 Axes>"
      ]
     },
     "metadata": {},
     "output_type": "display_data"
    }
   ],
   "source": [
    "print_proof_props_graph_pn(prop_pn_proof_exp, \"label+statement\")"
   ]
  },
  {
   "cell_type": "code",
   "execution_count": 449,
   "id": "e0785c63",
   "metadata": {},
   "outputs": [],
   "source": [
    "prop_pn_proof_exp3 = expand_pnode(prop_pn_proof_exp.inputs[0])"
   ]
  },
  {
   "cell_type": "code",
   "execution_count": 450,
   "id": "dcc4333a",
   "metadata": {},
   "outputs": [
    {
     "data": {
      "image/png": "[encoded data removed]",
      "text/plain": [
       "<Figure size 720x360 with 1 Axes>"
      ]
     },
     "metadata": {},
     "output_type": "display_data"
    }
   ],
   "source": [
    "print_proof_props_graph_pn(get_root_node(prop_pn_proof_exp3))"
   ]
  },
  {
   "cell_type": "code",
   "execution_count": 451,
   "id": "92ce91e8",
   "metadata": {},
   "outputs": [
    {
     "data": {
      "image/png": "[encoded data removed]",
      "text/plain": [
       "<Figure size 720x360 with 1 Axes>"
      ]
     },
     "metadata": {},
     "output_type": "display_data"
    }
   ],
   "source": [
    "prop_pn_proof_exp4 = expand_pnode(prop_pn_proof_exp3.inputs[1].inputs[0])\n",
    "print_proof_props_graph_pn(get_root_node(prop_pn_proof_exp4))"
   ]
  },
  {
   "cell_type": "code",
   "execution_count": 452,
   "id": "feae6149",
   "metadata": {},
   "outputs": [
    {
     "name": "stdout",
     "output_type": "stream",
     "text": [
      " <PNode: [bitri] ⊢ ( A ⊆ B ↔ ∀ x ( x ∈ A → x ∈ B ) ) >\n",
      "--- <PNode: [bitri] ⊢ ( A ⊆ B ↔ ∀ x ( x ∈ A ↔ ( x ∈ A ∧ x ∈ B ) ) ) >\n",
      "------ <PNode: [dfss] ⊢ ( A ⊆ B ↔ A = ( A ∩ B ) ) >\n",
      "------ <PNode: [bitri] ⊢ ( A = ( A ∩ B ) ↔ ∀ x ( x ∈ A ↔ ( x ∈ A ∧ x ∈ B ) ) ) >\n",
      "--------- <PNode: [ax-mp] ⊢ ( C = ( A ∩ B ) ↔ C = { x | ( x ∈ A ∧ x ∈ B ) } ) >\n",
      "------------ <PNode: [df-in] ⊢ ( A ∩ B ) = { x | ( x ∈ A ∧ x ∈ B ) } >\n",
      "------------ <PNode: [eqeq2] ⊢ ( A = B → ( C = A ↔ C = B ) ) >\n",
      "--------- <PNode: [abeq2] ⊢ ( A = { x | ( x ∈ A ∧ x ∈ B ) } ↔ ∀ x ( x ∈ A ↔ ( x ∈ A ∧ x ∈ B ) ) ) >\n",
      "--- <PNode: [bicomi] ⊢ ( ∀ x ( x ∈ A ↔ ( x ∈ A ∧ x ∈ B ) ) ↔ ∀ x ( x ∈ A → x ∈ B ) ) >\n",
      "------ <PNode: [albii] ⊢ ( ∀ x ( x ∈ A → x ∈ B ) ↔ ∀ x ( x ∈ A ↔ ( x ∈ A ∧ x ∈ B ) ) ) >\n",
      "--------- <PNode: [pm4.71] ⊢ ( ( x ∈ A → x ∈ B ) ↔ ( x ∈ A ↔ ( x ∈ A ∧ x ∈ B ) ) ) >\n"
     ]
    }
   ],
   "source": [
    "print_proof_steps_pn(get_root_node(prop_pn_proof_exp4))"
   ]
  },
  {
   "cell_type": "markdown",
   "id": "3b563240",
   "metadata": {},
   "source": [
    "The problem with ax-mp may be solvable by using the previous idea of propagate context, although the previous appraoch failled with dfss3\n"
   ]
  },
  {
   "cell_type": "code",
   "execution_count": null,
   "id": "2e875693",
   "metadata": {},
   "outputs": [],
   "source": []
  },
  {
   "cell_type": "code",
   "execution_count": null,
   "id": "93f3d51e",
   "metadata": {},
   "outputs": [],
   "source": []
  },
  {
   "cell_type": "code",
   "execution_count": 424,
   "id": "f8abb8be",
   "metadata": {},
   "outputs": [
    {
     "data": {
      "image/png": "[encoded data removed]",
      "text/plain": [
       "<Figure size 720x360 with 1 Axes>"
      ]
     },
     "metadata": {},
     "output_type": "display_data"
    }
   ],
   "source": [
    "prop_pn_proof_exp5 = expand_pnode(prop_pn_proof_exp4.inputs[1])\n",
    "print_proof_props_graph_pn(get_root_node(prop_pn_proof_exp5))"
   ]
  },
  {
   "cell_type": "code",
   "execution_count": 430,
   "id": "81a233f0",
   "metadata": {},
   "outputs": [
    {
     "name": "stdout",
     "output_type": "stream",
     "text": [
      " <PNode: [bitri] ⊢ ( A ⊆ B ↔ ∀ x ( x ∈ A → x ∈ B ) ) >\n",
      "--- <PNode: [bitri] ⊢ ( A ⊆ B ↔ ∀ x ( x ∈ A ↔ ( x ∈ A ∧ x ∈ B ) ) ) >\n",
      "------ <PNode: [dfss] ⊢ ( A ⊆ B ↔ A = ( A ∩ B ) ) >\n",
      "------ <PNode: [bitri] ⊢ ( A = ( A ∩ B ) ↔ ∀ x ( x ∈ A ↔ ( x ∈ A ∧ x ∈ B ) ) ) >\n",
      "--------- <PNode: [ax-mp] ⊢ ( C = ( A ∩ B ) ↔ C = { x | ( x ∈ A ∧ x ∈ B ) } ) >\n",
      "------------ <PNode: [df-in] ⊢ ( A ∩ B ) = { x | ( x ∈ A ∧ x ∈ B ) } >\n",
      "------------ <PNode: [eqeq2d] ⊢ ( A = B → ( C = A ↔ C = B ) ) >\n",
      "--------------- <PNode: [id] ⊢ ( A = B → A = B ) >\n",
      "--------- <PNode: [abeq2] ⊢ ( A = { x | ( x ∈ A ∧ x ∈ B ) } ↔ ∀ x ( x ∈ A ↔ ( x ∈ A ∧ x ∈ B ) ) ) >\n",
      "--- <PNode: [bicomi] ⊢ ( ∀ x ( x ∈ A ↔ ( x ∈ A ∧ x ∈ B ) ) ↔ ∀ x ( x ∈ A → x ∈ B ) ) >\n",
      "------ <PNode: [albii] ⊢ ( ∀ x ( x ∈ A → x ∈ B ) ↔ ∀ x ( x ∈ A ↔ ( x ∈ A ∧ x ∈ B ) ) ) >\n",
      "--------- <PNode: [pm4.71] ⊢ ( ( x ∈ A → x ∈ B ) ↔ ( x ∈ A ↔ ( x ∈ A ∧ x ∈ B ) ) ) >\n"
     ]
    }
   ],
   "source": [
    "print_proof_steps_pn(get_root_node(prop_pn_proof_exp5))"
   ]
  },
  {
   "cell_type": "code",
   "execution_count": 440,
   "id": "30d649d0",
   "metadata": {},
   "outputs": [
    {
     "data": {
      "text/plain": [
       "<PNode: [ax-mp] ⊢ ( C = ( A ∩ B ) ↔ C = { x | ( x ∈ A ∧ x ∈ B ) } ) >"
      ]
     },
     "execution_count": 440,
     "metadata": {},
     "output_type": "execute_result"
    }
   ],
   "source": [
    "axmp = get_root_node(prop_pn_proof_exp5).inputs[0].inputs[1].inputs[0]\n",
    "axmp"
   ]
  },
  {
   "cell_type": "code",
   "execution_count": 441,
   "id": "973a3c4c",
   "metadata": {},
   "outputs": [
    {
     "data": {
      "text/plain": [
       "[<PNode: [df-in] ⊢ ( A ∩ B ) = { x | ( x ∈ A ∧ x ∈ B ) } >,\n",
       " <PNode: [eqeq2d] ⊢ ( A = B → ( C = A ↔ C = B ) ) >]"
      ]
     },
     "execution_count": 441,
     "metadata": {},
     "output_type": "execute_result"
    }
   ],
   "source": [
    "axmp.inputs"
   ]
  },
  {
   "cell_type": "code",
   "execution_count": null,
   "id": "f29943ca",
   "metadata": {},
   "outputs": [],
   "source": []
  },
  {
   "cell_type": "code",
   "execution_count": 374,
   "id": "47b0ad87",
   "metadata": {},
   "outputs": [],
   "source": [
    "pn_proof123 = construct_proof_from_node(prop_pn_proof_exp)"
   ]
  },
  {
   "cell_type": "code",
   "execution_count": 375,
   "id": "1694a39f",
   "metadata": {},
   "outputs": [
    {
     "data": {
      "text/plain": [
       "[]"
      ]
     },
     "execution_count": 375,
     "metadata": {},
     "output_type": "execute_result"
    }
   ],
   "source": [
    "pn_proof123.inputs[1].inputs[1].inputs"
   ]
  },
  {
   "cell_type": "code",
   "execution_count": 376,
   "id": "4fba830d",
   "metadata": {},
   "outputs": [
    {
     "data": {
      "text/plain": [
       "[<PNode: [bitri.1] ⊢ ( 𝜑 ↔ 𝜓 ) >,\n",
       " <PNode: [bitri.2] ⊢ ( 𝜓 ↔ 𝜒 ) >,\n",
       " <PNode: [bitri.1] ⊢ ( 𝜑 ↔ 𝜓 ) >,\n",
       " <PNode: [bitri.2] ⊢ ( 𝜓 ↔ 𝜒 ) >]"
      ]
     },
     "execution_count": 376,
     "metadata": {},
     "output_type": "execute_result"
    }
   ],
   "source": [
    "get_proof_hyps(pn_proof123)"
   ]
  },
  {
   "cell_type": "code",
   "execution_count": 377,
   "id": "d581c392",
   "metadata": {},
   "outputs": [
    {
     "data": {
      "image/png": "[encoded data removed]",
      "text/plain": [
       "<Figure size 720x360 with 1 Axes>"
      ]
     },
     "metadata": {},
     "output_type": "display_data"
    }
   ],
   "source": [
    "print_proof_props_graph_pn(pn_proof123)"
   ]
  },
  {
   "cell_type": "code",
   "execution_count": 378,
   "id": "9527eb19",
   "metadata": {},
   "outputs": [
    {
     "ename": "AssertionError",
     "evalue": "[<PNode: [3bitri] ⊢ ( A ⊆ B ↔ ∀ x ( x ∈ A ↔ ( x ∈ A ∧ x ∈ B ) ) ) >, <PNode: [bicomi] ⊢ ( ∀ x ( x ∈ A ↔ ( x ∈ A ∧ x ∈ B ) ) ↔ ∀ x ( x ∈ A → x ∈ B ) ) >] [<PNode: [bitri.1] ⊢ ( 𝜑 ↔ 𝜓 ) >, <PNode: [bitri.2] ⊢ ( 𝜓 ↔ 𝜒 ) >, <PNode: [bitri.1] ⊢ ( 𝜑 ↔ 𝜓 ) >, <PNode: [bitri.2] ⊢ ( 𝜓 ↔ 𝜒 ) >]",
     "output_type": "error",
     "traceback": [
      "\u001b[0;31m---------------------------------------------------------------------------\u001b[0m",
      "\u001b[0;31mAssertionError\u001b[0m                            Traceback (most recent call last)",
      "\u001b[0;32m/var/folders/l2/7llyhwlx5nd60gwdz55p43cr0000gn/T/ipykernel_37502/2461788997.py\u001b[0m in \u001b[0;36m<module>\u001b[0;34m\u001b[0m\n\u001b[0;32m----> 1\u001b[0;31m \u001b[0mprop_pn_proof_exp2\u001b[0m \u001b[0;34m=\u001b[0m \u001b[0mexpand_pnode\u001b[0m\u001b[0;34m(\u001b[0m\u001b[0mprop_pn_proof_exp\u001b[0m\u001b[0;34m)\u001b[0m\u001b[0;34m\u001b[0m\u001b[0;34m\u001b[0m\u001b[0m\n\u001b[0m",
      "\u001b[0;32m/var/folders/l2/7llyhwlx5nd60gwdz55p43cr0000gn/T/ipykernel_37502/115262608.py\u001b[0m in \u001b[0;36mexpand_pnode\u001b[0;34m(pn)\u001b[0m\n\u001b[1;32m     11\u001b[0m     \u001b[0mpn_proof_hyps\u001b[0m \u001b[0;34m=\u001b[0m \u001b[0mget_proof_hyps\u001b[0m\u001b[0;34m(\u001b[0m\u001b[0mpn_proof\u001b[0m\u001b[0;34m)\u001b[0m\u001b[0;34m\u001b[0m\u001b[0;34m\u001b[0m\u001b[0m\n\u001b[1;32m     12\u001b[0m \u001b[0;34m\u001b[0m\u001b[0m\n\u001b[0;32m---> 13\u001b[0;31m     \u001b[0;32massert\u001b[0m \u001b[0mlen\u001b[0m\u001b[0;34m(\u001b[0m\u001b[0mpn_hyps\u001b[0m\u001b[0;34m)\u001b[0m \u001b[0;34m==\u001b[0m \u001b[0mlen\u001b[0m\u001b[0;34m(\u001b[0m\u001b[0mpn_proof_hyps\u001b[0m\u001b[0;34m)\u001b[0m\u001b[0;34m,\u001b[0m \u001b[0;34mf\"{pn_hyps} {pn_proof_hyps}\"\u001b[0m \u001b[0;31m#Sanity Check\u001b[0m\u001b[0;34m\u001b[0m\u001b[0;34m\u001b[0m\u001b[0m\n\u001b[0m\u001b[1;32m     14\u001b[0m     \u001b[0;32mfor\u001b[0m \u001b[0mpn_hyp\u001b[0m\u001b[0;34m,\u001b[0m \u001b[0mpn_proof_hyp\u001b[0m \u001b[0;32min\u001b[0m \u001b[0mzip\u001b[0m\u001b[0;34m(\u001b[0m\u001b[0mpn_hyps\u001b[0m\u001b[0;34m,\u001b[0m \u001b[0mpn_proof_hyps\u001b[0m\u001b[0;34m)\u001b[0m\u001b[0;34m:\u001b[0m\u001b[0;34m\u001b[0m\u001b[0;34m\u001b[0m\u001b[0m\n\u001b[1;32m     15\u001b[0m         \u001b[0mpn_proof_hyp_input_index\u001b[0m \u001b[0;34m=\u001b[0m \u001b[0mpn_proof_hyp\u001b[0m\u001b[0;34m.\u001b[0m\u001b[0moutput\u001b[0m\u001b[0;34m.\u001b[0m\u001b[0minputs\u001b[0m\u001b[0;34m.\u001b[0m\u001b[0mindex\u001b[0m\u001b[0;34m(\u001b[0m\u001b[0mpn_proof_hyp\u001b[0m\u001b[0;34m)\u001b[0m\u001b[0;34m\u001b[0m\u001b[0;34m\u001b[0m\u001b[0m\n",
      "\u001b[0;31mAssertionError\u001b[0m: [<PNode: [3bitri] ⊢ ( A ⊆ B ↔ ∀ x ( x ∈ A ↔ ( x ∈ A ∧ x ∈ B ) ) ) >, <PNode: [bicomi] ⊢ ( ∀ x ( x ∈ A ↔ ( x ∈ A ∧ x ∈ B ) ) ↔ ∀ x ( x ∈ A → x ∈ B ) ) >] [<PNode: [bitri.1] ⊢ ( 𝜑 ↔ 𝜓 ) >, <PNode: [bitri.2] ⊢ ( 𝜓 ↔ 𝜒 ) >, <PNode: [bitri.1] ⊢ ( 𝜑 ↔ 𝜓 ) >, <PNode: [bitri.2] ⊢ ( 𝜓 ↔ 𝜒 ) >]"
     ]
    }
   ],
   "source": [
    "prop_pn_proof_exp2 = expand_pnode(prop_pn_proof_exp)"
   ]
  },
  {
   "cell_type": "code",
   "execution_count": 168,
   "id": "8761e87c",
   "metadata": {},
   "outputs": [
    {
     "data": {
      "text/plain": [
       "<PNode: [bitr4i] ⊢ ( A ⊆ B ↔ ∀ x ( x ∈ A → x ∈ B ) ) >"
      ]
     },
     "execution_count": 168,
     "metadata": {},
     "output_type": "execute_result"
    }
   ],
   "source": [
    "root_step_pn"
   ]
  },
  {
   "cell_type": "code",
   "execution_count": 169,
   "id": "a78aed5f",
   "metadata": {},
   "outputs": [],
   "source": [
    "root_step1 = database.propositions[\"bitr4i\"].entails_proof_steps[-1]\n",
    "root_step_pn1 = construct_proof(root_step1)"
   ]
  },
  {
   "cell_type": "code",
   "execution_count": 174,
   "id": "865692c2",
   "metadata": {},
   "outputs": [],
   "source": []
  },
  {
   "cell_type": "code",
   "execution_count": 176,
   "id": "c8a02780",
   "metadata": {},
   "outputs": [
    {
     "data": {
      "text/plain": [
       "[<PNode: [bitr4i.1] ⊢ ( 𝜑 ↔ 𝜓 ) >, <PNode: [bitr4i.2] ⊢ ( 𝜒 ↔ 𝜓 ) >]"
      ]
     },
     "execution_count": 176,
     "metadata": {},
     "output_type": "execute_result"
    }
   ],
   "source": [
    "get_proof_hyps(root_step_pn)"
   ]
  },
  {
   "cell_type": "code",
   "execution_count": 154,
   "id": "2e081589",
   "metadata": {},
   "outputs": [
    {
     "name": "stdout",
     "output_type": "stream",
     "text": [
      "<PNode: [bitri] ⊢ ( 𝜑 ↔ 𝜒 ) >\n",
      "[<PNode: [bitr4i.1] ⊢ ( 𝜑 ↔ 𝜓 ) >, <PNode: [bicomi] ⊢ ( 𝜓 ↔ 𝜒 ) >]\n"
     ]
    },
    {
     "data": {
      "text/plain": [
       "[<PTree: wb(wph(),wps()) >, <PTree: wb(wps(),wch()) >]"
      ]
     },
     "execution_count": 154,
     "metadata": {},
     "output_type": "execute_result"
    }
   ],
   "source": [
    "print(root_step_pn1)\n",
    "print(root_step_pn1.inputs)\n",
    "root_step_pn1.input_trees"
   ]
  },
  {
   "cell_type": "code",
   "execution_count": 156,
   "id": "2e619eb1",
   "metadata": {},
   "outputs": [
    {
     "name": "stdout",
     "output_type": "stream",
     "text": [
      "<PNode: [bitri] ⊢ ( A ⊆ B ↔ 𝜒 ) >\n",
      "[<PNode: [bitr4i.1] ⊢ ( A ⊆ B ↔ ∀ x ( x ∈ A ↔ ( x ∈ A ∧ x ∈ B ) ) ) >, <PNode: [bicomi] ⊢ ( 𝜓 ↔ 𝜒 ) >]\n"
     ]
    }
   ],
   "source": [
    "root_step_pn1.input_trees[0].connect(root_step_pn.inputs[0].output_tree)\n",
    "print(root_step_pn1)\n",
    "print(root_step_pn1.inputs)"
   ]
  },
  {
   "cell_type": "code",
   "execution_count": 155,
   "id": "dae6fae9",
   "metadata": {},
   "outputs": [
    {
     "name": "stdout",
     "output_type": "stream",
     "text": [
      "<PNode: [bitri] ⊢ ( A ⊆ B ↔ 𝜒 ) >\n",
      "[<PNode: [bitr4i.1] ⊢ ( A ⊆ B ↔ ∀ x ( x ∈ A ↔ ( x ∈ A ∧ x ∈ B ) ) ) >, <PNode: [bicomi] ⊢ ( 𝜓 ↔ 𝜒 ) >]\n"
     ]
    }
   ],
   "source": [
    "root_step_pn1.inputs[0].output_tree.connect(root_step_pn.inputs[0].output_tree)\n",
    "print(root_step_pn1)\n",
    "print(root_step_pn1.inputs)"
   ]
  },
  {
   "cell_type": "code",
   "execution_count": 137,
   "id": "74d557f9",
   "metadata": {},
   "outputs": [
    {
     "name": "stdout",
     "output_type": "stream",
     "text": [
      "<PProp: [bitri] ⊢ ( A ⊆ B ↔ 𝜒 ) >\n",
      "[<PProp: [bitr4i.1] ⊢ ( 𝜑 ↔ 𝜓 ) >, <PProp: [bicomi] ⊢ ( 𝜓 ↔ 𝜒 ) >]\n"
     ]
    },
    {
     "data": {
      "text/plain": [
       "[<PTree: wb(wss(cA(),cB()),wal(wb(wcel(cv(vx()),cA()),wa(wcel(cv(vx()),cA()),wcel(cv(vx()),cB()))),vx())) >,\n",
       " <PTree: wb(wal(wb(wcel(cv(vx()),cA()),wa(wcel(cv(vx()),cA()),wcel(cv(vx()),cB()))),vx()),wch()) >]"
      ]
     },
     "execution_count": 137,
     "metadata": {},
     "output_type": "execute_result"
    }
   ],
   "source": [
    "print(root_step_pn1)\n",
    "print(root_step_pn1.inputs)\n",
    "root_step_pn1.input_trees"
   ]
  },
  {
   "cell_type": "code",
   "execution_count": null,
   "id": "6c97880e",
   "metadata": {},
   "outputs": [],
   "source": []
  },
  {
   "cell_type": "code",
   "execution_count": 121,
   "id": "94058a0d",
   "metadata": {},
   "outputs": [],
   "source": [
    "root_step_pn1.input_trees[0].connect(root_step_pn.inputs[0].output_tree)"
   ]
  },
  {
   "cell_type": "code",
   "execution_count": 119,
   "id": "8c15552c",
   "metadata": {},
   "outputs": [],
   "source": [
    "root_step_pn1.inputs[1].input_trees[0].connect(root_step_pn.inputs[1].output_tree)"
   ]
  },
  {
   "cell_type": "code",
   "execution_count": 6,
   "id": "37cb783b",
   "metadata": {},
   "outputs": [],
   "source": [
    "#1. Olhar pro passo\n",
    "#2. Pegar as variaveis F do teorema correspondente ao passo\n",
    "#3. Preencher dentro dos passos dentro da prova do teorema"
   ]
  },
  {
   "cell_type": "code",
   "execution_count": 17,
   "id": "37ac2b67",
   "metadata": {},
   "outputs": [],
   "source": [
    "def populate_post_entails(step):\n",
    "    #Get all steps. This is necessary because hypothesis are not natively within entails proof_steps\n",
    "    all_steps = []\n",
    "    for pstep in step.entails_proof_steps:\n",
    "        if pstep not in all_steps:\n",
    "            all_steps.append(pstep)\n",
    "\n",
    "        for prior_pstep in pstep._prior_entails:\n",
    "            if prior_pstep not in all_steps:\n",
    "                all_steps.append(prior_pstep)\n",
    "\n",
    "    for child_step in all_steps:\n",
    "        child_step._post_entail = None\n",
    "        \n",
    "    for child_step in all_steps:\n",
    "        for gchild_step in child_step._prior_entails:\n",
    "            gchild_step._post_entail = child_step"
   ]
  },
  {
   "cell_type": "code",
   "execution_count": 472,
   "id": "ccbadc77",
   "metadata": {},
   "outputs": [
    {
     "data": {
      "text/plain": [
       "{'wph': ['ph'],\n",
       " 'wps': ['ps'],\n",
       " 'wch': ['ch'],\n",
       " 'wth': ['th'],\n",
       " 'wta': ['ta'],\n",
       " 'wet': ['et'],\n",
       " 'wze': ['ze'],\n",
       " 'wsi': ['si'],\n",
       " 'wrh': ['rh'],\n",
       " 'wmu': ['mu'],\n",
       " 'wla': ['la'],\n",
       " 'wka': ['ka'],\n",
       " 'vx.wal': ['x'],\n",
       " 'vx.cv': ['x'],\n",
       " 'cA.wceq': ['A'],\n",
       " 'cB.wceq': ['B'],\n",
       " 'vx.tru': ['x'],\n",
       " 'vy.tru': ['y'],\n",
       " 'vx': ['x'],\n",
       " 'vy': ['y'],\n",
       " 'vz': ['z'],\n",
       " 'vw': ['w'],\n",
       " 'vt': ['t'],\n",
       " 'vu': ['u'],\n",
       " 'vv': ['v'],\n",
       " 'v.vs': ['s'],\n",
       " 'wcel.cA': ['A'],\n",
       " 'wcel.cB': ['B'],\n",
       " 'cbvex4v.vf': ['f'],\n",
       " 'cbvex4v.vg': ['g'],\n",
       " 'cA': ['A'],\n",
       " 'cB': ['B'],\n",
       " 'cC': ['C'],\n",
       " 'cD': ['D'],\n",
       " 'cF': ['F'],\n",
       " 'cG': ['G'],\n",
       " 'cE': ['E'],\n",
       " 'cV': ['V'],\n",
       " 'cR': ['R'],\n",
       " 'cS': ['S'],\n",
       " 'cW': ['W'],\n",
       " 'cH': ['H'],\n",
       " 'vs': ['s'],\n",
       " 'cX': ['X'],\n",
       " 'cT': ['T'],\n",
       " 'cQ': ['Q'],\n",
       " 'cY': ['Y'],\n",
       " 'va': ['a']}"
      ]
     },
     "execution_count": 472,
     "metadata": {},
     "output_type": "execute_result"
    }
   ],
   "source": [
    "context_values"
   ]
  },
  {
   "cell_type": "code",
   "execution_count": 476,
   "id": "67d69c6f",
   "metadata": {},
   "outputs": [
    {
     "name": "stdout",
     "output_type": "stream",
     "text": [
      "--- [dfss] 0 |- ( A ⊆ B ↔ A = ( A ∩ B ) )\n",
      "--- [df-in] 0 |- ( A ∩ B ) = { x | ( x ∈ A ∧ x ∈ B ) }\n",
      "--- [eqeq2i] 1 |- ( A = ( A ∩ B ) ↔ A = { x | ( x ∈ A ∧ x ∈ B ) } )\n",
      "--- [abeq2] 0 |- ( A = { x | ( x ∈ A ∧ x ∈ B ) } ↔ ∀ x ( x ∈ A ↔ ( x ∈ A ∧ x ∈ B ) ) )\n",
      "--- [3bitri] 3 |- ( A ⊆ B ↔ ∀ x ( x ∈ A ↔ ( x ∈ A ∧ x ∈ B ) ) )\n",
      "--- [pm4.71] 0 |- ( ( x ∈ A → x ∈ B ) ↔ ( x ∈ A ↔ ( x ∈ A ∧ x ∈ B ) ) )\n",
      "--- [albii] 1 |- ( ∀ x ( x ∈ A → x ∈ B ) ↔ ∀ x ( x ∈ A ↔ ( x ∈ A ∧ x ∈ B ) ) )\n",
      "--- [bitr4i] 2 |- ( A ⊆ B ↔ ∀ x ( x ∈ A → x ∈ B ) )\n",
      "\n",
      "[bitr4i] |- ( A ⊆ B ↔ ∀ x ( x ∈ A → x ∈ B ) )\n",
      "--- [bicomi] |- ( ∀ x ( x ∈ A ↔ ( x ∈ A ∧ x ∈ B ) ) ↔ ∀ x ( x ∈ A → x ∈ B ) )\n",
      "--- [bitri] |- ( A ⊆ B ↔ ∀ x ( x ∈ A → x ∈ B ) )\n"
     ]
    }
   ],
   "source": [
    "prop = database.propositions[\"dfss2\"]\n",
    "\n",
    "#root_step = prop.entails_proof_steps[-1]\n",
    "\n",
    "for exp_step in prop.entails_proof_steps:\n",
    "    print(\"--- [{}]\".format(exp_step.prop.label), len(exp_step._prior_entails), \"|-\", replace_symbols(exp_step.tree.eval(database, root_step.context)))\n",
    "\n",
    "print()\n",
    "\n",
    "root_step = prop.entails_proof_steps[-1]\n",
    "exp_proof = expand_proof_step(root_step)\n",
    "\n",
    "print(\"[{}]\".format(root_step.prop.label), \"|-\", replace_symbols(root_step.tree.eval(database, root_step.context)))\n",
    "\n",
    "for exp_step in exp_proof:\n",
    "    print(\"--- [{}]\".format(exp_step.prop.label), \"|-\", replace_symbols(exp_step.tree.eval(database, root_step.context)))"
   ]
  },
  {
   "cell_type": "code",
   "execution_count": 477,
   "id": "d00cf429",
   "metadata": {},
   "outputs": [
    {
     "name": "stdout",
     "output_type": "stream",
     "text": [
      "[bicomi] |- ( ∀ x ( x ∈ A ↔ ( x ∈ A ∧ x ∈ B ) ) ↔ ∀ x ( x ∈ A → x ∈ B ) )\n",
      "\n",
      "--- [bicom1] |- ( ( ∀ x ( x ∈ A → x ∈ B ) ↔ ∀ x ( x ∈ A ↔ ( x ∈ A ∧ x ∈ B ) ) ) → ( ∀ x ( x ∈ A ↔ ( x ∈ A ∧ x ∈ B ) ) ↔ ∀ x ( x ∈ A → x ∈ B ) ) )\n",
      "--- [ax-mp] |- ( ∀ x ( x ∈ A ↔ ( x ∈ A ∧ x ∈ B ) ) ↔ ∀ x ( x ∈ A → x ∈ B ) )\n"
     ]
    }
   ],
   "source": [
    "root_step = exp_proof[0]\n",
    "\n",
    "exp_proof = expand_proof_step(root_step)\n",
    "\n",
    "print(\"[{}]\".format(root_step.prop.label), \"|-\", replace_symbols(root_step.tree.eval(database, root_step.context)))\n",
    "print()\n",
    "\n",
    "for exp_step in exp_proof:\n",
    "    print(\"--- [{}]\".format(exp_step.prop.label), \"|-\", replace_symbols(exp_step.tree.eval(database, root_step.context)))"
   ]
  },
  {
   "cell_type": "code",
   "execution_count": 28,
   "id": "ba2c60c0",
   "metadata": {},
   "outputs": [
    {
     "data": {
      "text/plain": [
       "{'wps': <Tree: wal(wb(wcel(cv(vx()),cA()),wa(wcel(cv(vx()),cA()),wcel(cv(vx()),cB()))),vx())>,\n",
       " 'wch': <Tree: wal(wi(wcel(cv(vx()),cA()),wcel(cv(vx()),cB())),vx())>}"
      ]
     },
     "execution_count": 28,
     "metadata": {},
     "output_type": "execute_result"
    }
   ],
   "source": [
    "step_rep_dict = get_step_replace_dict(root_step)\n",
    "step_rep_dict"
   ]
  },
  {
   "cell_type": "markdown",
   "id": "ca097efd",
   "metadata": {},
   "source": [
    "### Defining Classes"
   ]
  },
  {
   "cell_type": "code",
   "execution_count": 454,
   "id": "896f1b5e",
   "metadata": {},
   "outputs": [],
   "source": [
    "def expand_proof_step(root_step):\n",
    "    \n",
    "    expanded_steps = []\n",
    "    \n",
    "    if not hasattr(root_step, \"replace_dict_list\"):\n",
    "        root_step.replace_dict_list = [get_step_replace_dict(root_step)]\n",
    "        \n",
    "    step2exp = dict() #Store references from steps to expanded steps to populate \n",
    "    \n",
    "    for child_step in root_step.prop.entails_proof_steps:\n",
    "        #Take the original prop tree\n",
    "        exp_tree = child_step.prop.tree.copy()\n",
    "        \n",
    "        #Take the step transformation that was used to the raw step to the replace step\n",
    "        replace_dict_list = [get_step_replace_dict(child_step)]\n",
    "            \n",
    "        #Get the root step replace dicts so we can iterativelly expand the steps\n",
    "        replace_dict_list.extend(root_step.replace_dict_list)\n",
    "        \n",
    "        for rep_dict in replace_dict_list:\n",
    "            exp_tree = exp_tree.replace(rep_dict)\n",
    "        \n",
    "        prior_statements = child_step.prior_statements if hasattr(child_step, \"prior_statements\") else []\n",
    "        \n",
    "        exp_step = proof_step(exp_tree, root_step.context, child_step.prop, prior_statements)\n",
    "        exp_step.replace_dict_list = replace_dict_list\n",
    "        \n",
    "        expanded_steps.append(exp_step)\n",
    "        \n",
    "        step2exp[child_step] = exp_step\n",
    "        \n",
    "    #Populate _prior_entails\n",
    "    for child_step in root_step.prop.entails_proof_steps:\n",
    "        step2exp[child_step]._prior_entails = [step2exp.get(cc, cc) for cc in child_step._prior_entails]\n",
    "    \n",
    "        \n",
    "    return expanded_steps"
   ]
  },
  {
   "cell_type": "code",
   "execution_count": 34,
   "id": "19501585",
   "metadata": {},
   "outputs": [],
   "source": [
    "class ExpProof:\n",
    "    \n",
    "    def __init__(self, prop):\n",
    "        self._prop = prop\n",
    "        self.steps = {}\n",
    "        self._next_id = 0\n",
    "        \n",
    "        #Populate child entails for every step\n",
    "        populate_post_entails(prop)\n",
    "        \n",
    "        step2exp = dict() #Dictionary to store references from steps to expandable steps\n",
    "        \n",
    "        #Get all steps. This is necessary because hypothesis are not natively within entails proof_steps\n",
    "        all_steps = []\n",
    "        for pstep in prop.entails_proof_steps:\n",
    "            if pstep not in all_steps:\n",
    "                all_steps.append(pstep)\n",
    "                \n",
    "            for prior_pstep in pstep._prior_entails:\n",
    "                if prior_pstep not in all_steps:\n",
    "                    all_steps.append(prior_pstep)\n",
    "        \n",
    "        for step in all_steps:\n",
    "            n_id = self.get_next_id()\n",
    "            new_expproof_step = ExpProofStep(step, n_id, self, 0)\n",
    "            self.steps[n_id] = new_expproof_step\n",
    "            \n",
    "            step2exp[step] = new_expproof_step\n",
    "            \n",
    "        #Set child step and parents steps\n",
    "        none_count = 0 \n",
    "        for s, e in step2exp.items():\n",
    "            e.parents_steps = [step2exp[ss] for ss in s._prior_entails]\n",
    "            if s._post_entail == None:\n",
    "                none_count += 1\n",
    "            else:\n",
    "                e.child_step = step2exp[s._post_entail]\n",
    "                \n",
    "        assert none_count == 1, \"There have to be only one none_count post_entail from the root step. none_count: \" + none_count\n",
    "            \n",
    "            \n",
    "    def get_next_id(self):\n",
    "        n_id = self._next_id\n",
    "        self._next_id += 1\n",
    "        return n_id\n",
    "            \n",
    "    def print_proof(self):\n",
    "        repr_str = \"\"\n",
    "        \n",
    "        print(\"[{}]\".format(self._prop.label), \"|-\", replace_symbols(self._prop.tree.eval(database, self._prop)))\n",
    "        \n",
    "        for _step in self.steps.values():\n",
    "            print(_step)"
   ]
  },
  {
   "cell_type": "code",
   "execution_count": 35,
   "id": "1503803a",
   "metadata": {},
   "outputs": [],
   "source": [
    "class ExpProofStep:\n",
    "    \n",
    "    def __init__(self, step, step_id, proof, depth=0):\n",
    "        self._step = step\n",
    "        self._step_id = step_id\n",
    "        self._proof = proof\n",
    "        self.depth = depth\n",
    "        self.statement = replace_symbols(step.tree.eval(database, self._proof._prop))\n",
    "        \n",
    "        self.parents_steps = []\n",
    "        self.child_step = None\n",
    "        \n",
    "        self._expanded = False\n",
    "    \n",
    "    def expand(self):\n",
    "        if self._step.prop.type == \"e\":\n",
    "            return\n",
    "        \n",
    "        #Set these flags to prevent bugs of calling expanded twice in the same step\n",
    "        if self._expanded:\n",
    "            raise Exception(\"Step already expanded.\")  \n",
    "        self._expanded = True\n",
    "        \n",
    "        step2exp = dict() #Dictionary to store references from steps to expandable steps\n",
    "        \n",
    "        expanded_steps = []\n",
    "        for step in expand_proof_step(self._step):\n",
    "            n_id = self._proof.get_next_id()\n",
    "            new_expproof_step = ExpProofStep(step, n_id, self._proof, self.depth+1)\n",
    "            expanded_steps.append(new_expproof_step)\n",
    "            \n",
    "            step2exp[step] = new_expproof_step\n",
    "           \n",
    "        \n",
    "        \n",
    "        \n",
    "        \n",
    "            \n",
    "        #Set child step and parents steps\n",
    "        none_count = 0 \n",
    "        for s, e in step2exp.items():\n",
    "            e.parents_steps = [step2exp.get(ss, ss) for ss in s._prior_entails]\n",
    "            if s._post_entail == None:\n",
    "                none_count += 1\n",
    "            else:\n",
    "                e.child_step = step2exp[s._post_entail]\n",
    "                \n",
    "        assert none_count == 1, \"There have to be only one none_count post_entail from the root step. none_count: \" + none_count    \n",
    "            \n",
    "            \n",
    "            \n",
    "        #Set hypothesis steps\n",
    "#         hyps2steps = dict()\n",
    "#         e_hyps = [h for h in self._step.prop.hyps if h.type == 'e']\n",
    "#         assert len(e_hyps) == len(self._step._prior_entails), print(len(e_hyps), len(self._step._prior_entails))\n",
    "        \n",
    "#         for raw_hyp, rep_hyp in zip(e_hyps, step._prior_entails):\n",
    "#             hyps2steps[raw_hyp] = rep_hyp\n",
    "        \n",
    "        #for step in expanded_steps:\n",
    "            \n",
    "            \n",
    "        \n",
    "        \n",
    "        return expanded_steps\n",
    "    \n",
    "    def __repr__(self):\n",
    "        return self.describe()\n",
    "    \n",
    "    def __str__(self):\n",
    "        return self.describe()\n",
    "        \n",
    "    def describe(self):\n",
    "        return \" \".join([\n",
    "            str(self._step_id),\n",
    "            \"---\" * (self.depth+1),\n",
    "            \"[{}]\".format(self._step.prop.label),\n",
    "            str([s._step_id for s in self.parents_steps]),\n",
    "            \"|-\",\n",
    "            self.statement\n",
    "        ])"
   ]
  },
  {
   "cell_type": "code",
   "execution_count": 36,
   "id": "6b44ec55",
   "metadata": {},
   "outputs": [
    {
     "name": "stdout",
     "output_type": "stream",
     "text": [
      "[dfss2] |- ( A ⊆ B ↔ ∀ x ( x ∈ A → x ∈ B ) )\n",
      "0 --- [dfss] [] |- ( A ⊆ B ↔ A = ( A ∩ B ) )\n",
      "1 --- [df-in] [] |- ( A ∩ B ) = { x | ( x ∈ A ∧ x ∈ B ) }\n",
      "2 --- [eqeq2i] [1] |- ( A = ( A ∩ B ) ↔ A = { x | ( x ∈ A ∧ x ∈ B ) } )\n",
      "3 --- [abeq2] [] |- ( A = { x | ( x ∈ A ∧ x ∈ B ) } ↔ ∀ x ( x ∈ A ↔ ( x ∈ A ∧ x ∈ B ) ) )\n",
      "4 --- [3bitri] [0, 2, 3] |- ( A ⊆ B ↔ ∀ x ( x ∈ A ↔ ( x ∈ A ∧ x ∈ B ) ) )\n",
      "5 --- [pm4.71] [] |- ( ( x ∈ A → x ∈ B ) ↔ ( x ∈ A ↔ ( x ∈ A ∧ x ∈ B ) ) )\n",
      "6 --- [albii] [5] |- ( ∀ x ( x ∈ A → x ∈ B ) ↔ ∀ x ( x ∈ A ↔ ( x ∈ A ∧ x ∈ B ) ) )\n",
      "7 --- [bitr4i] [4, 6] |- ( A ⊆ B ↔ ∀ x ( x ∈ A → x ∈ B ) )\n"
     ]
    }
   ],
   "source": [
    "prop = database.propositions[\"dfss2\"]\n",
    "ep = ExpProof(prop)\n",
    "ep.print_proof()"
   ]
  },
  {
   "cell_type": "code",
   "execution_count": 38,
   "id": "d72b47a1",
   "metadata": {},
   "outputs": [],
   "source": [
    "#eee = ep.steps[2].expand()\n",
    "#eee"
   ]
  },
  {
   "cell_type": "code",
   "execution_count": 43,
   "id": "aad4e4f6",
   "metadata": {},
   "outputs": [
    {
     "data": {
      "text/plain": [
       "[<f_hypothesis vx: setvar x>,\n",
       " <f_hypothesis cA: class A>,\n",
       " <f_hypothesis cB: class B>]"
      ]
     },
     "execution_count": 43,
     "metadata": {},
     "output_type": "execute_result"
    }
   ],
   "source": [
    "database.propositions[\"dfss2\"].hyps"
   ]
  },
  {
   "cell_type": "code",
   "execution_count": 59,
   "id": "ccb13151",
   "metadata": {},
   "outputs": [
    {
     "name": "stdout",
     "output_type": "stream",
     "text": [
      "<PProp: [bitr4i] ⊢ ( 𝜑 ↔ 𝜒 )>\n",
      "['( 𝜑 ↔ 𝜓 )', '( 𝜒 ↔ 𝜓 )']\n",
      "<Tree: wi(wcel(cv(vx()),cA()),wcel(cv(vx()),cB()))> <Tree: wss(cA(),cB())>\n"
     ]
    },
    {
     "ename": "Exception",
     "evalue": "Different trees within same proof!",
     "output_type": "error",
     "traceback": [
      "\u001b[0;31m---------------------------------------------------------------------------\u001b[0m",
      "\u001b[0;31mException\u001b[0m                                 Traceback (most recent call last)",
      "\u001b[0;32m/var/folders/l2/7llyhwlx5nd60gwdz55p43cr0000gn/T/ipykernel_29785/2041410773.py\u001b[0m in \u001b[0;36m<module>\u001b[0;34m\u001b[0m\n\u001b[1;32m     33\u001b[0m \u001b[0mprint\u001b[0m\u001b[0;34m(\u001b[0m\u001b[0mpp1\u001b[0m\u001b[0;34m.\u001b[0m\u001b[0mhypothesis\u001b[0m\u001b[0;34m)\u001b[0m\u001b[0;34m\u001b[0m\u001b[0;34m\u001b[0m\u001b[0m\n\u001b[1;32m     34\u001b[0m \u001b[0;34m\u001b[0m\u001b[0m\n\u001b[0;32m---> 35\u001b[0;31m \u001b[0mpp2\u001b[0m \u001b[0;34m=\u001b[0m \u001b[0mPProp\u001b[0m\u001b[0;34m(\u001b[0m\u001b[0mdatabase\u001b[0m\u001b[0;34m.\u001b[0m\u001b[0mpropositions\u001b[0m\u001b[0;34m[\u001b[0m\u001b[0;34m\"dfss2\"\u001b[0m\u001b[0;34m]\u001b[0m\u001b[0;34m)\u001b[0m\u001b[0;34m\u001b[0m\u001b[0;34m\u001b[0m\u001b[0m\n\u001b[0m\u001b[1;32m     36\u001b[0m \u001b[0mprint\u001b[0m\u001b[0;34m(\u001b[0m\u001b[0mpp2\u001b[0m\u001b[0;34m)\u001b[0m\u001b[0;34m\u001b[0m\u001b[0;34m\u001b[0m\u001b[0m\n\u001b[1;32m     37\u001b[0m \u001b[0mprint\u001b[0m\u001b[0;34m(\u001b[0m\u001b[0mpp2\u001b[0m\u001b[0;34m.\u001b[0m\u001b[0mhypothesis\u001b[0m\u001b[0;34m)\u001b[0m\u001b[0;34m\u001b[0m\u001b[0;34m\u001b[0m\u001b[0m\n",
      "\u001b[0;32m/var/folders/l2/7llyhwlx5nd60gwdz55p43cr0000gn/T/ipykernel_29785/2041410773.py\u001b[0m in \u001b[0;36m__init__\u001b[0;34m(self, prop)\u001b[0m\n\u001b[1;32m     12\u001b[0m                 \u001b[0;32mif\u001b[0m \u001b[0mk\u001b[0m \u001b[0;32min\u001b[0m \u001b[0mself\u001b[0m\u001b[0;34m.\u001b[0m\u001b[0m_rep_dict\u001b[0m \u001b[0;32mand\u001b[0m \u001b[0mv\u001b[0m \u001b[0;34m!=\u001b[0m \u001b[0mself\u001b[0m\u001b[0;34m.\u001b[0m\u001b[0m_rep_dict\u001b[0m\u001b[0;34m[\u001b[0m\u001b[0mk\u001b[0m\u001b[0;34m]\u001b[0m\u001b[0;34m:\u001b[0m\u001b[0;34m\u001b[0m\u001b[0;34m\u001b[0m\u001b[0m\n\u001b[1;32m     13\u001b[0m                     \u001b[0mprint\u001b[0m\u001b[0;34m(\u001b[0m\u001b[0mv\u001b[0m\u001b[0;34m,\u001b[0m \u001b[0mself\u001b[0m\u001b[0;34m.\u001b[0m\u001b[0m_rep_dict\u001b[0m\u001b[0;34m[\u001b[0m\u001b[0mk\u001b[0m\u001b[0;34m]\u001b[0m\u001b[0;34m)\u001b[0m\u001b[0;34m\u001b[0m\u001b[0;34m\u001b[0m\u001b[0m\n\u001b[0;32m---> 14\u001b[0;31m                     \u001b[0;32mraise\u001b[0m \u001b[0mException\u001b[0m\u001b[0;34m(\u001b[0m\u001b[0;34m\"Different trees within same proof!\"\u001b[0m\u001b[0;34m)\u001b[0m\u001b[0;34m\u001b[0m\u001b[0;34m\u001b[0m\u001b[0m\n\u001b[0m\u001b[1;32m     15\u001b[0m                 \u001b[0;32melse\u001b[0m\u001b[0;34m:\u001b[0m\u001b[0;34m\u001b[0m\u001b[0;34m\u001b[0m\u001b[0m\n\u001b[1;32m     16\u001b[0m                     \u001b[0mself\u001b[0m\u001b[0;34m.\u001b[0m\u001b[0m_rep_dict\u001b[0m\u001b[0;34m[\u001b[0m\u001b[0mk\u001b[0m\u001b[0;34m]\u001b[0m \u001b[0;34m=\u001b[0m \u001b[0mv\u001b[0m\u001b[0;34m\u001b[0m\u001b[0;34m\u001b[0m\u001b[0m\n",
      "\u001b[0;31mException\u001b[0m: Different trees within same proof!"
     ]
    }
   ],
   "source": [
    "class PProp:\n",
    "    def __init__(self, prop):\n",
    "        self.label = prop.label\n",
    "        self._prop = prop\n",
    "        self._output_tree = prop.tree.copy()\n",
    "        self._input_trees = [h.tree.copy() for h in prop.hyps if h.type == 'e']\n",
    "        \n",
    "        self._rep_dict = dict()\n",
    "        for s in prop.entails_proof_steps:\n",
    "            s_dict = get_step_replace_dict(s)\n",
    "            for k, v in s_dict.items():\n",
    "                if k in self._rep_dict and v != self._rep_dict[k]:\n",
    "                    print(v, self._rep_dict[k])\n",
    "                    raise Exception(\"Different trees within same proof!\")\n",
    "                else:\n",
    "                    self._rep_dict[k] = v\n",
    "                \n",
    "                    \n",
    "        \n",
    "    @property\n",
    "    def statement(self):\n",
    "        return tree2str(self._output_tree)\n",
    "    \n",
    "    @property\n",
    "    def hypothesis(self):\n",
    "        return [tree2str(it) for it in self._input_trees]\n",
    "    \n",
    "    def __repr__(self):\n",
    "        return f\"<PProp: [{self.label}] ⊢ {self.statement}>\"\n",
    "    \n",
    "pp1 = PProp(database.propositions[\"bitr4i\"])\n",
    "print(pp1)\n",
    "print(pp1.hypothesis)\n",
    "\n",
    "pp2 = PProp(database.propositions[\"dfss2\"])\n",
    "print(pp2)\n",
    "print(pp2.hypothesis)"
   ]
  },
  {
   "cell_type": "code",
   "execution_count": 58,
   "id": "5f06f80e",
   "metadata": {},
   "outputs": [
    {
     "data": {
      "text/plain": [
       "{'cA': <Tree: cin(cA(),cB())>,\n",
       " 'cB': <Tree: cab(wa(wcel(cv(vx()),cA()),wcel(cv(vx()),cB())),vx())>,\n",
       " 'wph': <Tree: wss(cA(),cB())>,\n",
       " 'wps': <Tree: wal(wb(wcel(cv(vx()),cA()),wa(wcel(cv(vx()),cA()),wcel(cv(vx()),cB()))),vx())>,\n",
       " 'wch': <Tree: wal(wi(wcel(cv(vx()),cA()),wcel(cv(vx()),cB())),vx())>,\n",
       " 'wth': <Tree: wal(wb(wcel(cv(vx()),cA()),wa(wcel(cv(vx()),cA()),wcel(cv(vx()),cB()))),vx())>}"
      ]
     },
     "execution_count": 58,
     "metadata": {},
     "output_type": "execute_result"
    }
   ],
   "source": [
    "pp2._rep_dict"
   ]
  },
  {
   "cell_type": "code",
   "execution_count": 65,
   "id": "f61e4ccc",
   "metadata": {},
   "outputs": [],
   "source": [
    "root_step = database.propositions[\"dfss3\"].entails_proof_steps[0]"
   ]
  },
  {
   "cell_type": "code",
   "execution_count": null,
   "id": "b77a5957",
   "metadata": {},
   "outputs": [],
   "source": []
  },
  {
   "cell_type": "code",
   "execution_count": 68,
   "id": "b23c900a",
   "metadata": {},
   "outputs": [
    {
     "name": "stdout",
     "output_type": "stream",
     "text": [
      "dfss ( A ⊆ B ↔ A = ( A ∩ B ) )\n",
      "df-in ( A ∩ B ) = { x | ( x ∈ A ∧ x ∈ B ) }\n",
      "eqeq2i ( C = ( A ∩ B ) ↔ C = { x | ( x ∈ A ∧ x ∈ B ) } )\n",
      "abeq2 ( A = { x | 𝜑 } ↔ ∀ x ( x ∈ A ↔ 𝜑 ) )\n",
      "3bitri ( A ⊆ B ↔ ∀ x ( x ∈ A ↔ ( x ∈ A ∧ x ∈ B ) ) )\n",
      "pm4.71 ( ( 𝜑 → 𝜓 ) ↔ ( 𝜑 ↔ ( 𝜑 ∧ 𝜓 ) ) )\n",
      "albii ( ∀ x ( x ∈ A → x ∈ B ) ↔ ∀ x ( x ∈ A ↔ ( x ∈ A ∧ x ∈ B ) ) )\n",
      "bitr4i ( A ⊆ B ↔ ∀ x ( x ∈ A → x ∈ B ) )\n"
     ]
    }
   ],
   "source": [
    "for s in expand_proof_step(root_step):\n",
    "    print(s.prop.label, tree2str(s.tree))"
   ]
  },
  {
   "cell_type": "code",
   "execution_count": null,
   "id": "9b21a3e1",
   "metadata": {},
   "outputs": [],
   "source": []
  },
  {
   "cell_type": "code",
   "execution_count": null,
   "id": "aaaad721",
   "metadata": {},
   "outputs": [],
   "source": [
    "def expand_pprop(pprop):\n",
    "    "
   ]
  },
  {
   "cell_type": "code",
   "execution_count": null,
   "id": "d1cb5f2d",
   "metadata": {},
   "outputs": [],
   "source": [
    "\n",
    "        \n",
    "\n",
    "class PStep(PProp):\n",
    "    \"\"\"\n",
    "    The diference between PProp is because PStep is connected with other PSteps whereas PProps are alone.\n",
    "    \"\"\"\n",
    "    pass"
   ]
  }
 ],
 "metadata": {
  "kernelspec": {
   "display_name": "Python 3 (ipykernel)",
   "language": "python",
   "name": "python3"
  },
  "language_info": {
   "codemirror_mode": {
    "name": "ipython",
    "version": 3
   },
   "file_extension": ".py",
   "mimetype": "text/x-python",
   "name": "python",
   "nbconvert_exporter": "python",
   "pygments_lexer": "ipython3",
   "version": "3.9.7"
  }
 },
 "nbformat": 4,
 "nbformat_minor": 5
}

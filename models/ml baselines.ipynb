{
 "cells": [
  {
   "cell_type": "markdown",
   "id": "176b84dc",
   "metadata": {},
   "source": [
    "Esse notebook irá fazer um baseline utilizando redes neurais para computar a probabilidade de um nó ser ocultado baseando-se apenas na expressão da descrição. Os dados de treinamento serão criados expandindo-se apenas um nível da árvore de provas, chamando os novos nós de 1 e os originais 0. Para verificar se os nós são os mesmos, vamos utilizar as expressões apenas, já que uma vez que um nó é expandido a sua proposição original se quebra em diversas proposições que constituem sua prova."
   ]
  },
  {
   "cell_type": "markdown",
   "id": "63a0fca1",
   "metadata": {},
   "source": [
    "https://www.youtube.com/watch?v=8owQBFAHw7E"
   ]
  },
  {
   "cell_type": "markdown",
   "id": "d4b6ea39",
   "metadata": {},
   "source": [
    "https://www.youtube.com/watch?v=uF53xsT7mjc"
   ]
  },
  {
   "cell_type": "code",
   "execution_count": 1,
   "id": "975193f6",
   "metadata": {},
   "outputs": [],
   "source": [
    "import sys\n",
    "sys.path.append(\"..\")\n",
    "\n",
    "import random\n",
    "\n",
    "from collections import Counter, defaultdict\n",
    "\n",
    "import json\n",
    "\n",
    "import glob\n",
    "\n",
    "import os\n",
    "\n",
    "import numpy as np\n",
    "\n",
    "#from tree_parser import file_contents, meta_math_database\n",
    "\n",
    "#from my_utils import print_proof_props_graph, get_proof_steps, print_ident_proof, print_proof_linear_steps\n",
    "#from my_utils import get_proof_steps_graph, print_proof_steps_graph\n",
    "#from expanding import construct_proof, expand_proof_step_ps, expand_all_nodes_with_depth\n",
    "#from expanding import PStep, construct_proof\n",
    "\n",
    "from tqdm import tqdm\n",
    "\n",
    "import matplotlib.pyplot as plt\n",
    "\n",
    "\n",
    "from sklearn.model_selection import train_test_split\n",
    "\n",
    "from sklearn.pipeline import make_pipeline, make_union\n",
    "from sklearn.feature_extraction.text import CountVectorizer\n",
    "from sklearn.preprocessing import FunctionTransformer\n",
    "\n",
    "from sklearn.tree import DecisionTreeClassifier\n",
    "from sklearn.ensemble import RandomForestClassifier\n",
    "\n",
    "from sklearn.metrics import accuracy_score, average_precision_score, balanced_accuracy_score\n",
    "from sklearn.metrics import f1_score, precision_score, recall_score, roc_auc_score"
   ]
  },
  {
   "cell_type": "code",
   "execution_count": 2,
   "id": "bcc46a3b",
   "metadata": {},
   "outputs": [
    {
     "name": "stdout",
     "output_type": "stream",
     "text": [
      "7476\n"
     ]
    }
   ],
   "source": [
    "all_props = json.load(open(\"prop_dataset_1659467564.761641.json\"))\n",
    "props_dict = {p['prop']:p for p in all_props}\n",
    "print(len(props_dict))"
   ]
  },
  {
   "cell_type": "code",
   "execution_count": 3,
   "id": "670fe982",
   "metadata": {},
   "outputs": [
    {
     "name": "stdout",
     "output_type": "stream",
     "text": [
      "opoe not in database.\n",
      "omoe not in database.\n",
      "epee not in database.\n",
      "emee not in database.\n",
      "oddp1eveni not in database.\n",
      "dvdsadd2b not in database.\n",
      "opoeALTV not in database.\n",
      "omoeALTV not in database.\n"
     ]
    }
   ],
   "source": [
    "test_props = [\n",
    "    \"dfss3\",\n",
    "    \"dfss2\",\n",
    "    \"dfss\",\n",
    "    \"t1lucas\",\n",
    "    \"t2lucas\",\n",
    "    \"ssun1\",\n",
    "    \"t4lucas\",\n",
    "    \"t5lucas\",\n",
    "    \"opoe\",\n",
    "    \"omoe\",\n",
    "    \"pwin\",\n",
    "    \"inidm\",\n",
    "    \"in0\",\n",
    "    \"sstr\",\n",
    "    \"ssequn1\",\n",
    "    \"pwunss\",\n",
    "    \"epee\",\n",
    "    \"emee\",\n",
    "    \"oddp1eveni\",\n",
    "    \"dvdsadd2b\",\n",
    "    \"opoeALTV\",\n",
    "    \"omoeALTV\"\n",
    "]\n",
    "\n",
    "#Ensure everything exists\n",
    "for t in test_props:\n",
    "    if t not in props_dict.keys():\n",
    "        print(f\"{t} not in database.\")"
   ]
  },
  {
   "cell_type": "code",
   "execution_count": 4,
   "id": "13c6362c",
   "metadata": {},
   "outputs": [],
   "source": [
    "train_props = [p for p in props_dict.keys() if p not in test_props]"
   ]
  },
  {
   "cell_type": "code",
   "execution_count": 5,
   "id": "60a1c1e2",
   "metadata": {},
   "outputs": [
    {
     "name": "stdout",
     "output_type": "stream",
     "text": [
      "5969 1493\n"
     ]
    }
   ],
   "source": [
    "train_props, valid_props = train_test_split(train_props, test_size=0.2, random_state=2)\n",
    "print(len(train_props), len(valid_props))"
   ]
  },
  {
   "cell_type": "code",
   "execution_count": 6,
   "id": "85fcf219",
   "metadata": {},
   "outputs": [],
   "source": [
    "def get_prop_parameters(target_prop):\n",
    "    steps_dict = {s[0]:{\"prop\": s[1], \"statement\":s[2], \"prop_statement\":s[3], \"y\":s[4]} for s in target_prop[\"steps\"]}\n",
    "\n",
    "    #Add neighbors refs\n",
    "    for s in steps_dict.values():\n",
    "        s[\"inputs\"] = []\n",
    "        s[\"output\"] = None\n",
    "    for s, d in target_prop[\"links\"]:\n",
    "        steps_dict[d][\"inputs\"].append(s)\n",
    "        steps_dict[s][\"output\"] = d\n",
    "        \n",
    "    #Add number of neighbors\n",
    "    for s in steps_dict.values():   \n",
    "        s[\"n_neighbors\"] = len(s[\"inputs\"]) + (1 if s[\"output\"] != None else 0)\n",
    "    \n",
    "    #Add number of symbols in the statement\n",
    "    for s in steps_dict.values():\n",
    "        s[\"ns\"] = len(s[\"statement\"].split(\" \"))\n",
    "\n",
    "    #Add number of distinct symbols in the statement\n",
    "    for s in steps_dict.values():\n",
    "        s[\"nds\"] = len(set(s[\"statement\"].split(\" \")))\n",
    "        \n",
    "    #Add ratio between # of symbols and # of distinct symbols\n",
    "    for s in steps_dict.values():\n",
    "        s[\"ns_nds_ratio\"] = s[\"ns\"] / s[\"nds\"]\n",
    "        \n",
    "    #Add number of symbols in the statement normalize with the largest\n",
    "    largest_ns = max([s[\"ns\"] for s in steps_dict.values()])\n",
    "\n",
    "    for s in steps_dict.values():\n",
    "        s[\"ns_norm\"] = s[\"ns\"] / largest_ns\n",
    "\n",
    "    #Add number of distinct symbols in the statement normalize with the largest\n",
    "    largest_nds = max([s[\"nds\"] for s in steps_dict.values()])\n",
    "\n",
    "    for s in steps_dict.values():\n",
    "        s[\"nds_norm\"] = s[\"nds\"] / largest_nds\n",
    "        \n",
    "    #Add neighbors summarized parameters\n",
    "    neighbors_params = [\"ns\", \"nds\", \"ns_norm\", \"nds_norm\", \"ns_nds_ratio\"]\n",
    "\n",
    "    for s in steps_dict.values():\n",
    "        for p in neighbors_params:\n",
    "            neighbors_values = []\n",
    "            if s[\"output\"] != None:\n",
    "                neighbors_values.append(steps_dict[s[\"output\"]][p])\n",
    "            for inp in s[\"inputs\"]:\n",
    "                neighbors_values.append(steps_dict[inp][p])\n",
    "\n",
    "            s[f\"neighbor_{p}_max\"] = max(neighbors_values)\n",
    "            s[f\"neighbor_{p}_min\"] = min(neighbors_values)\n",
    "            s[f\"neighbor_{p}_avg\"] = np.mean(neighbors_values)\n",
    "            \n",
    "            s[f\"neighbor_{p}_max_ratio\"] = s[p] / s[f\"neighbor_{p}_max\"]\n",
    "            s[f\"neighbor_{p}_min_ratio\"] = s[p] / s[f\"neighbor_{p}_min\"]\n",
    "            s[f\"neighbor_{p}_avg_ratio\"] = s[p] / s[f\"neighbor_{p}_avg\"]\n",
    "            \n",
    "            \n",
    "    #Add jaccard similarity between node statement symbols and its neighbors statement symbols\n",
    "    for s in steps_dict.values():\n",
    "        jacc_simm_values = []\n",
    "        ratio_over_unions = []\n",
    "        ratio_over_intersections = []\n",
    "        \n",
    "        neighbors_refs = []\n",
    "        \n",
    "        if s[\"output\"] != None:\n",
    "            neighbors_refs.append(steps_dict[s[\"output\"]])\n",
    "        \n",
    "        for inp in s[\"inputs\"]:\n",
    "            neighbors_refs.append(steps_dict[inp])\n",
    "            \n",
    "        s_symbols = set(s[\"statement\"].split(\" \"))\n",
    "            \n",
    "        for n in neighbors_refs:\n",
    "            n_symbols = set(n[\"statement\"].split(\" \"))\n",
    "            \n",
    "            jacc_val = len(s_symbols.intersection(n_symbols)) / len(s_symbols.union(n_symbols))\n",
    "            jacc_simm_values.append(jacc_val)\n",
    "            \n",
    "            ratio_over_unions.append(len(s_symbols)/len(s_symbols.union(n_symbols)))\n",
    "            ratio_over_intersections.append(len(s_symbols.intersection(n_symbols))/len(s_symbols))\n",
    "            \n",
    "        s[\"neighbors_jacc_sim_min\"] = min(jacc_simm_values)\n",
    "        s[\"neighbors_jacc_sim_max\"] = max(jacc_simm_values)\n",
    "        s[\"neighbors_jacc_sim_avg\"] = np.mean(jacc_simm_values)\n",
    "        \n",
    "        s[\"neighbors_ratio_union_min\"] = min(ratio_over_unions)\n",
    "        s[\"neighbors_ratio_union_max\"] = max(ratio_over_unions)\n",
    "        s[\"neighbors_ratio_union_avg\"] = np.mean(ratio_over_unions)\n",
    "        \n",
    "        s[\"neighbors_ratio_intersection_min\"] = min(ratio_over_intersections)\n",
    "        s[\"neighbors_ratio_intersection_max\"] = max(ratio_over_intersections)\n",
    "        s[\"neighbors_ratio_intersection_avg\"] = np.mean(ratio_over_intersections)\n",
    "        \n",
    "    #Include whether some of its neighbors has been hidden or not\n",
    "    #This may be helpful while working with the iterative algorithm to determine whether or not some node should be hidden\n",
    "            \n",
    "    return steps_dict"
   ]
  },
  {
   "cell_type": "code",
   "execution_count": 8,
   "id": "e2c923f9",
   "metadata": {},
   "outputs": [],
   "source": [
    "all_features = list(list(get_prop_parameters(props_dict[train_props[0]]).values())[0].keys())\n",
    "features2remove = [\"prop\", \"statement\", 'prop_statement', \"y\", \"inputs\", \"output\"]\n",
    "features2use = [f for f in all_features if f not in features2remove]\n",
    "#features2use"
   ]
  },
  {
   "cell_type": "code",
   "execution_count": 9,
   "id": "c1c10382",
   "metadata": {},
   "outputs": [],
   "source": [
    "def get_props_features_xy(p):\n",
    "    prop_features_x = []\n",
    "    prop_features_y = []\n",
    "    \n",
    "    for s in get_prop_parameters(p).values():\n",
    "\n",
    "        s_features = []\n",
    "        for f in features2use:\n",
    "            s_features.append(s[f])\n",
    "            \n",
    "        prop_features_x.append(s_features)\n",
    "        prop_features_y.append(s[\"y\"])\n",
    "\n",
    "    return prop_features_x, prop_features_y"
   ]
  },
  {
   "cell_type": "code",
   "execution_count": 10,
   "id": "4f185839",
   "metadata": {},
   "outputs": [
    {
     "data": {
      "text/plain": [
       "198"
      ]
     },
     "execution_count": 10,
     "metadata": {},
     "output_type": "execute_result"
    }
   ],
   "source": [
    "len(get_props_features_xy(props_dict[train_props[0]])[1])"
   ]
  },
  {
   "cell_type": "code",
   "execution_count": 11,
   "id": "fe82d778",
   "metadata": {},
   "outputs": [
    {
     "name": "stdout",
     "output_type": "stream",
     "text": [
      "5969/5969CPU times: user 1min 22s, sys: 3.93 s, total: 1min 26s\n",
      "Wall time: 1min 29s\n"
     ]
    }
   ],
   "source": [
    "%%time\n",
    "\n",
    "train_features_x = []\n",
    "train_features_y = []\n",
    "\n",
    "for i, p in enumerate(train_props):\n",
    "    print(f\"\\r{i+1}/{len(train_props)}\", end=\"\")\n",
    "    \n",
    "    if p not in props_dict:\n",
    "        continue\n",
    "    \n",
    "    features_x, features_y = get_props_features_xy(props_dict[p])\n",
    "    train_features_x.extend(features_x)\n",
    "    train_features_y.extend(features_y)"
   ]
  },
  {
   "cell_type": "code",
   "execution_count": 28,
   "id": "0af4adda",
   "metadata": {},
   "outputs": [],
   "source": [
    "##Make checkpoint\n",
    "#np.save(open(\"train_x_preproc_1659467564.761641.npy\", \"wb\"), train_features_x, False)\n",
    "#np.save(open(\"train_y_preproc_1659467564.761641.npy\", \"wb\"), train_features_y, False)\n",
    "\n",
    "#train_features_x = np.load(open(\"train_x_preproc_1659467564.761641.npy\", \"rb\"))\n",
    "#train_features_y = np.load(open(\"train_y_preproc_1659467564.761641.npy\", \"rb\"))"
   ]
  },
  {
   "cell_type": "code",
   "execution_count": 29,
   "id": "fdfe6b2d",
   "metadata": {},
   "outputs": [],
   "source": [
    "#train_features_x = train_features_x[:,1:] #Remove number of neighbors"
   ]
  },
  {
   "cell_type": "code",
   "execution_count": 12,
   "id": "3be16e21",
   "metadata": {},
   "outputs": [
    {
     "name": "stdout",
     "output_type": "stream",
     "text": [
      "1017687\n",
      "1017687\n"
     ]
    }
   ],
   "source": [
    "print(len(train_features_x))\n",
    "print(len(train_features_y))"
   ]
  },
  {
   "cell_type": "code",
   "execution_count": 105,
   "id": "d362675e",
   "metadata": {},
   "outputs": [],
   "source": [
    "train_features_x = np.round(train_features_x, 2)"
   ]
  },
  {
   "cell_type": "code",
   "execution_count": 106,
   "id": "b04b249e",
   "metadata": {},
   "outputs": [
    {
     "data": {
      "text/plain": [
       "0.2175157980793702"
      ]
     },
     "execution_count": 106,
     "metadata": {},
     "output_type": "execute_result"
    }
   ],
   "source": [
    "sum(train_features_y)/len(train_features_y)"
   ]
  },
  {
   "cell_type": "code",
   "execution_count": 108,
   "id": "4d2cad99",
   "metadata": {},
   "outputs": [
    {
     "name": "stdout",
     "output_type": "stream",
     "text": [
      "CPU times: user 25.1 s, sys: 468 ms, total: 25.5 s\n",
      "Wall time: 14.2 s\n"
     ]
    },
    {
     "data": {
      "text/html": [
       "<style>#sk-container-id-3 {color: black;background-color: white;}#sk-container-id-3 pre{padding: 0;}#sk-container-id-3 div.sk-toggleable {background-color: white;}#sk-container-id-3 label.sk-toggleable__label {cursor: pointer;display: block;width: 100%;margin-bottom: 0;padding: 0.3em;box-sizing: border-box;text-align: center;}#sk-container-id-3 label.sk-toggleable__label-arrow:before {content: \"▸\";float: left;margin-right: 0.25em;color: #696969;}#sk-container-id-3 label.sk-toggleable__label-arrow:hover:before {color: black;}#sk-container-id-3 div.sk-estimator:hover label.sk-toggleable__label-arrow:before {color: black;}#sk-container-id-3 div.sk-toggleable__content {max-height: 0;max-width: 0;overflow: hidden;text-align: left;background-color: #f0f8ff;}#sk-container-id-3 div.sk-toggleable__content pre {margin: 0.2em;color: black;border-radius: 0.25em;background-color: #f0f8ff;}#sk-container-id-3 input.sk-toggleable__control:checked~div.sk-toggleable__content {max-height: 200px;max-width: 100%;overflow: auto;}#sk-container-id-3 input.sk-toggleable__control:checked~label.sk-toggleable__label-arrow:before {content: \"▾\";}#sk-container-id-3 div.sk-estimator input.sk-toggleable__control:checked~label.sk-toggleable__label {background-color: #d4ebff;}#sk-container-id-3 div.sk-label input.sk-toggleable__control:checked~label.sk-toggleable__label {background-color: #d4ebff;}#sk-container-id-3 input.sk-hidden--visually {border: 0;clip: rect(1px 1px 1px 1px);clip: rect(1px, 1px, 1px, 1px);height: 1px;margin: -1px;overflow: hidden;padding: 0;position: absolute;width: 1px;}#sk-container-id-3 div.sk-estimator {font-family: monospace;background-color: #f0f8ff;border: 1px dotted black;border-radius: 0.25em;box-sizing: border-box;margin-bottom: 0.5em;}#sk-container-id-3 div.sk-estimator:hover {background-color: #d4ebff;}#sk-container-id-3 div.sk-parallel-item::after {content: \"\";width: 100%;border-bottom: 1px solid gray;flex-grow: 1;}#sk-container-id-3 div.sk-label:hover label.sk-toggleable__label {background-color: #d4ebff;}#sk-container-id-3 div.sk-serial::before {content: \"\";position: absolute;border-left: 1px solid gray;box-sizing: border-box;top: 0;bottom: 0;left: 50%;z-index: 0;}#sk-container-id-3 div.sk-serial {display: flex;flex-direction: column;align-items: center;background-color: white;padding-right: 0.2em;padding-left: 0.2em;position: relative;}#sk-container-id-3 div.sk-item {position: relative;z-index: 1;}#sk-container-id-3 div.sk-parallel {display: flex;align-items: stretch;justify-content: center;background-color: white;position: relative;}#sk-container-id-3 div.sk-item::before, #sk-container-id-3 div.sk-parallel-item::before {content: \"\";position: absolute;border-left: 1px solid gray;box-sizing: border-box;top: 0;bottom: 0;left: 50%;z-index: -1;}#sk-container-id-3 div.sk-parallel-item {display: flex;flex-direction: column;z-index: 1;position: relative;background-color: white;}#sk-container-id-3 div.sk-parallel-item:first-child::after {align-self: flex-end;width: 50%;}#sk-container-id-3 div.sk-parallel-item:last-child::after {align-self: flex-start;width: 50%;}#sk-container-id-3 div.sk-parallel-item:only-child::after {width: 0;}#sk-container-id-3 div.sk-dashed-wrapped {border: 1px dashed gray;margin: 0 0.4em 0.5em 0.4em;box-sizing: border-box;padding-bottom: 0.4em;background-color: white;}#sk-container-id-3 div.sk-label label {font-family: monospace;font-weight: bold;display: inline-block;line-height: 1.2em;}#sk-container-id-3 div.sk-label-container {text-align: center;}#sk-container-id-3 div.sk-container {/* jupyter's `normalize.less` sets `[hidden] { display: none; }` but bootstrap.min.css set `[hidden] { display: none !important; }` so we also need the `!important` here to be able to override the default hidden behavior on the sphinx rendered scikit-learn.org. See: https://github.com/scikit-learn/scikit-learn/issues/21755 */display: inline-block !important;position: relative;}#sk-container-id-3 div.sk-text-repr-fallback {display: none;}</style><div id=\"sk-container-id-3\" class=\"sk-top-container\"><div class=\"sk-text-repr-fallback\"><pre>RandomForestClassifier(n_estimators=10, n_jobs=2, random_state=2)</pre><b>In a Jupyter environment, please rerun this cell to show the HTML representation or trust the notebook. <br />On GitHub, the HTML representation is unable to render, please try loading this page with nbviewer.org.</b></div><div class=\"sk-container\" hidden><div class=\"sk-item\"><div class=\"sk-estimator sk-toggleable\"><input class=\"sk-toggleable__control sk-hidden--visually\" id=\"sk-estimator-id-3\" type=\"checkbox\" checked><label for=\"sk-estimator-id-3\" class=\"sk-toggleable__label sk-toggleable__label-arrow\">RandomForestClassifier</label><div class=\"sk-toggleable__content\"><pre>RandomForestClassifier(n_estimators=10, n_jobs=2, random_state=2)</pre></div></div></div></div></div>"
      ],
      "text/plain": [
       "RandomForestClassifier(n_estimators=10, n_jobs=2, random_state=2)"
      ]
     },
     "execution_count": 108,
     "metadata": {},
     "output_type": "execute_result"
    }
   ],
   "source": [
    "%%time\n",
    "\n",
    "rf_clf = RandomForestClassifier(\n",
    "    n_estimators=10,\n",
    "    max_depth=None,\n",
    "    n_jobs=2,\n",
    "    random_state=2\n",
    ")\n",
    "rf_clf.fit(train_features_x, train_features_y)"
   ]
  },
  {
   "cell_type": "code",
   "execution_count": 109,
   "id": "d8c5ec9d",
   "metadata": {},
   "outputs": [
    {
     "data": {
      "text/plain": [
       "0.9963878874349382"
      ]
     },
     "execution_count": 109,
     "metadata": {},
     "output_type": "execute_result"
    }
   ],
   "source": [
    "rf_clf.score(train_features_x, train_features_y)"
   ]
  },
  {
   "cell_type": "code",
   "execution_count": 110,
   "id": "5a847157",
   "metadata": {},
   "outputs": [
    {
     "name": "stdout",
     "output_type": "stream",
     "text": [
      "1493/1493"
     ]
    }
   ],
   "source": [
    "valid_features_x = []\n",
    "valid_features_y = []\n",
    "\n",
    "for i, p in enumerate(valid_props):\n",
    "    print(f\"\\r{i+1}/{len(valid_props)}\", end=\"\")\n",
    "    \n",
    "    p_features = []\n",
    "    p_ys = []\n",
    "    for s in get_prop_parameters(props_dict[p]).values():\n",
    "        \n",
    "        s_features = []\n",
    "        for f in features2use:\n",
    "            s_features.append(s[f])\n",
    "         \n",
    "        p_features.append(s_features)\n",
    "        p_ys.append(s[\"y\"])\n",
    "    \n",
    "    \n",
    "    valid_features_x.append(p_features)\n",
    "    valid_features_y.append(p_ys)"
   ]
  },
  {
   "cell_type": "code",
   "execution_count": 111,
   "id": "f2c24592",
   "metadata": {},
   "outputs": [],
   "source": [
    "#Metrics to check \n",
    "metrics2check = {\n",
    "    \"accuracy_score\": accuracy_score, \n",
    "    \"average_precision_score\": average_precision_score, \n",
    "    \"balanced_accuracy_score\": balanced_accuracy_score,\n",
    "    \"f1_score\": f1_score, \n",
    "    \"precision_score\": precision_score, \n",
    "    \"recall_score\": recall_score, \n",
    "    \"roc_auc_score\": roc_auc_score\n",
    "}"
   ]
  },
  {
   "cell_type": "code",
   "execution_count": 119,
   "id": "fca95605",
   "metadata": {},
   "outputs": [
    {
     "name": "stdout",
     "output_type": "stream",
     "text": [
      "212140\n",
      "212140\n",
      "\n",
      "accuracy_score 0.8936032808522674\n",
      "average_precision_score 0.7730932275803373\n",
      "balanced_accuracy_score 0.8008923978694488\n",
      "f1_score 0.7127896471426572\n",
      "precision_score 0.7984946972288745\n",
      "recall_score 0.6436992944312933\n",
      "roc_auc_score 0.9210402451126064\n"
     ]
    }
   ],
   "source": [
    "#Score flatten accuracy\n",
    "\n",
    "metric_arr = defaultdict(list)\n",
    "\n",
    "valid_features_x_flatten = []\n",
    "for d in valid_features_x:\n",
    "    valid_features_x_flatten.extend(d)\n",
    "    \n",
    "valid_features_y_flatten = []\n",
    "for d in valid_features_y:\n",
    "    valid_features_y_flatten.extend(d)\n",
    "    \n",
    "valid_features_x_flatten = np.round(valid_features_x_flatten,2)\n",
    "    \n",
    "print(len(valid_features_x_flatten))\n",
    "print(len(valid_features_y_flatten))\n",
    "print()\n",
    "      \n",
    "pprob = rf_clf.predict_proba(valid_features_x_flatten)[:,1]\n",
    "ppred = pprob > 0.5\n",
    "\n",
    "for m, m_func in metrics2check.items():\n",
    "    if m == \"precision_score\":\n",
    "        m_val = m_func(valid_features_y_flatten, ppred, zero_division=0)\n",
    "    elif m in [\"accuracy_score\", \"balanced_accuracy_score\", \"f1_score\", \"recall_score\"]:\n",
    "        m_val = m_func(valid_features_y_flatten, ppred)\n",
    "    else:\n",
    "        m_val = m_func(valid_features_y_flatten, pprob)\n",
    "    metric_arr[m].append(m_val)\n",
    "        \n",
    "for m, m_vals in metric_arr.items():\n",
    "    print(m, np.mean(m_vals))"
   ]
  },
  {
   "cell_type": "code",
   "execution_count": 120,
   "id": "b9731715",
   "metadata": {},
   "outputs": [
    {
     "name": "stdout",
     "output_type": "stream",
     "text": [
      "1493/1493\n",
      "\n",
      "accuracy_score 0.8709972372993463\n",
      "average_precision_score 0.8519882996019241\n",
      "balanced_accuracy_score 0.8228631744474474\n",
      "f1_score 0.7493177393831546\n",
      "precision_score 0.8455897078151263\n",
      "recall_score 0.7070891586746691\n",
      "roc_auc_score 0.9177342733610081\n"
     ]
    }
   ],
   "source": [
    "metric_arr = defaultdict(list)\n",
    "\n",
    "for i, (px, py) in enumerate(zip(valid_features_x, valid_features_y)):\n",
    "    print(f\"\\r{i+1}/{len(valid_features_x)}\", end=\"\")\n",
    "    \n",
    "    px = np.round(px,2)\n",
    "    \n",
    "    pprob = rf_clf.predict_proba(px)[:,1]\n",
    "    ppred = pprob > 0.5\n",
    "    \n",
    "    for m, m_func in metrics2check.items():\n",
    "        if m == \"precision_score\":\n",
    "            m_val = m_func(py, ppred, zero_division=0)\n",
    "        elif m in [\"accuracy_score\", \"balanced_accuracy_score\", \"f1_score\", \"recall_score\"]:\n",
    "            m_val = m_func(py, ppred)\n",
    "        else:\n",
    "            m_val = m_func(py, pprob)\n",
    "    \n",
    "        metric_arr[m].append(m_val)\n",
    "        \n",
    "print(\"\\n\")\n",
    "        \n",
    "for m, m_vals in metric_arr.items():\n",
    "    print(m, np.mean(m_vals))"
   ]
  },
  {
   "cell_type": "code",
   "execution_count": 121,
   "id": "fa1923e1",
   "metadata": {},
   "outputs": [
    {
     "data": {
      "text/plain": [
       "<BarContainer object of 45 artists>"
      ]
     },
     "execution_count": 121,
     "metadata": {},
     "output_type": "execute_result"
    },
    {
     "data": {
      "image/png": "[encoded data removed]",
      "text/plain": [
       "<Figure size 640x800 with 1 Axes>"
      ]
     },
     "metadata": {
      "needs_background": "light"
     },
     "output_type": "display_data"
    }
   ],
   "source": [
    "plt.figure(figsize=(8, 10), dpi=80)\n",
    "\n",
    "plt.barh(np.array(features2use)[rf_clf.feature_importances_.argsort()], \n",
    "                                rf_clf.feature_importances_[rf_clf.feature_importances_.argsort()])\n",
    "                                                                                                   \n",
    "                                                                                   "
   ]
  },
  {
   "cell_type": "markdown",
   "id": "b04ffcee",
   "metadata": {},
   "source": [
    "- keep working on the machine learning baseline\n",
    "\n",
    "- maybe include other metrics like complexity of the nodes, etc\n",
    "\n",
    "- verify if order matters of the features - No as expected, it doesnt\n",
    "\n",
    "- test this with more complex expansions (like random expansions)"
   ]
  },
  {
   "cell_type": "code",
   "execution_count": 124,
   "id": "6be44536",
   "metadata": {},
   "outputs": [
    {
     "name": "stdout",
     "output_type": "stream",
     "text": [
      "t5lucas\n"
     ]
    },
    {
     "data": {
      "text/plain": [
       "defaultdict(list,\n",
       "            {'accuracy_score': [0.8727272727272727],\n",
       "             'average_precision_score': [0.8447780353833104],\n",
       "             'balanced_accuracy_score': [0.8225108225108225],\n",
       "             'f1_score': [0.7666666666666667],\n",
       "             'precision_score': [0.8518518518518519],\n",
       "             'recall_score': [0.696969696969697],\n",
       "             'roc_auc_score': [0.9165682802046439]})"
      ]
     },
     "execution_count": 124,
     "metadata": {},
     "output_type": "execute_result"
    }
   ],
   "source": [
    "metric_arr = defaultdict(list)\n",
    "\n",
    "test_label_123 = test_props[7]\n",
    "print(test_label_123)\n",
    "\n",
    "tgt_feat_x, tgt_feat_y = get_props_features_xy(props_dict[test_label_123])\n",
    "\n",
    "tgt_feat_x = np.round(tgt_feat_x,2)\n",
    "\n",
    "tgt_prob = rf_clf.predict_proba(tgt_feat_x)[:,1]\n",
    "tgt_pred = tgt_prob > 0.5\n",
    "\n",
    "for m, m_func in metrics2check.items():\n",
    "    try:\n",
    "        if m == \"precision_score\":\n",
    "            m_val = m_func(tgt_feat_y, tgt_pred, zero_division=0)\n",
    "        elif m in [\"accuracy_score\", \"balanced_accuracy_score\", \"f1_score\", \"recall_score\"]:\n",
    "            m_val = m_func(tgt_feat_y, tgt_pred)\n",
    "        else:\n",
    "            m_val = m_func(tgt_feat_y, tgt_prob)\n",
    "    except Exception as e:\n",
    "        print(m, m_func)\n",
    "        raise e\n",
    "\n",
    "    metric_arr[m].append(m_val)\n",
    "    \n",
    "metric_arr"
   ]
  },
  {
   "cell_type": "code",
   "execution_count": 125,
   "id": "1aa48e0a",
   "metadata": {},
   "outputs": [
    {
     "name": "stdout",
     "output_type": "stream",
     "text": [
      "t5lucas\n",
      "\n",
      "1 mp2 \t\t 1 \t True 1.0\n",
      "2 sylanbrc \t\t 1 \t False 0.5\n",
      "3 ax-mp \t\t 1 \t True 0.8\n",
      "4 ax-mp \t\t 1 \t True 1.0\n",
      "5 ax-gen \t\t 1 \t False 0.0\n",
      "6 syl \t\t 1 \t True 0.9\n",
      "7 ax-mp \t\t 1 \t True 0.7\n",
      "8 pm5.21nii \t\t 1 \t True 1.0\n",
      "9 elex \t\t 0 \t False 0.0\n",
      "10 adantl \t\t 0 \t False 0.0\n",
      "11 elex \t\t 0 \t False 0.0\n",
      "12 elab2g \t\t 0 \t False 0.0\n",
      "13 anbi12d \t\t 0 \t False 0.0\n",
      "14 eleq1 \t\t 0 \t False 0.0\n",
      "15 eleq1 \t\t 0 \t False 0.0\n",
      "16 df-in \t\t 0 \t False 0.0\n",
      "17 bi1 \t\t 0 \t False 0.0\n",
      "18 simpl \t\t 0 \t False 0.0\n",
      "19 biimpi \t\t 1 \t False 0.2\n",
      "20 bicomi \t\t 0 \t True 0.8\n",
      "21 bitr4i \t\t 1 \t True 0.8\n",
      "22 3bitri \t\t 0 \t False 0.4\n",
      "23 dfss \t\t 0 \t False 0.0\n",
      "24 eqeq2i \t\t 0 \t False 0.0\n",
      "25 df-in \t\t 0 \t False 0.0\n",
      "26 abeq2 \t\t 0 \t False 0.0\n",
      "27 albii \t\t 0 \t False 0.0\n",
      "28 pm4.71 \t\t 0 \t False 0.0\n",
      "29 ax-1 \t\t 0 \t False 0.0\n",
      "30 syl \t\t 1 \t True 0.6\n",
      "31 alrimi \t\t 1 \t False 0.0\n",
      "32 ax-17 \t\t 0 \t True 0.6\n",
      "33 syl6 \t\t 1 \t True 0.7\n",
      "34 mpd \t\t 1 \t True 0.8\n",
      "35 syl5com \t\t 1 \t True 0.8\n",
      "36 id \t\t 0 \t False 0.0\n",
      "37 syl5com \t\t 1 \t False 0.3\n",
      "38 id \t\t 0 \t False 0.0\n",
      "39 3imtr4g \t\t 1 \t True 0.9\n",
      "40 eximdv \t\t 0 \t False 0.0\n",
      "41 anim2d \t\t 0 \t False 0.0\n",
      "42 19.21bi \t\t 0 \t False 0.12857142857142856\n",
      "43 biimpi \t\t 0 \t False 0.0\n",
      "44 dfss2 \t\t 0 \t False 0.0\n",
      "45 df-clel \t\t 0 \t False 0.0\n",
      "46 df-clel \t\t 0 \t False 0.0\n",
      "47 a1i \t\t 0 \t False 0.0\n",
      "48 a2i \t\t 1 \t False 0.1\n",
      "49 pm3.2 \t\t 0 \t False 0.2\n",
      "50 biimpri \t\t 0 \t True 0.6333333333333333\n",
      "51 pm5.21nii \t\t 1 \t True 1.0\n",
      "52 elex \t\t 0 \t False 0.0\n",
      "53 adantl \t\t 0 \t False 0.0\n",
      "54 elex \t\t 0 \t False 0.0\n",
      "55 elab2g \t\t 0 \t False 0.0\n",
      "56 anbi12d \t\t 0 \t False 0.0\n",
      "57 eleq1 \t\t 0 \t False 0.0\n",
      "58 eleq1 \t\t 0 \t False 0.0\n",
      "59 df-in \t\t 0 \t False 0.0\n",
      "60 biimpri \t\t 0 \t False 0.0\n",
      "61 bitr4i \t\t 1 \t True 0.9\n",
      "62 3bitri \t\t 0 \t False 0.0\n",
      "63 dfss \t\t 0 \t False 0.0\n",
      "64 eqeq2i \t\t 0 \t False 0.0\n",
      "65 df-in \t\t 0 \t False 0.0\n",
      "66 abeq2 \t\t 0 \t False 0.0\n",
      "67 albii \t\t 0 \t False 0.0\n",
      "68 pm4.71 \t\t 0 \t False 0.0\n",
      "69 eqss \t\t 0 \t False 0.0\n",
      "70 syl \t\t 1 \t False 0.3\n",
      "71 mpd \t\t 1 \t True 0.7\n",
      "72 syl \t\t 1 \t True 0.9\n",
      "73 biimpi \t\t 0 \t True 0.9\n",
      "74 df-cleq \t\t 1 \t False 0.0\n",
      "75 ax-ext \t\t 0 \t False 0.0\n",
      "76 mpg \t\t 1 \t True 1.0\n",
      "77 ax-5 \t\t 0 \t False 0.0\n",
      "78 syl \t\t 1 \t True 0.8\n",
      "79 impbid \t\t 1 \t False 0.36666666666666664\n",
      "80 bi2 \t\t 0 \t False 0.4\n",
      "81 bi1 \t\t 0 \t False 0.4\n",
      "82 bi1 \t\t 0 \t False 0.4\n",
      "83 a1i \t\t 0 \t False 0.0\n",
      "84 mpg \t\t 1 \t True 1.0\n",
      "85 ax-5 \t\t 0 \t False 0.0\n",
      "86 mpdan \t\t 1 \t True 0.6\n",
      "87 a1i \t\t 0 \t False 0.0\n",
      "88 simprd \t\t 1 \t True 0.7\n",
      "89 biimpi \t\t 0 \t False 0.0\n",
      "90 pm5.21nii \t\t 1 \t True 1.0\n",
      "91 elex \t\t 0 \t False 0.0\n",
      "92 adantl \t\t 0 \t False 0.0\n",
      "93 elex \t\t 0 \t False 0.0\n",
      "94 elab2g \t\t 0 \t False 0.0\n",
      "95 anbi12d \t\t 0 \t False 0.0\n",
      "96 eleq1 \t\t 0 \t False 0.0\n",
      "97 eleq1 \t\t 0 \t False 0.0\n",
      "98 df-in \t\t 0 \t False 0.0\n",
      "99 imp \t\t 1 \t False 0.5\n",
      "100 imim1 \t\t 0 \t False 0.0\n",
      "101 biimpri \t\t 0 \t False 0.4\n",
      "102 bitr4i \t\t 1 \t True 1.0\n",
      "103 3bitri \t\t 0 \t False 0.0\n",
      "104 dfss \t\t 0 \t False 0.0\n",
      "105 eqeq2i \t\t 0 \t False 0.0\n",
      "106 df-in \t\t 0 \t False 0.0\n",
      "107 abeq2 \t\t 0 \t False 0.0\n",
      "108 albii \t\t 0 \t False 0.0\n",
      "109 pm4.71 \t\t 0 \t False 0.0\n",
      "110 bi3 \t\t 0 \t False 0.0\n"
     ]
    }
   ],
   "source": [
    "print(test_label_123)\n",
    "print()\n",
    "\n",
    "for s, _pred, _prob in zip(props_dict[test_label_123][\"steps\"], tgt_pred, tgt_prob):\n",
    "    print(s[0], s[1], \"\\t\\t\", s[4], \"\\t\", _pred, _prob)"
   ]
  },
  {
   "cell_type": "code",
   "execution_count": 43,
   "id": "3c67a937",
   "metadata": {},
   "outputs": [
    {
     "data": {
      "text/plain": [
       "[('( A C_ B <-> A. x ( x e. A -> x e. B ) )', 0.57),\n",
       " ('( A C_ B <-> A. x ( x e. A <-> ( x e. A /\\\\ x e. B ) ) )', 0.33),\n",
       " ('( A C_ B <-> A = ( A i^i B ) )', 0.62),\n",
       " ('( A = ( A i^i B ) <-> A = { x | ( x e. A /\\\\ x e. B ) } )', 0.72),\n",
       " ('( A i^i B ) = { x | ( x e. A /\\\\ x e. B ) }', 0.01),\n",
       " ('( A = { x | ( x e. A /\\\\ x e. B ) } <-> A. x ( x e. A <-> ( x e. A /\\\\ x e. B ) ) )',\n",
       "  0.44),\n",
       " ('( A. x ( x e. A -> x e. B ) <-> A. x ( x e. A <-> ( x e. A /\\\\ x e. B ) ) )',\n",
       "  0.99),\n",
       " ('( ( x e. A -> x e. B ) <-> ( x e. A <-> ( x e. A /\\\\ x e. B ) ) )', 0.86)]"
      ]
     },
     "execution_count": 43,
     "metadata": {},
     "output_type": "execute_result"
    }
   ],
   "source": [
    "statement_probs = []\n",
    "\n",
    "for s, pr, gt in zip(tgt_prop[\"steps\"], tgt_pred, tgt_feat_y):\n",
    "    if gt == 1:\n",
    "        statement_probs.append((s[2], pr[1]))\n",
    "\n",
    "statement_probs"
   ]
  },
  {
   "cell_type": "code",
   "execution_count": 33,
   "id": "dfd83f98",
   "metadata": {},
   "outputs": [
    {
     "data": {
      "text/plain": [
       "[('( A i^i B ) = { x | ( x e. A /\\\\ x e. B ) }', 0.59),\n",
       " ('( A C_ B <-> A = ( A i^i B ) )', 0.79),\n",
       " ('( A C_ B <-> A. x ( x e. A <-> ( x e. A /\\\\ x e. B ) ) )', 0.81),\n",
       " ('( A = { x | ( x e. A /\\\\ x e. B ) } <-> A. x ( x e. A <-> ( x e. A /\\\\ x e. B ) ) )',\n",
       "  0.82),\n",
       " ('( A C_ B <-> A. x ( x e. A -> x e. B ) )', 0.88),\n",
       " ('( ( x e. A -> x e. B ) <-> ( x e. A <-> ( x e. A /\\\\ x e. B ) ) )', 0.9),\n",
       " ('( A = ( A i^i B ) <-> A = { x | ( x e. A /\\\\ x e. B ) } )', 0.95),\n",
       " ('( A. x ( x e. A -> x e. B ) <-> A. x ( x e. A <-> ( x e. A /\\\\ x e. B ) ) )',\n",
       "  0.99)]"
      ]
     },
     "execution_count": 33,
     "metadata": {},
     "output_type": "execute_result"
    }
   ],
   "source": [
    "sorted(statement_probs, key=lambda a: a[1])"
   ]
  },
  {
   "cell_type": "markdown",
   "id": "74b8ae50",
   "metadata": {},
   "source": [
    "talvez seja interessante comentar que partir de algo sumarizado para algo mais detalhado eh mais facil apra o estudante do que o contrario do ponto de vista de compreensao ja que para sumarizar para entender melhor o estudante em tese teria ja que ter um dominio do assunto."
   ]
  },
  {
   "cell_type": "markdown",
   "id": "80e4d9d5",
   "metadata": {},
   "source": [
    "preciso verificar porque provavelmente os labels estao vazando por meio da feature number of neighbors because the way we are expnading nodes. Expanding only the first depth will is likely to create a bipartite graph. The proper way to do this is to expand randomly.\n",
    "\n",
    "Another thing is that the way we are working we cannot detect when we are supposed to have one step in between. This is not a big problem because our proposal here is to summarize (reduce size of presentation) of a proof. But nevertheless, it may also be a good idea to work by hidding steps to help our model generalize better and possible \"learn\" how to classify such things."
   ]
  },
  {
   "cell_type": "code",
   "execution_count": null,
   "id": "db33a1e7",
   "metadata": {},
   "outputs": [],
   "source": []
  }
 ],
 "metadata": {
  "kernelspec": {
   "display_name": "Python 3 (ipykernel)",
   "language": "python",
   "name": "python3"
  },
  "language_info": {
   "codemirror_mode": {
    "name": "ipython",
    "version": 3
   },
   "file_extension": ".py",
   "mimetype": "text/x-python",
   "name": "python",
   "nbconvert_exporter": "python",
   "pygments_lexer": "ipython3",
   "version": "3.9.7"
  }
 },
 "nbformat": 4,
 "nbformat_minor": 5
}

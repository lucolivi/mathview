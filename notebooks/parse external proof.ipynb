{
 "cells": [
  {
   "cell_type": "code",
   "execution_count": 1,
   "id": "deb076f0",
   "metadata": {},
   "outputs": [],
   "source": [
    "from adapt_utils import replace_symbols\n",
    "\n",
    "from tree_parser import *\n",
    "\n",
    "import networkx as nx\n",
    "\n",
    "import matplotlib\n",
    "import matplotlib.pyplot as plt"
   ]
  },
  {
   "cell_type": "code",
   "execution_count": 2,
   "id": "94af4364",
   "metadata": {},
   "outputs": [
    {
     "name": "stdout",
     "output_type": "stream",
     "text": [
      "included 5555695 tokens from set_mod.mm\n",
      "proposition: 3000"
     ]
    }
   ],
   "source": [
    "text = file_contents(\"set_mod.mm\")\n",
    "database = meta_math_database(text,n=3000)"
   ]
  },
  {
   "cell_type": "code",
   "execution_count": 4,
   "id": "02377183",
   "metadata": {},
   "outputs": [
    {
     "ename": "KeyError",
     "evalue": "'elin'",
     "output_type": "error",
     "traceback": [
      "\u001b[1;31m---------------------------------------------------------------------------\u001b[0m",
      "\u001b[1;31mKeyError\u001b[0m                                  Traceback (most recent call last)",
      "\u001b[1;32m<ipython-input-4-36bcbfff2136>\u001b[0m in \u001b[0;36m<module>\u001b[1;34m\u001b[0m\n\u001b[1;32m----> 1\u001b[1;33m \u001b[0mdatabase\u001b[0m\u001b[1;33m.\u001b[0m\u001b[0mpropositions\u001b[0m\u001b[1;33m[\u001b[0m\u001b[1;34m\"elin\"\u001b[0m\u001b[1;33m]\u001b[0m\u001b[1;33m\u001b[0m\u001b[1;33m\u001b[0m\u001b[0m\n\u001b[0m",
      "\u001b[1;31mKeyError\u001b[0m: 'elin'"
     ]
    }
   ],
   "source": [
    "database.propositions[\"elin\"]"
   ]
  },
  {
   "cell_type": "code",
   "execution_count": 3,
   "id": "8389773e",
   "metadata": {},
   "outputs": [],
   "source": [
    "ext_proof = \"\"\"\n",
    "\n",
    "$d A x \n",
    "$d B x \n",
    "$=  ( vx wss cin wceq cv wcel wi wal biimpi simpld ax-gen dfss2 com12\n",
    "    wa elin syl sylibr alimi biimpri ax-mp ssel syl6ibr alrimiv eqssd\n",
    "    a1i ancl wb dfcleq biimpr sylbi simprbi pm3.33 mpan2 impbii ) ABD\n",
    "    ZABEZAFZUQURAURADZUQCGZURHZVAAHZIZCJZUTVDCVBVCVABHZVBVCVFPZVAABQZ\n",
    "    KLMUTVECURANUAUBUGUQVCVBIZCJZAURDUQVICUQVCVGVBUQVCVFIZVCVGIVCUQVF\n",
    "    UQVCVFABVAUCOOVCVFUHRVHUDUECAURNSUFUSVKCJZUQUSVJVLUSVBVCUIZCJVJCU\n",
    "    RAUJVMVICVBVCUKTULVIVKCVIVBVFIVKVBVCVFVHUMVCVBVFUNUOTRCABNSUP $.\n",
    "$)\n",
    "\n",
    "\n",
    "\n",
    "\"\"\""
   ]
  },
  {
   "cell_type": "code",
   "execution_count": 4,
   "id": "d21caef0",
   "metadata": {},
   "outputs": [
    {
     "data": {
      "text/plain": [
       "<tree_parser.file_contents at 0x295e933b820>"
      ]
     },
     "execution_count": 4,
     "metadata": {},
     "output_type": "execute_result"
    }
   ],
   "source": [
    "text"
   ]
  },
  {
   "cell_type": "code",
   "execution_count": null,
   "id": "81065775",
   "metadata": {},
   "outputs": [],
   "source": []
  }
 ],
 "metadata": {
  "kernelspec": {
   "display_name": "Python 3",
   "language": "python",
   "name": "python3"
  },
  "language_info": {
   "codemirror_mode": {
    "name": "ipython",
    "version": 3
   },
   "file_extension": ".py",
   "mimetype": "text/x-python",
   "name": "python",
   "nbconvert_exporter": "python",
   "pygments_lexer": "ipython3",
   "version": "3.9.6"
  }
 },
 "nbformat": 4,
 "nbformat_minor": 5
}

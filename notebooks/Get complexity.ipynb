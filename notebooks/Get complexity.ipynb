{
 "cells": [
  {
   "cell_type": "code",
   "execution_count": 1,
   "id": "98f624cb",
   "metadata": {},
   "outputs": [],
   "source": [
    "import requests\n",
    "from bs4 import BeautifulSoup"
   ]
  },
  {
   "cell_type": "code",
   "execution_count": 2,
   "id": "2dfb7420",
   "metadata": {},
   "outputs": [],
   "source": [
    "def tabbed(*args, width=20):\n",
    "    tabbed_str = \"\"\n",
    "    for a in args:\n",
    "        gap_size = max(0, width - len(a))\n",
    "        tabbed_str += a + \"\".join([\" \"]*gap_size)\n",
    "    return tabbed_str"
   ]
  },
  {
   "cell_type": "code",
   "execution_count": 5,
   "id": "f6fdf75d",
   "metadata": {},
   "outputs": [
    {
     "name": "stdout",
     "output_type": "stream",
     "text": [
      "200\n",
      "Step      Hyp       Ref       Expression\n",
      "\n",
      "1         ['']      oveq1i.1  ⊢ 𝐴 = 𝐵   \n",
      "2         ['']      oveq1     ⊢ (𝐴 = 𝐵 → (𝐴𝐹𝐶) = (𝐵𝐹𝐶))\n",
      "3         ['1', '2']ax-mp     ⊢ (𝐴𝐹𝐶) = (𝐵𝐹𝐶)\n"
     ]
    }
   ],
   "source": [
    "theorem = \"oveq1i\"\n",
    "\n",
    "req = requests.get(f\"http://us.metamath.org/mpeuni/{theorem}.html\")\n",
    "print(req.status_code)\n",
    "\n",
    "htmltext = req.text\n",
    "\n",
    "soup = BeautifulSoup(htmltext)\n",
    "\n",
    "print(tabbed(\"Step\", \"Hyp\", \"Ref\", \"Expression\", width=10))\n",
    "print()\n",
    "\n",
    "nodes = []\n",
    "edges = []\n",
    "\n",
    "proof_table = soup.find(\"table\", summary=\"Proof of theorem\")\n",
    "if proof_table:\n",
    "    for row in proof_table.find_all(\"tr\"):\n",
    "        row_data = row.find_all(\"td\")\n",
    "        if len(row_data) != 4:\n",
    "            continue\n",
    "\n",
    "        step, hyp, ref, expression = row_data\n",
    "\n",
    "        step = step.text\n",
    "        hyps = hyp.text.strip().split(\", \")\n",
    "        ref = ref.find(\"a\").text if ref.find(\"a\") else ref.text\n",
    "        expression = \" \".join(expression.find(class_=\"math\").text.split())\n",
    "\n",
    "        nodes.append({\n",
    "            \"step\": step,\n",
    "            \"theorem\": ref,\n",
    "            \"expression\": expression\n",
    "        })\n",
    "\n",
    "        for i, h in enumerate(hyps):\n",
    "            if h:\n",
    "                edges.append((step, h, i))\n",
    "\n",
    "        print(tabbed(step, str(hyps), ref, expression, width=10))"
   ]
  },
  {
   "cell_type": "code",
   "execution_count": 6,
   "id": "166f95b8",
   "metadata": {},
   "outputs": [
    {
     "data": {
      "text/plain": [
       "[{'step': '1', 'theorem': 'oveq1i.1', 'expression': '⊢ 𝐴 = 𝐵'},\n",
       " {'step': '2', 'theorem': 'oveq1', 'expression': '⊢ (𝐴 = 𝐵 → (𝐴𝐹𝐶) = (𝐵𝐹𝐶))'},\n",
       " {'step': '3', 'theorem': 'ax-mp', 'expression': '⊢ (𝐴𝐹𝐶) = (𝐵𝐹𝐶)'}]"
      ]
     },
     "execution_count": 6,
     "metadata": {},
     "output_type": "execute_result"
    }
   ],
   "source": [
    "nodes"
   ]
  },
  {
   "cell_type": "code",
   "execution_count": null,
   "id": "c92b9cfb",
   "metadata": {},
   "outputs": [],
   "source": []
  }
 ],
 "metadata": {
  "kernelspec": {
   "display_name": "Python 3",
   "language": "python",
   "name": "python3"
  },
  "language_info": {
   "codemirror_mode": {
    "name": "ipython",
    "version": 3
   },
   "file_extension": ".py",
   "mimetype": "text/x-python",
   "name": "python",
   "nbconvert_exporter": "python",
   "pygments_lexer": "ipython3",
   "version": "3.9.6"
  }
 },
 "nbformat": 4,
 "nbformat_minor": 5
}

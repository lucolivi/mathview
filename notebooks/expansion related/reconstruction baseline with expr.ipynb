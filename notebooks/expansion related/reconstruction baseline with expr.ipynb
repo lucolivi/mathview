{
 "cells": [
  {
   "cell_type": "code",
   "execution_count": 1,
   "id": "43fa3f7f",
   "metadata": {},
   "outputs": [],
   "source": [
    "import sys\n",
    "sys.path.append(\"..\")\n",
    "\n",
    "from tree_parser import file_contents, meta_math_database\n",
    "\n",
    "from my_utils import print_proof_props_graph, get_proof_steps, print_ident_proof, print_proof_linear_steps\n",
    "from my_utils import get_proof_steps_graph, print_proof_steps_graph\n",
    "\n",
    "\n",
    "from expanding import construct_proof, expand_proof_step_ps, tree2str#, replace_expanded_step\n",
    "\n",
    "from collections import defaultdict, Counter"
   ]
  },
  {
   "cell_type": "code",
   "execution_count": 2,
   "id": "e1764e37",
   "metadata": {},
   "outputs": [
    {
     "name": "stdout",
     "output_type": "stream",
     "text": [
      "included 3651825 tokens from ../set_mod.mm\n",
      "proposition: 5000CPU times: user 26.2 s, sys: 1.65 s, total: 27.9 s\n",
      "Wall time: 29.1 s\n"
     ]
    }
   ],
   "source": [
    "%%time\n",
    "\n",
    "text = file_contents(\"../set_mod.mm\")\n",
    "database = meta_math_database(text,n=5000)"
   ]
  },
  {
   "cell_type": "code",
   "execution_count": 4,
   "id": "60a06aa9",
   "metadata": {},
   "outputs": [
    {
     "data": {
      "image/png": "[encoded data removed]",
      "text/plain": [
       "<Figure size 720x360 with 1 Axes>"
      ]
     },
     "metadata": {},
     "output_type": "display_data"
    }
   ],
   "source": [
    "testp = construct_proof(database.propositions[\"sseqin2\"])\n",
    "testp.expand().get_root_step().print_graph()"
   ]
  },
  {
   "cell_type": "code",
   "execution_count": 3,
   "id": "ac92ad5b",
   "metadata": {},
   "outputs": [
    {
     "name": "stdout",
     "output_type": "stream",
     "text": [
      "dfss2\n"
     ]
    },
    {
     "data": {
      "image/png": "[encoded data removed]",
      "text/plain": [
       "<Figure size 720x360 with 1 Axes>"
      ]
     },
     "metadata": {},
     "output_type": "display_data"
    },
    {
     "name": "stdout",
     "output_type": "stream",
     "text": [
      " <PStep:bitr4i ⊢ ( A ⊆ B ↔ ∀ x ( x ∈ A → x ∈ B ) )>\n",
      " |  <PStep:3bitri ⊢ ( A ⊆ B ↔ ∀ x ( x ∈ A ↔ ( x ∈ A ∧ x ∈ B ) ) )>\n",
      " |  |  <PStep:dfss ⊢ ( A ⊆ B ↔ A = ( A ∩ B ) )>\n",
      " |  |  <PStep:eqeq2i ⊢ ( A = ( A ∩ B ) ↔ A = { x | ( x ∈ A ∧ x ∈ B ) } )>\n",
      " |  |  |  <PStep:df-in ⊢ ( A ∩ B ) = { x | ( x ∈ A ∧ x ∈ B ) }>\n",
      " |  |  <PStep:abeq2 ⊢ ( A = { x | ( x ∈ A ∧ x ∈ B ) } ↔ ∀ x ( x ∈ A ↔ ( x ∈ A ∧ x ∈ B ) ) )>\n",
      " |  <PStep:albii ⊢ ( ∀ x ( x ∈ A → x ∈ B ) ↔ ∀ x ( x ∈ A ↔ ( x ∈ A ∧ x ∈ B ) ) )>\n",
      " |  |  <PStep:pm4.71 ⊢ ( ( x ∈ A → x ∈ B ) ↔ ( x ∈ A ↔ ( x ∈ A ∧ x ∈ B ) ) )>\n"
     ]
    }
   ],
   "source": [
    "prop = database.propositions[\"dfss2\"]\n",
    "#prop = database.propositions_list[-1]\n",
    "print(prop.label)\n",
    "prop_proof = construct_proof(prop)\n",
    "prop_proof.print_graph()\n",
    "prop_proof.print_linear()"
   ]
  },
  {
   "cell_type": "code",
   "execution_count": 11,
   "id": "edbda50c",
   "metadata": {},
   "outputs": [],
   "source": [
    "theorems_usage = Counter()\n",
    "\n",
    "for p in database.propositions_list:\n",
    "    for s in p.entails_proof_steps:\n",
    "        theorems_usage[s.prop.label] += 1"
   ]
  },
  {
   "cell_type": "code",
   "execution_count": 32,
   "id": "3e50fab2",
   "metadata": {},
   "outputs": [
    {
     "data": {
      "text/plain": [
       "['|-', '(', 'ph', '->', '(', 'ps', '->', 'ch', ')', ')']"
      ]
     },
     "execution_count": 32,
     "metadata": {},
     "output_type": "execute_result"
    }
   ],
   "source": [
    "database.propositions[\"mp2\"].hyps[-1].string"
   ]
  },
  {
   "cell_type": "code",
   "execution_count": 33,
   "id": "12ac54f2",
   "metadata": {},
   "outputs": [
    {
     "data": {
      "text/plain": [
       "['|-', '(', 'ph', '->', '(', 'ps', '->', 'ch', ')', ')']"
      ]
     },
     "execution_count": 33,
     "metadata": {},
     "output_type": "execute_result"
    }
   ],
   "source": [
    "database.propositions[\"mp2\"].hyps[-1].statement"
   ]
  },
  {
   "cell_type": "code",
   "execution_count": 80,
   "id": "1dbde11e",
   "metadata": {},
   "outputs": [],
   "source": [
    "#dir(database.propositions[\"mp2\"].hyps[-1])"
   ]
  },
  {
   "cell_type": "code",
   "execution_count": 75,
   "id": "28af78af",
   "metadata": {},
   "outputs": [],
   "source": [
    "# wffs = set()\n",
    "# classes = set()\n",
    "# others = set()\n",
    "# elems = set()\n",
    "\n",
    "# for th, c in theorems_usage.items():\n",
    "#     for h in database.propositions[th].hyps:\n",
    "#         if h.type == \"e\":\n",
    "#             if len(h.statement) == 2:\n",
    "#                 wffs.add(h.statement[1])\n",
    "#             else:\n",
    "#                 for i, _ in enumerate(h.statement):\n",
    "#                     if i < len(h.statement) -1 and h.statement[i+1] == \"e.\":\n",
    "#                         elems.add(h.statement[i])\n",
    "   \n",
    "# print(wffs)\n",
    "# print(elems)\n",
    "\n",
    "def replace_leaves(tr):\n",
    "    if len(tr.leaves) == 0:\n",
    "        tr.value = \"wph\"\n",
    "    else:\n",
    "        for l in tr.leaves:\n",
    "            replace_leaves(l)\n",
    "\n",
    "    return tr\n",
    "\n",
    "def normalize_tree(tr):\n",
    "    return tree2str(replace_leaves(tr).copy(), True)"
   ]
  },
  {
   "cell_type": "code",
   "execution_count": 72,
   "id": "096e8c99",
   "metadata": {},
   "outputs": [],
   "source": [
    "hyps_theorems_list = defaultdict(list)\n",
    "\n",
    "for t, c in theorems_usage.items():\n",
    "    for h in database.propositions[t].hyps:\n",
    "        if h.type == \"e\":\n",
    "            hyps_theorems_list[normalize_tree(h.tree)].append((t,c))"
   ]
  },
  {
   "cell_type": "code",
   "execution_count": 81,
   "id": "163e7a43",
   "metadata": {},
   "outputs": [],
   "source": [
    "hyps_theorems_dist = {}\n",
    "for norm_expr, theorems_list in hyps_theorems_list.items():\n",
    "    sum_count = 0\n",
    "    for _, c in set(theorems_list):\n",
    "        sum_count += c\n",
    "    \n",
    "    hyps_theorems_dist[norm_expr] = dict()\n",
    "    for t, c in set(theorems_list):\n",
    "        hyps_theorems_dist[norm_expr][t] = c/sum_count"
   ]
  },
  {
   "cell_type": "code",
   "execution_count": 90,
   "id": "3247a4d1",
   "metadata": {},
   "outputs": [],
   "source": [
    "for expr, t_dict in hyps_theorems_dist.items():\n",
    "    sum_val = sum([v for v in t_dict.values()])\n",
    "    assert round(sum_val,8) == 1, sum_val\n",
    "    #print(expr, sum([v for v in t_dict.values()]))"
   ]
  },
  {
   "cell_type": "code",
   "execution_count": 94,
   "id": "04fc0e22",
   "metadata": {},
   "outputs": [
    {
     "data": {
      "text/plain": [
       "0.31340341655716164"
      ]
     },
     "execution_count": 94,
     "metadata": {},
     "output_type": "execute_result"
    }
   ],
   "source": [
    "hyps_theorems_dist[\"ph\"][\"ax-mp\"]"
   ]
  },
  {
   "cell_type": "code",
   "execution_count": 100,
   "id": "7625e460",
   "metadata": {},
   "outputs": [
    {
     "data": {
      "text/plain": [
       "'bitr4i'"
      ]
     },
     "execution_count": 100,
     "metadata": {},
     "output_type": "execute_result"
    }
   ],
   "source": [
    "prop_proof.inputs[0].output.label"
   ]
  },
  {
   "cell_type": "code",
   "execution_count": 102,
   "id": "dbc8a252",
   "metadata": {},
   "outputs": [
    {
     "name": "stdout",
     "output_type": "stream",
     "text": [
      "<PStep:bitr4i ⊢ ( A ⊆ B ↔ ∀ x ( x ∈ A → x ∈ B ) )> 0\n",
      "<PStep:3bitri ⊢ ( A ⊆ B ↔ ∀ x ( x ∈ A ↔ ( x ∈ A ∧ x ∈ B ) ) )> 0.04329461457233368\n",
      "<PStep:dfss ⊢ ( A ⊆ B ↔ A = ( A ∩ B ) )>\n",
      "<PStep:eqeq2i ⊢ ( A = ( A ∩ B ) ↔ A = { x | ( x ∈ A ∧ x ∈ B ) } )>\n",
      "<PStep:df-in ⊢ ( A ∩ B ) = { x | ( x ∈ A ∧ x ∈ B ) }>\n",
      "<PStep:abeq2 ⊢ ( A = { x | ( x ∈ A ∧ x ∈ B ) } ↔ ∀ x ( x ∈ A ↔ ( x ∈ A ∧ x ∈ B ) ) )>\n",
      "<PStep:albii ⊢ ( ∀ x ( x ∈ A → x ∈ B ) ↔ ∀ x ( x ∈ A ↔ ( x ∈ A ∧ x ∈ B ) ) )>\n",
      "<PStep:pm4.71 ⊢ ( ( x ∈ A → x ∈ B ) ↔ ( x ∈ A ↔ ( x ∈ A ∧ x ∈ B ) ) )>\n"
     ]
    }
   ],
   "source": [
    "for s in prop_proof.get_steps_df():\n",
    "    try:\n",
    "        if s.output != None:\n",
    "            s_prob = hyps_theorems_dist[normalize_tree(s._step.prop.tree)][s.output.label]\n",
    "            print(s, s_prob)\n",
    "        else:\n",
    "            print(s, 0)\n",
    "    except:\n",
    "        print(s)"
   ]
  },
  {
   "cell_type": "code",
   "execution_count": null,
   "id": "4c8600ed",
   "metadata": {},
   "outputs": [],
   "source": []
  },
  {
   "cell_type": "code",
   "execution_count": 104,
   "id": "5d82ee69",
   "metadata": {},
   "outputs": [
    {
     "data": {
      "text/plain": [
       "<Tree: wb(wph(),wph())>"
      ]
     },
     "execution_count": 104,
     "metadata": {},
     "output_type": "execute_result"
    }
   ],
   "source": [
    "prop_proof.get_steps_df()[1]._step.prop.tree"
   ]
  },
  {
   "cell_type": "code",
   "execution_count": null,
   "id": "fbafcef9",
   "metadata": {},
   "outputs": [],
   "source": [
    "precisa criar uma forma de gerar expressoes candidatas porque expressoes possiveis sao aninhadas\n",
    "\n",
    "talvez precise pensar sobre correlacao com os outros inputs\n",
    "\n",
    "talvez poderia usar language models aqui\n",
    "\n",
    "talvez o holophrams tenha algum metodo para verificar os teoremas validos "
   ]
  }
 ],
 "metadata": {
  "kernelspec": {
   "display_name": "Python 3 (ipykernel)",
   "language": "python",
   "name": "python3"
  },
  "language_info": {
   "codemirror_mode": {
    "name": "ipython",
    "version": 3
   },
   "file_extension": ".py",
   "mimetype": "text/x-python",
   "name": "python",
   "nbconvert_exporter": "python",
   "pygments_lexer": "ipython3",
   "version": "3.9.7"
  }
 },
 "nbformat": 4,
 "nbformat_minor": 5
}

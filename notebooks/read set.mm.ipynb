{
 "cells": [
  {
   "cell_type": "markdown",
   "id": "2fa49d09",
   "metadata": {},
   "source": [
    "## MathView\n",
    "- organizar as funcoes q voce criou e documentar em um notebook\n",
    "- Verificar se é util plotar as expressoes no lugar dos labels no plot em arvore"
   ]
  },
  {
   "cell_type": "code",
   "execution_count": 1,
   "id": "c4915721",
   "metadata": {},
   "outputs": [],
   "source": [
    "from adapt_utils import replace_symbols\n",
    "from my_utils import print_proof_props_graph, get_proof_steps, print_ident_proof, print_proof_linear_steps\n",
    "\n",
    "from tree_parser import *\n",
    "\n",
    "import networkx as nx\n",
    "\n",
    "import matplotlib\n",
    "import matplotlib.pyplot as plt\n",
    "\n",
    "import copy\n",
    "\n",
    "import time\n",
    "\n",
    "from collections import Counter"
   ]
  },
  {
   "cell_type": "code",
   "execution_count": 7,
   "id": "9c29fac8",
   "metadata": {},
   "outputs": [
    {
     "name": "stdout",
     "output_type": "stream",
     "text": [
      "included 5555695 tokens from set.mm\n",
      "proposition: 10000\n",
      "Wall time: 3min 30s\n"
     ]
    }
   ],
   "source": [
    "%%time\n",
    "\n",
    "text = file_contents()\n",
    "database = meta_math_database(text,n=10000)\n",
    "print(\"\")"
   ]
  },
  {
   "cell_type": "code",
   "execution_count": 8,
   "id": "b407f6e3",
   "metadata": {},
   "outputs": [],
   "source": [
    "def repsym(p):\n",
    "    return replace_symbols(\" \".join(p.statement))"
   ]
  },
  {
   "cell_type": "code",
   "execution_count": 10,
   "id": "dd6b9929",
   "metadata": {},
   "outputs": [
    {
     "name": "stdout",
     "output_type": "stream",
     "text": [
      "rneqdmfinf1o |- ( ( A ∈ Fin ∧ F Fn A ∧ ran F = A ) → F : A -1-1-onto→ A )\n",
      "fidomdm |- ( F ∈ Fin → dom F ≺_ F )\n",
      "dmfi |- ( A ∈ Fin → dom A ∈ Fin )\n",
      "fundmfibi |- ( Fun F → ( F ∈ Fin ↔ dom F ∈ Fin ) )\n",
      "cnvfi |- ( A ∈ Fin → `' A ∈ Fin )\n",
      "rnfi |- ( A ∈ Fin → ran A ∈ Fin )\n",
      "f1dmvrnfibi |- ( ( A ∈ V ∧ F : A -1-1→ B ) → ( F ∈ Fin ↔ ran F ∈ Fin ) )\n",
      "f1vrnfibi |- ( ( F ∈ V ∧ F : A -1-1→ B ) → ( F ∈ Fin ↔ ran F ∈ Fin ) )\n",
      "fofi |- ( ( A ∈ Fin ∧ F : A -onto→ B ) → B ∈ Fin )\n",
      "f1fi |- ( ( B ∈ Fin ∧ F : A -1-1→ B ) → A ∈ Fin )\n",
      "iunfi |- ( ( A ∈ Fin ∧ ∀ x ∈ A B ∈ Fin ) → ∪ x ∈ A B ∈ Fin )\n",
      "unifi |- ( ( A ∈ Fin ∧ A ⊆ Fin ) → U. A ∈ Fin )\n",
      "unifi2 |- ( ( A ≺ _om ∧ ∀ x ∈ A x ≺ _om ) → U. A ≺ _om )\n",
      "infssuni |- ( ( ¬ A ∈ Fin ∧ B ∈ Fin ∧ A ⊆ U. B ) → ∃ x ∈ B ¬ ( A ∩ x ) ∈ Fin )\n",
      "unirnffid |- ( 𝜑 → U. ran F ∈ Fin )\n",
      "imafi |- ( ( Fun F ∧ X ∈ Fin ) → ( F \" X ) ∈ Fin )\n",
      "pwfilem |- ( 𝒫 b ∈ Fin → 𝒫 ( b ∪ { x } ) ∈ Fin )\n",
      "pwfi |- ( A ∈ Fin ↔ 𝒫 A ∈ Fin )\n",
      "mapfi |- ( ( A ∈ Fin ∧ B ∈ Fin ) → ( A ^m B ) ∈ Fin )\n",
      "ixpfi |- ( ( A ∈ Fin ∧ ∀ x ∈ A B ∈ Fin ) → X_ x ∈ A B ∈ Fin )\n",
      "ixpfi2 |- ( 𝜑 → X_ x ∈ A B ∈ Fin )\n",
      "mptfi |- ( A ∈ Fin → ( x ∈ A |→ B ) ∈ Fin )\n",
      "abrexfi |- ( A ∈ Fin → { y | ∃ x ∈ A y = B } ∈ Fin )\n",
      "cnvimamptfin |- ( 𝜑 → ( `' ( p ∈ N |→ X ) \" Y ) ∈ Fin )\n",
      "elfpw |- ( A ∈ ( 𝒫 B ∩ Fin ) ↔ ( A ⊆ B ∧ A ∈ Fin ) )\n",
      "unifpw |- U. ( 𝒫 A ∩ Fin ) = A\n",
      "f1opwfi |- ( F : A -1-1-onto→ B → ( b ∈ ( 𝒫 A ∩ Fin ) |→ ( F \" b ) ) : ( 𝒫 A ∩ Fin ) -1-1-onto→ ( 𝒫 B ∩ Fin ) )\n",
      "fissuni |- ( ( A ⊆ U. B ∧ A ∈ Fin ) → ∃ c ∈ ( 𝒫 B ∩ Fin ) A ⊆ U. c )\n",
      "fipreima |- ( ( F Fn B ∧ A ⊆ ran F ∧ A ∈ Fin ) → ∃ c ∈ ( 𝒫 B ∩ Fin ) ( F \" c ) = A )\n",
      "finsschain |- ( ( ( A ≠ ∅ ∧ [⊊] Or A ) ∧ ( B ∈ Fin ∧ B ⊆ U. A ) ) → ∃ z ∈ A B ⊆ z )\n",
      "indexfi |- ( ( A ∈ Fin ∧ B ∈ M ∧ ∀ x ∈ A ∃ y ∈ B 𝜑 ) → ∃ c ∈ Fin ( c ⊆ B ∧ ∀ x ∈ A ∃ y ∈ c 𝜑 ∧ ∀ y ∈ c ∃ x ∈ A 𝜑 ) )\n",
      "cfsupp class finSupp\n",
      "df-fsupp |- finSupp = { ⟨ r , z ⟩ | ( Fun r ∧ ( r supp z ) ∈ Fin ) }\n",
      "relfsupp |- Rel finSupp\n",
      "relprcnfsupp |- ( ¬ A ∈ V → ¬ A finSupp Z )\n",
      "isfsupp |- ( ( R ∈ V ∧ Z ∈ W ) → ( R finSupp Z ↔ ( Fun R ∧ ( R supp Z ) ∈ Fin ) ) )\n",
      "funisfsupp |- ( ( Fun R ∧ R ∈ V ∧ Z ∈ W ) → ( R finSupp Z ↔ ( R supp Z ) ∈ Fin ) )\n",
      "fsuppimp |- ( R finSupp Z → ( Fun R ∧ ( R supp Z ) ∈ Fin ) )\n",
      "fsuppimpd |- ( 𝜑 → ( F supp Z ) ∈ Fin )\n",
      "fisuppfi |- ( 𝜑 → ( `' F \" C ) ∈ Fin )\n",
      "fdmfisuppfi |- ( 𝜑 → ( F supp Z ) ∈ Fin )\n",
      "fdmfifsupp |- ( 𝜑 → F finSupp Z )\n",
      "fsuppmptdm |- ( 𝜑 → F finSupp Z )\n",
      "fndmfisuppfi |- ( 𝜑 → ( F supp Z ) ∈ Fin )\n",
      "fndmfifsupp |- ( 𝜑 → F finSupp Z )\n",
      "suppeqfsuppbi |- ( ( ( F ∈ U ∧ Fun F ) ∧ ( G ∈ V ∧ Fun G ) ) → ( ( F supp Z ) = ( G supp Z ) → ( F finSupp Z ↔ G finSupp Z ) ) )\n",
      "suppssfifsupp |- ( ( ( G ∈ V ∧ Fun G ∧ Z ∈ W ) ∧ ( F ∈ Fin ∧ ( G supp Z ) ⊆ F ) ) → G finSupp Z )\n",
      "fsuppsssupp |- ( ( ( G ∈ V ∧ Fun G ) ∧ ( F finSupp Z ∧ ( G supp Z ) ⊆ ( F supp Z ) ) ) → G finSupp Z )\n",
      "fsuppxpfi |- ( ( F finSupp Z ∧ G finSupp Z ) → ( ( F supp Z ) × ( G supp Z ) ) ∈ Fin )\n",
      "fczfsuppd |- ( 𝜑 → ( B × { Z } ) finSupp Z )\n",
      "fsuppun |- ( 𝜑 → ( ( F ∪ G ) supp Z ) ∈ Fin )\n",
      "fsuppunfi |- ( 𝜑 → ( ( F supp Z ) ∪ ( G supp Z ) ) ∈ Fin )\n",
      "fsuppunbi |- ( 𝜑 → ( ( F ∪ G ) finSupp Z ↔ ( F finSupp Z ∧ G finSupp Z ) ) )\n",
      "0fsupp |- ( Z ∈ V → ∅ finSupp Z )\n",
      "snopfsupp |- ( ( X ∈ V ∧ Y ∈ W ∧ Z ∈ U ) → { ⟨ X , Y ⟩ } finSupp Z )\n",
      "funsnfsupp |- ( ( ( X ∈ V ∧ Y ∈ W ) ∧ ( Fun F ∧ X e/ dom F ) ) → ( ( F ∪ { ⟨ X , Y ⟩ } ) finSupp Z ↔ F finSupp Z ) )\n",
      "fsuppres |- ( 𝜑 → ( F |` X ) finSupp Z )\n",
      "ressuppfi |- ( 𝜑 → ( F supp Z ) ∈ Fin )\n",
      "resfsupp |- ( 𝜑 → F finSupp Z )\n",
      "resfifsupp |- ( 𝜑 → ( F |` X ) finSupp Z )\n",
      "frnfsuppbi |- ( ( I ∈ V ∧ Z ∈ W ) → ( F : I -→ S → ( F finSupp Z ↔ ( `' F \" ( S \\ { Z } ) ) ∈ Fin ) ) )\n",
      "fsuppmptif |- ( 𝜑 → ( k ∈ A |→ if ( k ∈ D , ( F ` k ) , Z ) ) finSupp Z )\n",
      "fsuppcolem |- ( 𝜑 → ( `' ( F ∘ G ) \" ( V \\ { Z } ) ) ∈ Fin )\n",
      "fsuppco |- ( 𝜑 → ( F ∘ G ) finSupp Z )\n",
      "fsuppco2 |- ( 𝜑 → ( G ∘ F ) finSupp Z )\n",
      "fsuppcor |- ( 𝜑 → ( G ∘ F ) finSupp .0. )\n",
      "mapfienlem1 |- ( ( 𝜑 ∧ f ∈ S ) → ( G ∘ ( f ∘ F ) ) finSupp W )\n",
      "mapfienlem2 |- ( ( 𝜑 ∧ g ∈ T ) → ( ( `' G ∘ g ) ∘ `' F ) finSupp Z )\n",
      "mapfienlem3 |- ( ( 𝜑 ∧ g ∈ T ) → ( ( `' G ∘ g ) ∘ `' F ) ∈ S )\n",
      "mapfien |- ( 𝜑 → ( f ∈ S |→ ( G ∘ ( f ∘ F ) ) ) : S -1-1-onto→ T )\n",
      "mapfien2 |- ( 𝜑 → S ≈ T )\n",
      "sniffsupp |- ( 𝜑 → F finSupp .0. )\n",
      "cfi class fi\n",
      "df-fi |- fi = ( x ∈ V |→ { z | ∃ y ∈ ( 𝒫 x ∩ Fin ) z = ∩ y } )\n",
      "fival |- ( A ∈ V → ( fi ` A ) = { y | ∃ x ∈ ( 𝒫 A ∩ Fin ) y = ∩ x } )\n",
      "elfi |- ( ( A ∈ V ∧ B ∈ W ) → ( A ∈ ( fi ` B ) ↔ ∃ x ∈ ( 𝒫 B ∩ Fin ) A = ∩ x ) )\n",
      "elfi2 |- ( B ∈ V → ( A ∈ ( fi ` B ) ↔ ∃ x ∈ ( ( 𝒫 B ∩ Fin ) \\ { ∅ } ) A = ∩ x ) )\n",
      "elfir |- ( ( B ∈ V ∧ ( A ⊆ B ∧ A ≠ ∅ ∧ A ∈ Fin ) ) → ∩ A ∈ ( fi ` B ) )\n",
      "intrnfi |- ( ( B ∈ V ∧ ( F : A -→ B ∧ A ≠ ∅ ∧ A ∈ Fin ) ) → ∩ ran F ∈ ( fi ` B ) )\n",
      "iinfi |- ( ( C ∈ V ∧ ( ∀ x ∈ A B ∈ C ∧ A ≠ ∅ ∧ A ∈ Fin ) ) → ∩_ x ∈ A B ∈ ( fi ` C ) )\n",
      "inelfi |- ( ( X ∈ V ∧ A ∈ X ∧ B ∈ X ) → ( A ∩ B ) ∈ ( fi ` X ) )\n",
      "ssfii |- ( A ∈ V → A ⊆ ( fi ` A ) )\n",
      "fi0 |- ( fi ` ∅ ) = ∅\n",
      "fieq0 |- ( A ∈ V → ( A = ∅ ↔ ( fi ` A ) = ∅ ) )\n",
      "fiin |- ( ( A ∈ ( fi ` C ) ∧ B ∈ ( fi ` C ) ) → ( A ∩ B ) ∈ ( fi ` C ) )\n",
      "dffi2 |- ( A ∈ V → ( fi ` A ) = ∩ { z | ( A ⊆ z ∧ ∀ x ∈ z ∀ y ∈ z ( x ∩ y ) ∈ z ) } )\n",
      "fiss |- ( ( B ∈ V ∧ A ⊆ B ) → ( fi ` A ) ⊆ ( fi ` B ) )\n",
      "inficl |- ( A ∈ V → ( ∀ x ∈ A ∀ y ∈ A ( x ∩ y ) ∈ A ↔ ( fi ` A ) = A ) )\n",
      "fipwuni |- ( fi ` A ) ⊆ 𝒫 U. A\n",
      "fisn |- ( fi ` { A } ) = { A }\n",
      "fiuni |- ( A ∈ V → U. A = U. ( fi ` A ) )\n",
      "fipwss |- ( A ⊆ 𝒫 X → ( fi ` A ) ⊆ 𝒫 X )\n",
      "elfiun |- ( ( B ∈ D ∧ C ∈ K ) → ( A ∈ ( fi ` ( B ∪ C ) ) ↔ ( A ∈ ( fi ` B ) ∨ A ∈ ( fi ` C ) ∨ ∃ x ∈ ( fi ` B ) ∃ y ∈ ( fi ` C ) A = ( x ∩ y ) ) ) )\n",
      "dffi3 |- ( A ∈ V → ( fi ` A ) = U. ( rec ( R , A ) \" _om ) )\n",
      "fifo |- ( A ∈ V → F : ( ( 𝒫 A ∩ Fin ) \\ { ∅ } ) -onto→ ( fi ` A ) )\n",
      "marypha1lem |- ( A ∈ Fin → ( b ∈ Fin → ∀ c ∈ 𝒫 ( A × b ) ( ∀ d ∈ 𝒫 A d ≺_ ( c \" d ) → ∃ e ∈ 𝒫 c e : A -1-1→ V ) ) )\n",
      "marypha1 |- ( 𝜑 → ∃ f ∈ 𝒫 C f : A -1-1→ B )\n",
      "marypha2lem1 |- T ⊆ ( A × U. ran F )\n",
      "marypha2lem2 |- T = { ⟨ x , y ⟩ | ( x ∈ A ∧ y ∈ ( F ` x ) ) }\n",
      "marypha2lem3 |- ( ( F Fn A ∧ G Fn A ) → ( G ⊆ T ↔ ∀ x ∈ A ( G ` x ) ∈ ( F ` x ) ) )\n"
     ]
    }
   ],
   "source": [
    "i = 8000\n",
    "\n",
    "for p in database.propositions_list[i:i+100]:\n",
    "    print(p.label, repsym(p))"
   ]
  },
  {
   "cell_type": "code",
   "execution_count": null,
   "id": "25516896",
   "metadata": {},
   "outputs": [],
   "source": []
  },
  {
   "cell_type": "code",
   "execution_count": 3,
   "id": "c9238f10",
   "metadata": {},
   "outputs": [
    {
     "data": {
      "text/plain": [
       "'|- ( A e. ( _V X. _V ) -> U. A e. A )'"
      ]
     },
     "execution_count": 3,
     "metadata": {},
     "output_type": "execute_result"
    }
   ],
   "source": [
    "\" \".join(database.propositions['elvvuni'].statement)"
   ]
  },
  {
   "cell_type": "code",
   "execution_count": 4,
   "id": "37adb133",
   "metadata": {},
   "outputs": [
    {
     "data": {
      "text/plain": [
       "'elvvuni'"
      ]
     },
     "execution_count": 4,
     "metadata": {},
     "output_type": "execute_result"
    }
   ],
   "source": [
    "database.propositions_list[-2].label"
   ]
  },
  {
   "cell_type": "code",
   "execution_count": 12,
   "id": "385959f6",
   "metadata": {},
   "outputs": [
    {
     "data": {
      "image/png": "[encoded data removed]",
      "text/plain": [
       "<Figure size 1000x500 with 1 Axes>"
      ]
     },
     "metadata": {},
     "output_type": "display_data"
    }
   ],
   "source": [
    "print_proof_props_graph('dfss4', database)"
   ]
  },
  {
   "cell_type": "code",
   "execution_count": 6,
   "id": "629f2de4",
   "metadata": {},
   "outputs": [
    {
     "name": "stdout",
     "output_type": "stream",
     "text": [
      "[1] dfss2 - |- ( A ⊆ B ↔ ∀ x ( x ∈ A → x ∈ B ) )\n",
      " | [1] dfss - |- ( A ⊆ B ↔ A = ( A ∩ B ) )\n",
      " | [1] df-in - |- ( A ∩ B ) = { x | ( x ∈ A ∧ x ∈ B ) }\n",
      " | [1] eqeq2i - |- ( C = A ↔ C = B )\n",
      " | [1] abeq2 - |- ( A = { x | 𝜑 } ↔ ∀ x ( x ∈ A ↔ 𝜑 ) )\n",
      " | [1] 3bitri - |- ( 𝜑 ↔ 𝜃 )\n",
      " | [1] pm4.71 - |- ( ( 𝜑 → 𝜓 ) ↔ ( 𝜑 ↔ ( 𝜑 ∧ 𝜓 ) ) )\n",
      " | [1] albii - |- ( ∀ x 𝜑 ↔ ∀ x 𝜓 )\n",
      " | [1] bitr4i - |- ( 𝜑 ↔ 𝜒 )\n"
     ]
    }
   ],
   "source": [
    "print_ident_proof('dfss2', database, max_depth=1)"
   ]
  },
  {
   "cell_type": "code",
   "execution_count": 7,
   "id": "48531a86",
   "metadata": {},
   "outputs": [
    {
     "name": "stdout",
     "output_type": "stream",
     "text": [
      "[dfss] |- ( A ⊆ B ↔ A = ( A ∩ B ) )\n",
      "[df-in] |- ( A ∩ B ) = { x | ( x ∈ A ∧ x ∈ B ) }\n",
      "[eqeq2i] |- ( A = ( A ∩ B ) ↔ A = { x | ( x ∈ A ∧ x ∈ B ) } )\n",
      "[abeq2] |- ( A = { x | ( x ∈ A ∧ x ∈ B ) } ↔ ∀ x ( x ∈ A ↔ ( x ∈ A ∧ x ∈ B ) ) )\n",
      "[3bitri] |- ( A ⊆ B ↔ ∀ x ( x ∈ A ↔ ( x ∈ A ∧ x ∈ B ) ) )\n",
      "[pm4.71] |- ( ( x ∈ A → x ∈ B ) ↔ ( x ∈ A ↔ ( x ∈ A ∧ x ∈ B ) ) )\n",
      "[albii] |- ( ∀ x ( x ∈ A → x ∈ B ) ↔ ∀ x ( x ∈ A ↔ ( x ∈ A ∧ x ∈ B ) ) )\n",
      "[bitr4i] |- ( A ⊆ B ↔ ∀ x ( x ∈ A → x ∈ B ) )\n"
     ]
    }
   ],
   "source": [
    "print_proof_linear_steps(\"dfss2\", database)"
   ]
  },
  {
   "cell_type": "code",
   "execution_count": 8,
   "id": "1b0f395f",
   "metadata": {},
   "outputs": [],
   "source": [
    "# show proof expressions"
   ]
  },
  {
   "cell_type": "code",
   "execution_count": 10,
   "id": "d7f9ca2b",
   "metadata": {},
   "outputs": [
    {
     "data": {
      "text/plain": [
       "[<tree_parser.proof_step at 0x2bd13143c70>,\n",
       " <tree_parser.proof_step at 0x2bd13143a30>,\n",
       " <tree_parser.proof_step at 0x2bd13143eb0>,\n",
       " <tree_parser.proof_step at 0x2bd121279d0>,\n",
       " <tree_parser.proof_step at 0x2bd13143100>,\n",
       " <tree_parser.proof_step at 0x2bd13143e80>,\n",
       " <tree_parser.proof_step at 0x2bd1212e040>,\n",
       " <tree_parser.proof_step at 0x2bd1212e1f0>]"
      ]
     },
     "execution_count": 10,
     "metadata": {},
     "output_type": "execute_result"
    }
   ],
   "source": [
    "database.propositions[\"dfss2\"].entails_proof_steps"
   ]
  },
  {
   "cell_type": "code",
   "execution_count": null,
   "id": "3858acb1",
   "metadata": {},
   "outputs": [],
   "source": [
    "database.propositions[\"dfss2\"].entails_proof_steps[0].prop.label"
   ]
  },
  {
   "cell_type": "code",
   "execution_count": null,
   "id": "0ab7066d",
   "metadata": {},
   "outputs": [],
   "source": []
  }
 ],
 "metadata": {
  "kernelspec": {
   "display_name": "Python 3",
   "language": "python",
   "name": "python3"
  },
  "language_info": {
   "codemirror_mode": {
    "name": "ipython",
    "version": 3
   },
   "file_extension": ".py",
   "mimetype": "text/x-python",
   "name": "python",
   "nbconvert_exporter": "python",
   "pygments_lexer": "ipython3",
   "version": "3.9.6"
  }
 },
 "nbformat": 4,
 "nbformat_minor": 5
}

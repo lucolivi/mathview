{
 "cells": [
  {
   "cell_type": "code",
   "execution_count": 7,
   "id": "a3a1d587",
   "metadata": {},
   "outputs": [],
   "source": [
    "import sys\n",
    "sys.path.append(\"..\")\n",
    "\n",
    "from tree_parser import file_contents, meta_math_database\n",
    "\n",
    "from my_utils import print_proof_props_graph, get_proof_steps, print_ident_proof, print_proof_linear_steps\n",
    "from my_utils import get_proof_steps_graph, print_proof_steps_graph\n",
    "\n",
    "\n",
    "from expanding import construct_proof, expand_proof_step_ps#, replace_expanded_step\n",
    "\n",
    "from collections import defaultdict"
   ]
  },
  {
   "cell_type": "code",
   "execution_count": null,
   "id": "fcf0375e",
   "metadata": {},
   "outputs": [],
   "source": [
    "%%time\n",
    "\n",
    "text = file_contents(\"../set.mm\")\n",
    "database = meta_math_database(text,n=3500)"
   ]
  },
  {
   "cell_type": "code",
   "execution_count": 21,
   "id": "20b150d3",
   "metadata": {},
   "outputs": [],
   "source": [
    "def expand(self):\n",
    "    if self.is_hyp:\n",
    "        return self#.get_root_step()\n",
    "\n",
    "    exp_self = expand_proof_step_ps(self)\n",
    "\n",
    "    if exp_self == None: #No more expansions are possible\n",
    "        return self#.get_root_step()\n",
    "\n",
    "    exp_self._expanded_from = self\n",
    "\n",
    "    for s in exp_self.get_steps_df():\n",
    "        #Not so sure whether this is correct or not\n",
    "        s._expanded_from = self\n",
    "        s.depth = self.depth + 1\n",
    "        s.statement_depth = self.statement_depth + 1\n",
    "\n",
    "    #The step which calls the expand method should not have \n",
    "    #its statement depth increase since it is the same statement as the original step\n",
    "    #so lets roll it back.\n",
    "    exp_self.statement_depth = self.statement_depth\n",
    "\n",
    "    #Replace the expanded step in the proof it belongs to\n",
    "    #This means replace connections from the previous nodes with the newest nodes\n",
    "    exp_self_in_proof = replace_expanded_step(self, exp_self)\n",
    "    return exp_self_in_proof"
   ]
  },
  {
   "cell_type": "code",
   "execution_count": 22,
   "id": "0bca5a74",
   "metadata": {},
   "outputs": [],
   "source": [
    "def replace_expanded_step(step, expanded_step, ):\n",
    "    # Replace root node\n",
    "    if step.output != None:\n",
    "        expanded_step.output = step.output\n",
    "        step_output_index = step.output.inputs.index(step)\n",
    "        step.output.inputs[step_output_index] = expanded_step\n",
    "        \n",
    "    # Replace hyps\n",
    "    ## Get hyps out nodes (this is necessary because hyp nodes must be replaced and not connected)\n",
    "    #expanded_step_hyps = [h.output for h in expanded_step.get_hyps()]\n",
    "    expanded_step_hyps = expanded_step.get_hyps()\n",
    "    \n",
    "    #Since there may be use of the same declared hypothesis twice (like in bitri proof)\n",
    "    #We need to handle this assigning hyps to a dict\n",
    "    exp_hyps_dict = defaultdict(list)\n",
    "    \n",
    "    #We have to take the list of hypothesis this way so we can make sure the \n",
    "    #proper order is maintained with the original step inputs order.\n",
    "    #Using the order returned by the depth first search in expanded_step.get_hyps() \n",
    "    #may return problematic orders like in the case of mp2 proposition in the impbii proof\n",
    "    #This will also work as a sanity checker since we are getting hypothesis labels from diferent\n",
    "    #places that are expected to match.\n",
    "    exp_hyps_list = [h.label for h in step._step.prop.hyps if h.type == \"e\"]\n",
    "    \n",
    "    for exp_hyp in expanded_step_hyps:\n",
    "        exp_hyps_dict[exp_hyp.label].append(exp_hyp)\n",
    "    \n",
    "    assert len(step.inputs) == len(exp_hyps_list), f\"{len(step.inputs)} {step.inputs} {len(exp_hyps_list)} {exp_hyps_list} {len(exp_hyps_dict)} {exp_hyps_dict}\"\n",
    "     \n",
    "    for step_input, exp_hyp_label in zip(step.inputs, exp_hyps_list):\n",
    "        for exp_hyp in exp_hyps_dict[exp_hyp_label]:\n",
    "            #We have to do this to copy branches where the hypothesis are used twice\n",
    "            #This will increase the size of the tree however will prevent node crossing\n",
    "            #while visualizing them, which will help us debug, which is the main goal of this project.\n",
    "            step_input_cp = step_input.copy()\n",
    "            step_input_cp.output = exp_hyp.output #(this is necessary because hyp nodes must be replaced and not connected)\n",
    "            exp_hyp_index = exp_hyp.output.inputs.index(exp_hyp)\n",
    "            exp_hyp.output.inputs[exp_hyp_index] = step_input_cp\n",
    "        break\n",
    "        \n",
    "    #Return new proof\n",
    "    #Maybe it is a good idea to perform a deepcopy of every step\n",
    "    return expanded_step#.get_root_step() \n"
   ]
  },
  {
   "cell_type": "code",
   "execution_count": 24,
   "id": "df7178d1",
   "metadata": {},
   "outputs": [
    {
     "name": "stdout",
     "output_type": "stream",
     "text": [
      "dfss2\n"
     ]
    },
    {
     "data": {
      "image/png": "[encoded data removed]",
      "text/plain": [
       "<Figure size 720x360 with 1 Axes>"
      ]
     },
     "metadata": {},
     "output_type": "display_data"
    },
    {
     "name": "stdout",
     "output_type": "stream",
     "text": [
      " <PStep:bitr4i ⊢ ( A ⊆ B ↔ ∀ x ( x ∈ A → x ∈ B ) )>\n",
      " |  <PStep:3bitri ⊢ ( A ⊆ B ↔ ∀ x ( x ∈ A ↔ ( x ∈ A ∧ x ∈ B ) ) )>\n",
      " |  |  <PStep:dfss ⊢ ( A ⊆ B ↔ A = ( A ∩ B ) )>\n",
      " |  |  <PStep:eqeq2i ⊢ ( A = ( A ∩ B ) ↔ A = { x | ( x ∈ A ∧ x ∈ B ) } )>\n",
      " |  |  |  <PStep:df-in ⊢ ( A ∩ B ) = { x | ( x ∈ A ∧ x ∈ B ) }>\n",
      " |  |  <PStep:abeq2 ⊢ ( A = { x | ( x ∈ A ∧ x ∈ B ) } ↔ ∀ x ( x ∈ A ↔ ( x ∈ A ∧ x ∈ B ) ) )>\n",
      " |  <PStep:albii ⊢ ( ∀ x ( x ∈ A → x ∈ B ) ↔ ∀ x ( x ∈ A ↔ ( x ∈ A ∧ x ∈ B ) ) )>\n",
      " |  |  <PStep:pm4.71 ⊢ ( ( x ∈ A → x ∈ B ) ↔ ( x ∈ A ↔ ( x ∈ A ∧ x ∈ B ) ) )>\n"
     ]
    }
   ],
   "source": [
    "prop = database.propositions[\"dfss2\"]\n",
    "#prop = database.propositions_list[-1]\n",
    "print(prop.label)\n",
    "prop_proof = construct_proof(prop)\n",
    "prop_proof.print_graph()\n",
    "prop_proof.print_linear()"
   ]
  },
  {
   "cell_type": "code",
   "execution_count": null,
   "id": "660b0fcd",
   "metadata": {},
   "outputs": [],
   "source": [
    "prop = database.propositions[\"dfss2\"]\n",
    "#prop = database.propositions_list[-1]\n",
    "print(prop.label)\n",
    "prop_proof = construct_proof(prop)\n",
    "prop_proof = expand(prop_proof).get_root_step()\n",
    "prop_proof.print_graph()\n",
    "prop_proof.print_linear()"
   ]
  },
  {
   "cell_type": "code",
   "execution_count": null,
   "id": "02231c25",
   "metadata": {},
   "outputs": [],
   "source": [
    "create method to replace nodes partially based on specified hypothesis"
   ]
  },
  {
   "cell_type": "markdown",
   "id": "7b447e7c",
   "metadata": {},
   "source": [
    "aumentar o numero de conexoes de um nó significa perder informaçao da arvore de prova, prejudicando a compreenssão. Precisamos encodar isso de alguma forma."
   ]
  },
  {
   "cell_type": "code",
   "execution_count": null,
   "id": "e14c887a",
   "metadata": {},
   "outputs": [],
   "source": []
  }
 ],
 "metadata": {
  "kernelspec": {
   "display_name": "Python 3 (ipykernel)",
   "language": "python",
   "name": "python3"
  },
  "language_info": {
   "codemirror_mode": {
    "name": "ipython",
    "version": 3
   },
   "file_extension": ".py",
   "mimetype": "text/x-python",
   "name": "python",
   "nbconvert_exporter": "python",
   "pygments_lexer": "ipython3",
   "version": "3.9.7"
  }
 },
 "nbformat": 4,
 "nbformat_minor": 5
}

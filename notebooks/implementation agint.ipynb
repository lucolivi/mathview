{
 "cells": [
  {
   "cell_type": "code",
   "execution_count": 2,
   "id": "1fb36295",
   "metadata": {},
   "outputs": [],
   "source": [
    "from adapt_utils import replace_symbols\n",
    "\n",
    "from tree_parser import *\n",
    "\n",
    "import networkx as nx\n",
    "\n",
    "#import matplotlib\n",
    "#import matplotlib.pyplot as plt"
   ]
  },
  {
   "cell_type": "code",
   "execution_count": 6,
   "id": "9ecf860c",
   "metadata": {},
   "outputs": [
    {
     "name": "stdout",
     "output_type": "stream",
     "text": [
      "included 5555695 tokens from set.mm\n",
      "proposition: 5000"
     ]
    }
   ],
   "source": [
    "text = file_contents()\n",
    "database = meta_math_database(text,n=5000)"
   ]
  },
  {
   "cell_type": "code",
   "execution_count": 13,
   "id": "5e88e044",
   "metadata": {},
   "outputs": [],
   "source": [
    "class Filter:\n",
    "    pass\n",
    "\n",
    "class Preprocessor(Filter):\n",
    "    \"\"\"\n",
    "    The preprocessor detects and discards obvious tautologies,\n",
    "    e.g., clauses that contain an atom and it’s negation, and\n",
    "    clauses containing a true atom. Additionally, any false\n",
    "    literals are removed from clauses.\n",
    "    \"\"\"\n",
    "    #Maybe this criteria cannot be applied\n",
    "    pass\n",
    "\n",
    "class Obviousness(Filter):\n",
    "    \"\"\"\n",
    "    Obviousness estimates the difficulty of proving a formula.\n",
    "    Formulae that are more difficult to prove are more interesting. \n",
    "    The obviousness score of a formula is the number of\n",
    "    inferences in its derivation. A higher score is better.\n",
    "    \"\"\"\n",
    "    #This is closely related to what schiller 2005 did. \n",
    "    #We may adapt this criteria to count the inner steps\n",
    "    pass\n",
    "\n",
    "class Weight(Filter):\n",
    "    \"\"\"\n",
    "    Weight estimates the effort required to read a formula. \n",
    "    Formulae that contain very many symbols (variables, function\n",
    "    and predicate symbols) are less interesting. The weight\n",
    "    score of a formula is the number of symbols it contains. A\n",
    "    lower score is better.\n",
    "    \"\"\"\n",
    "    \n",
    "    @classmethod\n",
    "    def score(cls, formula):\n",
    "        #Maybe we should remove parenthesis counting as symbols\n",
    "        form_symbols = [s for s in formula.split(\" \")]\n",
    "        return len(form_symbols)\n",
    "\n",
    "class Complexity(Filter):\n",
    "    \"\"\"\n",
    "    Complexity estimates the effort required to understand a formula. \n",
    "    Formulae that contain very many different function\n",
    "    and predicate symbols, representing many different concepts\n",
    "    and properties, are less interesting. The complexity score of\n",
    "    a formula is the number of distinct function and predicate\n",
    "    symbols it contains. A lower score is better.\n",
    "    \"\"\"\n",
    "    \n",
    "    #Here we dont have function and predicate symbols, so lets work with every symbol\n",
    "    \n",
    "    @classmethod\n",
    "    def score(cls, formula):\n",
    "        #Maybe we should remove parenthesis counting as symbols\n",
    "        form_symbols = set([s for s in formula.split(\" \")])\n",
    "        return len(form_symbols)\n",
    "\n",
    "class Surprisingness(Filter):\n",
    "    \"\"\"\n",
    "    Surprisingness measures new relationships between concepts and properties. Formulae that contain function and\n",
    "    predicate symbols that are seldom seen together in a formula\n",
    "    are more interesting. The symbol-pair surprisingness score\n",
    "    of a pair of function/predicate symbols is the number of axioms that contain both symbols divided by the number of\n",
    "    axioms that contain either symbol. The surprisingness score\n",
    "    of a formula is the sum of the symbol-pair surprisingness\n",
    "    scores, over all pairs of distinct function/predicate symbols\n",
    "    in the formula. A lower score is better.\n",
    "    \"\"\"\n",
    "    #Provavelmente o mais dificil de fazer\n",
    "    pass\n",
    "\n",
    "class Intensity(Filter):\n",
    "    \"\"\"\n",
    "    Intensity measures how much a formula summarizes information from the leaf ancestors in its derivation tree. \n",
    "    Formulae that summarize a lot of information are more interesting.\n",
    "    The plurality score of a formula (or set of formulae) is number of function \n",
    "    and predicate symbols in the formula divided by the number of distinct function and predicate symbols in\n",
    "    the formula. Plurality measures the extent to which symbols\n",
    "    are repeated in the formula. The intensity score of a formula\n",
    "    is the plurality of its leaf ancestors divided by the plurality of\n",
    "    the formula itself. A higher score is better. Intensity works\n",
    "    well with complexity – interesting things are often compact,\n",
    "    which means intense but not complex.\n",
    "    \"\"\"\n",
    "    #This can also be easily done\n",
    "    pass\n",
    "\n",
    "class Adaptivity(Filter):\n",
    "    \"\"\"\n",
    "    Adaptivity measures how tightly the universally quantified\n",
    "    variables of a formula are constrained. It is valid only for\n",
    "    formulae in clause normal form, where variables are known\n",
    "    to be universally quantified without considering their polarity \n",
    "    (with respect to, e.g., negation or implication). \n",
    "    Each occurrence of a universally quantified variable in a clause \n",
    "    further constrains its properties. Thus a variable that occurs\n",
    "    only a few times is less constrained than one that occurs\n",
    "    more often. The adaptivity score of a clause is the number\n",
    "    of distinct variables in the clause divided by the number of\n",
    "    variable occurrences in the clause. A lower score is better.\n",
    "    \"\"\"\n",
    "    pass\n",
    "\n",
    "class Focus(Filter):\n",
    "    \"\"\"\n",
    "    Focus measures the extent to which a formula is making a\n",
    "    positive or negative statement about the domain of application. \n",
    "    Formulae that are very negative or very positive are\n",
    "    more interesting. The focus measure relies on the observation \n",
    "    that predicates almost always make positive statements of domain \n",
    "    properties. It is valid only for formulae in clause normal form. \n",
    "    For clauses with four or more literals the focus score is measured using an entropy formula: \n",
    "    Let FPL and FNL be the fractions of positive and negative literals in a clause. \n",
    "    The focus score of a clause is 1 + FPL * LOG2(FPL) + FNL * LOG2(FNL). \n",
    "    Clauses with up to three literals are considered to have perfect focus\n",
    "    because their polarity distribution is limited. A higher score is better.\n",
    "    \"\"\"\n",
    "    pass\n"
   ]
  },
  {
   "cell_type": "code",
   "execution_count": 11,
   "id": "2657f547",
   "metadata": {},
   "outputs": [
    {
     "data": {
      "text/plain": [
       "'( A C_ B <-> A. x ( x e. A -> x e. B ) )'"
      ]
     },
     "execution_count": 11,
     "metadata": {},
     "output_type": "execute_result"
    }
   ],
   "source": [
    "p = database.propositions[\"dfss2\"]\n",
    "p_form = p.tree.eval(database, p)\n",
    "p_form"
   ]
  },
  {
   "cell_type": "code",
   "execution_count": 14,
   "id": "9cb742d4",
   "metadata": {},
   "outputs": [
    {
     "name": "stdout",
     "output_type": "stream",
     "text": [
      "17\n",
      "10\n"
     ]
    }
   ],
   "source": [
    "print(Weight.score(p_form))\n",
    "print(Complexity.score(p_form))"
   ]
  },
  {
   "cell_type": "code",
   "execution_count": null,
   "id": "353fb09f",
   "metadata": {},
   "outputs": [],
   "source": []
  }
 ],
 "metadata": {
  "kernelspec": {
   "display_name": "Python 3 (ipykernel)",
   "language": "python",
   "name": "python3"
  },
  "language_info": {
   "codemirror_mode": {
    "name": "ipython",
    "version": 3
   },
   "file_extension": ".py",
   "mimetype": "text/x-python",
   "name": "python",
   "nbconvert_exporter": "python",
   "pygments_lexer": "ipython3",
   "version": "3.9.7"
  }
 },
 "nbformat": 4,
 "nbformat_minor": 5
}

{
 "cells": [
  {
   "cell_type": "markdown",
   "id": "f18791bf",
   "metadata": {},
   "source": [
    "- Precisa fazer lazy uncompress e verify\n",
    "- Precisa fazer tambem lazy evaluation dos passos internos para detalhar"
   ]
  },
  {
   "cell_type": "code",
   "execution_count": 1,
   "id": "7e2d1b09",
   "metadata": {},
   "outputs": [],
   "source": [
    "from adapt_utils import replace_symbols\n",
    "from my_utils import print_proof_props_graph, get_proof_steps, print_ident_proof, print_proof_linear_steps\n",
    "\n",
    "from tree_parser import *\n",
    "\n",
    "import networkx as nx\n",
    "\n",
    "import matplotlib\n",
    "import matplotlib.pyplot as plt\n",
    "\n",
    "import copy\n",
    "\n",
    "import time\n",
    "\n",
    "from collections import Counter"
   ]
  },
  {
   "cell_type": "code",
   "execution_count": 2,
   "id": "4ff19d2b",
   "metadata": {},
   "outputs": [
    {
     "name": "stdout",
     "output_type": "stream",
     "text": [
      "included 5555695 tokens from set.mm\n",
      "proposition: 3000\n",
      "Wall time: 9.64 s\n"
     ]
    }
   ],
   "source": [
    "%%time\n",
    "\n",
    "text = file_contents()\n",
    "database = meta_math_database(text,n=3000)\n",
    "print(\"\")"
   ]
  },
  {
   "cell_type": "code",
   "execution_count": 37,
   "id": "5c16be6e",
   "metadata": {},
   "outputs": [],
   "source": [
    "class file_contents:\n",
    "    def __init__(self):\n",
    "        self.included_files = set()\n",
    "        self.tokens = []\n",
    "        self.input_file(initial_file_name)\n",
    "        self.current_index = 0\n",
    "\n",
    "    # read the contents of filename, splits into space-separated list,\n",
    "    # and appends to self.tokens.\n",
    "    def input_file(self, filename):\n",
    "        full_path = os.path.realpath(filename)\n",
    "        if full_path in self.included_files:\n",
    "            return\n",
    "        f = open(full_path, 'r')\n",
    "        f_contents = f.read().split()\n",
    "        f.close()\n",
    "        print(\"included\", len(f_contents), \"tokens from\", filename)\n",
    "        f_contents.reverse()\n",
    "        self.tokens += f_contents\n",
    "        self.included_files.add(full_path)\n",
    "\n",
    "    def read_token(self):\n",
    "        if len(self.tokens) == 0: return None\n",
    "        return self.tokens.pop()\n",
    "\n",
    "    def read_until(self,end_token):\n",
    "        out = []\n",
    "        in_comment = False\n",
    "        while True:\n",
    "            next_token = self.read_token()\n",
    "            assert next_token != None\n",
    "            if next_token==end_token: return out\n",
    "            if next_token=='$(': in_comment=True\n",
    "            if not in_comment: out.append(next_token)\n",
    "            if next_token=='$)': in_comment=False\n",
    "                \n",
    "    def go_to_prop(self, prop):\n",
    "        for i, t in enumerate(self.tokens):\n",
    "            if t == prop and \"$\" in self.tokens[i-1]: #need to check i-1 because tokens here are reversed\n",
    "                self.tokens = self.tokens[:i]\n",
    "                return\n",
    "            \n",
    "        print(f\"Prop {prop} not found\")"
   ]
  },
  {
   "cell_type": "code",
   "execution_count": 51,
   "id": "00f58137",
   "metadata": {},
   "outputs": [
    {
     "name": "stdout",
     "output_type": "stream",
     "text": [
      "included 5555695 tokens from set.mm\n"
     ]
    }
   ],
   "source": [
    "text = file_contents()\n",
    "text.go_to_prop(\"dfss2\")"
   ]
  },
  {
   "cell_type": "code",
   "execution_count": null,
   "id": "8576c415",
   "metadata": {},
   "outputs": [],
   "source": [
    "def parse_p(self, current_block, file_contents):\n",
    "    if self.remember_proof_steps:\n",
    "        statement = file_contents.read_until(\"$=\")\n",
    "        proof = file_contents.read_until(\"$.\")\n",
    "        prop = proposition('p', self.label, current_block,statement,proof,number=len(self.propositions),)\n",
    "        self.propositions[self.label]=prop\n",
    "        self.propositions_list.append(prop)\n",
    "\n",
    "        self.label = None\n",
    "\n",
    "        #return\n",
    "\n",
    "        self.uncompress(prop,current_block)  # uncompress the proof\n",
    "        prop.update_optional_hypotheses(current_block)\n",
    "        if len(self.propositions) % 10 ==0:#print len(self.propositions)#print prop.label #prop.print_details()\n",
    "            sys.stdout.write('\\rproposition: '+str(len(self.propositions)))\n",
    "            sys.stdout.flush()\n",
    "\n",
    "\n",
    "        #if statement[0]!=\"|-\":\n",
    "        #    self.non_entails_axioms[prop.label]=prop # these are all provable from non $p statements, so...\n",
    "        # try to verify the proposition\n",
    "        self.verify(prop)\n",
    "\n",
    "    # don't remember steps.  don't verify.\n",
    "    else:\n",
    "        #constant = file_contents.read_token()\n",
    "        statement = file_contents.read_until(\"$.\")\n",
    "        if statement[0]==\"|-\":\n",
    "            _, tree = self.parser.parse_new_statement([\"wff\"]+statement[1:],current_block)\n",
    "        else:\n",
    "            tree = Tree(value=self.label,leaves=[f.tree for f in current_block.hyps if f.variable in statement])\n",
    "            #print '\\nunparsed axiom', self.label, statement, tree.stringify()\n",
    "        prop = proposition('p',self.label,current_block,statement,None,number=len(self.propositions), tree=tree)\n",
    "        self.propositions[self.label]=prop\n",
    "        self.propositions_list.append(prop)\n",
    "        if len(self.propositions) % 10 ==0:#print len(self.propositions)#print prop.label #prop.print_details()\n",
    "            sys.stdout.write('\\rproposition: '+str(len(self.propositions)))\n",
    "            sys.stdout.flush()\n",
    "        self.label = None"
   ]
  }
 ],
 "metadata": {
  "kernelspec": {
   "display_name": "Python 3",
   "language": "python",
   "name": "python3"
  },
  "language_info": {
   "codemirror_mode": {
    "name": "ipython",
    "version": 3
   },
   "file_extension": ".py",
   "mimetype": "text/x-python",
   "name": "python",
   "nbconvert_exporter": "python",
   "pygments_lexer": "ipython3",
   "version": "3.9.6"
  }
 },
 "nbformat": 4,
 "nbformat_minor": 5
}

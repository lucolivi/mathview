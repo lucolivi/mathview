{
 "cells": [
  {
   "cell_type": "code",
   "execution_count": 1,
   "id": "25c16155",
   "metadata": {},
   "outputs": [],
   "source": [
    "from theorem_database import TheoremDatabase"
   ]
  },
  {
   "cell_type": "code",
   "execution_count": 2,
   "id": "9065a64f",
   "metadata": {},
   "outputs": [],
   "source": [
    "tdb = TheoremDatabase(\"tdb\")"
   ]
  },
  {
   "cell_type": "code",
   "execution_count": 3,
   "id": "168ce6dc",
   "metadata": {},
   "outputs": [
    {
     "data": {
      "text/plain": [
       "'⊢ ((𝐴 = ∅ ∧ 𝐵 = ∅) ↔ (𝐴 ∪ 𝐵) = ∅)'"
      ]
     },
     "execution_count": 3,
     "metadata": {},
     "output_type": "execute_result"
    }
   ],
   "source": [
    "tdb.database[\"un00\"][\"expression\"]"
   ]
  },
  {
   "cell_type": "code",
   "execution_count": 4,
   "id": "ea90562a",
   "metadata": {},
   "outputs": [],
   "source": [
    "target_symbols = [\n",
    "    \"⊆\",\n",
    "    #\"∈\",\n",
    "    \"∩\",\n",
    "    #\"∧\",\n",
    "    \"∪\",\n",
    "    #\"∨\",\n",
    "    \"∅\"\n",
    "]"
   ]
  },
  {
   "cell_type": "code",
   "execution_count": 5,
   "id": "efac95cf",
   "metadata": {},
   "outputs": [
    {
     "data": {
      "text/plain": [
       "15"
      ]
     },
     "execution_count": 5,
     "metadata": {},
     "output_type": "execute_result"
    }
   ],
   "source": [
    "len(tdb.database[\"un00\"][\"steps\"])"
   ]
  },
  {
   "cell_type": "code",
   "execution_count": 21,
   "id": "e2fd499b",
   "metadata": {},
   "outputs": [
    {
     "name": "stdout",
     "output_type": "stream",
     "text": [
      "9\n"
     ]
    }
   ],
   "source": [
    "target_expr = []\n",
    "\n",
    "for k in tdb.database.keys():\n",
    "    if tdb.database[k] and len(tdb.database[k][\"expression\"]) < 10 and len(tdb.database[k][\"steps\"]) > 5:\n",
    "    \n",
    "        for s in target_symbols:\n",
    "            if s in tdb.database[k][\"expression\"]:\n",
    "                target_expr.append((k,tdb.database[k][\"expression\"], len(tdb.database[k][\"steps\"])))\n",
    "                break\n",
    "            \n",
    "print(len(target_expr))"
   ]
  },
  {
   "cell_type": "code",
   "execution_count": 19,
   "id": "3528838f",
   "metadata": {},
   "outputs": [
    {
     "data": {
      "text/plain": [
       "[('nn0ssre', '⊢ ℕ0 ⊆ ℝ', 7),\n",
       " ('noel', '⊢ ¬ 𝐴 ∈ ∅', 6),\n",
       " ('fr0', '⊢ 𝑅 Fr ∅', 6),\n",
       " ('nfuni', '⊢ Ⅎ𝑥∪ 𝐴', 6),\n",
       " ('uniex', '⊢ ∪ 𝐴 ∈ V', 6),\n",
       " ('enssdom', '⊢ ≈ ⊆ ≼', 12),\n",
       " ('relssi', '⊢ 𝐴 ⊆ 𝐵', 6),\n",
       " ('cnv0', '⊢ ◡∅ = ∅', 10),\n",
       " ('nn0ssz', '⊢ ℕ0 ⊆ ℤ', 8)]"
      ]
     },
     "execution_count": 19,
     "metadata": {},
     "output_type": "execute_result"
    }
   ],
   "source": [
    "target_expr"
   ]
  },
  {
   "cell_type": "code",
   "execution_count": null,
   "id": "a52b7eb3",
   "metadata": {},
   "outputs": [],
   "source": []
  }
 ],
 "metadata": {
  "kernelspec": {
   "display_name": "Python 3",
   "language": "python",
   "name": "python3"
  },
  "language_info": {
   "codemirror_mode": {
    "name": "ipython",
    "version": 3
   },
   "file_extension": ".py",
   "mimetype": "text/x-python",
   "name": "python",
   "nbconvert_exporter": "python",
   "pygments_lexer": "ipython3",
   "version": "3.9.6"
  }
 },
 "nbformat": 4,
 "nbformat_minor": 5
}
